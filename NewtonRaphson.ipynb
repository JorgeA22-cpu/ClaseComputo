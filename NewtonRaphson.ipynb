{
 "cells": [
  {
   "cell_type": "code",
   "execution_count": 4,
   "metadata": {},
   "outputs": [
    {
     "name": "stderr",
     "output_type": "stream",
     "text": [
      "\u001b[32m\u001b[1m   Resolving\u001b[22m\u001b[39m package versions...\n",
      "\u001b[32m\u001b[1m  No Changes\u001b[22m\u001b[39m to `~/.julia/environments/v1.11/Project.toml`\n",
      "\u001b[32m\u001b[1m  No Changes\u001b[22m\u001b[39m to `~/.julia/environments/v1.11/Manifest.toml`\n",
      "\u001b[92m\u001b[1mPrecompiling\u001b[22m\u001b[39m project...\n",
      "    391.9 ms\u001b[33m  ? \u001b[39mComplexDiff\n"
     ]
    }
   ],
   "source": [
    "using Pkg\n",
    "Pkg.add(\"ForwardDiff\")\n",
    "using ForwardDiff"
   ]
  },
  {
   "cell_type": "markdown",
   "metadata": {},
   "source": [
    "Queremos hacer el método de Newton-Raphson \n",
    "\n",
    "usaremos la fórmula \n",
    "\n",
    "### $x_{n+1} = x_n - \\frac{f(x_n)}{f^\\prime(x_n)}$\n",
    "\n",
    "El objetivo del método es encontrar las raíces o ceros de una función de modo que \n",
    "\n",
    "$f(x_a) = 0$, donde $x_a$ sería la raíz de la función"
   ]
  },
  {
   "cell_type": "code",
   "execution_count": 7,
   "metadata": {},
   "outputs": [
    {
     "data": {
      "text/plain": [
       "0.25"
      ]
     },
     "metadata": {},
     "output_type": "display_data"
    }
   ],
   "source": [
    "function derivada(f,x)                  #Definimos una función usando la paquetería ForwardDiff para derivar.\n",
    "    ForwardDiff.derivative(f,x)\n",
    "end\n",
    "b = 10\n",
    "f(x) = x^2-2\n",
    "x = 1.5 #First Guess \n",
    "n = 200 #IteracionesMax\n",
    "tol = 0.00001 #Tolerancia \n",
    "k = 0 # Para iterar \n",
    "F = f(x) # Función evaluada en el First Guess"
   ]
  },
  {
   "cell_type": "code",
   "execution_count": 8,
   "metadata": {},
   "outputs": [
    {
     "name": "stdout",
     "output_type": "stream",
     "text": [
      "La raíz es 1.4142156862745099, raíz encontrada en 2 iteraciones"
     ]
    }
   ],
   "source": [
    "if F == 0 \n",
    "    print(\"La raíz es $x\")\n",
    "else \n",
    "    while tol < abs(F) && k < n\n",
    "        xi = x - f(x)/derivada(f,x)\n",
    "        x = xi\n",
    "        F = f(x)\n",
    "        k = k+1\n",
    "        #println(\"$k\")\n",
    "        #println(\"$x\")\n",
    "    end\n",
    "    if abs(F) > tol\n",
    "        print(\"No se pudo encontrar la raíz en $n iteraciones\")\n",
    "    else\n",
    "        print(\"La raíz es $x, raíz encontrada en $k iteraciones\")\n",
    "    end\n",
    "end "
   ]
  },
  {
   "cell_type": "code",
   "execution_count": null,
   "metadata": {},
   "outputs": [],
   "source": []
  }
 ],
 "metadata": {
  "kernelspec": {
   "display_name": "Julia 1.11.3",
   "language": "julia",
   "name": "julia-1.11"
  },
  "language_info": {
   "file_extension": ".jl",
   "mimetype": "application/julia",
   "name": "julia",
   "version": "1.11.3"
  }
 },
 "nbformat": 4,
 "nbformat_minor": 2
}
