{
 "cells": [
  {
   "cell_type": "code",
   "execution_count": 31,
   "metadata": {},
   "outputs": [],
   "source": [
    "using Lux, Random\n",
    "using Pkg \n",
    "\n",
    "# Pkg.add(\"ComponentArrays\")\n",
    "\n",
    "\n",
    "using ComponentArrays, ForwardDiff, Zygote\n",
    "using Optimisers, Printf"
   ]
  },
  {
   "cell_type": "code",
   "execution_count": 2,
   "metadata": {},
   "outputs": [
    {
     "data": {
      "text/plain": [
       "TaskLocalRNG()"
      ]
     },
     "metadata": {},
     "output_type": "display_data"
    }
   ],
   "source": [
    "rng = Random.default_rng()\n",
    "Random.seed!(rng, 0)"
   ]
  },
  {
   "cell_type": "code",
   "execution_count": 52,
   "metadata": {},
   "outputs": [
    {
     "data": {
      "text/plain": [
       "5×5 Matrix{Int64}:\n",
       "  2   4   6   8  10\n",
       "  4   8  12  16  20\n",
       "  6  12  18  24  30\n",
       "  8  16  24  32  40\n",
       " 10  20  30  40  50"
      ]
     },
     "metadata": {},
     "output_type": "display_data"
    }
   ],
   "source": [
    "# Una forma interesante de formar una matriz \n",
    "\n",
    "(2:2:10) .* (1:5)'"
   ]
  },
  {
   "cell_type": "code",
   "execution_count": 3,
   "metadata": {},
   "outputs": [
    {
     "data": {
      "text/plain": [
       "5×3 Matrix{Float64}:\n",
       " 0.455238   0.746943   0.193291\n",
       " 0.547642   0.746801   0.116989\n",
       " 0.773354   0.97667    0.899766\n",
       " 0.940585   0.0869468  0.422918\n",
       " 0.0296477  0.351491   0.707534"
      ]
     },
     "metadata": {},
     "output_type": "display_data"
    }
   ],
   "source": [
    "x = rand(rng, 5,3)"
   ]
  },
  {
   "cell_type": "code",
   "execution_count": 6,
   "metadata": {},
   "outputs": [
    {
     "data": {
      "text/plain": [
       "2×4 reshape(::UnitRange{Int64}, 2, 4) with eltype Int64:\n",
       " 1  3  5  7\n",
       " 2  4  6  8"
      ]
     },
     "metadata": {},
     "output_type": "display_data"
    }
   ],
   "source": [
    "x = reshape(1:8, 2, 4)"
   ]
  },
  {
   "cell_type": "code",
   "execution_count": 9,
   "metadata": {},
   "outputs": [
    {
     "data": {
      "text/plain": [
       "2-element view(::Matrix{Int64}, :, 1) with eltype Int64:\n",
       " 0\n",
       " 0"
      ]
     },
     "metadata": {},
     "output_type": "display_data"
    }
   ],
   "source": [
    "x_copy = copy(x)\n",
    "view(x_copy, :, 1) .= 0"
   ]
  },
  {
   "cell_type": "code",
   "execution_count": 10,
   "metadata": {},
   "outputs": [
    {
     "data": {
      "text/plain": [
       "2×4 Matrix{Int64}:\n",
       " 0  3  5  7\n",
       " 0  4  6  8"
      ]
     },
     "metadata": {},
     "output_type": "display_data"
    }
   ],
   "source": [
    "x_copy"
   ]
  },
  {
   "cell_type": "markdown",
   "metadata": {
    "vscode": {
     "languageId": "julia"
    }
   },
   "source": [
    "Calculando el gradiente"
   ]
  },
  {
   "cell_type": "code",
   "execution_count": 13,
   "metadata": {},
   "outputs": [
    {
     "data": {
      "text/plain": [
       "4-element Vector{Float32}:\n",
       " 0.46487772\n",
       " 0.8812782\n",
       " 0.9124628\n",
       " 0.9318977"
      ]
     },
     "metadata": {},
     "output_type": "display_data"
    }
   ],
   "source": [
    "f(x) = x'*x /2\n",
    "∇f(x) = x\n",
    "v = rand(rng, Float32, 4)"
   ]
  },
  {
   "cell_type": "code",
   "execution_count": 14,
   "metadata": {},
   "outputs": [
    {
     "name": "stdout",
     "output_type": "stream",
     "text": [
      "Actual Gradient: Float32[0.46487772, 0.8812782, 0.9124628, 0.9318977]\n",
      "Computed Gradient via Reverse Mode AD (Zygote): Float32[0.46487772, 0.8812782, 0.9124628, 0.9318977]\n",
      "Computed Gradient via Forward Mode AD (ForwardDiff): Float32[0.46487772, 0.8812782, 0.9124628, 0.9318977]\n"
     ]
    }
   ],
   "source": [
    "println(\"Actual Gradient: \", ∇f(v))\n",
    "println(\"Computed Gradient via Reverse Mode AD (Zygote): \", only(Zygote.gradient(f, v)))\n",
    "println(\"Computed Gradient via Forward Mode AD (ForwardDiff): \", ForwardDiff.gradient(f, v))"
   ]
  },
  {
   "cell_type": "code",
   "execution_count": 15,
   "metadata": {},
   "outputs": [
    {
     "data": {
      "text/plain": [
       "5-element Vector{Float32}:\n",
       " 1.0\n",
       " 1.0\n",
       " 1.0\n",
       " 1.0\n",
       " 1.0"
      ]
     },
     "metadata": {},
     "output_type": "display_data"
    }
   ],
   "source": [
    "f(x) = x .* x ./ 2\n",
    "x = randn(rng, Float32, 5)\n",
    "v = ones(Float32, 5)"
   ]
  },
  {
   "cell_type": "code",
   "execution_count": 16,
   "metadata": {},
   "outputs": [
    {
     "name": "stdout",
     "output_type": "stream",
     "text": [
      "JVP: Float32[0.79077834, -1.7732544, 0.7437802, 0.09222726, 0.7748581]\n"
     ]
    }
   ],
   "source": [
    "jvp = jacobian_vector_product(f, AutoForwardDiff(), x, v)\n",
    "println(\"JVP: \", jvp)"
   ]
  },
  {
   "cell_type": "code",
   "execution_count": 17,
   "metadata": {},
   "outputs": [
    {
     "name": "stdout",
     "output_type": "stream",
     "text": [
      "VJP: Float32[0.79077834, -1.7732544, 0.7437802, 0.09222726, 0.7748581]\n"
     ]
    }
   ],
   "source": [
    "vjp = vector_jacobian_product(f, AutoZygote(), x, v)\n",
    "println(\"VJP: \", vjp)"
   ]
  },
  {
   "cell_type": "code",
   "execution_count": 19,
   "metadata": {},
   "outputs": [
    {
     "data": {
      "text/plain": [
       "TaskLocalRNG()"
      ]
     },
     "metadata": {},
     "output_type": "display_data"
    }
   ],
   "source": [
    "model = Dense(10 => 5)\n",
    "\n",
    "rng = Random.default_rng()\n",
    "Random.seed!(rng, 0)"
   ]
  },
  {
   "cell_type": "code",
   "execution_count": 20,
   "metadata": {},
   "outputs": [
    {
     "data": {
      "text/plain": [
       "\u001b[0mComponentVector{Float32}(weight = Float32[-0.48351598 0.29944375 … -0.30674052 0.034259234; -0.04903387 -0.4242767 … 0.1958431 0.23992883; … ; 0.05218964 -0.09701932 … 0.36829436 -0.3097294; 0.20277858 -0.51524514 … 0.071482725 -0.45247704], bias = Float32[-0.04199602, -0.093925126, -0.0007736237, -0.19397983, 0.0066712513])"
      ]
     },
     "metadata": {},
     "output_type": "display_data"
    }
   ],
   "source": [
    "ps, st = Lux.setup(rng, model)\n",
    "ps = ComponentArray(ps)"
   ]
  },
  {
   "cell_type": "code",
   "execution_count": 21,
   "metadata": {},
   "outputs": [
    {
     "data": {
      "text/plain": [
       "5"
      ]
     },
     "metadata": {},
     "output_type": "display_data"
    }
   ],
   "source": [
    "# Set problem's dimensions \n",
    "n_samples = 20\n",
    "x_dim = 10\n",
    "y_dim = 5"
   ]
  },
  {
   "cell_type": "code",
   "execution_count": 22,
   "metadata": {},
   "outputs": [
    {
     "data": {
      "text/plain": [
       "5-element Vector{Float32}:\n",
       " -0.9436797\n",
       "  1.5164032\n",
       "  0.011937321\n",
       "  1.4339262\n",
       " -0.2771789"
      ]
     },
     "metadata": {},
     "output_type": "display_data"
    }
   ],
   "source": [
    "# Generate random ground truth W and b ?  Ground truth, los valores reales que se utiliza para el aprendizaje \n",
    "W = randn(rng, Float32, y_dim, x_dim)\n",
    "b = randn(rng, Float32, y_dim)"
   ]
  },
  {
   "cell_type": "code",
   "execution_count": 23,
   "metadata": {},
   "outputs": [
    {
     "name": "stdout",
     "output_type": "stream",
     "text": [
      "x shape: (10, 20); y shape: (5, 20)\n"
     ]
    }
   ],
   "source": [
    "x_samples = randn(rng, Float32, x_dim, n_samples)\n",
    "y_samples = W * x_samples .+ b .+ 0.01f0 .* randn(rng, Float32, y_dim, n_samples)\n",
    "println(\"x shape: \", size(x_samples), \"; y shape: \", size(y_samples)) # Dimensión de nuestras muestras "
   ]
  },
  {
   "cell_type": "code",
   "execution_count": 28,
   "metadata": {},
   "outputs": [
    {
     "data": {
      "text/plain": [
       "Float32"
      ]
     },
     "metadata": {},
     "output_type": "display_data"
    }
   ],
   "source": [
    "typeof(0.01f0)"
   ]
  },
  {
   "cell_type": "markdown",
   "metadata": {},
   "source": [
    "For updating our parameters let's use Optimisers.jl. We will use Stochastic Gradient Descent (SGD) with a learning rate of 0.01.\n"
   ]
  },
  {
   "cell_type": "code",
   "execution_count": 32,
   "metadata": {},
   "outputs": [
    {
     "name": "stdout",
     "output_type": "stream",
     "text": [
      "Loss Value with ground true parameters: 9.37424e-5\n"
     ]
    }
   ],
   "source": [
    "lossfn = MSELoss() # Mean Squared Error Loss\n",
    "\n",
    "println(\"Loss Value with ground true parameters: \", lossfn(W * x_samples .+ b, y_samples))"
   ]
  },
  {
   "cell_type": "code",
   "execution_count": 33,
   "metadata": {},
   "outputs": [
    {
     "data": {
      "text/plain": [
       "train_model! (generic function with 1 method)"
      ]
     },
     "metadata": {},
     "output_type": "display_data"
    }
   ],
   "source": [
    "function train_model!(model, ps, st, opt, nepochs::Int)\n",
    "    tstate = Training.TrainState(model, ps, st, opt)\n",
    "    for i in 1:nepochs\n",
    "        grads, loss, _, tstate = Training.single_train_step!(\n",
    "            AutoZygote(), lossfn, (x_samples, y_samples), tstate\n",
    "        )\n",
    "        if i % 1000 == 1 || i == nepochs\n",
    "            @printf \"Loss Value after %6d iterations: %.8f\\n\" i loss\n",
    "        end\n",
    "    end\n",
    "    return tstate.model, tstate.parameters, tstate.states\n",
    "end"
   ]
  },
  {
   "cell_type": "code",
   "execution_count": 34,
   "metadata": {},
   "outputs": [
    {
     "name": "stdout",
     "output_type": "stream",
     "text": [
      "Loss Value after      1 iterations: 7.80465460\n",
      "Loss Value after   1001 iterations: 0.12477564\n",
      "Loss Value after   2001 iterations: 0.02535537\n",
      "Loss Value after   3001 iterations: 0.00914141\n",
      "Loss Value after   4001 iterations: 0.00407581\n",
      "Loss Value after   5001 iterations: 0.00198415\n",
      "Loss Value after   6001 iterations: 0.00101147\n",
      "Loss Value after   7001 iterations: 0.00053332\n",
      "Loss Value after   8001 iterations: 0.00029203\n",
      "Loss Value after   9001 iterations: 0.00016878\n",
      "Loss Value after  10000 iterations: 0.00010551\n",
      "Loss Value after training: 0.000105468556\n"
     ]
    }
   ],
   "source": [
    "model, ps, st = train_model!(model, ps, st, Descent(0.01f0), 10000)\n",
    "\n",
    "\n",
    "println(\"Loss Value after training: \", lossfn(first(model(x_samples, ps, st)), y_samples))"
   ]
  },
  {
   "cell_type": "code",
   "execution_count": 46,
   "metadata": {},
   "outputs": [
    {
     "data": {
      "text/plain": [
       "Dense(10 => 5)      \u001b[90m# 55 parameters\u001b[39m"
      ]
     },
     "metadata": {},
     "output_type": "display_data"
    }
   ],
   "source": [
    "model"
   ]
  },
  {
   "cell_type": "code",
   "execution_count": 47,
   "metadata": {},
   "outputs": [
    {
     "data": {
      "text/plain": [
       "\u001b[0mComponentVector{Float32}(weight = Float32[0.7682156 0.7941856 … 0.29398134 -0.89615625; -0.8729844 -1.7722499 … 0.86862755 0.014939133; … ; -0.5534184 0.09342571 … 0.355172 -0.5844771; 1.7958173 0.77247226 … -0.90781474 0.085328616], bias = Float32[-0.9428906, 1.5168314, 0.012598767, 1.437549, -0.28315955])"
      ]
     },
     "metadata": {},
     "output_type": "display_data"
    }
   ],
   "source": [
    "ps"
   ]
  },
  {
   "cell_type": "code",
   "execution_count": 48,
   "metadata": {},
   "outputs": [
    {
     "data": {
      "text/plain": [
       "NamedTuple()"
      ]
     },
     "metadata": {},
     "output_type": "display_data"
    }
   ],
   "source": [
    "st"
   ]
  },
  {
   "cell_type": "code",
   "execution_count": null,
   "metadata": {},
   "outputs": [],
   "source": []
  }
 ],
 "metadata": {
  "kernelspec": {
   "display_name": "Julia 1.11.5",
   "language": "julia",
   "name": "julia-1.11"
  },
  "language_info": {
   "file_extension": ".jl",
   "mimetype": "application/julia",
   "name": "julia",
   "version": "1.11.5"
  }
 },
 "nbformat": 4,
 "nbformat_minor": 2
}
