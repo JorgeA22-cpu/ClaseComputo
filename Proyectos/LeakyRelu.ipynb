{
 "cells": [
  {
   "cell_type": "code",
   "execution_count": 1,
   "metadata": {},
   "outputs": [],
   "source": [
    "using Lux, MLUtils, Optimisers, Zygote, OneHotArrays, Random, Statistics, Printf, Reactant\n",
    "using MLDatasets: MNIST\n",
    "using SimpleChains: SimpleChains\n",
    "\n",
    "Reactant.set_default_backend(\"cpu\")"
   ]
  },
  {
   "cell_type": "markdown",
   "metadata": {
    "vscode": {
     "languageId": "julia"
    }
   },
   "source": [
    "### Construcción de Redes a la Medida"
   ]
  },
  {
   "cell_type": "code",
   "execution_count": 2,
   "metadata": {},
   "outputs": [
    {
     "data": {
      "text/plain": [
       "myleakyrelu (generic function with 1 method)"
      ]
     },
     "metadata": {},
     "output_type": "display_data"
    }
   ],
   "source": [
    "myleakyrelu(x) = leakyrelu(x,0.1)"
   ]
  },
  {
   "cell_type": "code",
   "execution_count": 3,
   "metadata": {},
   "outputs": [
    {
     "data": {
      "text/plain": [
       "Chain(\n",
       "    layer_1 = Dense(100 => 64),         \u001b[90m# 6_464 parameters\u001b[39m\n",
       "    layer_2 = Dense(64 => 32),          \u001b[90m# 2_080 parameters\u001b[39m\n",
       "    layer_3 = Dense(32 => 60, myleakyrelu),  \u001b[90m# 1_980 parameters\u001b[39m\n",
       ") \u001b[90m        # Total: \u001b[39m10_524 parameters,\n",
       "\u001b[90m          #        plus \u001b[39m0 states."
      ]
     },
     "metadata": {},
     "output_type": "display_data"
    }
   ],
   "source": [
    "model = Chain(\n",
    "    Dense(100,64),\n",
    "    Dense(64,32),\n",
    "    Dense(32,60,myleakyrelu)\n",
    ")"
   ]
  },
  {
   "cell_type": "code",
   "execution_count": 4,
   "metadata": {},
   "outputs": [
    {
     "data": {
      "text/plain": [
       "((layer_1 = (weight = Float32[-0.06478389 -0.11984813 … 0.15681627 0.16947648; -0.025129104 -0.03368413 … 0.01895911 -0.037643936; … ; 0.018977301 -0.14837784 … 0.0028096708 -0.13951942; 0.003441324 -0.013076283 … -0.023756798 -0.10158735], bias = Float32[0.08117366, 0.02158631, 0.063280985, -0.08688009, 0.059794724, -0.060111918, 0.05069244, -0.0048844814, 0.004251182, -0.061550677  …  -0.043969583, 0.0860764, 0.05518954, -0.08183166, -0.024449289, 0.050024725, 0.029975355, -0.097963944, 0.019012714, -0.06459296]), layer_2 = (weight = Float32[0.09718298 0.036273878 … 0.08066933 -0.17278604; -0.19383946 -0.02771119 … 0.015106133 -0.03335275; … ; 0.016515026 0.0021830506 … 0.07616679 -0.18705305; -0.024334371 -0.121246204 … -0.11585476 0.11630356], bias = Float32[0.007469699, 0.06311068, -0.068090394, -0.10777129, 0.049274683, 0.07575385, -0.100262836, -0.09106918, -0.09722954, -0.022584438  …  -0.018853188, 0.11923033, 0.07609905, 0.0009704381, 0.038826898, 0.08527742, -0.02205196, 0.07305992, -0.023759484, -0.084209606]), layer_3 = (weight = Float32[0.18909147 0.2620327 … 0.21715549 -0.110175654; 0.06365172 0.076263204 … -0.1249373 -0.17450416; … ; 0.23285283 0.057079956 … 0.018449778 -0.0034208028; 0.087810025 0.27149045 … 0.025090596 -0.2920856], bias = Float32[0.11162151, -0.16194026, 0.08621875, -0.059577964, 0.07770319, -0.018405823, 0.086649224, 0.1126117, 0.16466932, 0.019795405  …  0.11855192, -0.17268907, -0.11088212, 0.16391067, 0.054355275, -0.14759478, 0.11133396, -0.027394947, 0.17281656, -0.05423412])), (layer_1 = NamedTuple(), layer_2 = NamedTuple(), layer_3 = NamedTuple()))"
      ]
     },
     "metadata": {},
     "output_type": "display_data"
    }
   ],
   "source": [
    "# Initialize the model parameters and states\n",
    "rng = Random.default_rng()  # Random number generator\n",
    "ps, st = Lux.setup(rng, model)\n",
    "\n",
    "# ps: These are the learnable parameters of your model (like weights and biases in neural networks).\n",
    "# st: This contains the non-learnable states of your model (like the running mean and variance in BatchNorm)."
   ]
  },
  {
   "cell_type": "code",
   "execution_count": 5,
   "metadata": {},
   "outputs": [
    {
     "data": {
      "text/plain": [
       "60×10 Matrix{Float32}:\n",
       "  0.769751      0.727672    …   0.341455     0.868212    0.416415\n",
       " -0.0544012    -0.0629462      -0.0641284   -0.0492751  -0.0192534\n",
       " -0.00119533   -0.0843699      -0.0377123   -0.0624201  -0.0430898\n",
       " -0.0238029     0.236865        0.699302     0.436931    0.0404484\n",
       "  0.487747      0.602919        0.272539     0.310568    0.14406\n",
       "  0.962866      0.859761    …  -0.0130674    0.467875   -0.0294352\n",
       "  0.364825      0.380429       -0.00248813   0.207294   -0.0203249\n",
       "  0.405412      0.251979        0.225704     0.333966   -0.0252425\n",
       " -0.0219704    -0.00878765      0.00729539  -0.040548    1.15106\n",
       " -0.103623     -0.121596       -0.0638875   -0.118568   -0.0815456\n",
       "  ⋮                         ⋱                           \n",
       "  0.19238      -0.00344709     -0.0402973   -0.0231743  -0.0674198\n",
       "  0.502578      1.02678         1.40052      0.840528    0.972065\n",
       " -0.00706753   -0.0540543      -0.0400687   -0.0557558  -0.0388777\n",
       "  0.0800557     0.699013       -0.00579532   0.356491   -0.0448952\n",
       "  0.383699     -0.0168613   …   0.0937825    0.109195   -0.0399496\n",
       " -0.100158     -0.108151       -0.0550045   -0.116405   -0.0501439\n",
       " -0.0815942    -0.1172         -0.0938435   -0.102226   -0.10044\n",
       "  1.02011       1.11974         0.581988     1.29083     0.45147\n",
       " -0.000555683  -0.0222128      -0.0430928    0.09209    -0.0116999"
      ]
     },
     "metadata": {},
     "output_type": "display_data"
    }
   ],
   "source": [
    "# Let's create a dummy input tensor\n",
    "batch_size = 10  # Example batch size\n",
    "dummy_input = rand(Float32, 100, batch_size)  # A random matrix of size (100, batch_size)\n",
    "\n",
    "# Pass the dummy input through the model\n",
    "output = model(dummy_input, ps, st)\n",
    "\n",
    "output[1]# Let's create a dummy input tensor\n",
    "batch_size = 10  # Example batch size\n",
    "dummy_input = rand(Float32, 100, batch_size)  # A random matrix of size (100, batch_size)\n",
    "\n",
    "# Pass the dummy input through the model\n",
    "output = model(dummy_input, ps, st)\n",
    "\n",
    "output[1]"
   ]
  },
  {
   "cell_type": "code",
   "execution_count": 6,
   "metadata": {},
   "outputs": [
    {
     "name": "stdout",
     "output_type": "stream",
     "text": [
      "Shape of x_batch: (100, 128)\n",
      "Shape of y_batch: (10, 128)\n"
     ]
    }
   ],
   "source": [
    "# Example data: an array of tuples [(x, y), ...]\n",
    "data = [(rand(Float32, 100), rand(Float32, 10)) for _ in 1:128]  # Example with 128 samples\n",
    "\n",
    "# Extract inputs (x) and outputs (y) from the tuples\n",
    "x_batch = cat(map(t -> t[1], data)...; dims=2)  # Stack inputs along the 4th dimension (batch)\n",
    "y_batch = cat(map(t -> t[2], data)...; dims=2)  # Stack outputs along the 2nd dimension (batch)\n",
    "\n",
    "# Check the shapes of the resulting batches\n",
    "println(\"Shape of x_batch: \", size(x_batch))  # Should be (28, 28, 1, batch_size)\n",
    "println(\"Shape of y_batch: \", size(y_batch))  # Should be (10, batch_size)"
   ]
  },
  {
   "cell_type": "code",
   "execution_count": 30,
   "metadata": {},
   "outputs": [
    {
     "data": {
      "text/plain": [
       "Vector{Tuple{Vector{Float32}, Vector{Float32}}}\u001b[90m (alias for \u001b[39m\u001b[90mArray{Tuple{Array{Float32, 1}, Array{Float32, 1}}, 1}\u001b[39m\u001b[90m)\u001b[39m"
      ]
     },
     "metadata": {},
     "output_type": "display_data"
    }
   ],
   "source": [
    "typeof(data)"
   ]
  },
  {
   "cell_type": "code",
   "execution_count": null,
   "metadata": {},
   "outputs": [],
   "source": []
  }
 ],
 "metadata": {
  "kernelspec": {
   "display_name": "Julia 1.11.5",
   "language": "julia",
   "name": "julia-1.11"
  },
  "language_info": {
   "file_extension": ".jl",
   "mimetype": "application/julia",
   "name": "julia",
   "version": "1.11.5"
  }
 },
 "nbformat": 4,
 "nbformat_minor": 2
}
