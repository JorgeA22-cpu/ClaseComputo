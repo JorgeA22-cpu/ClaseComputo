{
 "cells": [
  {
   "cell_type": "code",
   "execution_count": 2,
   "metadata": {},
   "outputs": [],
   "source": [
    "using Plots\n",
    "using LinearAlgebra\n",
    "using LaTeXStrings\n",
    "using HDF5"
   ]
  },
  {
   "cell_type": "code",
   "execution_count": 3,
   "metadata": {},
   "outputs": [
    {
     "ename": "UndefVarError",
     "evalue": "UndefVarError: `k` not defined in `Main`\nSuggestion: check for spelling errors or missing imports.",
     "output_type": "error",
     "traceback": [
      "UndefVarError: `k` not defined in `Main`\n",
      "Suggestion: check for spelling errors or missing imports.\n",
      "\n",
      "Stacktrace:\n",
      " [1] top-level scope\n",
      "   @ ~/gitVideo/Proyectos/jl_notebook_cell_df34fa98e69747e1a8f8a730347b8e2f_W1sZmlsZQ==.jl:1"
     ]
    }
   ],
   "source": [
    "list = [1:3  for _ in 1:k]"
   ]
  },
  {
   "cell_type": "code",
   "execution_count": 4,
   "metadata": {},
   "outputs": [
    {
     "data": {
      "text/plain": [
       "2×2 Matrix{Int64}:\n",
       " 0  1\n",
       " 1  0"
      ]
     },
     "metadata": {},
     "output_type": "display_data"
    }
   ],
   "source": [
    "N = 3 # number of qubits\n",
    "d = 2^N # dimension of the Hilbert space\n",
    "\n",
    "sigmax = [0 1; 1 0]\n",
    "sigmay = [0 -im; im 0]\n",
    "sigmaz = [1 0; 0 -1]\n",
    "id= [1 0; 0 1] # Matriz identidad\n",
    "\n",
    "\n",
    "Sigma = Dict(0 => id, 1 => sigmax, 2 => sigmay, 3 => sigmaz) #Diccionario para llamar a las matrices de Pauli\n",
    "Sigma[1]"
   ]
  },
  {
   "cell_type": "markdown",
   "metadata": {},
   "source": [
    "### a |> f = f(a)"
   ]
  },
  {
   "cell_type": "code",
   "execution_count": 5,
   "metadata": {},
   "outputs": [],
   "source": [
    "#particles= 10\n",
    "#k=3\n",
    "#list=[1:3 for _ in 1:k]\n",
    "#test_visual_list = []\n",
    "#for place in 1:particles-k+1\n",
    "#    for i in Base.product(list...)\n",
    "#        total_list=zeros(particles)\n",
    "#        total_list[place:place+k-1]= i|>collect\n",
    "#        print(total_list)\n",
    "#        push!(test_visual_list,total_list)\n",
    "#        print(\"\\n\")\n",
    "#    end\n",
    "#end"
   ]
  },
  {
   "cell_type": "code",
   "execution_count": 6,
   "metadata": {},
   "outputs": [
    {
     "ename": "UndefVarError",
     "evalue": "UndefVarError: `particles` not defined in `Main`\nSuggestion: check for spelling errors or missing imports.",
     "output_type": "error",
     "traceback": [
      "UndefVarError: `particles` not defined in `Main`\n",
      "Suggestion: check for spelling errors or missing imports.\n",
      "\n",
      "Stacktrace:\n",
      " [1] top-level scope\n",
      "   @ ~/gitVideo/Proyectos/jl_notebook_cell_df34fa98e69747e1a8f8a730347b8e2f_W5sZmlsZQ==.jl:2"
     ]
    }
   ],
   "source": [
    "# Usarlo para la suma \n",
    "N = particles\n",
    "C = test_visual_list\n",
    "x = rand(length(test_visual_list))*2 .-1\n",
    "# A = reduce(kron, [Sigma[C[1][i]] for i in eachindex(C[1])])\n"
   ]
  },
  {
   "cell_type": "code",
   "execution_count": 7,
   "metadata": {},
   "outputs": [
    {
     "ename": "UndefVarError",
     "evalue": "UndefVarError: `test_visual_list` not defined in `Main`\nSuggestion: check for spelling errors or missing imports.",
     "output_type": "error",
     "traceback": [
      "UndefVarError: `test_visual_list` not defined in `Main`\n",
      "Suggestion: check for spelling errors or missing imports.\n",
      "\n",
      "Stacktrace:\n",
      " [1] top-level scope\n",
      "   @ ~/gitVideo/Proyectos/jl_notebook_cell_df34fa98e69747e1a8f8a730347b8e2f_W6sZmlsZQ==.jl:2"
     ]
    }
   ],
   "source": [
    "H = zeros(ComplexF64,2^N,2^N)\n",
    "for k in 1:length(test_visual_list)\n",
    "    H += x[k]*reduce(kron, [Sigma[C[k][i]] for i in eachindex(C[1])])\n",
    "end\n",
    "H "
   ]
  },
  {
   "cell_type": "code",
   "execution_count": 8,
   "metadata": {},
   "outputs": [
    {
     "ename": "UndefVarError",
     "evalue": "UndefVarError: `test_visual_list` not defined in `Main`\nSuggestion: check for spelling errors or missing imports.",
     "output_type": "error",
     "traceback": [
      "UndefVarError: `test_visual_list` not defined in `Main`\n",
      "Suggestion: check for spelling errors or missing imports.\n",
      "\n",
      "Stacktrace:\n",
      " [1] top-level scope\n",
      "   @ ~/gitVideo/Proyectos/jl_notebook_cell_df34fa98e69747e1a8f8a730347b8e2f_X10sZmlsZQ==.jl:2"
     ]
    }
   ],
   "source": [
    "H = zeros(ComplexF64,2^N,2^N)\n",
    "for k in 1:length(test_visual_list)\n",
    "    H += x[k]*kron([Sigma[C[k][i]] for i in eachindex(C[1])]...)\n",
    "end\n",
    "H \n",
    "\n",
    "# Hay que guardar las A's\n",
    "# Buscar el mejor formato para guardar matrices en Julia "
   ]
  },
  {
   "cell_type": "markdown",
   "metadata": {},
   "source": [
    "$\\{A_i\\}$ deben ser operadores fijos lo que varían son 1000 datos distintos del conjunto de $\\{c_i\\}$ y tomar la mitad inferior de $\\{\\ket{\\psi_n\\}}$ ¿Qué tanto podemos reducir los estados y que nos siga dando una buena aproximación? "
   ]
  },
  {
   "cell_type": "markdown",
   "metadata": {},
   "source": [
    "### Almacenar todos los operadores locales A "
   ]
  },
  {
   "cell_type": "code",
   "execution_count": 9,
   "metadata": {},
   "outputs": [],
   "source": [
    "#particles=3\n",
    "#k=3\n",
    "#list=[0:3 for _ in 1:k]\n",
    "#test_visual_list2 = []\n",
    "#for place in 1:particles-k+1\n",
    "#for i in Base.product(list...)\n",
    "#    total_list=zeros(particles)\n",
    "#    total_list[place:place+k-1]= i|>collect\n",
    "#    print(total_list)\n",
    "#    push!(test_visual_list,total_list)\n",
    "#    print(\"\\n\")\n",
    "#end\n",
    "#end"
   ]
  },
  {
   "cell_type": "code",
   "execution_count": 10,
   "metadata": {},
   "outputs": [
    {
     "data": {
      "text/plain": [
       "15-element Vector{Any}:\n",
       " [0.0, 1.0, 0.0]\n",
       " [0.0, 2.0, 0.0]\n",
       " [0.0, 3.0, 0.0]\n",
       " [0.0, 0.0, 1.0]\n",
       " [0.0, 1.0, 1.0]\n",
       " [0.0, 2.0, 1.0]\n",
       " [0.0, 3.0, 1.0]\n",
       " [0.0, 0.0, 2.0]\n",
       " [0.0, 1.0, 2.0]\n",
       " [0.0, 2.0, 2.0]\n",
       " [0.0, 3.0, 2.0]\n",
       " [0.0, 0.0, 3.0]\n",
       " [0.0, 1.0, 3.0]\n",
       " [0.0, 2.0, 3.0]\n",
       " [0.0, 3.0, 3.0]"
      ]
     },
     "metadata": {},
     "output_type": "display_data"
    }
   ],
   "source": [
    "particles=3\n",
    "k=2\n",
    "list=[0:3 for _ in 1:k]\n",
    "test_visual_list = []\n",
    "place= 2\n",
    "for i in Base.product(list...)\n",
    "    total_list=zeros(particles)\n",
    "    total_list[place:place+k-1]= i|>collect\n",
    "    if sum(total_list) != 0\n",
    "        ##print(total_list)\n",
    "        push!(test_visual_list,total_list)\n",
    "    end\n",
    "   # print(\"\\n\")\n",
    "end\n",
    "test_visual_list"
   ]
  },
  {
   "cell_type": "code",
   "execution_count": 11,
   "metadata": {},
   "outputs": [
    {
     "data": {
      "text/plain": [
       "3.0"
      ]
     },
     "metadata": {},
     "output_type": "display_data"
    }
   ],
   "source": [
    "sum(test_visual_list[6])"
   ]
  },
  {
   "cell_type": "code",
   "execution_count": 12,
   "metadata": {},
   "outputs": [
    {
     "data": {
      "text/plain": [
       "12-element Vector{Any}:\n",
       " [1.0, 0.0, 0.0]\n",
       " [2.0, 0.0, 0.0]\n",
       " [3.0, 0.0, 0.0]\n",
       " [0.0, 1.0, 0.0]\n",
       " [2.0, 1.0, 0.0]\n",
       " [3.0, 1.0, 0.0]\n",
       " [0.0, 2.0, 0.0]\n",
       " [1.0, 2.0, 0.0]\n",
       " [3.0, 2.0, 0.0]\n",
       " [0.0, 3.0, 0.0]\n",
       " [1.0, 3.0, 0.0]\n",
       " [2.0, 3.0, 0.0]"
      ]
     },
     "metadata": {},
     "output_type": "display_data"
    }
   ],
   "source": [
    "particles = 3 \n",
    "place = 1\n",
    "\n",
    "k=2\n",
    "list=[0:3 for _ in 1:k]\n",
    "test_visual_list = []\n",
    "\n",
    "for i in Base.product(list...)\n",
    "    total_list=zeros(particles)\n",
    "    total_list[place:place+k-1]= i|>collect\n",
    "    if sum(total_list) != 0\n",
    "        ##print(total_list)\n",
    "        push!(test_visual_list,total_list)\n",
    "    end\n",
    "   # print(\"\\n\")\n",
    "end\n",
    "\n",
    "ArrayA1 = []\n",
    "for i in 1:length(test_visual_list)\n",
    "    if test_visual_list[i][place] != test_visual_list[i][place+1] && sum(test_visual_list[i]) != 0\n",
    "        push!(ArrayA1,test_visual_list[i])\n",
    "    end\n",
    "end\n",
    "ArrayA1"
   ]
  },
  {
   "cell_type": "code",
   "execution_count": 13,
   "metadata": {},
   "outputs": [
    {
     "data": {
      "text/plain": [
       "12-element Vector{Any}:\n",
       " [0.0, 1.0, 0.0]\n",
       " [0.0, 2.0, 0.0]\n",
       " [0.0, 3.0, 0.0]\n",
       " [0.0, 0.0, 1.0]\n",
       " [0.0, 2.0, 1.0]\n",
       " [0.0, 3.0, 1.0]\n",
       " [0.0, 0.0, 2.0]\n",
       " [0.0, 1.0, 2.0]\n",
       " [0.0, 3.0, 2.0]\n",
       " [0.0, 0.0, 3.0]\n",
       " [0.0, 1.0, 3.0]\n",
       " [0.0, 2.0, 3.0]"
      ]
     },
     "metadata": {},
     "output_type": "display_data"
    }
   ],
   "source": [
    "particles = 3 \n",
    "place = 2\n",
    "\n",
    "k=2\n",
    "list=[0:3 for _ in 1:k]\n",
    "test_visual_list = []\n",
    "\n",
    "for i in Base.product(list...)\n",
    "    total_list=zeros(particles)\n",
    "    total_list[place:place+k-1]= i|>collect\n",
    "    if sum(total_list) != 0\n",
    "        ##print(total_list)\n",
    "        push!(test_visual_list,total_list)\n",
    "    end\n",
    "   # print(\"\\n\")\n",
    "end\n",
    "\n",
    "ArrayA2 = []\n",
    "for i in 1:length(test_visual_list)\n",
    "    if test_visual_list[i][place] != test_visual_list[i][place+1] && sum(test_visual_list[i]) != 0\n",
    "        push!(ArrayA2,test_visual_list[i])\n",
    "    end\n",
    "end\n",
    "ArrayA2"
   ]
  },
  {
   "cell_type": "code",
   "execution_count": 14,
   "metadata": {},
   "outputs": [
    {
     "data": {
      "text/plain": [
       "12-element Vector{Any}:\n",
       " [1.0, 0.0, 0.0]\n",
       " [2.0, 0.0, 0.0]\n",
       " [3.0, 0.0, 0.0]\n",
       " [0.0, 1.0, 0.0]\n",
       " [2.0, 1.0, 0.0]\n",
       " [3.0, 1.0, 0.0]\n",
       " [0.0, 2.0, 0.0]\n",
       " [1.0, 2.0, 0.0]\n",
       " [3.0, 2.0, 0.0]\n",
       " [0.0, 3.0, 0.0]\n",
       " [1.0, 3.0, 0.0]\n",
       " [2.0, 3.0, 0.0]"
      ]
     },
     "metadata": {},
     "output_type": "display_data"
    }
   ],
   "source": [
    "ArrayA1"
   ]
  },
  {
   "cell_type": "code",
   "execution_count": 15,
   "metadata": {},
   "outputs": [
    {
     "data": {
      "text/plain": [
       "12-element Vector{Float64}:\n",
       " -0.2674755409753218\n",
       "  0.43872843376963844\n",
       " -0.03443596211122646\n",
       " -0.1659202632980954\n",
       "  0.20050619949966753\n",
       "  0.5889352516152366\n",
       " -0.5844218843327234\n",
       "  0.7567607012181752\n",
       " -0.7962626292274133\n",
       " -0.2661715273385772\n",
       " -0.7849075010037878\n",
       " -0.6605323885864827"
      ]
     },
     "metadata": {},
     "output_type": "display_data"
    }
   ],
   "source": [
    "ArrayA2\n",
    "\n",
    "xaleat = rand(length(ArrayA1))*2 .-1\n",
    "xaleat2 = rand(length(ArrayA2))*2 .-1"
   ]
  },
  {
   "cell_type": "code",
   "execution_count": 16,
   "metadata": {},
   "outputs": [],
   "source": [
    "\n",
    "xaleat = rand(length(ArrayA1))*2 .-1\n",
    "xaleat2 = rand(length(ArrayA2))*2 .-1\n",
    "\n",
    "A1= zeros(2^particles,2^particles)\n",
    "\n",
    "for k in 1:length(ArrayA1)\n",
    "    A1 += xaleat[k]*kron([Sigma[ArrayA1[k][i]] for i in eachindex(ArrayA1[1])]...)\n",
    "end\n",
    "\n",
    "A2= zeros(2^particles,2^particles)\n",
    "\n",
    "for k in 1:length(ArrayA2)\n",
    "    A2 += xaleat2[k]*kron([Sigma[ArrayA2[k][i]] for i in eachindex(ArrayA2[1])]...)\n",
    "end"
   ]
  },
  {
   "cell_type": "code",
   "execution_count": 17,
   "metadata": {},
   "outputs": [
    {
     "data": {
      "text/plain": [
       "8×8 Matrix{ComplexF64}:\n",
       "  1.00279+0.0im            0.0+0.0im       …       0.0+0.0im\n",
       "      0.0+0.0im        1.00279+0.0im               0.0-1.20936im\n",
       "  0.27451+1.61079im        0.0+0.0im               0.0+0.0im\n",
       "      0.0+0.0im        0.27451+1.61079im      0.125444-1.32843im\n",
       " -1.15677-0.217158im       0.0+0.0im               0.0+0.0im\n",
       "      0.0+0.0im       -1.15677-0.217158im  …   1.63822-0.183076im\n",
       "      0.0+1.20936im        0.0+0.0im               0.0+0.0im\n",
       "      0.0+0.0im            0.0+1.20936im      -1.00279+0.0im"
      ]
     },
     "metadata": {},
     "output_type": "display_data"
    }
   ],
   "source": [
    "A1"
   ]
  },
  {
   "cell_type": "code",
   "execution_count": 18,
   "metadata": {},
   "outputs": [
    {
     "data": {
      "text/plain": [
       "8×8 Matrix{ComplexF64}:\n",
       " -0.300607+0.0im       0.423015+1.38068im   …        0.0+0.0im\n",
       "  0.423015-1.38068im   0.231736+0.0im                0.0+0.0im\n",
       "  -1.05238-0.221804im       0.0-0.556255im           0.0+0.0im\n",
       "       0.0+0.957267im  0.517432+1.09926im            0.0+0.0im\n",
       "       0.0+0.0im            0.0+0.0im                0.0-0.957267im\n",
       "       0.0+0.0im            0.0+0.0im       …   0.517432-1.09926im\n",
       "       0.0+0.0im            0.0+0.0im          -0.754856-0.211841im\n",
       "       0.0+0.0im            0.0+0.0im           0.300607+0.0im"
      ]
     },
     "metadata": {},
     "output_type": "display_data"
    }
   ],
   "source": [
    "A2"
   ]
  },
  {
   "cell_type": "markdown",
   "metadata": {},
   "source": [
    "Ya tengo dos operadores locales para el caso de 3 partículas, será un problema generalizar, porque lo tendré que hacer a mano pues no veo una forma buena de hacer los Arrays, tal vez deba ver cómo hacerlo en diccionario..."
   ]
  },
  {
   "cell_type": "markdown",
   "metadata": {},
   "source": [
    "$H = \\sum_i C_i A_i$, aquí es donde queremos generar 1000 pares de elementos C1 y C2 para formar distintos Hamiltonianos y almacenarlos "
   ]
  },
  {
   "cell_type": "markdown",
   "metadata": {},
   "source": [
    "Necesito los promedios también de A1 y A2 con los vectores propios de H, haremos una prueba para un sólo valor "
   ]
  },
  {
   "cell_type": "code",
   "execution_count": 20,
   "metadata": {},
   "outputs": [
    {
     "data": {
      "text/plain": [
       "1000×2 Matrix{Float64}:\n",
       "  0.128751    -0.224289\n",
       "  0.0951491   -0.519208\n",
       " -0.426759    -0.155877\n",
       " -0.543796    -0.0356709\n",
       " -0.107201    -0.583708\n",
       "  0.0458303    0.281002\n",
       "  0.674878     0.411383\n",
       "  0.312834     0.356403\n",
       "  0.0568724    0.614144\n",
       "  0.531558    -0.137583\n",
       "  ⋮           \n",
       " -0.648755    -0.95141\n",
       "  0.00956045   0.0154188\n",
       " -0.432874     0.916821\n",
       "  0.0355624    0.74575\n",
       "  0.707734    -0.162105\n",
       " -0.354535     0.960939\n",
       "  0.873749    -0.460683\n",
       "  0.00867395  -0.00664972\n",
       " -0.145764     0.576263"
      ]
     },
     "metadata": {},
     "output_type": "display_data"
    }
   ],
   "source": [
    "c = rand(1000,2)*2 .-1 # sería conveniente generar una matriz de n x 2 "
   ]
  },
  {
   "cell_type": "code",
   "execution_count": 21,
   "metadata": {},
   "outputs": [
    {
     "data": {
      "text/plain": [
       "8×8 adjoint(::Matrix{ComplexF64}) with eltype ComplexF64:\n",
       "  0.0685181+0.181587im   -0.0869738+0.0377618im   …   0.410119+0.0im\n",
       "  -0.212765-0.441525im     0.173311-0.422268im        0.389925+0.0im\n",
       "   0.141854+0.307032im    -0.267651-0.0885801im       0.507523-0.0im\n",
       "   0.164378+0.049367im    -0.382374-0.00805941im     -0.339486+0.0im\n",
       "   0.163197-0.0312759im    0.184267+0.169359im        0.407821-0.0im\n",
       "  -0.153569-0.0545017im   -0.487894+0.123108im    …   0.113225-0.0im\n",
       " -0.0504255+0.335566im     0.262245-0.295048im       -0.327566+0.0im\n",
       "   0.188703-0.611022im    -0.280232-0.0819497im      -0.143152+0.0im"
      ]
     },
     "metadata": {},
     "output_type": "display_data"
    }
   ],
   "source": [
    "Hnew = c[1,1]A1 + c[1,2]A2 # Recordemos quiero almacenar ai y ci, ai son promedios de los operadores y ci son simplemente números aleatorios uniformes entre [-1.1]\n",
    "vecs = eigen(Hnew).vectors\n",
    "advecs = adjoint(vecs)\n",
    "\n",
    "# NADA MÁS QUEREMOS USAR LA PRIMER MITAD DE LOS VALORES ESPERADOS \n",
    "# ¿Cómo entrenar la red? \n",
    "# ¿Cuál es el formato que espera para los datos de entrada y salida? El resto se tiene que automatizar \n",
    "# Que reciba los valores esperados, pero para entrenarlo, la idea es que tome varios conjuntos de valores esperados y para cada uno de ellos valorar la red para definir \n",
    "# la función que va a minimizar. \n",
    "# Lux   (y SciML)\n",
    "# SimpleChains "
   ]
  },
  {
   "cell_type": "code",
   "execution_count": 22,
   "metadata": {},
   "outputs": [
    {
     "data": {
      "text/plain": [
       "8-element Vector{ComplexF64}:\n",
       "  -2.575629106840477 - 5.551115123125783e-17im\n",
       " -0.3200521225301304 - 2.7755575615628914e-17im\n",
       "  -1.668984841556536 + 2.7755575615628914e-17im\n",
       " -0.5916711649779395 - 2.0816681711721685e-17im\n",
       "  0.6931476326933376 - 6.938893903907228e-18im\n",
       "  1.1063504093144663 - 1.734723475976807e-17im\n",
       "  0.7946549930335923 + 2.7755575615628914e-17im\n",
       "  2.5621842008636837 - 4.85722573273506e-17im"
      ]
     },
     "metadata": {},
     "output_type": "display_data"
    }
   ],
   "source": [
    "ExpVal1 = zeros(ComplexF64,size(vecs)[1])\n",
    "for i in 1:size(vecs)[1]\n",
    "    ExpVal1[i] = transpose(advecs[i,:])*A1*vecs[:,i]\n",
    "end\n",
    "\n",
    "ExpVal2 = zeros(ComplexF64,size(vecs)[1])  # ExpVal2[1] = a21 = \\bra{\\phi1_}A_2\\ket{\\phi_1}\n",
    "for i in 1:size(vecs)[1]\n",
    "    ExpVal2[i] = transpose(advecs[i,:])*A2*vecs[:,i]\n",
    "end\n",
    "ExpVal1"
   ]
  },
  {
   "cell_type": "code",
   "execution_count": 23,
   "metadata": {},
   "outputs": [
    {
     "data": {
      "text/plain": [
       "Dict{Any, Any}()"
      ]
     },
     "metadata": {},
     "output_type": "display_data"
    }
   ],
   "source": [
    "c1 = Tuple(c[1,:])\n",
    "dic = Dict()\n",
    "\n"
   ]
  },
  {
   "cell_type": "code",
   "execution_count": 43,
   "metadata": {},
   "outputs": [
    {
     "data": {
      "text/plain": [
       "2-element Vector{Float64}:\n",
       "  0.12875070530750987\n",
       " -0.22428936378832987"
      ]
     },
     "metadata": {},
     "output_type": "display_data"
    }
   ],
   "source": [
    "c[1,:]"
   ]
  },
  {
   "cell_type": "code",
   "execution_count": 25,
   "metadata": {},
   "outputs": [
    {
     "data": {
      "text/plain": [
       "2-element Vector{Vector{ComplexF64}}:\n",
       " [-2.575629106840477 - 5.551115123125783e-17im, -0.3200521225301304 - 2.7755575615628914e-17im, -1.668984841556536 + 2.7755575615628914e-17im, -0.5916711649779395 - 2.0816681711721685e-17im, 0.6931476326933376 - 6.938893903907228e-18im, 1.1063504093144663 - 1.734723475976807e-17im, 0.7946549930335923 + 2.7755575615628914e-17im, 2.5621842008636837 - 4.85722573273506e-17im]\n",
       " [2.3969414158544033 - 8.326672684688674e-17im, 2.1688747484543063 - 5.551115123125783e-17im, 0.07349705282276253 - 2.7755575615628914e-17im, 0.022285031186499382 + 0.0im, -0.2876872574605929 + 3.642919299551295e-17im, -0.6255174224790576 - 1.3877787807814457e-17im, -1.7811974631890561 + 4.163336342344337e-17im, -1.9671961051892686 + 1.3877787807814457e-17im]"
      ]
     },
     "metadata": {},
     "output_type": "display_data"
    }
   ],
   "source": [
    "dic[c1] = [ExpVal1,ExpVal2]"
   ]
  },
  {
   "cell_type": "code",
   "execution_count": 26,
   "metadata": {},
   "outputs": [
    {
     "data": {
      "text/plain": [
       "8-element Vector{ComplexF64}:\n",
       "  -2.575629106840477 - 5.551115123125783e-17im\n",
       " -0.3200521225301304 - 2.7755575615628914e-17im\n",
       "  -1.668984841556536 + 2.7755575615628914e-17im\n",
       " -0.5916711649779395 - 2.0816681711721685e-17im\n",
       "  0.6931476326933376 - 6.938893903907228e-18im\n",
       "  1.1063504093144663 - 1.734723475976807e-17im\n",
       "  0.7946549930335923 + 2.7755575615628914e-17im\n",
       "  2.5621842008636837 - 4.85722573273506e-17im"
      ]
     },
     "metadata": {},
     "output_type": "display_data"
    }
   ],
   "source": [
    "dic[c1][1] #ExpVal1 "
   ]
  },
  {
   "cell_type": "code",
   "execution_count": 27,
   "metadata": {},
   "outputs": [
    {
     "data": {
      "text/plain": [
       "8-element Vector{ComplexF64}:\n",
       "   2.3969414158544033 - 8.326672684688674e-17im\n",
       "   2.1688747484543063 - 5.551115123125783e-17im\n",
       "  0.07349705282276253 - 2.7755575615628914e-17im\n",
       " 0.022285031186499382 + 0.0im\n",
       "  -0.2876872574605929 + 3.642919299551295e-17im\n",
       "  -0.6255174224790576 - 1.3877787807814457e-17im\n",
       "  -1.7811974631890561 + 4.163336342344337e-17im\n",
       "  -1.9671961051892686 + 1.3877787807814457e-17im"
      ]
     },
     "metadata": {},
     "output_type": "display_data"
    }
   ],
   "source": [
    "dic[c1][2] # ExpVal2"
   ]
  },
  {
   "cell_type": "code",
   "execution_count": 28,
   "metadata": {},
   "outputs": [
    {
     "data": {
      "text/plain": [
       "(0.12875070530750987, -0.22428936378832987)"
      ]
     },
     "metadata": {},
     "output_type": "display_data"
    }
   ],
   "source": [
    "c1"
   ]
  },
  {
   "cell_type": "code",
   "execution_count": 29,
   "metadata": {},
   "outputs": [
    {
     "data": {
      "text/plain": [
       "2-element Vector{Vector{ComplexF64}}:\n",
       " [-2.575629106840477 - 5.551115123125783e-17im, -0.3200521225301304 - 2.7755575615628914e-17im, -1.668984841556536 + 2.7755575615628914e-17im, -0.5916711649779395 - 2.0816681711721685e-17im, 0.6931476326933376 - 6.938893903907228e-18im, 1.1063504093144663 - 1.734723475976807e-17im, 0.7946549930335923 + 2.7755575615628914e-17im, 2.5621842008636837 - 4.85722573273506e-17im]\n",
       " [2.3969414158544033 - 8.326672684688674e-17im, 2.1688747484543063 - 5.551115123125783e-17im, 0.07349705282276253 - 2.7755575615628914e-17im, 0.022285031186499382 + 0.0im, -0.2876872574605929 + 3.642919299551295e-17im, -0.6255174224790576 - 1.3877787807814457e-17im, -1.7811974631890561 + 4.163336342344337e-17im, -1.9671961051892686 + 1.3877787807814457e-17im]"
      ]
     },
     "metadata": {},
     "output_type": "display_data"
    }
   ],
   "source": [
    "dic[c1]"
   ]
  },
  {
   "cell_type": "code",
   "execution_count": 30,
   "metadata": {},
   "outputs": [
    {
     "data": {
      "text/plain": [
       "Dict{Any, Any}()"
      ]
     },
     "metadata": {},
     "output_type": "display_data"
    }
   ],
   "source": [
    "dic2 = Dict()"
   ]
  },
  {
   "cell_type": "code",
   "execution_count": 31,
   "metadata": {},
   "outputs": [
    {
     "data": {
      "text/plain": [
       "(0.12875070530750987, -0.22428936378832987)"
      ]
     },
     "metadata": {},
     "output_type": "display_data"
    }
   ],
   "source": [
    "dic2[1] = c1"
   ]
  },
  {
   "cell_type": "code",
   "execution_count": 32,
   "metadata": {},
   "outputs": [
    {
     "data": {
      "text/plain": [
       "(0.12875070530750987, -0.22428936378832987)"
      ]
     },
     "metadata": {},
     "output_type": "display_data"
    }
   ],
   "source": [
    "dic2[1]"
   ]
  },
  {
   "cell_type": "code",
   "execution_count": 44,
   "metadata": {},
   "outputs": [
    {
     "data": {
      "text/plain": [
       "Dict{Any, Any} with 1 entry:\n",
       "  1 => (0.128751, -0.224289)"
      ]
     },
     "metadata": {},
     "output_type": "display_data"
    }
   ],
   "source": [
    "dic2"
   ]
  },
  {
   "cell_type": "code",
   "execution_count": 33,
   "metadata": {},
   "outputs": [
    {
     "data": {
      "text/plain": [
       "2-element Vector{Vector{ComplexF64}}:\n",
       " [-2.575629106840477 - 5.551115123125783e-17im, -0.3200521225301304 - 2.7755575615628914e-17im, -1.668984841556536 + 2.7755575615628914e-17im, -0.5916711649779395 - 2.0816681711721685e-17im, 0.6931476326933376 - 6.938893903907228e-18im, 1.1063504093144663 - 1.734723475976807e-17im, 0.7946549930335923 + 2.7755575615628914e-17im, 2.5621842008636837 - 4.85722573273506e-17im]\n",
       " [2.3969414158544033 - 8.326672684688674e-17im, 2.1688747484543063 - 5.551115123125783e-17im, 0.07349705282276253 - 2.7755575615628914e-17im, 0.022285031186499382 + 0.0im, -0.2876872574605929 + 3.642919299551295e-17im, -0.6255174224790576 - 1.3877787807814457e-17im, -1.7811974631890561 + 4.163336342344337e-17im, -1.9671961051892686 + 1.3877787807814457e-17im]"
      ]
     },
     "metadata": {},
     "output_type": "display_data"
    }
   ],
   "source": [
    "dic[dic2[1]]"
   ]
  },
  {
   "cell_type": "code",
   "execution_count": 34,
   "metadata": {},
   "outputs": [
    {
     "data": {
      "text/plain": [
       "Dict{Any, Any} with 10 entries:\n",
       "  5  => 10\n",
       "  4  => 8\n",
       "  6  => 12\n",
       "  7  => 14\n",
       "  2  => 4\n",
       "  10 => 20\n",
       "  9  => 18\n",
       "  8  => 16\n",
       "  3  => 6\n",
       "  1  => 2"
      ]
     },
     "metadata": {},
     "output_type": "display_data"
    }
   ],
   "source": [
    "dic3 = Dict()\n",
    "for i in 1:10\n",
    "    dic3[i] = 2*i\n",
    "end\n",
    "dic3"
   ]
  },
  {
   "cell_type": "code",
   "execution_count": 35,
   "metadata": {},
   "outputs": [
    {
     "data": {
      "text/plain": [
       "14"
      ]
     },
     "metadata": {},
     "output_type": "display_data"
    }
   ],
   "source": [
    "dic3[7]"
   ]
  },
  {
   "cell_type": "code",
   "execution_count": 36,
   "metadata": {},
   "outputs": [
    {
     "data": {
      "text/plain": [
       "(0.09514905840989818, -0.519208318479248)"
      ]
     },
     "metadata": {},
     "output_type": "display_data"
    }
   ],
   "source": [
    "Cdic = Dict()\n",
    "for k in 1:1000\n",
    "    Cdic[\"c$k\"] = Tuple(c[k,:])\n",
    "end\n",
    "Cdic[\"c2\"]"
   ]
  },
  {
   "cell_type": "code",
   "execution_count": 37,
   "metadata": {},
   "outputs": [
    {
     "data": {
      "text/plain": [
       "(0.1567730178275888, 0.09268239418420943)"
      ]
     },
     "metadata": {},
     "output_type": "display_data"
    }
   ],
   "source": [
    "Cdic[\"c725\"]"
   ]
  },
  {
   "cell_type": "code",
   "execution_count": 64,
   "metadata": {},
   "outputs": [
    {
     "data": {
      "text/plain": [
       "8×8 Matrix{Float64}:\n",
       " 0.0  0.0  0.0  0.0  0.0  0.0  0.0  0.0\n",
       " 0.0  0.0  0.0  0.0  0.0  0.0  0.0  0.0\n",
       " 0.0  0.0  0.0  0.0  0.0  0.0  0.0  0.0\n",
       " 0.0  0.0  0.0  0.0  0.0  0.0  0.0  0.0\n",
       " 0.0  0.0  0.0  0.0  0.0  0.0  0.0  0.0\n",
       " 0.0  0.0  0.0  0.0  0.0  0.0  0.0  0.0\n",
       " 0.0  0.0  0.0  0.0  0.0  0.0  0.0  0.0\n",
       " 0.0  0.0  0.0  0.0  0.0  0.0  0.0  0.0"
      ]
     },
     "metadata": {},
     "output_type": "display_data"
    }
   ],
   "source": [
    "xaleatMat1 = rand(1000,length(ArrayA1)).*2 .-1\n",
    "xaleatMat2 = rand(1000,length(ArrayA2)).*2 .-1\n",
    "\n",
    "APrueba = zeros(2^particles,2^particles)\n",
    "APrueba2 = ones(2^particles,2^particles)\n",
    "\n",
    "dicPrueba = Dict()\n",
    "dicPrueba[1] = APrueba\n",
    "dicPrueba[2] = APrueba2\n",
    "dicPrueba[1][:,:]"
   ]
  },
  {
   "cell_type": "code",
   "execution_count": 38,
   "metadata": {},
   "outputs": [],
   "source": [
    "xaleat = rand(length(ArrayA1))*2 .-1\n",
    "xaleat2 = rand(length(ArrayA2))*2 .-1\n",
    "\n",
    "A1= zeros(2^particles,2^particles)\n",
    "\n",
    "for k in 1:length(ArrayA1)\n",
    "    A1 += xaleat[k]*kron([Sigma[ArrayA1[k][i]] for i in eachindex(ArrayA1[1])]...)\n",
    "end\n",
    "\n",
    "A2= zeros(2^particles,2^particles)\n",
    "\n",
    "for k in 1:length(ArrayA2)\n",
    "    A2 += xaleat2[k]*kron([Sigma[ArrayA2[k][i]] for i in eachindex(ArrayA2[1])]...)\n",
    "end"
   ]
  },
  {
   "cell_type": "code",
   "execution_count": null,
   "metadata": {},
   "outputs": [],
   "source": []
  },
  {
   "cell_type": "code",
   "execution_count": 45,
   "metadata": {},
   "outputs": [
    {
     "data": {
      "text/plain": [
       "8-element Vector{ComplexF64}:\n",
       "  -2.575629106840477 - 5.551115123125783e-17im\n",
       " -0.3200521225301304 - 2.7755575615628914e-17im\n",
       "  -1.668984841556536 + 2.7755575615628914e-17im\n",
       " -0.5916711649779395 - 2.0816681711721685e-17im\n",
       "  0.6931476326933376 - 6.938893903907228e-18im\n",
       "  1.1063504093144663 - 1.734723475976807e-17im\n",
       "  0.7946549930335923 + 2.7755575615628914e-17im\n",
       "  2.5621842008636837 - 4.85722573273506e-17im"
      ]
     },
     "metadata": {},
     "output_type": "display_data"
    }
   ],
   "source": [
    "ExpVal1 = zeros(ComplexF64,size(vecs)[1])\n",
    "for i in 1:size(vecs)[1]\n",
    "    ExpVal1[i] = transpose(advecs[i,:])*A1*vecs[:,i]\n",
    "end\n",
    "\n",
    "ExpVal2 = zeros(ComplexF64,size(vecs)[1])  # ExpVal2[1] = a21 = \\bra{\\phi1_}A_2\\ket{\\phi_1}\n",
    "for i in 1:size(vecs)[1]\n",
    "    ExpVal2[i] = transpose(advecs[i,:])*A2*vecs[:,i]\n",
    "end\n",
    "ExpVal1"
   ]
  },
  {
   "cell_type": "code",
   "execution_count": 2,
   "metadata": {},
   "outputs": [
    {
     "data": {
      "text/plain": [
       "4"
      ]
     },
     "metadata": {},
     "output_type": "display_data"
    }
   ],
   "source": [
    "Threads.nthreads()"
   ]
  },
  {
   "cell_type": "code",
   "execution_count": null,
   "metadata": {},
   "outputs": [],
   "source": []
  },
  {
   "cell_type": "code",
   "execution_count": null,
   "metadata": {},
   "outputs": [],
   "source": []
  },
  {
   "cell_type": "code",
   "execution_count": null,
   "metadata": {},
   "outputs": [],
   "source": []
  }
 ],
 "metadata": {
  "kernelspec": {
   "display_name": "Julia 1.11.3",
   "language": "julia",
   "name": "julia-1.11"
  },
  "language_info": {
   "file_extension": ".jl",
   "mimetype": "application/julia",
   "name": "julia",
   "version": "1.11.3"
  }
 },
 "nbformat": 4,
 "nbformat_minor": 2
}
