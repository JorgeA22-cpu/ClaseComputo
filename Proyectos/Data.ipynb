{
 "cells": [
  {
   "cell_type": "code",
   "execution_count": 1,
   "metadata": {},
   "outputs": [],
   "source": [
    "using Plots\n",
    "using LinearAlgebra\n",
    "using LaTeXStrings\n",
    "using HDF5"
   ]
  },
  {
   "cell_type": "markdown",
   "metadata": {},
   "source": [
    "No supervisado\n",
    "\n",
    "Familias de Hamiltonianos y se generen valores esperados\n",
    "y si se usa clustering y se agrupa con los datos e identificar los que se parecen \n",
    "y si se puede identificar las familias de Hamiltonianos\n",
    "\n",
    "normalización de batches \n",
    "y dropout (Para eliminar aleatoriamente)"
   ]
  },
  {
   "cell_type": "code",
   "execution_count": 43,
   "metadata": {},
   "outputs": [
    {
     "data": {
      "text/plain": [
       "3-element Vector{UnitRange{Int64}}:\n",
       " 1:3\n",
       " 1:3\n",
       " 1:3"
      ]
     },
     "metadata": {},
     "output_type": "display_data"
    }
   ],
   "source": [
    "k=3\n",
    "list = [1:3  for _ in 1:k]"
   ]
  },
  {
   "cell_type": "code",
   "execution_count": 3,
   "metadata": {},
   "outputs": [
    {
     "data": {
      "text/plain": [
       "2×2 Matrix{Int64}:\n",
       " 0  1\n",
       " 1  0"
      ]
     },
     "metadata": {},
     "output_type": "display_data"
    }
   ],
   "source": [
    "N = 3 # number of qubits\n",
    "d = 2^N # dimension of the Hilbert space\n",
    "\n",
    "sigmax = [0 1; 1 0]\n",
    "sigmay = [0 -im; im 0]\n",
    "sigmaz = [1 0; 0 -1]\n",
    "id= [1 0; 0 1] # Matriz identidad\n",
    "\n",
    "\n",
    "Sigma = Dict(0 => id, 1 => sigmax, 2 => sigmay, 3 => sigmaz) #Diccionario para llamar a las matrices de Pauli\n",
    "Sigma[1]"
   ]
  },
  {
   "cell_type": "markdown",
   "metadata": {},
   "source": [
    "### a |> f = f(a)"
   ]
  },
  {
   "cell_type": "code",
   "execution_count": 4,
   "metadata": {},
   "outputs": [],
   "source": [
    "#particles= 10\n",
    "#k=3\n",
    "#list=[1:3 for _ in 1:k]\n",
    "#test_visual_list = []\n",
    "#for place in 1:particles-k+1\n",
    "#    for i in Base.product(list...)\n",
    "#        total_list=zeros(particles)\n",
    "#        total_list[place:place+k-1]= i|>collect\n",
    "#        print(total_list)\n",
    "#        push!(test_visual_list,total_list)\n",
    "#        print(\"\\n\")\n",
    "#    end\n",
    "#end"
   ]
  },
  {
   "cell_type": "code",
   "execution_count": 5,
   "metadata": {},
   "outputs": [
    {
     "ename": "UndefVarError",
     "evalue": "UndefVarError: `particles` not defined in `Main`\nSuggestion: check for spelling errors or missing imports.",
     "output_type": "error",
     "traceback": [
      "UndefVarError: `particles` not defined in `Main`\n",
      "Suggestion: check for spelling errors or missing imports.\n",
      "\n",
      "Stacktrace:\n",
      " [1] top-level scope\n",
      "   @ ~/gitVideo/Proyectos/jl_notebook_cell_df34fa98e69747e1a8f8a730347b8e2f_W5sZmlsZQ==.jl:2"
     ]
    }
   ],
   "source": [
    "# Usarlo para la suma \n",
    "N = particles\n",
    "C = test_visual_list\n",
    "x = rand(length(test_visual_list))*2 .-1\n",
    "# A = reduce(kron, [Sigma[C[1][i]] for i in eachindex(C[1])])\n"
   ]
  },
  {
   "cell_type": "code",
   "execution_count": 6,
   "metadata": {},
   "outputs": [
    {
     "ename": "UndefVarError",
     "evalue": "UndefVarError: `test_visual_list` not defined in `Main`\nSuggestion: check for spelling errors or missing imports.",
     "output_type": "error",
     "traceback": [
      "UndefVarError: `test_visual_list` not defined in `Main`\n",
      "Suggestion: check for spelling errors or missing imports.\n",
      "\n",
      "Stacktrace:\n",
      " [1] top-level scope\n",
      "   @ ~/gitVideo/Proyectos/jl_notebook_cell_df34fa98e69747e1a8f8a730347b8e2f_W6sZmlsZQ==.jl:2"
     ]
    }
   ],
   "source": [
    "H = zeros(ComplexF64,2^N,2^N)\n",
    "for k in 1:length(test_visual_list)\n",
    "    H += x[k]*reduce(kron, [Sigma[C[k][i]] for i in eachindex(C[1])])\n",
    "end\n",
    "H "
   ]
  },
  {
   "cell_type": "code",
   "execution_count": 44,
   "metadata": {},
   "outputs": [
    {
     "ename": "UndefVarError",
     "evalue": "UndefVarError: `x` not defined in `Main`\nSuggestion: check for spelling errors or missing imports.",
     "output_type": "error",
     "traceback": [
      "UndefVarError: `x` not defined in `Main`\n",
      "Suggestion: check for spelling errors or missing imports.\n",
      "\n",
      "Stacktrace:\n",
      " [1] top-level scope\n",
      "   @ ~/gitVideo/Proyectos/jl_notebook_cell_df34fa98e69747e1a8f8a730347b8e2f_X10sZmlsZQ==.jl:3"
     ]
    }
   ],
   "source": [
    "H = zeros(ComplexF64,2^N,2^N)\n",
    "for k in 1:length(test_visual_list)\n",
    "    H += x[k]*kron([Sigma[C[k][i]] for i in eachindex(C[1])]...)\n",
    "end\n",
    "H \n",
    "\n",
    "# Hay que guardar las A's\n",
    "# Buscar el mejor formato para guardar matrices en Julia "
   ]
  },
  {
   "cell_type": "markdown",
   "metadata": {},
   "source": [
    "$\\{A_i\\}$ deben ser operadores fijos lo que varían son 1000 datos distintos del conjunto de $\\{c_i\\}$ y tomar la mitad inferior de $\\{\\ket{\\psi_n\\}}$ ¿Qué tanto podemos reducir los estados y que nos siga dando una buena aproximación? "
   ]
  },
  {
   "cell_type": "markdown",
   "metadata": {},
   "source": [
    "### Almacenar todos los operadores locales A "
   ]
  },
  {
   "cell_type": "code",
   "execution_count": 8,
   "metadata": {},
   "outputs": [],
   "source": [
    "#particles=3\n",
    "#k=3\n",
    "#list=[0:3 for _ in 1:k]\n",
    "#test_visual_list2 = []\n",
    "#for place in 1:particles-k+1\n",
    "#for i in Base.product(list...)\n",
    "#    total_list=zeros(particles)\n",
    "#    total_list[place:place+k-1]= i|>collect\n",
    "#    print(total_list)\n",
    "#    push!(test_visual_list,total_list)\n",
    "#    print(\"\\n\")\n",
    "#end\n",
    "#end"
   ]
  },
  {
   "cell_type": "code",
   "execution_count": 9,
   "metadata": {},
   "outputs": [
    {
     "data": {
      "text/plain": [
       "15-element Vector{Any}:\n",
       " [0.0, 1.0, 0.0]\n",
       " [0.0, 2.0, 0.0]\n",
       " [0.0, 3.0, 0.0]\n",
       " [0.0, 0.0, 1.0]\n",
       " [0.0, 1.0, 1.0]\n",
       " [0.0, 2.0, 1.0]\n",
       " [0.0, 3.0, 1.0]\n",
       " [0.0, 0.0, 2.0]\n",
       " [0.0, 1.0, 2.0]\n",
       " [0.0, 2.0, 2.0]\n",
       " [0.0, 3.0, 2.0]\n",
       " [0.0, 0.0, 3.0]\n",
       " [0.0, 1.0, 3.0]\n",
       " [0.0, 2.0, 3.0]\n",
       " [0.0, 3.0, 3.0]"
      ]
     },
     "metadata": {},
     "output_type": "display_data"
    }
   ],
   "source": [
    "particles=3\n",
    "k=2\n",
    "list=[0:3 for _ in 1:k]\n",
    "test_visual_list = []\n",
    "place= 2\n",
    "for i in Base.product(list...)\n",
    "    total_list=zeros(particles)\n",
    "    total_list[place:place+k-1]= i|>collect\n",
    "    if sum(total_list) != 0\n",
    "        ##print(total_list)\n",
    "        push!(test_visual_list,total_list)\n",
    "    end\n",
    "   # print(\"\\n\")\n",
    "end\n",
    "test_visual_list"
   ]
  },
  {
   "cell_type": "code",
   "execution_count": 10,
   "metadata": {},
   "outputs": [
    {
     "data": {
      "text/plain": [
       "3.0"
      ]
     },
     "metadata": {},
     "output_type": "display_data"
    }
   ],
   "source": [
    "sum(test_visual_list[6])"
   ]
  },
  {
   "cell_type": "code",
   "execution_count": 11,
   "metadata": {},
   "outputs": [
    {
     "data": {
      "text/plain": [
       "12-element Vector{Any}:\n",
       " [1.0, 0.0, 0.0]\n",
       " [2.0, 0.0, 0.0]\n",
       " [3.0, 0.0, 0.0]\n",
       " [0.0, 1.0, 0.0]\n",
       " [2.0, 1.0, 0.0]\n",
       " [3.0, 1.0, 0.0]\n",
       " [0.0, 2.0, 0.0]\n",
       " [1.0, 2.0, 0.0]\n",
       " [3.0, 2.0, 0.0]\n",
       " [0.0, 3.0, 0.0]\n",
       " [1.0, 3.0, 0.0]\n",
       " [2.0, 3.0, 0.0]"
      ]
     },
     "metadata": {},
     "output_type": "display_data"
    }
   ],
   "source": [
    "particles = 3 \n",
    "place = 1\n",
    "\n",
    "k=2\n",
    "list=[0:3 for _ in 1:k]\n",
    "test_visual_list = []\n",
    "\n",
    "for i in Base.product(list...)\n",
    "    total_list=zeros(particles)\n",
    "    total_list[place:place+k-1]= i|>collect\n",
    "    if sum(total_list) != 0\n",
    "        ##print(total_list)\n",
    "        push!(test_visual_list,total_list)\n",
    "    end\n",
    "   # print(\"\\n\")\n",
    "end\n",
    "\n",
    "ArrayA1 = []\n",
    "for i in 1:length(test_visual_list)\n",
    "    if test_visual_list[i][place] != test_visual_list[i][place+1] && sum(test_visual_list[i]) != 0\n",
    "        push!(ArrayA1,test_visual_list[i])\n",
    "    end\n",
    "end\n",
    "ArrayA1"
   ]
  },
  {
   "cell_type": "code",
   "execution_count": 12,
   "metadata": {},
   "outputs": [
    {
     "data": {
      "text/plain": [
       "12-element Vector{Any}:\n",
       " [0.0, 1.0, 0.0]\n",
       " [0.0, 2.0, 0.0]\n",
       " [0.0, 3.0, 0.0]\n",
       " [0.0, 0.0, 1.0]\n",
       " [0.0, 2.0, 1.0]\n",
       " [0.0, 3.0, 1.0]\n",
       " [0.0, 0.0, 2.0]\n",
       " [0.0, 1.0, 2.0]\n",
       " [0.0, 3.0, 2.0]\n",
       " [0.0, 0.0, 3.0]\n",
       " [0.0, 1.0, 3.0]\n",
       " [0.0, 2.0, 3.0]"
      ]
     },
     "metadata": {},
     "output_type": "display_data"
    }
   ],
   "source": [
    "particles = 3 \n",
    "place = 2\n",
    "\n",
    "k=2\n",
    "list=[0:3 for _ in 1:k]\n",
    "test_visual_list = []\n",
    "\n",
    "for i in Base.product(list...)\n",
    "    total_list=zeros(particles)\n",
    "    total_list[place:place+k-1]= i|>collect\n",
    "    if sum(total_list) != 0\n",
    "        ##print(total_list)\n",
    "        push!(test_visual_list,total_list)\n",
    "    end\n",
    "   # print(\"\\n\")\n",
    "end\n",
    "\n",
    "ArrayA2 = []\n",
    "for i in 1:length(test_visual_list)\n",
    "    if test_visual_list[i][place] != test_visual_list[i][place+1] && sum(test_visual_list[i]) != 0\n",
    "        push!(ArrayA2,test_visual_list[i])\n",
    "    end\n",
    "end\n",
    "ArrayA2"
   ]
  },
  {
   "cell_type": "code",
   "execution_count": 13,
   "metadata": {},
   "outputs": [
    {
     "data": {
      "text/plain": [
       "12-element Vector{Any}:\n",
       " [1.0, 0.0, 0.0]\n",
       " [2.0, 0.0, 0.0]\n",
       " [3.0, 0.0, 0.0]\n",
       " [0.0, 1.0, 0.0]\n",
       " [2.0, 1.0, 0.0]\n",
       " [3.0, 1.0, 0.0]\n",
       " [0.0, 2.0, 0.0]\n",
       " [1.0, 2.0, 0.0]\n",
       " [3.0, 2.0, 0.0]\n",
       " [0.0, 3.0, 0.0]\n",
       " [1.0, 3.0, 0.0]\n",
       " [2.0, 3.0, 0.0]"
      ]
     },
     "metadata": {},
     "output_type": "display_data"
    }
   ],
   "source": [
    "ArrayA1"
   ]
  },
  {
   "cell_type": "code",
   "execution_count": 14,
   "metadata": {},
   "outputs": [
    {
     "data": {
      "text/plain": [
       "12-element Vector{Float64}:\n",
       " -0.7417188037796398\n",
       "  0.4631239517584471\n",
       " -0.6331800101314484\n",
       "  0.34455406479174777\n",
       " -0.7837308960196161\n",
       "  0.6089140438712128\n",
       "  0.45682870318674396\n",
       " -0.9417333837912369\n",
       " -0.05047178559911236\n",
       " -0.4796313373178003\n",
       " -0.03342675165265763\n",
       "  0.3740180134753792"
      ]
     },
     "metadata": {},
     "output_type": "display_data"
    }
   ],
   "source": [
    "ArrayA2\n",
    "\n",
    "xaleat = rand(length(ArrayA1))*2 .-1\n",
    "xaleat2 = rand(length(ArrayA2))*2 .-1"
   ]
  },
  {
   "cell_type": "code",
   "execution_count": 15,
   "metadata": {},
   "outputs": [],
   "source": [
    "\n",
    "xaleat = rand(length(ArrayA1))*2 .-1\n",
    "xaleat2 = rand(length(ArrayA2))*2 .-1\n",
    "\n",
    "A1= zeros(2^particles,2^particles)\n",
    "\n",
    "for k in 1:length(ArrayA1)\n",
    "    A1 += xaleat[k]*kron([Sigma[ArrayA1[k][i]] for i in eachindex(ArrayA1[1])]...)\n",
    "end\n",
    "\n",
    "A2= zeros(2^particles,2^particles)\n",
    "\n",
    "for k in 1:length(ArrayA2)\n",
    "    A2 += xaleat2[k]*kron([Sigma[ArrayA2[k][i]] for i in eachindex(ArrayA2[1])]...)\n",
    "end"
   ]
  },
  {
   "cell_type": "code",
   "execution_count": 16,
   "metadata": {},
   "outputs": [
    {
     "data": {
      "text/plain": [
       "8×8 Matrix{ComplexF64}:\n",
       " -0.33302+0.0im            0.0+0.0im       …         0.0+0.0im\n",
       "      0.0+0.0im       -0.33302+0.0im                 0.0-0.576647im\n",
       " -1.46955+0.628368im       0.0+0.0im                 0.0+0.0im\n",
       "      0.0+0.0im       -1.46955+0.628368im        1.43739+0.199916im\n",
       " 0.486991-1.24725im        0.0+0.0im                 0.0+0.0im\n",
       "      0.0+0.0im       0.486991-1.24725im   …  -0.0496428+0.953762im\n",
       "      0.0+0.576647im       0.0+0.0im                 0.0+0.0im\n",
       "      0.0+0.0im            0.0+0.576647im        0.33302+0.0im"
      ]
     },
     "metadata": {},
     "output_type": "display_data"
    }
   ],
   "source": [
    "A1"
   ]
  },
  {
   "cell_type": "code",
   "execution_count": 17,
   "metadata": {},
   "outputs": [
    {
     "data": {
      "text/plain": [
       "8×8 Matrix{ComplexF64}:\n",
       " -0.677826+0.0im        -0.655832+0.341425im   …       0.0+0.0im\n",
       " -0.655832-0.341425im    -1.22717+0.0im                0.0+0.0im\n",
       "  0.264449+1.13526im          0.0-1.23149im            0.0+0.0im\n",
       "       0.0-0.0747423im   -0.17822-0.0178427im          0.0+0.0im\n",
       "       0.0+0.0im              0.0+0.0im                0.0+0.0747423im\n",
       "       0.0+0.0im              0.0+0.0im        …  -0.17822+0.0178427im\n",
       "       0.0+0.0im              0.0+0.0im            1.31229-0.638159im\n",
       "       0.0+0.0im              0.0+0.0im           0.677826+0.0im"
      ]
     },
     "metadata": {},
     "output_type": "display_data"
    }
   ],
   "source": [
    "A2"
   ]
  },
  {
   "cell_type": "markdown",
   "metadata": {},
   "source": [
    "Ya tengo dos operadores locales para el caso de 3 partículas, será un problema generalizar, porque lo tendré que hacer a mano pues no veo una forma buena de hacer los Arrays, tal vez deba ver cómo hacerlo en diccionario..."
   ]
  },
  {
   "cell_type": "markdown",
   "metadata": {},
   "source": [
    "$H = \\sum_i C_i A_i$, aquí es donde queremos generar 1000 pares de elementos C1 y C2 para formar distintos Hamiltonianos y almacenarlos "
   ]
  },
  {
   "cell_type": "markdown",
   "metadata": {},
   "source": [
    "Necesito los promedios también de A1 y A2 con los vectores propios de H, haremos una prueba para un sólo valor "
   ]
  },
  {
   "cell_type": "code",
   "execution_count": 18,
   "metadata": {},
   "outputs": [
    {
     "data": {
      "text/plain": [
       "1000×2 Matrix{Float64}:\n",
       " -0.21971    -0.0419819\n",
       " -0.437143   -0.368655\n",
       " -0.188752    0.606834\n",
       "  0.956681   -0.361249\n",
       "  0.988594    0.955421\n",
       "  0.490063    0.773678\n",
       " -0.93405    -0.977242\n",
       " -0.880865    0.153427\n",
       "  0.438016    0.832831\n",
       "  0.89808     0.636521\n",
       "  ⋮          \n",
       " -0.337599   -0.060717\n",
       "  0.569139    0.460947\n",
       " -0.917462    0.659773\n",
       "  0.605514   -0.842676\n",
       "  0.287262   -0.143436\n",
       " -0.244441   -0.885875\n",
       " -0.661235    0.598209\n",
       "  0.0494836   0.939016\n",
       "  0.794976    0.682964"
      ]
     },
     "metadata": {},
     "output_type": "display_data"
    }
   ],
   "source": [
    "c = rand(1000,2)*2 .-1 # sería conveniente generar una matriz de n x 2 "
   ]
  },
  {
   "cell_type": "code",
   "execution_count": 19,
   "metadata": {},
   "outputs": [
    {
     "data": {
      "text/plain": [
       "8×8 adjoint(::Matrix{ComplexF64}) with eltype ComplexF64:\n",
       "  0.118113-0.268209im    0.310316-0.100152im   …  -0.401206+0.0im\n",
       " -0.126909+0.355377im    0.227705-0.207605im      -0.331091+0.0im\n",
       "  0.223704-0.236331im   -0.134988-0.130572im      -0.184812+0.0im\n",
       "  0.144724-0.0959837im   0.336694+0.153677im       0.548377-0.0im\n",
       " -0.111739-0.332972im    0.242841-0.25534im        0.334716+0.0im\n",
       " 0.0315124+0.38378im     0.248308-0.296741im   …   0.415967-0.0im\n",
       "  0.347222+0.414017im    0.325481+0.0846081im     -0.185488+0.0im\n",
       "   0.20456+0.173803im   -0.488661+0.0265426im      0.273991+0.0im"
      ]
     },
     "metadata": {},
     "output_type": "display_data"
    }
   ],
   "source": [
    "Hnew = c[1,1]A1 + c[1,2]A2 # Recordemos quiero almacenar ai y ci, ai son promedios de los operadores y ci son simplemente números aleatorios uniformes entre [-1.1]\n",
    "vecs = eigen(Hnew).vectors\n",
    "advecs = adjoint(vecs)\n",
    "\n",
    "# NADA MÁS QUEREMOS USAR LA PRIMER MITAD DE LOS VALORES ESPERADOS \n",
    "# ¿Cómo entrenar la red? \n",
    "# ¿Cuál es el formato que espera para los datos de entrada y salida? El resto se tiene que automatizar \n",
    "# Que reciba los valores esperados, pero para entrenarlo, la idea es que tome varios conjuntos de valores esperados y para cada uno de ellos valorar la red para definir \n",
    "# la función que va a minimizar. \n",
    "# Lux   (y SciML)\n",
    "# SimpleChains "
   ]
  },
  {
   "cell_type": "code",
   "execution_count": 20,
   "metadata": {},
   "outputs": [
    {
     "data": {
      "text/plain": [
       "8-element Vector{ComplexF64}:\n",
       "  2.8857594564878037 + 0.0im\n",
       "    2.92570523638577 - 4.85722573273506e-17im\n",
       "  0.8148990951819786 + 0.0im\n",
       "  0.7883604705416176 - 2.42861286636753e-17im\n",
       " -0.8013513317038493 - 2.42861286636753e-17im\n",
       " -0.7802473685188491 + 2.7755575615628914e-17im\n",
       " -2.8912765602740866 + 0.0im\n",
       "  -2.941848998100386 + 1.1102230246251565e-16im"
      ]
     },
     "metadata": {},
     "output_type": "display_data"
    }
   ],
   "source": [
    "ExpVal1 = zeros(ComplexF64,size(vecs)[1])\n",
    "for i in 1:size(vecs)[1]\n",
    "    ExpVal1[i] = transpose(advecs[i,:])*A1*vecs[:,i]\n",
    "end\n",
    "\n",
    "ExpVal2 = zeros(ComplexF64,size(vecs)[1])  # ExpVal2[1] = a21 = \\bra{\\phi1_}A_2\\ket{\\phi_1}\n",
    "for i in 1:size(vecs)[1]\n",
    "    ExpVal2[i] = transpose(advecs[i,:])*A2*vecs[:,i]\n",
    "end\n",
    "ExpVal1"
   ]
  },
  {
   "cell_type": "code",
   "execution_count": 21,
   "metadata": {},
   "outputs": [
    {
     "data": {
      "text/plain": [
       "Dict{Any, Any}()"
      ]
     },
     "metadata": {},
     "output_type": "display_data"
    }
   ],
   "source": [
    "c1 = Tuple(c[1,:])\n",
    "dic = Dict()\n",
    "\n"
   ]
  },
  {
   "cell_type": "code",
   "execution_count": 22,
   "metadata": {},
   "outputs": [
    {
     "data": {
      "text/plain": [
       "2-element Vector{Float64}:\n",
       " -0.21970962060181654\n",
       " -0.041981897709292504"
      ]
     },
     "metadata": {},
     "output_type": "display_data"
    }
   ],
   "source": [
    "c[1,:]"
   ]
  },
  {
   "cell_type": "code",
   "execution_count": 23,
   "metadata": {},
   "outputs": [
    {
     "data": {
      "text/plain": [
       "2-element Vector{Vector{ComplexF64}}:\n",
       " [2.8857594564878037 + 0.0im, 2.92570523638577 - 4.85722573273506e-17im, 0.8148990951819786 + 0.0im, 0.7883604705416176 - 2.42861286636753e-17im, -0.8013513317038493 - 2.42861286636753e-17im, -0.7802473685188491 + 2.7755575615628914e-17im, -2.8912765602740866 + 0.0im, -2.941848998100386 + 1.1102230246251565e-16im]\n",
       " [0.6672368213123576 - 6.938893903907228e-17im, -0.7274687332745928 + 1.457167719820518e-16im, 0.8628233815315766 - 4.163336342344337e-17im, -0.7300289781942149 + 1.3877787807814457e-17im, 0.7339356593242814 + 2.0816681711721685e-17im, -0.5298954792039678 - 3.469446951953614e-18im, 0.7312745370436072 + 4.163336342344337e-17im, -1.0078772085390477 - 6.938893903907228e-17im]"
      ]
     },
     "metadata": {},
     "output_type": "display_data"
    }
   ],
   "source": [
    "dic[c1] = [ExpVal1,ExpVal2]"
   ]
  },
  {
   "cell_type": "code",
   "execution_count": 24,
   "metadata": {},
   "outputs": [
    {
     "data": {
      "text/plain": [
       "8-element Vector{ComplexF64}:\n",
       "  2.8857594564878037 + 0.0im\n",
       "    2.92570523638577 - 4.85722573273506e-17im\n",
       "  0.8148990951819786 + 0.0im\n",
       "  0.7883604705416176 - 2.42861286636753e-17im\n",
       " -0.8013513317038493 - 2.42861286636753e-17im\n",
       " -0.7802473685188491 + 2.7755575615628914e-17im\n",
       " -2.8912765602740866 + 0.0im\n",
       "  -2.941848998100386 + 1.1102230246251565e-16im"
      ]
     },
     "metadata": {},
     "output_type": "display_data"
    }
   ],
   "source": [
    "dic[c1][1] #ExpVal1 "
   ]
  },
  {
   "cell_type": "code",
   "execution_count": 25,
   "metadata": {},
   "outputs": [
    {
     "data": {
      "text/plain": [
       "8-element Vector{ComplexF64}:\n",
       "  0.6672368213123576 - 6.938893903907228e-17im\n",
       " -0.7274687332745928 + 1.457167719820518e-16im\n",
       "  0.8628233815315766 - 4.163336342344337e-17im\n",
       " -0.7300289781942149 + 1.3877787807814457e-17im\n",
       "  0.7339356593242814 + 2.0816681711721685e-17im\n",
       " -0.5298954792039678 - 3.469446951953614e-18im\n",
       "  0.7312745370436072 + 4.163336342344337e-17im\n",
       " -1.0078772085390477 - 6.938893903907228e-17im"
      ]
     },
     "metadata": {},
     "output_type": "display_data"
    }
   ],
   "source": [
    "dic[c1][2] # ExpVal2"
   ]
  },
  {
   "cell_type": "code",
   "execution_count": 26,
   "metadata": {},
   "outputs": [
    {
     "data": {
      "text/plain": [
       "(-0.21970962060181654, -0.041981897709292504)"
      ]
     },
     "metadata": {},
     "output_type": "display_data"
    }
   ],
   "source": [
    "c1"
   ]
  },
  {
   "cell_type": "code",
   "execution_count": 27,
   "metadata": {},
   "outputs": [
    {
     "data": {
      "text/plain": [
       "2-element Vector{Vector{ComplexF64}}:\n",
       " [2.8857594564878037 + 0.0im, 2.92570523638577 - 4.85722573273506e-17im, 0.8148990951819786 + 0.0im, 0.7883604705416176 - 2.42861286636753e-17im, -0.8013513317038493 - 2.42861286636753e-17im, -0.7802473685188491 + 2.7755575615628914e-17im, -2.8912765602740866 + 0.0im, -2.941848998100386 + 1.1102230246251565e-16im]\n",
       " [0.6672368213123576 - 6.938893903907228e-17im, -0.7274687332745928 + 1.457167719820518e-16im, 0.8628233815315766 - 4.163336342344337e-17im, -0.7300289781942149 + 1.3877787807814457e-17im, 0.7339356593242814 + 2.0816681711721685e-17im, -0.5298954792039678 - 3.469446951953614e-18im, 0.7312745370436072 + 4.163336342344337e-17im, -1.0078772085390477 - 6.938893903907228e-17im]"
      ]
     },
     "metadata": {},
     "output_type": "display_data"
    }
   ],
   "source": [
    "dic[c1]"
   ]
  },
  {
   "cell_type": "code",
   "execution_count": 28,
   "metadata": {},
   "outputs": [
    {
     "data": {
      "text/plain": [
       "Dict{Any, Any}()"
      ]
     },
     "metadata": {},
     "output_type": "display_data"
    }
   ],
   "source": [
    "dic2 = Dict()"
   ]
  },
  {
   "cell_type": "code",
   "execution_count": 29,
   "metadata": {},
   "outputs": [
    {
     "data": {
      "text/plain": [
       "(-0.21970962060181654, -0.041981897709292504)"
      ]
     },
     "metadata": {},
     "output_type": "display_data"
    }
   ],
   "source": [
    "dic2[1] = c1"
   ]
  },
  {
   "cell_type": "code",
   "execution_count": 30,
   "metadata": {},
   "outputs": [
    {
     "data": {
      "text/plain": [
       "(-0.21970962060181654, -0.041981897709292504)"
      ]
     },
     "metadata": {},
     "output_type": "display_data"
    }
   ],
   "source": [
    "dic2[1]"
   ]
  },
  {
   "cell_type": "code",
   "execution_count": 31,
   "metadata": {},
   "outputs": [
    {
     "data": {
      "text/plain": [
       "Dict{Any, Any} with 1 entry:\n",
       "  1 => (-0.21971, -0.0419819)"
      ]
     },
     "metadata": {},
     "output_type": "display_data"
    }
   ],
   "source": [
    "dic2"
   ]
  },
  {
   "cell_type": "code",
   "execution_count": 32,
   "metadata": {},
   "outputs": [
    {
     "data": {
      "text/plain": [
       "2-element Vector{Vector{ComplexF64}}:\n",
       " [2.8857594564878037 + 0.0im, 2.92570523638577 - 4.85722573273506e-17im, 0.8148990951819786 + 0.0im, 0.7883604705416176 - 2.42861286636753e-17im, -0.8013513317038493 - 2.42861286636753e-17im, -0.7802473685188491 + 2.7755575615628914e-17im, -2.8912765602740866 + 0.0im, -2.941848998100386 + 1.1102230246251565e-16im]\n",
       " [0.6672368213123576 - 6.938893903907228e-17im, -0.7274687332745928 + 1.457167719820518e-16im, 0.8628233815315766 - 4.163336342344337e-17im, -0.7300289781942149 + 1.3877787807814457e-17im, 0.7339356593242814 + 2.0816681711721685e-17im, -0.5298954792039678 - 3.469446951953614e-18im, 0.7312745370436072 + 4.163336342344337e-17im, -1.0078772085390477 - 6.938893903907228e-17im]"
      ]
     },
     "metadata": {},
     "output_type": "display_data"
    }
   ],
   "source": [
    "dic[dic2[1]]"
   ]
  },
  {
   "cell_type": "code",
   "execution_count": 33,
   "metadata": {},
   "outputs": [
    {
     "data": {
      "text/plain": [
       "Dict{Any, Any} with 10 entries:\n",
       "  5  => 10\n",
       "  4  => 8\n",
       "  6  => 12\n",
       "  7  => 14\n",
       "  2  => 4\n",
       "  10 => 20\n",
       "  9  => 18\n",
       "  8  => 16\n",
       "  3  => 6\n",
       "  1  => 2"
      ]
     },
     "metadata": {},
     "output_type": "display_data"
    }
   ],
   "source": [
    "dic3 = Dict()\n",
    "for i in 1:10\n",
    "    dic3[i] = 2*i\n",
    "end\n",
    "dic3"
   ]
  },
  {
   "cell_type": "code",
   "execution_count": 34,
   "metadata": {},
   "outputs": [
    {
     "data": {
      "text/plain": [
       "14"
      ]
     },
     "metadata": {},
     "output_type": "display_data"
    }
   ],
   "source": [
    "dic3[7]"
   ]
  },
  {
   "cell_type": "code",
   "execution_count": 35,
   "metadata": {},
   "outputs": [],
   "source": []
  },
  {
   "cell_type": "code",
   "execution_count": 36,
   "metadata": {},
   "outputs": [
    {
     "data": {
      "text/plain": [
       "12-element Vector{Float64}:\n",
       "  0.3336181700222902\n",
       "  0.6142766211137931\n",
       "  0.590061560750117\n",
       " -0.801345044840241\n",
       " -0.02874271817173013\n",
       " -0.1604860018540908\n",
       " -0.706845372297846\n",
       "  0.761022958733413\n",
       "  0.9017563887996225\n",
       "  0.8179897783232859\n",
       " -0.24172488312581097\n",
       " -0.0277082459374578"
      ]
     },
     "metadata": {},
     "output_type": "display_data"
    }
   ],
   "source": [
    "xaleatMat1 = rand(1000,length(ArrayA1)).*2 .-1\n",
    "xaleatMat2 = rand(1000,length(ArrayA2)).*2 .-1\n",
    "\n",
    "APrueba = zeros(2^particles,2^particles)\n",
    "APrueba2 = ones(2^particles,2^particles)\n",
    "\n",
    "dicPrueba = Dict()\n",
    "dicPrueba[1] = APrueba\n",
    "dicPrueba[2] = APrueba2\n",
    "dicPrueba[1][:,:]\n",
    "xaleatMat1[1,:]"
   ]
  },
  {
   "cell_type": "code",
   "execution_count": 45,
   "metadata": {},
   "outputs": [
    {
     "data": {
      "text/plain": [
       "8×8 Matrix{ComplexF64}:\n",
       " -0.733528+0.0im          0.11387+0.0118346im  …         0.0+0.0im\n",
       "   0.11387-0.0118346im   -0.61196+0.0im                  0.0-0.485578im\n",
       "  0.702363+0.502204im         0.0-0.0851177im            0.0+0.0im\n",
       "       0.0-0.00772831im  0.687154+0.547347im       -0.186474+1.4018im\n",
       "  0.890233+0.311326im         0.0+0.0im                  0.0+0.00772831im\n",
       "       0.0+0.0im         0.890233+0.311326im   …    -0.76153+1.30626im\n",
       "       0.0+0.485578im         0.0+0.0im           -0.0420166+0.0971603im\n",
       "       0.0+0.0im              0.0+0.485578im        0.733528+0.0im"
      ]
     },
     "metadata": {},
     "output_type": "display_data"
    }
   ],
   "source": [
    "# Construcción de las 1000 tuplas con dos constantes aleatorias para c1 y c2 para A1 y A2 respectivamente\n",
    "Cdic = Dict()\n",
    "for k in 1:1000\n",
    "    Cdic[k] = Tuple(c[k,:])\n",
    "end\n",
    "Cdic[k]\n",
    "\n",
    "# Construcción de los 1000 operadores locales (Aleatorios)\n",
    "\n",
    "xaleatMat1 = rand(1000,length(ArrayA1)).*2 .-1\n",
    "xaleatMat2 = rand(1000,length(ArrayA2)).*2 .-1\n",
    "\n",
    "dicA1Total = Dict()\n",
    "\n",
    "for i in 1:1000\n",
    "    A1P = zeros(2^particles,2^particles)\n",
    "    for k in 1:length(ArrayA1)\n",
    "        A1P += xaleatMat1[i,k]*kron([Sigma[ArrayA1[k][i]] for i in eachindex(ArrayA1[1])]...)\n",
    "    end\n",
    "    dicA1Total[i] = A1P\n",
    "end\n",
    "\n",
    "dicA2Total = Dict()\n",
    "\n",
    "for i in 1:1000\n",
    "    A2P = zeros(2^particles,2^particles)\n",
    "    for k in 1:length(ArrayA2)\n",
    "        A2P += xaleatMat2[i,k]*kron([Sigma[ArrayA2[k][i]] for i in eachindex(ArrayA2[1])]...)\n",
    "    end\n",
    "    dicA2Total[i] = A2P\n",
    "end\n",
    "\n",
    "Cdic[k] # Cdic[k][1] y Cdic[k][2]\n",
    "\n",
    "Hdic = Dict()\n",
    "\n",
    "for i in 1:1000\n",
    "    Hdic[i] = c[i,1]*dicA1Total[i] + c[i,2]*dicA2Total[i]\n",
    "end\n",
    "Hdic[152]"
   ]
  },
  {
   "cell_type": "code",
   "execution_count": null,
   "metadata": {},
   "outputs": [],
   "source": [
    "# Tengo 1000 Hamiltonianos que serán los que supervisaran la red con respecto a los 1000 operadores A1 y A2, pero recordemos que sólo \n",
    "# nos interesa la mitad de los estados propios, entonces tendremos algo de la siguiente dimensión \n",
    "\n",
    "# 1000 x 1 x (2^N)/2 x \n",
    "# 1 x 2^N es un vector (1x8) en este ejemplo, pero queremos sólo tomar la primer mitad de valores esperados\n",
    "# 1 x 4 "
   ]
  },
  {
   "cell_type": "code",
   "execution_count": 57,
   "metadata": {},
   "outputs": [
    {
     "data": {
      "text/plain": [
       "4-element Vector{ComplexF64}:\n",
       " -0.015883019249818497 + 0.0im\n",
       "   -1.1869972480903512 - 2.7755575615628914e-17im\n",
       "   0.31703259249673826 - 1.734723475976807e-17im\n",
       "    0.7582385286625842 - 2.7755575615628914e-17im"
      ]
     },
     "metadata": {},
     "output_type": "display_data"
    }
   ],
   "source": [
    "ExpVal1Dic = Dict()\n",
    "ExpVal2Dic = Dict()\n",
    "\n",
    "for k in 1:1000\n",
    "    Hnew = Hdic[k]\n",
    "    vecs = eigen(Hnew).vectors\n",
    "    advecs = adjoint(vecs)\n",
    "\n",
    "    ExpVal1 = zeros(ComplexF64, Int((size(vecs)[1])/2))\n",
    "    for i in 1:Int((size(vecs)[1])/2)\n",
    "        ExpVal1[i] = transpose(advecs[i,:])*A1*vecs[:,i]\n",
    "    end\n",
    "\n",
    "    ExpVal2 = zeros(ComplexF64,Int((size(vecs)[1])/2))  # ExpVal2[1] = a21 = \\bra{\\phi1_}A_2\\ket{\\phi_1}\n",
    "    for i in 1:Int((size(vecs)[1])/2)\n",
    "        ExpVal2[i] = transpose(advecs[i,:])*A2*vecs[:,i]\n",
    "    end\n",
    "    ExpVal1Dic[k] = ExpVal1\n",
    "    ExpVal2Dic[k] = ExpVal2\n",
    "end\n",
    "ExpVal1Dic[1]\n",
    "ExpVal2Dic[1]\n"
   ]
  },
  {
   "cell_type": "code",
   "execution_count": 58,
   "metadata": {},
   "outputs": [
    {
     "data": {
      "text/plain": [
       "Dict{Int64, Tuple{Vector{ComplexF64}, Vector{ComplexF64}}} with 1000 entries:\n",
       "  719 => ([-0.576412+4.16334e-17im, 0.239658+5.55112e-17im, 0.400609-8.32667e-1…\n",
       "  699 => ([-0.537126+5.55112e-17im, 0.942609-5.55112e-17im, -0.963072-4.16334e-…\n",
       "  831 => ([0.512426-5.55112e-17im, -0.548506+5.55112e-17im, -0.794164+0.0im, 0.…\n",
       "  319 => ([-1.38881-2.77556e-17im, -0.742922+0.0im, -0.254176+5.55112e-17im, 0.…\n",
       "  687 => ([1.35393+2.1684e-18im, 0.0168039+4.68375e-17im, 0.56573-5.55112e-17im…\n",
       "  185 => ([1.22248+2.77556e-17im, 0.571068+1.17961e-16im, 0.628268+1.38778e-17i…\n",
       "  823 => ([0.718014+2.77556e-17im, -0.860443+4.16334e-17im, 0.0477132+1.38778e-…\n",
       "  420 => ([1.57545-2.77556e-17im, -0.431324-4.85723e-17im, 1.41122+3.46945e-18i…\n",
       "  525 => ([0.630321+0.0im, 0.926886+6.93889e-17im, -0.0157451+2.08167e-17im, -0…\n",
       "  365 => ([-0.443393+5.55112e-17im, -0.594456-2.77556e-17im, 0.593124-1.38778e-…\n",
       "  638 => ([-0.911402+0.0im, -0.000103779+0.0im, 0.539382+1.38778e-17im, 0.21228…\n",
       "  263 => ([-1.8919-6.93889e-17im, 0.556442+0.0im, -0.784403+2.77556e-17im, -0.0…\n",
       "  422 => ([1.90118-6.93889e-18im, 1.76954+4.16334e-17im, -0.516637-5.55112e-17i…\n",
       "  242 => ([-0.950736-1.11022e-16im, 0.0878395-6.93889e-18im, 0.778167+4.51028e-…\n",
       "  183 => ([1.28812-5.55112e-17im, 0.092726-4.33681e-17im, 0.845356+0.0im, -1.72…\n",
       "  551 => ([-0.877525+6.07153e-18im, -1.60621-1.17094e-16im, 0.973872-1.38778e-1…\n",
       "  224 => ([-0.169397+1.38778e-17im, 1.76391-3.46945e-17im, -0.266948+1.21431e-1…\n",
       "  694 => ([-0.294769+6.93889e-18im, 1.84724+6.93889e-18im, 0.0483149+6.245e-17i…\n",
       "  692 => ([-0.83779-5.55112e-17im, 1.15086+5.55112e-17im, 0.673541+0.0im, -0.18…\n",
       "  ⋮   => ⋮"
      ]
     },
     "metadata": {},
     "output_type": "display_data"
    }
   ],
   "source": [
    "ExpVals = Dict(k => (ExpVal1Dic[k], ExpVal2Dic[k]) for k in keys(ExpVal1Dic))"
   ]
  },
  {
   "cell_type": "markdown",
   "metadata": {},
   "source": [
    "Se presenta en el diccionario ExpVals \n",
    "\n",
    "$\\bra{\\varphi_k} A_1\\ket{\\varphi_k}$ y despues $\\bra{\\varphi_k} A_2\\ket{\\varphi_k}$\n",
    "\n",
    "$k = 1,2,3,4$"
   ]
  },
  {
   "cell_type": "code",
   "execution_count": 69,
   "metadata": {},
   "outputs": [
    {
     "data": {
      "text/plain": [
       "Dict{Int64, Tuple{Vector{ComplexF64}, Vector{ComplexF64}}} with 1000 entries:\n",
       "  719 => ([-0.576412+4.16334e-17im, 0.239658+5.55112e-17im, 0.400609-8.32667e-1…\n",
       "  699 => ([-0.537126+5.55112e-17im, 0.942609-5.55112e-17im, -0.963072-4.16334e-…\n",
       "  831 => ([0.512426-5.55112e-17im, -0.548506+5.55112e-17im, -0.794164+0.0im, 0.…\n",
       "  319 => ([-1.38881-2.77556e-17im, -0.742922+0.0im, -0.254176+5.55112e-17im, 0.…\n",
       "  687 => ([1.35393+2.1684e-18im, 0.0168039+4.68375e-17im, 0.56573-5.55112e-17im…\n",
       "  185 => ([1.22248+2.77556e-17im, 0.571068+1.17961e-16im, 0.628268+1.38778e-17i…\n",
       "  823 => ([0.718014+2.77556e-17im, -0.860443+4.16334e-17im, 0.0477132+1.38778e-…\n",
       "  420 => ([1.57545-2.77556e-17im, -0.431324-4.85723e-17im, 1.41122+3.46945e-18i…\n",
       "  525 => ([0.630321+0.0im, 0.926886+6.93889e-17im, -0.0157451+2.08167e-17im, -0…\n",
       "  365 => ([-0.443393+5.55112e-17im, -0.594456-2.77556e-17im, 0.593124-1.38778e-…\n",
       "  638 => ([-0.911402+0.0im, -0.000103779+0.0im, 0.539382+1.38778e-17im, 0.21228…\n",
       "  263 => ([-1.8919-6.93889e-17im, 0.556442+0.0im, -0.784403+2.77556e-17im, -0.0…\n",
       "  422 => ([1.90118-6.93889e-18im, 1.76954+4.16334e-17im, -0.516637-5.55112e-17i…\n",
       "  242 => ([-0.950736-1.11022e-16im, 0.0878395-6.93889e-18im, 0.778167+4.51028e-…\n",
       "  183 => ([1.28812-5.55112e-17im, 0.092726-4.33681e-17im, 0.845356+0.0im, -1.72…\n",
       "  551 => ([-0.877525+6.07153e-18im, -1.60621-1.17094e-16im, 0.973872-1.38778e-1…\n",
       "  224 => ([-0.169397+1.38778e-17im, 1.76391-3.46945e-17im, -0.266948+1.21431e-1…\n",
       "  694 => ([-0.294769+6.93889e-18im, 1.84724+6.93889e-18im, 0.0483149+6.245e-17i…\n",
       "  692 => ([-0.83779-5.55112e-17im, 1.15086+5.55112e-17im, 0.673541+0.0im, -0.18…\n",
       "  ⋮   => ⋮"
      ]
     },
     "metadata": {},
     "output_type": "display_data"
    }
   ],
   "source": [
    "ExpVals  # (4x1, 4x1) x 1000  Se presenta primero A1 y luego A2"
   ]
  },
  {
   "cell_type": "code",
   "execution_count": 71,
   "metadata": {},
   "outputs": [
    {
     "data": {
      "text/plain": [
       "Dict{Any, Any} with 1000 entries:\n",
       "  719 => ComplexF64[0.441393+0.0im 0.308581-0.33396im … 0.0-0.384196im 0.0+0.0i…\n",
       "  699 => ComplexF64[0.204599+0.0im -1.21852-0.131697im … 0.0-0.089637im 0.0+0.0…\n",
       "  831 => ComplexF64[0.702615+0.0im 1.14756-0.601414im … 0.0+0.0559107im 0.0+0.0…\n",
       "  319 => ComplexF64[-0.270441-0.0im -0.645096+0.728638im … -0.0-0.700548im -0.0…\n",
       "  687 => ComplexF64[-0.462138+0.0im 0.135471-0.404278im … 0.0-0.0957643im 0.0+0…\n",
       "  185 => ComplexF64[-1.06188-0.0im -0.396282+0.367417im … -0.0+0.295424im -0.0-…\n",
       "  823 => ComplexF64[0.279951+0.0im 0.570548+0.816197im … 0.0-0.205602im 0.0+0.0…\n",
       "  420 => ComplexF64[0.473206-0.0im -0.57563-0.900399im … -0.0+0.207434im -0.0-0…\n",
       "  525 => ComplexF64[-0.381603+0.0im 0.663658-0.115238im … 0.0+0.809543im 0.0+0.…\n",
       "  365 => ComplexF64[0.306788+0.0im 0.154245-0.0103706im … 0.0+0.0136655im 0.0+0…\n",
       "  638 => ComplexF64[0.466332+0.0im 0.00773512+0.392106im … 0.0-0.00105432im 0.0…\n",
       "  263 => ComplexF64[-0.478983-0.0im 0.341211-0.576927im … -0.0-0.27398im -0.0-0…\n",
       "  422 => ComplexF64[-0.179422+0.0im 0.169141-0.0643591im … 0.0+0.476132im 0.0+0…\n",
       "  242 => ComplexF64[0.499876+0.0im -0.380915-0.160949im … 0.0-0.920511im 0.0+0.…\n",
       "  183 => ComplexF64[-0.42365+0.0im 1.11274-0.547941im … 0.0-0.0137892im 0.0+0.0…\n",
       "  551 => ComplexF64[-0.050878+0.0im 1.26138-1.31396im … 0.0-0.0146275im 0.0+0.0…\n",
       "  224 => ComplexF64[-1.63855+0.0im 0.880428-1.11855im … 0.0+0.213244im 0.0+0.0i…\n",
       "  694 => ComplexF64[-0.171989+0.0im -0.397349+0.174225im … 0.0-0.128962im 0.0+0…\n",
       "  692 => ComplexF64[-0.988123-0.0im -1.39725-1.01833im … -0.0-0.996029im -0.0-0…\n",
       "  ⋮   => ⋮"
      ]
     },
     "metadata": {},
     "output_type": "display_data"
    }
   ],
   "source": [
    "Hdic # (8x8) x 1000 son matrices 8x8 y 1000 matrices de esas "
   ]
  },
  {
   "cell_type": "code",
   "execution_count": null,
   "metadata": {},
   "outputs": [],
   "source": []
  }
 ],
 "metadata": {
  "kernelspec": {
   "display_name": "Julia 1.11.5",
   "language": "julia",
   "name": "julia-1.11"
  },
  "language_info": {
   "file_extension": ".jl",
   "mimetype": "application/julia",
   "name": "julia",
   "version": "1.11.5"
  }
 },
 "nbformat": 4,
 "nbformat_minor": 2
}
