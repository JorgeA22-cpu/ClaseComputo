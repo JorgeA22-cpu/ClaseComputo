{
 "cells": [
  {
   "cell_type": "code",
   "execution_count": 1,
   "metadata": {},
   "outputs": [],
   "source": [
    "using Plots\n",
    "using LinearAlgebra\n",
    "using LaTeXStrings\n",
    "using HDF5"
   ]
  },
  {
   "cell_type": "markdown",
   "metadata": {},
   "source": [
    "No supervisado\n",
    "\n",
    "Familias de Hamiltonianos y se generen valores esperados\n",
    "y si se usa clustering y se agrupa con los datos e identificar los que se parecen \n",
    "y si se puede identificar las familias de Hamiltonianos\n",
    "\n",
    "normalización de batches \n",
    "y dropout (Para eliminar aleatoriamente)"
   ]
  },
  {
   "cell_type": "code",
   "execution_count": 2,
   "metadata": {},
   "outputs": [
    {
     "data": {
      "text/plain": [
       "3-element Vector{UnitRange{Int64}}:\n",
       " 1:3\n",
       " 1:3\n",
       " 1:3"
      ]
     },
     "metadata": {},
     "output_type": "display_data"
    }
   ],
   "source": [
    "k=3\n",
    "list = [1:3  for _ in 1:k]"
   ]
  },
  {
   "cell_type": "code",
   "execution_count": 3,
   "metadata": {},
   "outputs": [
    {
     "data": {
      "text/plain": [
       "2×2 Matrix{Int64}:\n",
       " 0  1\n",
       " 1  0"
      ]
     },
     "metadata": {},
     "output_type": "display_data"
    }
   ],
   "source": [
    "N = 3 # number of qubits\n",
    "d = 2^N # dimension of the Hilbert space\n",
    "\n",
    "sigmax = [0 1; 1 0]\n",
    "sigmay = [0 -im; im 0]\n",
    "sigmaz = [1 0; 0 -1]\n",
    "id= [1 0; 0 1] # Matriz identidad\n",
    "\n",
    "\n",
    "Sigma = Dict(0 => id, 1 => sigmax, 2 => sigmay, 3 => sigmaz) #Diccionario para llamar a las matrices de Pauli\n",
    "Sigma[1]"
   ]
  },
  {
   "cell_type": "markdown",
   "metadata": {},
   "source": [
    "### a |> f = f(a)"
   ]
  },
  {
   "cell_type": "code",
   "execution_count": 4,
   "metadata": {},
   "outputs": [],
   "source": [
    "#particles= 10\n",
    "#k=3\n",
    "#list=[1:3 for _ in 1:k]\n",
    "#test_visual_list = []\n",
    "#for place in 1:particles-k+1\n",
    "#    for i in Base.product(list...)\n",
    "#        total_list=zeros(particles)\n",
    "#        total_list[place:place+k-1]= i|>collect\n",
    "#        print(total_list)\n",
    "#        push!(test_visual_list,total_list)\n",
    "#        print(\"\\n\")\n",
    "#    end\n",
    "#end"
   ]
  },
  {
   "cell_type": "code",
   "execution_count": 5,
   "metadata": {},
   "outputs": [
    {
     "ename": "UndefVarError",
     "evalue": "UndefVarError: `particles` not defined in `Main`\nSuggestion: check for spelling errors or missing imports.",
     "output_type": "error",
     "traceback": [
      "UndefVarError: `particles` not defined in `Main`\n",
      "Suggestion: check for spelling errors or missing imports.\n",
      "\n",
      "Stacktrace:\n",
      " [1] top-level scope\n",
      "   @ ~/gitVideo/Proyectos/jl_notebook_cell_df34fa98e69747e1a8f8a730347b8e2f_W6sZmlsZQ==.jl:2"
     ]
    }
   ],
   "source": [
    "# Usarlo para la suma \n",
    "N = particles\n",
    "C = test_visual_list\n",
    "x = rand(length(test_visual_list))*2 .-1\n",
    "# A = reduce(kron, [Sigma[C[1][i]] for i in eachindex(C[1])])\n"
   ]
  },
  {
   "cell_type": "code",
   "execution_count": 6,
   "metadata": {},
   "outputs": [
    {
     "ename": "UndefVarError",
     "evalue": "UndefVarError: `test_visual_list` not defined in `Main`\nSuggestion: check for spelling errors or missing imports.",
     "output_type": "error",
     "traceback": [
      "UndefVarError: `test_visual_list` not defined in `Main`\n",
      "Suggestion: check for spelling errors or missing imports.\n",
      "\n",
      "Stacktrace:\n",
      " [1] top-level scope\n",
      "   @ ~/gitVideo/Proyectos/jl_notebook_cell_df34fa98e69747e1a8f8a730347b8e2f_X10sZmlsZQ==.jl:2"
     ]
    }
   ],
   "source": [
    "H = zeros(ComplexF64,2^N,2^N)\n",
    "for k in 1:length(test_visual_list)\n",
    "    H += x[k]*reduce(kron, [Sigma[C[k][i]] for i in eachindex(C[1])])\n",
    "end\n",
    "H "
   ]
  },
  {
   "cell_type": "code",
   "execution_count": 7,
   "metadata": {},
   "outputs": [
    {
     "ename": "UndefVarError",
     "evalue": "UndefVarError: `test_visual_list` not defined in `Main`\nSuggestion: check for spelling errors or missing imports.",
     "output_type": "error",
     "traceback": [
      "UndefVarError: `test_visual_list` not defined in `Main`\n",
      "Suggestion: check for spelling errors or missing imports.\n",
      "\n",
      "Stacktrace:\n",
      " [1] top-level scope\n",
      "   @ ~/gitVideo/Proyectos/jl_notebook_cell_df34fa98e69747e1a8f8a730347b8e2f_X11sZmlsZQ==.jl:2"
     ]
    }
   ],
   "source": [
    "H = zeros(ComplexF64,2^N,2^N)\n",
    "for k in 1:length(test_visual_list)\n",
    "    H += x[k]*kron([Sigma[C[k][i]] for i in eachindex(C[1])]...)\n",
    "end\n",
    "H \n",
    "\n",
    "# Hay que guardar las A's\n",
    "# Buscar el mejor formato para guardar matrices en Julia "
   ]
  },
  {
   "cell_type": "markdown",
   "metadata": {},
   "source": [
    "$\\{A_i\\}$ deben ser operadores fijos lo que varían son 1000 datos distintos del conjunto de $\\{c_i\\}$ y tomar la mitad inferior de $\\{\\ket{\\psi_n\\}}$ ¿Qué tanto podemos reducir los estados y que nos siga dando una buena aproximación? "
   ]
  },
  {
   "cell_type": "markdown",
   "metadata": {},
   "source": [
    "### Almacenar todos los operadores locales A "
   ]
  },
  {
   "cell_type": "code",
   "execution_count": 8,
   "metadata": {},
   "outputs": [],
   "source": [
    "#particles=3\n",
    "#k=3\n",
    "#list=[0:3 for _ in 1:k]\n",
    "#test_visual_list2 = []\n",
    "#for place in 1:particles-k+1\n",
    "#for i in Base.product(list...)\n",
    "#    total_list=zeros(particles)\n",
    "#    total_list[place:place+k-1]= i|>collect\n",
    "#    print(total_list)\n",
    "#    push!(test_visual_list,total_list)\n",
    "#    print(\"\\n\")\n",
    "#end\n",
    "#end"
   ]
  },
  {
   "cell_type": "code",
   "execution_count": 9,
   "metadata": {},
   "outputs": [
    {
     "data": {
      "text/plain": [
       "15-element Vector{Any}:\n",
       " [0.0, 1.0, 0.0]\n",
       " [0.0, 2.0, 0.0]\n",
       " [0.0, 3.0, 0.0]\n",
       " [0.0, 0.0, 1.0]\n",
       " [0.0, 1.0, 1.0]\n",
       " [0.0, 2.0, 1.0]\n",
       " [0.0, 3.0, 1.0]\n",
       " [0.0, 0.0, 2.0]\n",
       " [0.0, 1.0, 2.0]\n",
       " [0.0, 2.0, 2.0]\n",
       " [0.0, 3.0, 2.0]\n",
       " [0.0, 0.0, 3.0]\n",
       " [0.0, 1.0, 3.0]\n",
       " [0.0, 2.0, 3.0]\n",
       " [0.0, 3.0, 3.0]"
      ]
     },
     "metadata": {},
     "output_type": "display_data"
    }
   ],
   "source": [
    "particles=3\n",
    "k=2\n",
    "list=[0:3 for _ in 1:k]\n",
    "test_visual_list = []\n",
    "place= 2\n",
    "for i in Base.product(list...)\n",
    "    total_list=zeros(particles)\n",
    "    total_list[place:place+k-1]= i|>collect\n",
    "    if sum(total_list) != 0\n",
    "        ##print(total_list)\n",
    "        push!(test_visual_list,total_list)\n",
    "    end\n",
    "   # print(\"\\n\")\n",
    "end\n",
    "test_visual_list"
   ]
  },
  {
   "cell_type": "code",
   "execution_count": 10,
   "metadata": {},
   "outputs": [
    {
     "data": {
      "text/plain": [
       "3.0"
      ]
     },
     "metadata": {},
     "output_type": "display_data"
    }
   ],
   "source": [
    "sum(test_visual_list[6])"
   ]
  },
  {
   "cell_type": "code",
   "execution_count": 11,
   "metadata": {},
   "outputs": [
    {
     "data": {
      "text/plain": [
       "12-element Vector{Any}:\n",
       " [1.0, 0.0, 0.0]\n",
       " [2.0, 0.0, 0.0]\n",
       " [3.0, 0.0, 0.0]\n",
       " [0.0, 1.0, 0.0]\n",
       " [2.0, 1.0, 0.0]\n",
       " [3.0, 1.0, 0.0]\n",
       " [0.0, 2.0, 0.0]\n",
       " [1.0, 2.0, 0.0]\n",
       " [3.0, 2.0, 0.0]\n",
       " [0.0, 3.0, 0.0]\n",
       " [1.0, 3.0, 0.0]\n",
       " [2.0, 3.0, 0.0]"
      ]
     },
     "metadata": {},
     "output_type": "display_data"
    }
   ],
   "source": [
    "particles = 3 \n",
    "place = 1\n",
    "\n",
    "k=2\n",
    "list=[0:3 for _ in 1:k]\n",
    "test_visual_list = []\n",
    "\n",
    "for i in Base.product(list...)\n",
    "    total_list=zeros(particles)\n",
    "    total_list[place:place+k-1]= i|>collect\n",
    "    if sum(total_list) != 0\n",
    "        ##print(total_list)\n",
    "        push!(test_visual_list,total_list)\n",
    "    end\n",
    "   # print(\"\\n\")\n",
    "end\n",
    "\n",
    "ArrayA1 = []\n",
    "for i in 1:length(test_visual_list)\n",
    "    if test_visual_list[i][place] != test_visual_list[i][place+1] && sum(test_visual_list[i]) != 0\n",
    "        push!(ArrayA1,test_visual_list[i])\n",
    "    end\n",
    "end\n",
    "ArrayA1"
   ]
  },
  {
   "cell_type": "code",
   "execution_count": 12,
   "metadata": {},
   "outputs": [
    {
     "data": {
      "text/plain": [
       "12-element Vector{Any}:\n",
       " [0.0, 1.0, 0.0]\n",
       " [0.0, 2.0, 0.0]\n",
       " [0.0, 3.0, 0.0]\n",
       " [0.0, 0.0, 1.0]\n",
       " [0.0, 2.0, 1.0]\n",
       " [0.0, 3.0, 1.0]\n",
       " [0.0, 0.0, 2.0]\n",
       " [0.0, 1.0, 2.0]\n",
       " [0.0, 3.0, 2.0]\n",
       " [0.0, 0.0, 3.0]\n",
       " [0.0, 1.0, 3.0]\n",
       " [0.0, 2.0, 3.0]"
      ]
     },
     "metadata": {},
     "output_type": "display_data"
    }
   ],
   "source": [
    "particles = 3 \n",
    "place = 2\n",
    "\n",
    "k=2\n",
    "list=[0:3 for _ in 1:k]\n",
    "test_visual_list = []\n",
    "\n",
    "for i in Base.product(list...)\n",
    "    total_list=zeros(particles)\n",
    "    total_list[place:place+k-1]= i|>collect\n",
    "    if sum(total_list) != 0\n",
    "        ##print(total_list)\n",
    "        push!(test_visual_list,total_list)\n",
    "    end\n",
    "   # print(\"\\n\")\n",
    "end\n",
    "\n",
    "ArrayA2 = []\n",
    "for i in 1:length(test_visual_list)\n",
    "    if test_visual_list[i][place] != test_visual_list[i][place+1] && sum(test_visual_list[i]) != 0\n",
    "        push!(ArrayA2,test_visual_list[i])\n",
    "    end\n",
    "end\n",
    "ArrayA2"
   ]
  },
  {
   "cell_type": "code",
   "execution_count": 13,
   "metadata": {},
   "outputs": [
    {
     "data": {
      "text/plain": [
       "12-element Vector{Any}:\n",
       " [1.0, 0.0, 0.0]\n",
       " [2.0, 0.0, 0.0]\n",
       " [3.0, 0.0, 0.0]\n",
       " [0.0, 1.0, 0.0]\n",
       " [2.0, 1.0, 0.0]\n",
       " [3.0, 1.0, 0.0]\n",
       " [0.0, 2.0, 0.0]\n",
       " [1.0, 2.0, 0.0]\n",
       " [3.0, 2.0, 0.0]\n",
       " [0.0, 3.0, 0.0]\n",
       " [1.0, 3.0, 0.0]\n",
       " [2.0, 3.0, 0.0]"
      ]
     },
     "metadata": {},
     "output_type": "display_data"
    }
   ],
   "source": [
    "ArrayA1"
   ]
  },
  {
   "cell_type": "code",
   "execution_count": 14,
   "metadata": {},
   "outputs": [
    {
     "data": {
      "text/plain": [
       "12-element Vector{Float64}:\n",
       " -0.6278167348552297\n",
       " -0.9505527652468115\n",
       "  0.7342073393504651\n",
       " -0.29669263172778204\n",
       " -0.6156978289797739\n",
       "  0.21748179173538462\n",
       " -0.8123273735880077\n",
       "  0.7833507172687502\n",
       "  0.8972831821121596\n",
       "  0.5602363586697345\n",
       "  0.9250090982949004\n",
       " -0.5336742876982936"
      ]
     },
     "metadata": {},
     "output_type": "display_data"
    }
   ],
   "source": [
    "ArrayA2\n",
    "\n",
    "xaleat = rand(length(ArrayA1))*2 .-1\n",
    "xaleat2 = rand(length(ArrayA2))*2 .-1"
   ]
  },
  {
   "cell_type": "code",
   "execution_count": 15,
   "metadata": {},
   "outputs": [],
   "source": [
    "\n",
    "xaleat = rand(length(ArrayA1))*2 .-1\n",
    "xaleat2 = rand(length(ArrayA2))*2 .-1\n",
    "\n",
    "A1= zeros(2^particles,2^particles)\n",
    "\n",
    "for k in 1:length(ArrayA1)\n",
    "    A1 += xaleat[k]*kron([Sigma[ArrayA1[k][i]] for i in eachindex(ArrayA1[1])]...)\n",
    "end\n",
    "\n",
    "A2= zeros(2^particles,2^particles)\n",
    "\n",
    "for k in 1:length(ArrayA2)\n",
    "    A2 += xaleat2[k]*kron([Sigma[ArrayA2[k][i]] for i in eachindex(ArrayA2[1])]...)\n",
    "end"
   ]
  },
  {
   "cell_type": "code",
   "execution_count": 16,
   "metadata": {},
   "outputs": [
    {
     "data": {
      "text/plain": [
       "8×8 Matrix{ComplexF64}:\n",
       " -0.403747+0.0im             0.0+0.0im       …        0.0+0.0im\n",
       "       0.0+0.0im       -0.403747+0.0im                0.0-0.132072im\n",
       "  0.180354+0.178482im        0.0+0.0im                0.0+0.0im\n",
       "       0.0+0.0im        0.180354+0.178482im      0.689805-0.67131im\n",
       "  0.873035+1.09781im         0.0+0.0im                0.0+0.0im\n",
       "       0.0+0.0im        0.873035+1.09781im   …  -0.583302-0.813574im\n",
       "       0.0+0.132072im        0.0+0.0im                0.0+0.0im\n",
       "       0.0+0.0im             0.0+0.132072im      0.403747+0.0im"
      ]
     },
     "metadata": {},
     "output_type": "display_data"
    }
   ],
   "source": [
    "A1"
   ]
  },
  {
   "cell_type": "code",
   "execution_count": 17,
   "metadata": {},
   "outputs": [
    {
     "data": {
      "text/plain": [
       "8×8 Matrix{ComplexF64}:\n",
       " 0.338688+0.0im       -1.52055+1.69724im   …        0.0+0.0im\n",
       " -1.52055-1.69724im    -1.2476+0.0im                0.0+0.0im\n",
       " 0.518318+0.417231im       0.0-1.04327im            0.0+0.0im\n",
       "      0.0+0.531777im   1.27747+0.382587im           0.0+0.0im\n",
       "      0.0+0.0im            0.0+0.0im                0.0-0.531777im\n",
       "      0.0+0.0im            0.0+0.0im       …    1.27747-0.382587im\n",
       "      0.0+0.0im            0.0+0.0im           0.428638-0.187043im\n",
       "      0.0+0.0im            0.0+0.0im          -0.338688+0.0im"
      ]
     },
     "metadata": {},
     "output_type": "display_data"
    }
   ],
   "source": [
    "A2"
   ]
  },
  {
   "cell_type": "markdown",
   "metadata": {},
   "source": [
    "Ya tengo dos operadores locales para el caso de 3 partículas, será un problema generalizar, porque lo tendré que hacer a mano pues no veo una forma buena de hacer los Arrays, tal vez deba ver cómo hacerlo en diccionario..."
   ]
  },
  {
   "cell_type": "markdown",
   "metadata": {},
   "source": [
    "$H = \\sum_i C_i A_i$, aquí es donde queremos generar 1000 pares de elementos C1 y C2 para formar distintos Hamiltonianos y almacenarlos "
   ]
  },
  {
   "cell_type": "markdown",
   "metadata": {},
   "source": [
    "Necesito los promedios también de A1 y A2 con los vectores propios de H, haremos una prueba para un sólo valor "
   ]
  },
  {
   "cell_type": "code",
   "execution_count": 18,
   "metadata": {},
   "outputs": [
    {
     "data": {
      "text/plain": [
       "1000×2 Matrix{Float64}:\n",
       "  0.702941   -0.0811975\n",
       "  0.226521   -0.900449\n",
       "  0.900058    0.615457\n",
       "  0.526728    0.734495\n",
       " -0.240935   -0.115632\n",
       "  0.648733   -0.561084\n",
       "  0.0682775   0.483745\n",
       "  0.0647125   0.320942\n",
       " -0.494282    0.800219\n",
       " -0.680715   -0.661018\n",
       "  ⋮          \n",
       "  0.157262   -0.0512525\n",
       " -0.155957    0.297345\n",
       " -0.955586   -0.725207\n",
       "  0.659857   -0.224709\n",
       " -0.0277248  -0.0878034\n",
       " -0.24964    -0.29693\n",
       " -0.118488    0.944915\n",
       " -0.423976   -0.410764\n",
       " -0.266744   -0.371982"
      ]
     },
     "metadata": {},
     "output_type": "display_data"
    }
   ],
   "source": [
    "c = rand(1000,2)*2 .-1 # sería conveniente generar una matriz de n x 2 "
   ]
  },
  {
   "cell_type": "code",
   "execution_count": 19,
   "metadata": {},
   "outputs": [
    {
     "data": {
      "text/plain": [
       "8×8 adjoint(::Matrix{ComplexF64}) with eltype ComplexF64:\n",
       "  -0.309196-0.267404im      0.233905+0.00709078im  …  -0.180543+0.0im\n",
       "   0.116248+0.117142im      0.370109+0.0536418im      -0.351826+0.0im\n",
       "  -0.380979-0.533859im      0.352202-0.0413191im       0.236636-0.0im\n",
       "   0.197868+0.320751im      0.672238-0.0271136im       0.363234-0.0im\n",
       "   0.058921+0.00363816im   -0.045786+0.0256266im      -0.112963+0.0im\n",
       " -0.0459305+0.0679404im   -0.0236179-0.00996117im  …    0.71988-0.0im\n",
       "  -0.385396+0.00465571im     0.16668-0.176223im       -0.247704+0.0im\n",
       "  -0.208152-0.177158im     -0.405135+0.0246085im       0.251677+0.0im"
      ]
     },
     "metadata": {},
     "output_type": "display_data"
    }
   ],
   "source": [
    "Hnew = c[1,1]A1 + c[1,2]A2 # Recordemos quiero almacenar ai y ci, ai son promedios de los operadores y ci son simplemente números aleatorios uniformes entre [-1.1]\n",
    "vecs = eigen(Hnew).vectors\n",
    "advecs = adjoint(vecs)\n",
    "\n",
    "# NADA MÁS QUEREMOS USAR LA PRIMER MITAD DE LOS VALORES ESPERADOS \n",
    "# ¿Cómo entrenar la red? \n",
    "# ¿Cuál es el formato que espera para los datos de entrada y salida? El resto se tiene que automatizar \n",
    "# Que reciba los valores esperados, pero para entrenarlo, la idea es que tome varios conjuntos de valores esperados y para cada uno de ellos valorar la red para definir \n",
    "# la función que va a minimizar. \n",
    "# Lux   (y SciML)\n",
    "# SimpleChains "
   ]
  },
  {
   "cell_type": "code",
   "execution_count": 20,
   "metadata": {},
   "outputs": [
    {
     "data": {
      "text/plain": [
       "8-element Vector{ComplexF64}:\n",
       "  -2.475298921082622 - 1.3877787807814457e-17im\n",
       " -2.4460237744076934 + 5.551115123125783e-17im\n",
       " -0.5711637227666514 + 3.469446951953614e-18im\n",
       " -0.5760597829672653 - 1.0408340855860843e-17im\n",
       "  1.2000091243898978 - 3.0791341698588326e-17im\n",
       "  1.2151923647292129 - 3.209238430557093e-17im\n",
       "  1.8495963440981267 + 8.326672684688674e-17im\n",
       "  1.8037483680069948 + 5.551115123125783e-17im"
      ]
     },
     "metadata": {},
     "output_type": "display_data"
    }
   ],
   "source": [
    "ExpVal1 = zeros(ComplexF64,size(vecs)[1])\n",
    "for i in 1:size(vecs)[1]\n",
    "    ExpVal1[i] = transpose(advecs[i,:])*A1*vecs[:,i]\n",
    "end\n",
    "\n",
    "ExpVal2 = zeros(ComplexF64,size(vecs)[1])  # ExpVal2[1] = a21 = \\bra{\\phi1_}A_2\\ket{\\phi_1}\n",
    "for i in 1:size(vecs)[1]\n",
    "    ExpVal2[i] = transpose(advecs[i,:])*A2*vecs[:,i]\n",
    "end\n",
    "ExpVal1"
   ]
  },
  {
   "cell_type": "code",
   "execution_count": 21,
   "metadata": {},
   "outputs": [
    {
     "data": {
      "text/plain": [
       "Dict{Any, Any}()"
      ]
     },
     "metadata": {},
     "output_type": "display_data"
    }
   ],
   "source": [
    "c1 = Tuple(c[1,:])\n",
    "dic = Dict()\n",
    "\n"
   ]
  },
  {
   "cell_type": "code",
   "execution_count": 22,
   "metadata": {},
   "outputs": [
    {
     "data": {
      "text/plain": [
       "2-element Vector{Float64}:\n",
       "  0.7029407006359798\n",
       " -0.08119753444801514"
      ]
     },
     "metadata": {},
     "output_type": "display_data"
    }
   ],
   "source": [
    "c[1,:]"
   ]
  },
  {
   "cell_type": "code",
   "execution_count": 23,
   "metadata": {},
   "outputs": [
    {
     "data": {
      "text/plain": [
       "2-element Vector{Vector{ComplexF64}}:\n",
       " [-2.475298921082622 - 1.3877787807814457e-17im, -2.4460237744076934 + 5.551115123125783e-17im, -0.5711637227666514 + 3.469446951953614e-18im, -0.5760597829672653 - 1.0408340855860843e-17im, 1.2000091243898978 - 3.0791341698588326e-17im, 1.2151923647292129 - 3.209238430557093e-17im, 1.8495963440981267 + 8.326672684688674e-17im, 1.8037483680069948 + 5.551115123125783e-17im]\n",
       " [1.234127037256566 + 4.163336342344337e-17im, -0.30495541827930644 + 8.326672684688674e-17im, 1.3521994210856594 + 0.0im, -2.5353419565909587 + 1.3877787807814457e-16im, 1.3410596472710359 + 3.469446951953614e-17im, -0.48661173085304954 + 3.122502256758253e-17im, 1.5886029336329748 + 1.3877787807814457e-17im, -2.1890799335229234 - 1.3877787807814457e-16im]"
      ]
     },
     "metadata": {},
     "output_type": "display_data"
    }
   ],
   "source": [
    "dic[c1] = [ExpVal1,ExpVal2]"
   ]
  },
  {
   "cell_type": "code",
   "execution_count": 24,
   "metadata": {},
   "outputs": [
    {
     "data": {
      "text/plain": [
       "8-element Vector{ComplexF64}:\n",
       "  -2.475298921082622 - 1.3877787807814457e-17im\n",
       " -2.4460237744076934 + 5.551115123125783e-17im\n",
       " -0.5711637227666514 + 3.469446951953614e-18im\n",
       " -0.5760597829672653 - 1.0408340855860843e-17im\n",
       "  1.2000091243898978 - 3.0791341698588326e-17im\n",
       "  1.2151923647292129 - 3.209238430557093e-17im\n",
       "  1.8495963440981267 + 8.326672684688674e-17im\n",
       "  1.8037483680069948 + 5.551115123125783e-17im"
      ]
     },
     "metadata": {},
     "output_type": "display_data"
    }
   ],
   "source": [
    "dic[c1][1] #ExpVal1 "
   ]
  },
  {
   "cell_type": "code",
   "execution_count": 25,
   "metadata": {},
   "outputs": [
    {
     "data": {
      "text/plain": [
       "8-element Vector{ComplexF64}:\n",
       "    1.234127037256566 + 4.163336342344337e-17im\n",
       " -0.30495541827930644 + 8.326672684688674e-17im\n",
       "   1.3521994210856594 + 0.0im\n",
       "  -2.5353419565909587 + 1.3877787807814457e-16im\n",
       "   1.3410596472710359 + 3.469446951953614e-17im\n",
       " -0.48661173085304954 + 3.122502256758253e-17im\n",
       "   1.5886029336329748 + 1.3877787807814457e-17im\n",
       "  -2.1890799335229234 - 1.3877787807814457e-16im"
      ]
     },
     "metadata": {},
     "output_type": "display_data"
    }
   ],
   "source": [
    "dic[c1][2] # ExpVal2"
   ]
  },
  {
   "cell_type": "code",
   "execution_count": 26,
   "metadata": {},
   "outputs": [
    {
     "data": {
      "text/plain": [
       "(0.7029407006359798, -0.08119753444801514)"
      ]
     },
     "metadata": {},
     "output_type": "display_data"
    }
   ],
   "source": [
    "c1"
   ]
  },
  {
   "cell_type": "code",
   "execution_count": 27,
   "metadata": {},
   "outputs": [
    {
     "data": {
      "text/plain": [
       "2-element Vector{Vector{ComplexF64}}:\n",
       " [-2.475298921082622 - 1.3877787807814457e-17im, -2.4460237744076934 + 5.551115123125783e-17im, -0.5711637227666514 + 3.469446951953614e-18im, -0.5760597829672653 - 1.0408340855860843e-17im, 1.2000091243898978 - 3.0791341698588326e-17im, 1.2151923647292129 - 3.209238430557093e-17im, 1.8495963440981267 + 8.326672684688674e-17im, 1.8037483680069948 + 5.551115123125783e-17im]\n",
       " [1.234127037256566 + 4.163336342344337e-17im, -0.30495541827930644 + 8.326672684688674e-17im, 1.3521994210856594 + 0.0im, -2.5353419565909587 + 1.3877787807814457e-16im, 1.3410596472710359 + 3.469446951953614e-17im, -0.48661173085304954 + 3.122502256758253e-17im, 1.5886029336329748 + 1.3877787807814457e-17im, -2.1890799335229234 - 1.3877787807814457e-16im]"
      ]
     },
     "metadata": {},
     "output_type": "display_data"
    }
   ],
   "source": [
    "dic[c1]"
   ]
  },
  {
   "cell_type": "code",
   "execution_count": 28,
   "metadata": {},
   "outputs": [
    {
     "data": {
      "text/plain": [
       "Dict{Any, Any}()"
      ]
     },
     "metadata": {},
     "output_type": "display_data"
    }
   ],
   "source": [
    "dic2 = Dict()"
   ]
  },
  {
   "cell_type": "code",
   "execution_count": 29,
   "metadata": {},
   "outputs": [
    {
     "data": {
      "text/plain": [
       "(0.7029407006359798, -0.08119753444801514)"
      ]
     },
     "metadata": {},
     "output_type": "display_data"
    }
   ],
   "source": [
    "dic2[1] = c1"
   ]
  },
  {
   "cell_type": "code",
   "execution_count": 30,
   "metadata": {},
   "outputs": [
    {
     "data": {
      "text/plain": [
       "(0.7029407006359798, -0.08119753444801514)"
      ]
     },
     "metadata": {},
     "output_type": "display_data"
    }
   ],
   "source": [
    "dic2[1]"
   ]
  },
  {
   "cell_type": "code",
   "execution_count": 31,
   "metadata": {},
   "outputs": [
    {
     "data": {
      "text/plain": [
       "Dict{Any, Any} with 1 entry:\n",
       "  1 => (0.702941, -0.0811975)"
      ]
     },
     "metadata": {},
     "output_type": "display_data"
    }
   ],
   "source": [
    "dic2"
   ]
  },
  {
   "cell_type": "code",
   "execution_count": 32,
   "metadata": {},
   "outputs": [
    {
     "data": {
      "text/plain": [
       "2-element Vector{Vector{ComplexF64}}:\n",
       " [-2.475298921082622 - 1.3877787807814457e-17im, -2.4460237744076934 + 5.551115123125783e-17im, -0.5711637227666514 + 3.469446951953614e-18im, -0.5760597829672653 - 1.0408340855860843e-17im, 1.2000091243898978 - 3.0791341698588326e-17im, 1.2151923647292129 - 3.209238430557093e-17im, 1.8495963440981267 + 8.326672684688674e-17im, 1.8037483680069948 + 5.551115123125783e-17im]\n",
       " [1.234127037256566 + 4.163336342344337e-17im, -0.30495541827930644 + 8.326672684688674e-17im, 1.3521994210856594 + 0.0im, -2.5353419565909587 + 1.3877787807814457e-16im, 1.3410596472710359 + 3.469446951953614e-17im, -0.48661173085304954 + 3.122502256758253e-17im, 1.5886029336329748 + 1.3877787807814457e-17im, -2.1890799335229234 - 1.3877787807814457e-16im]"
      ]
     },
     "metadata": {},
     "output_type": "display_data"
    }
   ],
   "source": [
    "dic[dic2[1]]"
   ]
  },
  {
   "cell_type": "code",
   "execution_count": 33,
   "metadata": {},
   "outputs": [
    {
     "data": {
      "text/plain": [
       "Dict{Any, Any} with 10 entries:\n",
       "  5  => 10\n",
       "  4  => 8\n",
       "  6  => 12\n",
       "  7  => 14\n",
       "  2  => 4\n",
       "  10 => 20\n",
       "  9  => 18\n",
       "  8  => 16\n",
       "  3  => 6\n",
       "  1  => 2"
      ]
     },
     "metadata": {},
     "output_type": "display_data"
    }
   ],
   "source": [
    "dic3 = Dict()\n",
    "for i in 1:10\n",
    "    dic3[i] = 2*i\n",
    "end\n",
    "dic3"
   ]
  },
  {
   "cell_type": "code",
   "execution_count": 34,
   "metadata": {},
   "outputs": [
    {
     "data": {
      "text/plain": [
       "14"
      ]
     },
     "metadata": {},
     "output_type": "display_data"
    }
   ],
   "source": [
    "dic3[7]"
   ]
  },
  {
   "cell_type": "code",
   "execution_count": 35,
   "metadata": {},
   "outputs": [],
   "source": []
  },
  {
   "cell_type": "code",
   "execution_count": 36,
   "metadata": {},
   "outputs": [
    {
     "data": {
      "text/plain": [
       "12-element Vector{Float64}:\n",
       " -0.8563663292143644\n",
       "  0.2790937473471846\n",
       " -0.8045060665709756\n",
       "  0.06459042710646457\n",
       " -0.7912503351130944\n",
       " -0.9298393439797537\n",
       " -0.811192568792273\n",
       "  0.8313169619449947\n",
       "  0.5119287485476958\n",
       " -0.6635976819789138\n",
       " -0.302504840175855\n",
       "  0.7660425190221705"
      ]
     },
     "metadata": {},
     "output_type": "display_data"
    }
   ],
   "source": [
    "xaleatMat1 = rand(1000,length(ArrayA1)).*2 .-1\n",
    "xaleatMat2 = rand(1000,length(ArrayA2)).*2 .-1\n",
    "\n",
    "APrueba = zeros(2^particles,2^particles)\n",
    "APrueba2 = ones(2^particles,2^particles)\n",
    "\n",
    "dicPrueba = Dict()\n",
    "dicPrueba[1] = APrueba\n",
    "dicPrueba[2] = APrueba2\n",
    "dicPrueba[1][:,:]\n",
    "xaleatMat1[1,:]"
   ]
  },
  {
   "cell_type": "code",
   "execution_count": 37,
   "metadata": {},
   "outputs": [
    {
     "data": {
      "text/plain": [
       "8×8 Matrix{ComplexF64}:\n",
       " -0.0125168+0.0im          0.225474+0.337571im   …        0.0+0.0im\n",
       "   0.225474-0.337571im     -1.18234+0.0im                 0.0-0.0826616im\n",
       "  0.0242451-0.100395im          0.0-0.30585im             0.0+0.0im\n",
       "        0.0-0.356349im      1.50363-1.2635im          -0.4553+0.235967im\n",
       " -0.0393076-0.567271im          0.0+0.0im                 0.0+0.356349im\n",
       "        0.0+0.0im        -0.0393076-0.567271im   …    1.36516+1.8485im\n",
       "        0.0+0.0826616im         0.0+0.0im           -0.694698+1.40864im\n",
       "        0.0+0.0im               0.0+0.0826616im     0.0125168+0.0im"
      ]
     },
     "metadata": {},
     "output_type": "display_data"
    }
   ],
   "source": [
    "# Construcción de las 1000 tuplas con dos constantes aleatorias para c1 y c2 para A1 y A2 respectivamente\n",
    "Cdic = Dict()\n",
    "for k in 1:1000\n",
    "    Cdic[k] = Tuple(c[k,:])\n",
    "end\n",
    "Cdic[k]\n",
    "\n",
    "# Construcción de los 1000 operadores locales (Aleatorios)\n",
    "\n",
    "xaleatMat1 = rand(1000,length(ArrayA1)).*2 .-1\n",
    "xaleatMat2 = rand(1000,length(ArrayA2)).*2 .-1\n",
    "\n",
    "dicA1Total = Dict()\n",
    "\n",
    "for i in 1:1000\n",
    "    A1P = zeros(2^particles,2^particles)\n",
    "    for k in 1:length(ArrayA1)\n",
    "        A1P += xaleatMat1[i,k]*kron([Sigma[ArrayA1[k][i]] for i in eachindex(ArrayA1[1])]...)\n",
    "    end\n",
    "    dicA1Total[i] = A1P\n",
    "end\n",
    "\n",
    "dicA2Total = Dict()\n",
    "\n",
    "for i in 1:1000\n",
    "    A2P = zeros(2^particles,2^particles)\n",
    "    for k in 1:length(ArrayA2)\n",
    "        A2P += xaleatMat2[i,k]*kron([Sigma[ArrayA2[k][i]] for i in eachindex(ArrayA2[1])]...)\n",
    "    end\n",
    "    dicA2Total[i] = A2P\n",
    "end\n",
    "\n",
    "Cdic[k] # Cdic[k][1] y Cdic[k][2]\n",
    "\n",
    "Hdic = Dict()\n",
    "\n",
    "for i in 1:1000\n",
    "    Hdic[i] = c[i,1]*dicA1Total[i] + c[i,2]*dicA2Total[i]\n",
    "end\n",
    "Hdic[152]"
   ]
  },
  {
   "cell_type": "code",
   "execution_count": 38,
   "metadata": {},
   "outputs": [],
   "source": [
    "# Tengo 1000 Hamiltonianos que serán los que supervisaran la red con respecto a los 1000 operadores A1 y A2, pero recordemos que sólo \n",
    "# nos interesa la mitad de los estados propios, entonces tendremos algo de la siguiente dimensión \n",
    "\n",
    "# 1000 x 1 x (2^N)/2 x \n",
    "# 1 x 2^N es un vector (1x8) en este ejemplo, pero queremos sólo tomar la primer mitad de valores esperados\n",
    "# 1 x 4 "
   ]
  },
  {
   "cell_type": "code",
   "execution_count": 39,
   "metadata": {},
   "outputs": [
    {
     "data": {
      "text/plain": [
       "4-element Vector{ComplexF64}:\n",
       "   0.306804537998998 - 2.7755575615628914e-17im\n",
       "  1.3761327653996478 - 2.7755575615628914e-17im\n",
       "  0.5730750199448611 - 1.1102230246251565e-16im\n",
       " -0.5734169680709922 + 1.1102230246251565e-16im"
      ]
     },
     "metadata": {},
     "output_type": "display_data"
    }
   ],
   "source": [
    "ExpVal1Dic = Dict()\n",
    "ExpVal2Dic = Dict()\n",
    "\n",
    "for k in 1:1000\n",
    "    Hnew = Hdic[k]\n",
    "    vecs = eigen(Hnew).vectors\n",
    "    advecs = adjoint(vecs)\n",
    "\n",
    "    ExpVal1 = zeros(ComplexF64, Int((size(vecs)[1])/2))\n",
    "    for i in 1:Int((size(vecs)[1])/2)\n",
    "        ExpVal1[i] = transpose(advecs[i,:])*A1*vecs[:,i]\n",
    "    end\n",
    "\n",
    "    ExpVal2 = zeros(ComplexF64,Int((size(vecs)[1])/2))  # ExpVal2[1] = a21 = \\bra{\\phi1_}A_2\\ket{\\phi_1}\n",
    "    for i in 1:Int((size(vecs)[1])/2)\n",
    "        ExpVal2[i] = transpose(advecs[i,:])*A2*vecs[:,i]\n",
    "    end\n",
    "    ExpVal1Dic[k] = ExpVal1\n",
    "    ExpVal2Dic[k] = ExpVal2\n",
    "end\n",
    "ExpVal1Dic[1]\n",
    "ExpVal2Dic[1]\n"
   ]
  },
  {
   "cell_type": "code",
   "execution_count": 40,
   "metadata": {},
   "outputs": [
    {
     "data": {
      "text/plain": [
       "Dict{Int64, Tuple{Vector{ComplexF64}, Vector{ComplexF64}}} with 1000 entries:\n",
       "  719 => ([0.306957-1.04083e-17im, 0.131352-3.46945e-18im, -0.624333+0.0im, 0.5…\n",
       "  699 => ([-0.549115+1.04083e-17im, 0.102765-3.1225e-17im, -0.653398+6.93889e-1…\n",
       "  831 => ([-0.446225+5.55112e-17im, 0.535345-6.93889e-18im, -0.854368-1.38778e-…\n",
       "  319 => ([1.11294+1.38778e-17im, 1.16825-1.73472e-18im, 1.27867+5.55112e-17im,…\n",
       "  687 => ([-1.14761-6.93889e-17im, -1.14492-5.55112e-17im, 0.397496+2.08167e-17…\n",
       "  185 => ([-0.464362+1.38778e-17im, -0.0574175-2.08167e-17im, 0.42664+0.0im, -1…\n",
       "  823 => ([-0.0205961+4.16334e-17im, 0.689578+7.28584e-17im, -0.235565-6.245e-1…\n",
       "  420 => ([0.880854-3.46945e-17im, 0.999804-1.73472e-18im, -0.372101-6.93889e-1…\n",
       "  525 => ([-0.671141-5.55112e-17im, 0.0806298+4.51028e-17im, 0.968732+0.0im, -0…\n",
       "  365 => ([-0.994415+1.9082e-17im, -0.125695-2.08167e-17im, 0.598856+3.81639e-1…\n",
       "  638 => ([0.964968-6.93889e-18im, -1.35244+6.245e-17im, 1.11708-5.55112e-17im,…\n",
       "  263 => ([-0.491062+3.46945e-18im, -0.879563-2.77556e-17im, 0.375343+2.08167e-…\n",
       "  422 => ([0.856482+1.38778e-17im, -2.16842-1.38778e-17im, 1.08532-4.16334e-17i…\n",
       "  242 => ([-0.48019-2.08167e-17im, -0.0676758-6.59195e-17im, -0.218736-3.46945e…\n",
       "  183 => ([-0.753574-3.81639e-17im, 0.601287+6.93889e-17im, 0.544456+2.77556e-1…\n",
       "  551 => ([0.599042-2.77556e-17im, 0.518296+1.04083e-17im, 0.00923662+1.249e-16…\n",
       "  224 => ([-1.39608-2.08167e-17im, -0.0237843-2.08167e-17im, -0.686859+1.38778e…\n",
       "  694 => ([-0.296424+2.25514e-17im, 0.508186-2.08167e-17im, 0.346274-5.55112e-1…\n",
       "  692 => ([0.375679+2.42861e-17im, -0.490277-6.41848e-17im, -0.116866-8.32667e-…\n",
       "  ⋮   => ⋮"
      ]
     },
     "metadata": {},
     "output_type": "display_data"
    }
   ],
   "source": [
    "ExpVals = Dict(k => (ExpVal1Dic[k], ExpVal2Dic[k]) for k in keys(ExpVal1Dic))"
   ]
  },
  {
   "cell_type": "markdown",
   "metadata": {},
   "source": [
    "Se presenta en el diccionario ExpVals \n",
    "\n",
    "$\\bra{\\varphi_k} A_1\\ket{\\varphi_k}$ y despues $\\bra{\\varphi_k} A_2\\ket{\\varphi_k}$\n",
    "\n",
    "$k = 1,2,3,4$"
   ]
  },
  {
   "cell_type": "code",
   "execution_count": 41,
   "metadata": {},
   "outputs": [
    {
     "data": {
      "text/plain": [
       "Dict{Int64, Tuple{Vector{ComplexF64}, Vector{ComplexF64}}} with 1000 entries:\n",
       "  719 => ([0.306957-1.04083e-17im, 0.131352-3.46945e-18im, -0.624333+0.0im, 0.5…\n",
       "  699 => ([-0.549115+1.04083e-17im, 0.102765-3.1225e-17im, -0.653398+6.93889e-1…\n",
       "  831 => ([-0.446225+5.55112e-17im, 0.535345-6.93889e-18im, -0.854368-1.38778e-…\n",
       "  319 => ([1.11294+1.38778e-17im, 1.16825-1.73472e-18im, 1.27867+5.55112e-17im,…\n",
       "  687 => ([-1.14761-6.93889e-17im, -1.14492-5.55112e-17im, 0.397496+2.08167e-17…\n",
       "  185 => ([-0.464362+1.38778e-17im, -0.0574175-2.08167e-17im, 0.42664+0.0im, -1…\n",
       "  823 => ([-0.0205961+4.16334e-17im, 0.689578+7.28584e-17im, -0.235565-6.245e-1…\n",
       "  420 => ([0.880854-3.46945e-17im, 0.999804-1.73472e-18im, -0.372101-6.93889e-1…\n",
       "  525 => ([-0.671141-5.55112e-17im, 0.0806298+4.51028e-17im, 0.968732+0.0im, -0…\n",
       "  365 => ([-0.994415+1.9082e-17im, -0.125695-2.08167e-17im, 0.598856+3.81639e-1…\n",
       "  638 => ([0.964968-6.93889e-18im, -1.35244+6.245e-17im, 1.11708-5.55112e-17im,…\n",
       "  263 => ([-0.491062+3.46945e-18im, -0.879563-2.77556e-17im, 0.375343+2.08167e-…\n",
       "  422 => ([0.856482+1.38778e-17im, -2.16842-1.38778e-17im, 1.08532-4.16334e-17i…\n",
       "  242 => ([-0.48019-2.08167e-17im, -0.0676758-6.59195e-17im, -0.218736-3.46945e…\n",
       "  183 => ([-0.753574-3.81639e-17im, 0.601287+6.93889e-17im, 0.544456+2.77556e-1…\n",
       "  551 => ([0.599042-2.77556e-17im, 0.518296+1.04083e-17im, 0.00923662+1.249e-16…\n",
       "  224 => ([-1.39608-2.08167e-17im, -0.0237843-2.08167e-17im, -0.686859+1.38778e…\n",
       "  694 => ([-0.296424+2.25514e-17im, 0.508186-2.08167e-17im, 0.346274-5.55112e-1…\n",
       "  692 => ([0.375679+2.42861e-17im, -0.490277-6.41848e-17im, -0.116866-8.32667e-…\n",
       "  ⋮   => ⋮"
      ]
     },
     "metadata": {},
     "output_type": "display_data"
    }
   ],
   "source": [
    "\n",
    "ExpVals  # (4x1, 4x1) x 1000  Se presenta primero A1 y luego A2"
   ]
  },
  {
   "cell_type": "code",
   "execution_count": 42,
   "metadata": {},
   "outputs": [
    {
     "data": {
      "text/plain": [
       "4-element Vector{ComplexF64}:\n",
       "   0.306804537998998 - 2.7755575615628914e-17im\n",
       "  1.3761327653996478 - 2.7755575615628914e-17im\n",
       "  0.5730750199448611 - 1.1102230246251565e-16im\n",
       " -0.5734169680709922 + 1.1102230246251565e-16im"
      ]
     },
     "metadata": {},
     "output_type": "display_data"
    }
   ],
   "source": [
    "ExpVals[1][2] # ExpVal1"
   ]
  },
  {
   "cell_type": "code",
   "execution_count": 43,
   "metadata": {},
   "outputs": [
    {
     "data": {
      "text/plain": [
       "Dict{Any, Any} with 1000 entries:\n",
       "  719 => ComplexF64[-0.477366+0.0im -0.202274-0.280303im … 0.0-0.0277238im 0.0+…\n",
       "  699 => ComplexF64[-0.664818+0.0im -0.741395-0.455627im … 0.0+0.040621im 0.0+0…\n",
       "  831 => ComplexF64[-0.816351+0.0im -1.02921+0.463824im … 0.0+0.132454im 0.0+0.…\n",
       "  319 => ComplexF64[1.5288+0.0im 0.0171748-0.12897im … 0.0+0.821126im 0.0+0.0im…\n",
       "  687 => ComplexF64[-0.0709126-0.0im 0.011696-0.00415633im … -0.0+0.0565741im -…\n",
       "  185 => ComplexF64[-0.136952+0.0im -0.401095-0.424048im … 0.0-0.472243im 0.0+0…\n",
       "  823 => ComplexF64[-0.150054-0.0im -0.648058+0.804511im … -0.0-0.223933im -0.0…\n",
       "  420 => ComplexF64[0.530778+0.0im -0.205523+0.18802im … 0.0+0.0102053im 0.0+0.…\n",
       "  525 => ComplexF64[-0.053993+0.0im -0.0142616-0.51498im … 0.0+0.00289267im 0.0…\n",
       "  365 => ComplexF64[0.538158+0.0im -0.656596+0.344093im … 0.0+1.38641im 0.0+0.0…\n",
       "  638 => ComplexF64[-0.0834308+0.0im 0.116516+0.233668im … 0.0-0.00835572im 0.0…\n",
       "  263 => ComplexF64[-0.555747+0.0im -0.23831-0.117419im … 0.0+1.12584im 0.0+0.0…\n",
       "  422 => ComplexF64[-0.0530046+0.0im -0.461807-0.357692im … 0.0-0.232907im 0.0+…\n",
       "  242 => ComplexF64[-0.203756+0.0im 0.602437+0.387382im … 0.0-0.0887577im 0.0+0…\n",
       "  183 => ComplexF64[0.0522877+0.0im 0.105242+0.122058im … 0.0+0.205428im 0.0+0.…\n",
       "  551 => ComplexF64[0.29018-0.0im -0.125738-0.855382im … -0.0-0.427288im -0.0-0…\n",
       "  224 => ComplexF64[0.756832+0.0im 0.958557-0.233194im … 0.0-0.305851im 0.0+0.0…\n",
       "  694 => ComplexF64[-1.08724+0.0im 0.00389417-0.95077im … 0.0+0.193041im 0.0+0.…\n",
       "  692 => ComplexF64[0.642506+0.0im -0.819701+0.717193im … 0.0+0.0195791im 0.0+0…\n",
       "  ⋮   => ⋮"
      ]
     },
     "metadata": {},
     "output_type": "display_data"
    }
   ],
   "source": [
    "Hdic # (8x8) x 1000 son matrices 8x8 y 1000 matrices de esas "
   ]
  },
  {
   "cell_type": "code",
   "execution_count": 44,
   "metadata": {},
   "outputs": [
    {
     "data": {
      "text/plain": [
       "1000-element Vector{Pair{Any, Any}}:\n",
       " 719 => ComplexF64[-0.4773664053462691 + 0.0im -0.2022737692294646 - 0.28030348827896373im … 0.0 - 0.027723806983742966im 0.0 + 0.0im; -0.2022737692294646 + 0.28030348827896373im -0.21105539221300706 + 0.0im … 0.0 + 0.0im 0.0 - 0.027723806983742966im; … ; 0.0 + 0.027723806983742966im 0.0 + 0.0im … 0.21105539221300706 + 0.0im 0.6200334107103069 + 0.1823230710261175im; 0.0 + 0.0im 0.0 + 0.027723806983742966im … 0.6200334107103069 - 0.1823230710261175im 0.4773664053462691 + 0.0im]\n",
       " 699 => ComplexF64[-0.6648175513065251 + 0.0im -0.7413945262439549 - 0.45562650469282673im … 0.0 + 0.04062101064946968im 0.0 + 0.0im; -0.7413945262439549 + 0.45562650469282673im -0.6053651350531148 + 0.0im … 0.0 + 0.0im 0.0 + 0.04062101064946968im; … ; 0.0 - 0.04062101064946968im 0.0 + 0.0im … 0.6053651350531148 + 0.0im 0.4937582301876017 + 0.500717892117951im; 0.0 + 0.0im 0.0 - 0.04062101064946968im … 0.4937582301876017 - 0.500717892117951im 0.6648175513065251 + 0.0im]\n",
       " 831 => ComplexF64[-0.8163506231361972 + 0.0im -1.0292094317433838 + 0.4638241757906838im … 0.0 + 0.13245445888983376im 0.0 + 0.0im; -1.0292094317433838 - 0.4638241757906838im -0.3443757170943206 + 0.0im … 0.0 + 0.0im 0.0 + 0.13245445888983376im; … ; 0.0 - 0.13245445888983376im 0.0 + 0.0im … 0.3443757170943206 + 0.0im -0.5738619721565645 + 1.030903052367719im; 0.0 + 0.0im 0.0 - 0.13245445888983376im … -0.5738619721565645 - 1.030903052367719im 0.8163506231361972 + 0.0im]\n",
       " 319 => ComplexF64[1.5288007448791023 + 0.0im 0.017174797338211863 - 0.12896951134794388im … 0.0 + 0.8211264459955223im 0.0 + 0.0im; 0.017174797338211863 + 0.12896951134794388im 1.2126257836197167 + 0.0im … 0.0 + 0.0im 0.0 + 0.8211264459955223im; … ; 0.0 - 0.8211264459955223im 0.0 + 0.0im … -1.2126257836197167 + 0.0im -0.22888207299963748 + 0.03407794474757588im; 0.0 + 0.0im 0.0 - 0.8211264459955223im … -0.22888207299963748 - 0.03407794474757588im -1.5288007448791023 + 0.0im]\n",
       " 687 => ComplexF64[-0.07091257500806913 - 0.0im 0.01169601711270032 - 0.004156334174669772im … -0.0 + 0.05657410789214497im -0.0 - 0.0im; 0.01169601711270032 + 0.004156334174669772im -0.06150640106979623 - 0.0im … -0.0 - 0.0im -0.0 + 0.05657410789214497im; … ; -0.0 - 0.05657410789214497im -0.0 - 0.0im … 0.06150640106979623 - 0.0im 0.005576424226711863 + 0.006291820039794227im; -0.0 - 0.0im -0.0 - 0.05657410789214497im … 0.005576424226711863 - 0.006291820039794227im 0.07091257500806913 - 0.0im]\n",
       " 185 => ComplexF64[-0.13695150753369856 + 0.0im -0.4010949278708832 - 0.42404782460034207im … 0.0 - 0.4722430752899749im 0.0 + 0.0im; -0.4010949278708832 + 0.42404782460034207im -0.22940952585511004 + 0.0im … 0.0 + 0.0im 0.0 - 0.4722430752899749im; … ; 0.0 + 0.4722430752899749im 0.0 + 0.0im … 0.22940952585511004 + 0.0im 0.1372223450285813 + 0.3760010635139524im; 0.0 + 0.0im 0.0 + 0.4722430752899749im … 0.1372223450285813 - 0.3760010635139524im 0.13695150753369856 + 0.0im]\n",
       " 823 => ComplexF64[-0.15005394526792815 - 0.0im -0.6480577747364608 + 0.804511163338236im … -0.0 - 0.22393305723679052im -0.0 - 0.0im; -0.6480577747364608 - 0.804511163338236im -1.270697333809128 - 0.0im … -0.0 - 0.0im -0.0 - 0.22393305723679052im; … ; -0.0 + 0.22393305723679052im -0.0 - 0.0im … 1.270697333809128 - 0.0im -0.662977839737205 - 0.11956227939256446im; -0.0 - 0.0im -0.0 + 0.22393305723679052im … -0.662977839737205 + 0.11956227939256446im 0.15005394526792815 - 0.0im]\n",
       " 420 => ComplexF64[0.5307775249229688 + 0.0im -0.20552284209076307 + 0.18802043050202175im … 0.0 + 0.010205334422418987im 0.0 + 0.0im; -0.20552284209076307 - 0.18802043050202175im 0.23571519020872803 + 0.0im … 0.0 + 0.0im 0.0 + 0.010205334422418987im; … ; 0.0 - 0.010205334422418987im 0.0 + 0.0im … -0.23571519020872803 + 0.0im -0.08422390887974285 + 0.07301140125581122im; 0.0 + 0.0im 0.0 - 0.010205334422418987im … -0.08422390887974285 - 0.07301140125581122im -0.5307775249229688 + 0.0im]\n",
       " 525 => ComplexF64[-0.05399297887685577 + 0.0im -0.014261625020881121 - 0.5149801379552025im … 0.0 + 0.002892667684008983im 0.0 + 0.0im; -0.014261625020881121 + 0.5149801379552025im 0.2230696676554689 + 0.0im … 0.0 + 0.0im 0.0 + 0.002892667684008983im; … ; 0.0 - 0.002892667684008983im 0.0 + 0.0im … -0.2230696676554689 + 0.0im 0.3569874401679775 - 0.9042796665247217im; 0.0 + 0.0im 0.0 - 0.002892667684008983im … 0.3569874401679775 + 0.9042796665247217im 0.05399297887685577 + 0.0im]\n",
       " 365 => ComplexF64[0.5381580412921667 + 0.0im -0.6565958181957874 + 0.3440925930483762im … 0.0 + 1.386409855191678im 0.0 + 0.0im; -0.6565958181957874 - 0.3440925930483762im 0.015262606621801927 + 0.0im … 0.0 + 0.0im 0.0 + 1.386409855191678im; … ; 0.0 - 1.386409855191678im 0.0 + 0.0im … -0.015262606621801927 + 0.0im 0.17599311422326083 + 0.05450308011523145im; 0.0 + 0.0im 0.0 - 1.386409855191678im … 0.17599311422326083 - 0.05450308011523145im -0.5381580412921667 + 0.0im]\n",
       "     ⋮\n",
       " 459 => ComplexF64[0.49999946597951905 + 0.0im -0.7229967409511813 - 0.4273510886156947im … 0.0 + 0.34696065654664643im 0.0 + 0.0im; -0.7229967409511813 + 0.4273510886156947im -0.7730640784423851 + 0.0im … 0.0 + 0.0im 0.0 + 0.34696065654664643im; … ; 0.0 - 0.34696065654664643im 0.0 + 0.0im … 0.7730640784423851 + 0.0im 0.1577193957076205 - 0.2993718452790895im; 0.0 + 0.0im 0.0 - 0.34696065654664643im … 0.1577193957076205 + 0.2993718452790895im -0.49999946597951905 + 0.0im]\n",
       " 713 => ComplexF64[1.3845942830429165 + 0.0im -0.3842399997604337 - 0.6913379531970294im … 0.0 + 0.12216330968684898im 0.0 + 0.0im; -0.3842399997604337 + 0.6913379531970294im 0.8772824500828393 + 0.0im … 0.0 + 0.0im 0.0 + 0.12216330968684898im; … ; 0.0 - 0.12216330968684898im 0.0 + 0.0im … -0.8772824500828393 + 0.0im 0.5179514382516461 - 0.12079441865540451im; 0.0 + 0.0im 0.0 - 0.12216330968684898im … 0.5179514382516461 + 0.12079441865540451im -1.3845942830429165 + 0.0im]\n",
       " 149 => ComplexF64[1.1054425084694106 + 0.0im -0.5386790949657605 + 0.4306812055472277im … 0.0 + 0.6613972570975615im 0.0 + 0.0im; -0.5386790949657605 - 0.4306812055472277im 0.3426639298308701 + 0.0im … 0.0 + 0.0im 0.0 + 0.6613972570975615im; … ; 0.0 - 0.6613972570975615im 0.0 + 0.0im … -0.3426639298308701 + 0.0im 0.5031708277266279 - 0.7443840084193846im; 0.0 + 0.0im 0.0 - 0.6613972570975615im … 0.5031708277266279 + 0.7443840084193846im -1.1054425084694106 + 0.0im]\n",
       " 701 => ComplexF64[-0.03481272142843345 + 0.0im -0.06131070111066371 - 0.0187298825721378im … 0.0 + 0.06021040434699696im 0.0 + 0.0im; -0.06131070111066371 + 0.0187298825721378im -0.13201632677294187 + 0.0im … 0.0 + 0.0im 0.0 + 0.06021040434699696im; … ; 0.0 - 0.06021040434699696im 0.0 + 0.0im … 0.13201632677294187 + 0.0im 0.19930418319547166 - 0.1800012441247049im; 0.0 + 0.0im 0.0 - 0.06021040434699696im … 0.19930418319547166 + 0.1800012441247049im 0.03481272142843345 + 0.0im]\n",
       " 641 => ComplexF64[-0.7371117146790536 - 0.0im 0.04149738424011758 - 0.006739949267114741im … -0.0 - 0.32338425441236274im -0.0 - 0.0im; 0.04149738424011758 + 0.006739949267114741im -0.7073550889018586 - 0.0im … -0.0 - 0.0im -0.0 - 0.32338425441236274im; … ; -0.0 + 0.32338425441236274im -0.0 - 0.0im … 0.7073550889018586 - 0.0im -0.04227955481777117 - 0.037784016749089384im; -0.0 - 0.0im -0.0 + 0.32338425441236274im … -0.04227955481777117 + 0.037784016749089384im 0.7371117146790536 - 0.0im]\n",
       " 887 => ComplexF64[0.020992522988521556 + 0.0im 0.025654241281703745 + 0.008419249733229302im … 0.0 + 0.7182809437741612im 0.0 + 0.0im; 0.025654241281703745 - 0.008419249733229302im 0.38094743410120807 + 0.0im … 0.0 + 0.0im 0.0 + 0.7182809437741612im; … ; 0.0 - 0.7182809437741612im 0.0 + 0.0im … -0.38094743410120807 + 0.0im -0.44056039997420565 - 0.26986337024637475im; 0.0 + 0.0im 0.0 - 0.7182809437741612im … -0.44056039997420565 + 0.26986337024637475im -0.020992522988521556 + 0.0im]\n",
       " 979 => ComplexF64[-0.01609925738153367 + 0.0im -0.0028895512393868356 - 0.012641675075228342im … 0.0 + 0.19808750850237514im 0.0 + 0.0im; -0.0028895512393868356 + 0.012641675075228342im 0.010602195664130051 + 0.0im … 0.0 + 0.0im 0.0 + 0.19808750850237514im; … ; 0.0 - 0.19808750850237514im 0.0 + 0.0im … -0.010602195664130051 + 0.0im 0.27361365261079224 - 0.4108674139709834im; 0.0 + 0.0im 0.0 - 0.19808750850237514im … 0.27361365261079224 + 0.4108674139709834im 0.01609925738153367 + 0.0im]\n",
       "  65 => ComplexF64[0.7338121887107297 + 0.0im -0.0789989459426711 - 0.04641235212615458im … 0.0 + 0.6230175384310798im 0.0 + 0.0im; -0.0789989459426711 + 0.04641235212615458im 0.6561698563927747 + 0.0im … 0.0 + 0.0im 0.0 + 0.6230175384310798im; … ; 0.0 - 0.6230175384310798im 0.0 + 0.0im … -0.6561698563927747 + 0.0im -0.06932666784434137 - 0.2186653254736156im; 0.0 + 0.0im 0.0 - 0.6230175384310798im … -0.06932666784434137 + 0.2186653254736156im -0.7338121887107297 + 0.0im]\n",
       " 298 => ComplexF64[-0.27777134402597886 - 0.0im 0.0876258326350537 - 0.056528629931929204im … -0.0 - 0.08405431291518264im -0.0 - 0.0im; 0.0876258326350537 + 0.056528629931929204im -0.07837669507883269 - 0.0im … -0.0 - 0.0im -0.0 - 0.08405431291518264im; … ; -0.0 + 0.08405431291518264im -0.0 - 0.0im … 0.07837669507883269 - 0.0im -0.01841756986930628 - 0.18442776847812165im; -0.0 - 0.0im -0.0 + 0.08405431291518264im … -0.01841756986930628 + 0.18442776847812165im 0.27777134402597886 - 0.0im]"
      ]
     },
     "metadata": {},
     "output_type": "display_data"
    }
   ],
   "source": [
    "ABD = collect(Hdic)"
   ]
  },
  {
   "cell_type": "markdown",
   "metadata": {},
   "source": [
    "## Acomodando los datos de forma conveniente para meterlos a la red neuronal\n",
    " "
   ]
  },
  {
   "cell_type": "code",
   "execution_count": 79,
   "metadata": {},
   "outputs": [
    {
     "data": {
      "text/plain": [
       "2×1000 Matrix{Float64}:\n",
       " -0.250518  -0.617583   0.663949  0.637328  …  -0.456418  0.184208  0.733827\n",
       "  0.79612    0.096935  -0.727507  0.382224     -0.980367  0.286178  0.699374"
      ]
     },
     "metadata": {},
     "output_type": "display_data"
    }
   ],
   "source": [
    "c = rand(2,1000)*2 .-1 # sería conveniente generar una matriz de n x 2 \n"
   ]
  },
  {
   "cell_type": "code",
   "execution_count": null,
   "metadata": {},
   "outputs": [],
   "source": [
    "xaleatMat1 = rand(1000,length(ArrayA1)).*2 .-1\n",
    "xaleatMat2 = rand(1000,length(ArrayA2)).*2 .-1"
   ]
  },
  {
   "cell_type": "code",
   "execution_count": 89,
   "metadata": {},
   "outputs": [
    {
     "data": {
      "text/plain": [
       "8×8 Matrix{ComplexF64}:\n",
       " -1.01511+0.0im         0.535575+1.936im     …       0.0+0.0im\n",
       " 0.535575-1.936im      0.0707852+0.0im               0.0+0.0im\n",
       " 0.435362-0.31369im          0.0+0.275588im          0.0+0.0im\n",
       "      0.0-0.0729558im    1.10541-0.495316im          0.0+0.0im\n",
       "      0.0+0.0im              0.0+0.0im               0.0+0.0729558im\n",
       "      0.0+0.0im              0.0+0.0im       …   1.10541+0.495316im\n",
       "      0.0+0.0im              0.0+0.0im          -1.43805+0.00774819im\n",
       "      0.0+0.0im              0.0+0.0im           1.01511+0.0im"
      ]
     },
     "metadata": {},
     "output_type": "display_data"
    }
   ],
   "source": [
    "A1P_list = []  # Un arreglo vacío para almacenar matrices\n",
    "A2P_list = []\n",
    "\n",
    "for i in 1:1000\n",
    "    A1P = zeros(2^particles, 2^particles)\n",
    "    for k in 1:length(ArrayA1)\n",
    "        A1P += xaleatMat1[i, k] * kron([Sigma[ArrayA1[k][j]] for j in eachindex(ArrayA1[1])]...)\n",
    "    end\n",
    "    push!(A1P_list, A1P)  # Guardar la matriz en el arreglo\n",
    "end\n",
    "\n",
    "for i in 1:1000\n",
    "    A2P = zeros(2^particles,2^particles)\n",
    "    for k in 1:length(ArrayA2)\n",
    "        A2P += xaleatMat2[i,k]*kron([Sigma[ArrayA2[k][i]] for i in eachindex(ArrayA2[1])]...)\n",
    "    end\n",
    "    push!(A2P_list, A2P)  # Guardar la matriz en el arreglo\n",
    "end"
   ]
  },
  {
   "cell_type": "code",
   "execution_count": null,
   "metadata": {},
   "outputs": [
    {
     "data": {
      "text/plain": [
       "8×8 Matrix{ComplexF64}:\n",
       " -1.01511+0.0im         0.535575+1.936im     …       0.0+0.0im\n",
       " 0.535575-1.936im      0.0707852+0.0im               0.0+0.0im\n",
       " 0.435362-0.31369im          0.0+0.275588im          0.0+0.0im\n",
       "      0.0-0.0729558im    1.10541-0.495316im          0.0+0.0im\n",
       "      0.0+0.0im              0.0+0.0im               0.0+0.0729558im\n",
       "      0.0+0.0im              0.0+0.0im       …   1.10541+0.495316im\n",
       "      0.0+0.0im              0.0+0.0im          -1.43805+0.00774819im\n",
       "      0.0+0.0im              0.0+0.0im           1.01511+0.0im"
      ]
     },
     "metadata": {},
     "output_type": "display_data"
    }
   ],
   "source": [
    "# Fijamos A1 y A2, no necesitaremos mucho, porque con cada A1 y A2 fijos podemos generar al menos 1000 Hamiltonianos distintos\n",
    "# Recordemos que dependen únicamente de los coeficientes c1 y c2, que son aleatorios\n",
    "A111 = A1P_list[1] \n",
    "A222 = A2P_list[1]\n"
   ]
  },
  {
   "cell_type": "code",
   "execution_count": null,
   "metadata": {},
   "outputs": [
    {
     "data": {
      "text/plain": [
       "8×8 Matrix{ComplexF64}:\n",
       " -0.906527+0.0im          0.426382+1.54129im   …        0.0+0.0im\n",
       "  0.426382-1.54129im    -0.0420233+0.0im                0.0+0.148703im\n",
       "  0.579348-0.370741im          0.0+0.219401im           0.0+0.0im\n",
       "       0.0-0.0580816im     1.11279-0.515337im     -0.257039-0.152857im\n",
       "  -0.16133-0.182026im          0.0+0.0im                0.0+0.0580816im\n",
       "       0.0+0.0im          -0.16133-0.182026im  …    0.82262+0.426552im\n",
       "       0.0-0.148703im          0.0+0.0im           -1.14486+0.00616849im\n",
       "       0.0+0.0im               0.0-0.148703im      0.906527+0.0im"
      ]
     },
     "metadata": {},
     "output_type": "display_data"
    }
   ],
   "source": [
    "# Formamos el Hamiltoniano con los primeros valores de c \n",
    "H12 = c[1,1]*A111 + c[2,1]*A222"
   ]
  },
  {
   "cell_type": "code",
   "execution_count": null,
   "metadata": {},
   "outputs": [
    {
     "data": {
      "text/plain": [
       "8-element Vector{ComplexF64}:\n",
       " -0.04401503962357482 + 0.5413410696775872im\n",
       "   -0.422859359129555 - 0.12932056495421748im\n",
       " -0.03565787790628209 - 0.16300289892747735im\n",
       "  0.15906626836620244 - 0.08160649461735148im\n",
       " -0.38797554429962805 + 0.33921466131749867im\n",
       " -0.18878450674363415 - 0.3660115653252706im\n",
       " -0.02968201783675059 - 0.07832703996485797im\n",
       "  0.08639292039487942 + 0.0im"
      ]
     },
     "metadata": {},
     "output_type": "display_data"
    }
   ],
   "source": [
    "# Tomamos los vectores propios \n",
    "vor  = eigen(H12).vectors\n",
    "adjvor = adjoint(vor)"
   ]
  },
  {
   "cell_type": "code",
   "execution_count": 144,
   "metadata": {},
   "outputs": [],
   "source": [
    "n = 1000\n",
    "mat = Matrix{Float64}(undef, 8, n)  # Matriz vacía 8x1000 (no inicializada)\n",
    "mat1a1 = zeros(2)\n",
    "for k in 1 : n\n",
    "\n",
    "    # Formamos el Hamiltoniano\n",
    "    H12 = c[1,k]*A111 + c[2,k]*A222\n",
    "\n",
    "    # Tomamos los vectores propios \n",
    "\n",
    "    vor  = eigen(H12).vectors\n",
    "    adjvor = adjoint(vor)\n",
    "\n",
    "    vor[:,1] # Este es el primer vector propio, los vectores propios con eigen se colocan en columnas \n",
    "    adjvor[1,:] # Este es el primer vector propio para la adjunta (Recordemos es un vector izquierdo [Fila])\n",
    "\n",
    "    # Calculamos el valor esperado de la primera mitad de vectores propios\n",
    "\n",
    "    ExpValA = zeros(ComplexF64, Int((size(vor)[1])/2))\n",
    "    for i in 1:Int((size(vecs)[1])/2)\n",
    "        ExpValA[i] = transpose(adjvor[i,:])*A111*vor[:,i]\n",
    "    end\n",
    "\n",
    "    ExpValB = zeros(ComplexF64,Int((size(vor)[1])/2))  # ExpVal2[1] = a21 = \\bra{\\phi1_}A_2\\ket{\\phi_1}\n",
    "    for i in 1:Int((size(vecs)[1])/2)\n",
    "        ExpValB[i] = transpose(adjvor[i,:])*A222*vor[:,i]\n",
    "    end\n",
    "\n",
    "    ValsA = real(ExpValA) # Nos interesa únicamente la parte real, la parte imaginaria suele ser error \n",
    "    ValsB = real(ExpValB)\n",
    "    mat1a1[1] = ValsA[1]\n",
    "    mat1a1[2] = ValsA[2]\n",
    "\n",
    "    \n",
    "    ValsCompleto = vcat(ValsA, ValsB) # Por último nuestro vector tendrá la forma de 8x1, para poder agregarlo al batch \n",
    "    mat[:,k]\n",
    "end "
   ]
  },
  {
   "cell_type": "code",
   "execution_count": 145,
   "metadata": {},
   "outputs": [
    {
     "data": {
      "text/plain": [
       "2-element Vector{Float64}:\n",
       " -0.9508738818800113\n",
       " -1.4026541519250995"
      ]
     },
     "metadata": {},
     "output_type": "display_data"
    }
   ],
   "source": [
    "ValsCompleto = vcat(ValsA, ValsB)\n",
    "mat1a1"
   ]
  },
  {
   "cell_type": "code",
   "execution_count": 146,
   "metadata": {},
   "outputs": [
    {
     "data": {
      "text/plain": [
       "([-0.2505178151654952, 0.7961199701103854], [-0.9508738818800113, -1.4026541519250995])"
      ]
     },
     "metadata": {},
     "output_type": "display_data"
    }
   ],
   "source": [
    "t1 = (c[:,1], mat1a1)"
   ]
  },
  {
   "cell_type": "markdown",
   "metadata": {},
   "source": []
  }
 ],
 "metadata": {
  "kernelspec": {
   "display_name": "Julia 1.11.5",
   "language": "julia",
   "name": "julia-1.11"
  },
  "language_info": {
   "file_extension": ".jl",
   "mimetype": "application/julia",
   "name": "julia",
   "version": "1.11.5"
  }
 },
 "nbformat": 4,
 "nbformat_minor": 2
}
