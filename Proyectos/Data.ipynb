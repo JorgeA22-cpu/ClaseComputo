{
 "cells": [
  {
   "cell_type": "code",
   "execution_count": 1,
   "metadata": {},
   "outputs": [],
   "source": [
    "using Plots\n",
    "using LinearAlgebra\n",
    "using LaTeXStrings\n",
    "using HDF5"
   ]
  },
  {
   "cell_type": "code",
   "execution_count": 2,
   "metadata": {},
   "outputs": [
    {
     "ename": "UndefVarError",
     "evalue": "UndefVarError: `k` not defined in `Main`\nSuggestion: check for spelling errors or missing imports.",
     "output_type": "error",
     "traceback": [
      "UndefVarError: `k` not defined in `Main`\n",
      "Suggestion: check for spelling errors or missing imports.\n",
      "\n",
      "Stacktrace:\n",
      " [1] top-level scope\n",
      "   @ ~/gitVideo/Proyectos/jl_notebook_cell_df34fa98e69747e1a8f8a730347b8e2f_W1sZmlsZQ==.jl:1"
     ]
    }
   ],
   "source": [
    "list = [1:3  for _ in 1:k]"
   ]
  },
  {
   "cell_type": "code",
   "execution_count": 3,
   "metadata": {},
   "outputs": [
    {
     "data": {
      "text/plain": [
       "2×2 Matrix{Int64}:\n",
       " 0  1\n",
       " 1  0"
      ]
     },
     "metadata": {},
     "output_type": "display_data"
    }
   ],
   "source": [
    "N = 3 # number of qubits\n",
    "d = 2^N # dimension of the Hilbert space\n",
    "\n",
    "sigmax = [0 1; 1 0]\n",
    "sigmay = [0 -im; im 0]\n",
    "sigmaz = [1 0; 0 -1]\n",
    "id= [1 0; 0 1] # Matriz identidad\n",
    "\n",
    "\n",
    "Sigma = Dict(0 => id, 1 => sigmax, 2 => sigmay, 3 => sigmaz) #Diccionario para llamar a las matrices de Pauli\n",
    "Sigma[1]"
   ]
  },
  {
   "cell_type": "markdown",
   "metadata": {},
   "source": [
    "### a |> f = f(a)"
   ]
  },
  {
   "cell_type": "code",
   "execution_count": 4,
   "metadata": {},
   "outputs": [],
   "source": [
    "#particles= 10\n",
    "#k=3\n",
    "#list=[1:3 for _ in 1:k]\n",
    "#test_visual_list = []\n",
    "#for place in 1:particles-k+1\n",
    "#    for i in Base.product(list...)\n",
    "#        total_list=zeros(particles)\n",
    "#        total_list[place:place+k-1]= i|>collect\n",
    "#        print(total_list)\n",
    "#        push!(test_visual_list,total_list)\n",
    "#        print(\"\\n\")\n",
    "#    end\n",
    "#end"
   ]
  },
  {
   "cell_type": "code",
   "execution_count": 5,
   "metadata": {},
   "outputs": [
    {
     "ename": "UndefVarError",
     "evalue": "UndefVarError: `particles` not defined in `Main`\nSuggestion: check for spelling errors or missing imports.",
     "output_type": "error",
     "traceback": [
      "UndefVarError: `particles` not defined in `Main`\n",
      "Suggestion: check for spelling errors or missing imports.\n",
      "\n",
      "Stacktrace:\n",
      " [1] top-level scope\n",
      "   @ ~/gitVideo/Proyectos/jl_notebook_cell_df34fa98e69747e1a8f8a730347b8e2f_W5sZmlsZQ==.jl:2"
     ]
    }
   ],
   "source": [
    "# Usarlo para la suma \n",
    "N = particles\n",
    "C = test_visual_list\n",
    "x = rand(length(test_visual_list))*2 .-1\n",
    "# A = reduce(kron, [Sigma[C[1][i]] for i in eachindex(C[1])])\n"
   ]
  },
  {
   "cell_type": "code",
   "execution_count": 6,
   "metadata": {},
   "outputs": [
    {
     "ename": "UndefVarError",
     "evalue": "UndefVarError: `test_visual_list` not defined in `Main`\nSuggestion: check for spelling errors or missing imports.",
     "output_type": "error",
     "traceback": [
      "UndefVarError: `test_visual_list` not defined in `Main`\n",
      "Suggestion: check for spelling errors or missing imports.\n",
      "\n",
      "Stacktrace:\n",
      " [1] top-level scope\n",
      "   @ ~/gitVideo/Proyectos/jl_notebook_cell_df34fa98e69747e1a8f8a730347b8e2f_W6sZmlsZQ==.jl:2"
     ]
    }
   ],
   "source": [
    "H = zeros(ComplexF64,2^N,2^N)\n",
    "for k in 1:length(test_visual_list)\n",
    "    H += x[k]*reduce(kron, [Sigma[C[k][i]] for i in eachindex(C[1])])\n",
    "end\n",
    "H "
   ]
  },
  {
   "cell_type": "code",
   "execution_count": 7,
   "metadata": {},
   "outputs": [
    {
     "ename": "UndefVarError",
     "evalue": "UndefVarError: `test_visual_list` not defined in `Main`\nSuggestion: check for spelling errors or missing imports.",
     "output_type": "error",
     "traceback": [
      "UndefVarError: `test_visual_list` not defined in `Main`\n",
      "Suggestion: check for spelling errors or missing imports.\n",
      "\n",
      "Stacktrace:\n",
      " [1] top-level scope\n",
      "   @ ~/gitVideo/Proyectos/jl_notebook_cell_df34fa98e69747e1a8f8a730347b8e2f_X10sZmlsZQ==.jl:2"
     ]
    }
   ],
   "source": [
    "H = zeros(ComplexF64,2^N,2^N)\n",
    "for k in 1:length(test_visual_list)\n",
    "    H += x[k]*kron([Sigma[C[k][i]] for i in eachindex(C[1])]...)\n",
    "end\n",
    "H \n",
    "\n",
    "# Hay que guardar las A's\n",
    "# Buscar el mejor formato para guardar matrices en Julia "
   ]
  },
  {
   "cell_type": "markdown",
   "metadata": {},
   "source": [
    "$\\{A_i\\}$ deben ser operadores fijos lo que varían son 1000 datos distintos del conjunto de $\\{c_i\\}$ y tomar la mitad inferior de $\\{\\ket{\\psi_n\\}}$ ¿Qué tanto podemos reducir los estados y que nos siga dando una buena aproximación? "
   ]
  },
  {
   "cell_type": "markdown",
   "metadata": {},
   "source": [
    "### Almacenar todos los operadores locales A "
   ]
  },
  {
   "cell_type": "code",
   "execution_count": 8,
   "metadata": {},
   "outputs": [],
   "source": [
    "#particles=3\n",
    "#k=3\n",
    "#list=[0:3 for _ in 1:k]\n",
    "#test_visual_list2 = []\n",
    "#for place in 1:particles-k+1\n",
    "#for i in Base.product(list...)\n",
    "#    total_list=zeros(particles)\n",
    "#    total_list[place:place+k-1]= i|>collect\n",
    "#    print(total_list)\n",
    "#    push!(test_visual_list,total_list)\n",
    "#    print(\"\\n\")\n",
    "#end\n",
    "#end"
   ]
  },
  {
   "cell_type": "code",
   "execution_count": 9,
   "metadata": {},
   "outputs": [
    {
     "data": {
      "text/plain": [
       "15-element Vector{Any}:\n",
       " [0.0, 1.0, 0.0]\n",
       " [0.0, 2.0, 0.0]\n",
       " [0.0, 3.0, 0.0]\n",
       " [0.0, 0.0, 1.0]\n",
       " [0.0, 1.0, 1.0]\n",
       " [0.0, 2.0, 1.0]\n",
       " [0.0, 3.0, 1.0]\n",
       " [0.0, 0.0, 2.0]\n",
       " [0.0, 1.0, 2.0]\n",
       " [0.0, 2.0, 2.0]\n",
       " [0.0, 3.0, 2.0]\n",
       " [0.0, 0.0, 3.0]\n",
       " [0.0, 1.0, 3.0]\n",
       " [0.0, 2.0, 3.0]\n",
       " [0.0, 3.0, 3.0]"
      ]
     },
     "metadata": {},
     "output_type": "display_data"
    }
   ],
   "source": [
    "particles=3\n",
    "k=2\n",
    "list=[0:3 for _ in 1:k]\n",
    "test_visual_list = []\n",
    "place= 2\n",
    "for i in Base.product(list...)\n",
    "    total_list=zeros(particles)\n",
    "    total_list[place:place+k-1]= i|>collect\n",
    "    if sum(total_list) != 0\n",
    "        ##print(total_list)\n",
    "        push!(test_visual_list,total_list)\n",
    "    end\n",
    "   # print(\"\\n\")\n",
    "end\n",
    "test_visual_list"
   ]
  },
  {
   "cell_type": "code",
   "execution_count": 10,
   "metadata": {},
   "outputs": [
    {
     "data": {
      "text/plain": [
       "3.0"
      ]
     },
     "metadata": {},
     "output_type": "display_data"
    }
   ],
   "source": [
    "sum(test_visual_list[6])"
   ]
  },
  {
   "cell_type": "code",
   "execution_count": 11,
   "metadata": {},
   "outputs": [
    {
     "data": {
      "text/plain": [
       "12-element Vector{Any}:\n",
       " [1.0, 0.0, 0.0]\n",
       " [2.0, 0.0, 0.0]\n",
       " [3.0, 0.0, 0.0]\n",
       " [0.0, 1.0, 0.0]\n",
       " [2.0, 1.0, 0.0]\n",
       " [3.0, 1.0, 0.0]\n",
       " [0.0, 2.0, 0.0]\n",
       " [1.0, 2.0, 0.0]\n",
       " [3.0, 2.0, 0.0]\n",
       " [0.0, 3.0, 0.0]\n",
       " [1.0, 3.0, 0.0]\n",
       " [2.0, 3.0, 0.0]"
      ]
     },
     "metadata": {},
     "output_type": "display_data"
    }
   ],
   "source": [
    "particles = 3 \n",
    "place = 1\n",
    "\n",
    "k=2\n",
    "list=[0:3 for _ in 1:k]\n",
    "test_visual_list = []\n",
    "\n",
    "for i in Base.product(list...)\n",
    "    total_list=zeros(particles)\n",
    "    total_list[place:place+k-1]= i|>collect\n",
    "    if sum(total_list) != 0\n",
    "        ##print(total_list)\n",
    "        push!(test_visual_list,total_list)\n",
    "    end\n",
    "   # print(\"\\n\")\n",
    "end\n",
    "\n",
    "ArrayA1 = []\n",
    "for i in 1:length(test_visual_list)\n",
    "    if test_visual_list[i][place] != test_visual_list[i][place+1] && sum(test_visual_list[i]) != 0\n",
    "        push!(ArrayA1,test_visual_list[i])\n",
    "    end\n",
    "end\n",
    "ArrayA1"
   ]
  },
  {
   "cell_type": "code",
   "execution_count": 12,
   "metadata": {},
   "outputs": [
    {
     "data": {
      "text/plain": [
       "12-element Vector{Any}:\n",
       " [0.0, 1.0, 0.0]\n",
       " [0.0, 2.0, 0.0]\n",
       " [0.0, 3.0, 0.0]\n",
       " [0.0, 0.0, 1.0]\n",
       " [0.0, 2.0, 1.0]\n",
       " [0.0, 3.0, 1.0]\n",
       " [0.0, 0.0, 2.0]\n",
       " [0.0, 1.0, 2.0]\n",
       " [0.0, 3.0, 2.0]\n",
       " [0.0, 0.0, 3.0]\n",
       " [0.0, 1.0, 3.0]\n",
       " [0.0, 2.0, 3.0]"
      ]
     },
     "metadata": {},
     "output_type": "display_data"
    }
   ],
   "source": [
    "particles = 3 \n",
    "place = 2\n",
    "\n",
    "k=2\n",
    "list=[0:3 for _ in 1:k]\n",
    "test_visual_list = []\n",
    "\n",
    "for i in Base.product(list...)\n",
    "    total_list=zeros(particles)\n",
    "    total_list[place:place+k-1]= i|>collect\n",
    "    if sum(total_list) != 0\n",
    "        ##print(total_list)\n",
    "        push!(test_visual_list,total_list)\n",
    "    end\n",
    "   # print(\"\\n\")\n",
    "end\n",
    "\n",
    "ArrayA2 = []\n",
    "for i in 1:length(test_visual_list)\n",
    "    if test_visual_list[i][place] != test_visual_list[i][place+1] && sum(test_visual_list[i]) != 0\n",
    "        push!(ArrayA2,test_visual_list[i])\n",
    "    end\n",
    "end\n",
    "ArrayA2"
   ]
  },
  {
   "cell_type": "code",
   "execution_count": 13,
   "metadata": {},
   "outputs": [
    {
     "data": {
      "text/plain": [
       "12-element Vector{Any}:\n",
       " [1.0, 0.0, 0.0]\n",
       " [2.0, 0.0, 0.0]\n",
       " [3.0, 0.0, 0.0]\n",
       " [0.0, 1.0, 0.0]\n",
       " [2.0, 1.0, 0.0]\n",
       " [3.0, 1.0, 0.0]\n",
       " [0.0, 2.0, 0.0]\n",
       " [1.0, 2.0, 0.0]\n",
       " [3.0, 2.0, 0.0]\n",
       " [0.0, 3.0, 0.0]\n",
       " [1.0, 3.0, 0.0]\n",
       " [2.0, 3.0, 0.0]"
      ]
     },
     "metadata": {},
     "output_type": "display_data"
    }
   ],
   "source": [
    "ArrayA1"
   ]
  },
  {
   "cell_type": "code",
   "execution_count": 14,
   "metadata": {},
   "outputs": [
    {
     "data": {
      "text/plain": [
       "12-element Vector{Float64}:\n",
       " -0.15294918135333102\n",
       "  0.7580049812599243\n",
       "  0.6656247806699016\n",
       " -0.5205218025234692\n",
       "  0.5171823677063134\n",
       " -0.3092476932033743\n",
       "  0.26836122404575047\n",
       "  0.9701208063433182\n",
       " -0.4563226814989152\n",
       "  0.4288948575198239\n",
       "  0.6755616720861084\n",
       " -0.2271566609118818"
      ]
     },
     "metadata": {},
     "output_type": "display_data"
    }
   ],
   "source": [
    "ArrayA2\n",
    "\n",
    "xaleat = rand(length(ArrayA1))*2 .-1\n",
    "xaleat2 = rand(length(ArrayA2))*2 .-1"
   ]
  },
  {
   "cell_type": "code",
   "execution_count": 15,
   "metadata": {},
   "outputs": [],
   "source": [
    "\n",
    "xaleat = rand(length(ArrayA1))*2 .-1\n",
    "xaleat2 = rand(length(ArrayA2))*2 .-1\n",
    "\n",
    "A1= zeros(2^particles,2^particles)\n",
    "\n",
    "for k in 1:length(ArrayA1)\n",
    "    A1 += xaleat[k]*kron([Sigma[ArrayA1[k][i]] for i in eachindex(ArrayA1[1])]...)\n",
    "end\n",
    "\n",
    "A2= zeros(2^particles,2^particles)\n",
    "\n",
    "for k in 1:length(ArrayA2)\n",
    "    A2 += xaleat2[k]*kron([Sigma[ArrayA2[k][i]] for i in eachindex(ArrayA2[1])]...)\n",
    "end"
   ]
  },
  {
   "cell_type": "code",
   "execution_count": 16,
   "metadata": {},
   "outputs": [
    {
     "data": {
      "text/plain": [
       "8×8 Matrix{ComplexF64}:\n",
       " 0.00889397+0.0im              0.0+0.0im       …          0.0+0.0im\n",
       "        0.0+0.0im       0.00889397+0.0im                  0.0+0.362124im\n",
       "   0.445932-0.077689im         0.0+0.0im                  0.0+0.0im\n",
       "        0.0+0.0im         0.445932-0.077689im        0.225309+0.119429im\n",
       "   0.655774-1.59452im          0.0+0.0im                  0.0+0.0im\n",
       "        0.0+0.0im         0.655774-1.59452im   …       1.3398+1.31907im\n",
       "        0.0-0.362124im         0.0+0.0im                  0.0+0.0im\n",
       "        0.0+0.0im              0.0-0.362124im     -0.00889397+0.0im"
      ]
     },
     "metadata": {},
     "output_type": "display_data"
    }
   ],
   "source": [
    "A1"
   ]
  },
  {
   "cell_type": "code",
   "execution_count": 17,
   "metadata": {},
   "outputs": [
    {
     "data": {
      "text/plain": [
       "8×8 Matrix{ComplexF64}:\n",
       "  1.32674+0.0im        0.572144+1.50572im   …       0.0+0.0im\n",
       " 0.572144-1.50572im   -0.558445+0.0im               0.0+0.0im\n",
       " 0.234514-0.791285im        0.0-0.74392im           0.0+0.0im\n",
       "      0.0-0.834808im   -1.16818-0.949266im          0.0+0.0im\n",
       "      0.0+0.0im             0.0+0.0im               0.0+0.834808im\n",
       "      0.0+0.0im             0.0+0.0im       …  -1.16818+0.949266im\n",
       "      0.0+0.0im             0.0+0.0im          0.280237+0.090099im\n",
       "      0.0+0.0im             0.0+0.0im          -1.32674+0.0im"
      ]
     },
     "metadata": {},
     "output_type": "display_data"
    }
   ],
   "source": [
    "A2"
   ]
  },
  {
   "cell_type": "markdown",
   "metadata": {},
   "source": [
    "Ya tengo dos operadores locales para el caso de 3 partículas, será un problema generalizar, porque lo tendré que hacer a mano pues no veo una forma buena de hacer los Arrays, tal vez deba ver cómo hacerlo en diccionario..."
   ]
  },
  {
   "cell_type": "markdown",
   "metadata": {},
   "source": [
    "$H = \\sum_i C_i A_i$, aquí es donde queremos generar 1000 pares de elementos C1 y C2 para formar distintos Hamiltonianos y almacenarlos "
   ]
  },
  {
   "cell_type": "markdown",
   "metadata": {},
   "source": [
    "Necesito los promedios también de A1 y A2 con los vectores propios de H, haremos una prueba para un sólo valor "
   ]
  },
  {
   "cell_type": "code",
   "execution_count": 18,
   "metadata": {},
   "outputs": [
    {
     "data": {
      "text/plain": [
       "1000×2 Matrix{Float64}:\n",
       "  0.676098   0.759102\n",
       " -0.643229   0.280716\n",
       "  0.877233   0.540661\n",
       "  0.896947   0.0820346\n",
       " -0.63203   -0.294144\n",
       " -0.851135  -0.51647\n",
       " -0.396544   0.777265\n",
       "  0.301915   0.0263606\n",
       "  0.121041   0.14346\n",
       " -0.386411  -0.904112\n",
       "  ⋮         \n",
       " -0.124542  -0.224885\n",
       "  0.486317   0.326533\n",
       "  0.126994   0.541365\n",
       " -0.455271  -0.0609267\n",
       " -0.688468  -0.0440453\n",
       " -0.680228   0.754334\n",
       "  0.459964  -0.318538\n",
       "  0.498536   0.350377\n",
       " -0.732888  -0.891761"
      ]
     },
     "metadata": {},
     "output_type": "display_data"
    }
   ],
   "source": [
    "c = rand(1000,2)*2 .-1 # sería conveniente generar una matriz de n x 2 "
   ]
  },
  {
   "cell_type": "code",
   "execution_count": 19,
   "metadata": {},
   "outputs": [
    {
     "data": {
      "text/plain": [
       "8×8 adjoint(::Matrix{ComplexF64}) with eltype ComplexF64:\n",
       "  0.0164962-0.183288im   -0.334253+0.0140452im  …   0.408897+0.0im\n",
       "  -0.127478+0.356742im      0.3415+0.0256728im      0.577139-0.0im\n",
       " -0.0251187-0.177203im   -0.572344+0.0556344im       0.11178+0.0im\n",
       " -0.0667245-0.231122im    0.227302+0.0634726im      0.525853-0.0im\n",
       "   0.401617-0.251491im   0.0300369-0.0295346im      0.302991-0.0im\n",
       "   0.161499+0.300914im   -0.527296-0.0493252im  …   0.215599-0.0im\n",
       "  -0.217251-0.276096im  -0.0859395-0.0517174im     -0.190819+0.0im\n",
       "   0.491412+0.163181im    0.146435+0.265851im      -0.189735+0.0im"
      ]
     },
     "metadata": {},
     "output_type": "display_data"
    }
   ],
   "source": [
    "Hnew = c[1,1]A1 + c[1,2]A2 # Recordemos quiero almacenar ai y ci, ai son promedios de los operadores y ci son simplemente números aleatorios uniformes entre [-1.1]\n",
    "vecs = eigen(Hnew).vectors\n",
    "advecs = adjoint(vecs)\n",
    "\n",
    "# NADA MÁS QUEREMOS USAR LA PRIMER MITAD DE LOS VALORES ESPERADOS \n",
    "# ¿Cómo entrenar la red? \n",
    "# ¿Cuál es el formato que espera para los datos de entrada y salida? El resto se tiene que automatizar \n",
    "# Que reciba los valores esperados, pero para entrenarlo, la idea es que tome varios conjuntos de valores esperados y para cada uno de ellos valorar la red para definir \n",
    "# la función que va a minimizar. \n",
    "# Lux   (y SciML)\n",
    "# SimpleChains "
   ]
  },
  {
   "cell_type": "code",
   "execution_count": 20,
   "metadata": {},
   "outputs": [
    {
     "data": {
      "text/plain": [
       "8-element Vector{ComplexF64}:\n",
       "   -2.845294537021639 - 6.938893903907228e-17im\n",
       "     -1.6548561070912 + 0.0im\n",
       " -0.46645693586646253 + 1.3877787807814457e-17im\n",
       " -0.04916129864028071 - 6.938893903907228e-18im\n",
       "   0.9287907579335735 - 8.326672684688674e-17im\n",
       "   1.2894328534349495 + 0.0im\n",
       "   0.6594533891517109 - 1.249000902703301e-16im\n",
       "    2.138091878099343 + 3.469446951953614e-17im"
      ]
     },
     "metadata": {},
     "output_type": "display_data"
    }
   ],
   "source": [
    "ExpVal1 = zeros(ComplexF64,size(vecs)[1])\n",
    "for i in 1:size(vecs)[1]\n",
    "    ExpVal1[i] = transpose(advecs[i,:])*A1*vecs[:,i]\n",
    "end\n",
    "\n",
    "ExpVal2 = zeros(ComplexF64,size(vecs)[1])  # ExpVal2[1] = a21 = \\bra{\\phi1_}A_2\\ket{\\phi_1}\n",
    "for i in 1:size(vecs)[1]\n",
    "    ExpVal2[i] = transpose(advecs[i,:])*A2*vecs[:,i]\n",
    "end\n",
    "ExpVal1"
   ]
  },
  {
   "cell_type": "code",
   "execution_count": 21,
   "metadata": {},
   "outputs": [
    {
     "data": {
      "text/plain": [
       "Dict{Any, Any}()"
      ]
     },
     "metadata": {},
     "output_type": "display_data"
    }
   ],
   "source": [
    "c1 = Tuple(c[1,:])\n",
    "dic = Dict()\n",
    "\n"
   ]
  },
  {
   "cell_type": "code",
   "execution_count": 22,
   "metadata": {},
   "outputs": [
    {
     "data": {
      "text/plain": [
       "2-element Vector{Float64}:\n",
       " 0.6760975875880799\n",
       " 0.75910180348015"
      ]
     },
     "metadata": {},
     "output_type": "display_data"
    }
   ],
   "source": [
    "c[1,:]"
   ]
  },
  {
   "cell_type": "code",
   "execution_count": 23,
   "metadata": {},
   "outputs": [
    {
     "data": {
      "text/plain": [
       "2-element Vector{Vector{ComplexF64}}:\n",
       " [-2.845294537021639 - 6.938893903907228e-17im, -1.6548561070912 + 0.0im, -0.46645693586646253 + 1.3877787807814457e-17im, -0.04916129864028071 - 6.938893903907228e-18im, 0.9287907579335735 - 8.326672684688674e-17im, 1.2894328534349495 + 0.0im, 0.6594533891517109 - 1.249000902703301e-16im, 2.138091878099343 + 3.469446951953614e-17im]\n",
       " [-2.3939685679539817 + 1.3877787807814457e-17im, -0.9127596385547132 + 1.3877787807814457e-17im, -1.5376651167782758 + 0.0im, -0.3392532466208072 - 3.469446951953614e-17im, 0.0238884983010082 + 4.85722573273506e-17im, 0.6328857318628871 - 3.469446951953614e-18im, 1.8442875941916177 - 3.8163916471489756e-17im, 2.682584745552269 - 2.7755575615628914e-17im]"
      ]
     },
     "metadata": {},
     "output_type": "display_data"
    }
   ],
   "source": [
    "dic[c1] = [ExpVal1,ExpVal2]"
   ]
  },
  {
   "cell_type": "code",
   "execution_count": 24,
   "metadata": {},
   "outputs": [
    {
     "data": {
      "text/plain": [
       "8-element Vector{ComplexF64}:\n",
       "   -2.845294537021639 - 6.938893903907228e-17im\n",
       "     -1.6548561070912 + 0.0im\n",
       " -0.46645693586646253 + 1.3877787807814457e-17im\n",
       " -0.04916129864028071 - 6.938893903907228e-18im\n",
       "   0.9287907579335735 - 8.326672684688674e-17im\n",
       "   1.2894328534349495 + 0.0im\n",
       "   0.6594533891517109 - 1.249000902703301e-16im\n",
       "    2.138091878099343 + 3.469446951953614e-17im"
      ]
     },
     "metadata": {},
     "output_type": "display_data"
    }
   ],
   "source": [
    "dic[c1][1] #ExpVal1 "
   ]
  },
  {
   "cell_type": "code",
   "execution_count": 25,
   "metadata": {},
   "outputs": [
    {
     "data": {
      "text/plain": [
       "8-element Vector{ComplexF64}:\n",
       " -2.3939685679539817 + 1.3877787807814457e-17im\n",
       " -0.9127596385547132 + 1.3877787807814457e-17im\n",
       " -1.5376651167782758 + 0.0im\n",
       " -0.3392532466208072 - 3.469446951953614e-17im\n",
       "  0.0238884983010082 + 4.85722573273506e-17im\n",
       "  0.6328857318628871 - 3.469446951953614e-18im\n",
       "  1.8442875941916177 - 3.8163916471489756e-17im\n",
       "   2.682584745552269 - 2.7755575615628914e-17im"
      ]
     },
     "metadata": {},
     "output_type": "display_data"
    }
   ],
   "source": [
    "dic[c1][2] # ExpVal2"
   ]
  },
  {
   "cell_type": "code",
   "execution_count": 26,
   "metadata": {},
   "outputs": [
    {
     "data": {
      "text/plain": [
       "(0.6760975875880799, 0.75910180348015)"
      ]
     },
     "metadata": {},
     "output_type": "display_data"
    }
   ],
   "source": [
    "c1"
   ]
  },
  {
   "cell_type": "code",
   "execution_count": 27,
   "metadata": {},
   "outputs": [
    {
     "data": {
      "text/plain": [
       "2-element Vector{Vector{ComplexF64}}:\n",
       " [-2.845294537021639 - 6.938893903907228e-17im, -1.6548561070912 + 0.0im, -0.46645693586646253 + 1.3877787807814457e-17im, -0.04916129864028071 - 6.938893903907228e-18im, 0.9287907579335735 - 8.326672684688674e-17im, 1.2894328534349495 + 0.0im, 0.6594533891517109 - 1.249000902703301e-16im, 2.138091878099343 + 3.469446951953614e-17im]\n",
       " [-2.3939685679539817 + 1.3877787807814457e-17im, -0.9127596385547132 + 1.3877787807814457e-17im, -1.5376651167782758 + 0.0im, -0.3392532466208072 - 3.469446951953614e-17im, 0.0238884983010082 + 4.85722573273506e-17im, 0.6328857318628871 - 3.469446951953614e-18im, 1.8442875941916177 - 3.8163916471489756e-17im, 2.682584745552269 - 2.7755575615628914e-17im]"
      ]
     },
     "metadata": {},
     "output_type": "display_data"
    }
   ],
   "source": [
    "dic[c1]"
   ]
  },
  {
   "cell_type": "code",
   "execution_count": 28,
   "metadata": {},
   "outputs": [
    {
     "data": {
      "text/plain": [
       "Dict{Any, Any}()"
      ]
     },
     "metadata": {},
     "output_type": "display_data"
    }
   ],
   "source": [
    "dic2 = Dict()"
   ]
  },
  {
   "cell_type": "code",
   "execution_count": 29,
   "metadata": {},
   "outputs": [
    {
     "data": {
      "text/plain": [
       "(0.6760975875880799, 0.75910180348015)"
      ]
     },
     "metadata": {},
     "output_type": "display_data"
    }
   ],
   "source": [
    "dic2[1] = c1"
   ]
  },
  {
   "cell_type": "code",
   "execution_count": 30,
   "metadata": {},
   "outputs": [
    {
     "data": {
      "text/plain": [
       "(0.6760975875880799, 0.75910180348015)"
      ]
     },
     "metadata": {},
     "output_type": "display_data"
    }
   ],
   "source": [
    "dic2[1]"
   ]
  },
  {
   "cell_type": "code",
   "execution_count": 31,
   "metadata": {},
   "outputs": [
    {
     "data": {
      "text/plain": [
       "Dict{Any, Any} with 1 entry:\n",
       "  1 => (0.676098, 0.759102)"
      ]
     },
     "metadata": {},
     "output_type": "display_data"
    }
   ],
   "source": [
    "dic2"
   ]
  },
  {
   "cell_type": "code",
   "execution_count": 32,
   "metadata": {},
   "outputs": [
    {
     "data": {
      "text/plain": [
       "2-element Vector{Vector{ComplexF64}}:\n",
       " [-2.845294537021639 - 6.938893903907228e-17im, -1.6548561070912 + 0.0im, -0.46645693586646253 + 1.3877787807814457e-17im, -0.04916129864028071 - 6.938893903907228e-18im, 0.9287907579335735 - 8.326672684688674e-17im, 1.2894328534349495 + 0.0im, 0.6594533891517109 - 1.249000902703301e-16im, 2.138091878099343 + 3.469446951953614e-17im]\n",
       " [-2.3939685679539817 + 1.3877787807814457e-17im, -0.9127596385547132 + 1.3877787807814457e-17im, -1.5376651167782758 + 0.0im, -0.3392532466208072 - 3.469446951953614e-17im, 0.0238884983010082 + 4.85722573273506e-17im, 0.6328857318628871 - 3.469446951953614e-18im, 1.8442875941916177 - 3.8163916471489756e-17im, 2.682584745552269 - 2.7755575615628914e-17im]"
      ]
     },
     "metadata": {},
     "output_type": "display_data"
    }
   ],
   "source": [
    "dic[dic2[1]]"
   ]
  },
  {
   "cell_type": "code",
   "execution_count": 33,
   "metadata": {},
   "outputs": [
    {
     "data": {
      "text/plain": [
       "Dict{Any, Any} with 10 entries:\n",
       "  5  => 10\n",
       "  4  => 8\n",
       "  6  => 12\n",
       "  7  => 14\n",
       "  2  => 4\n",
       "  10 => 20\n",
       "  9  => 18\n",
       "  8  => 16\n",
       "  3  => 6\n",
       "  1  => 2"
      ]
     },
     "metadata": {},
     "output_type": "display_data"
    }
   ],
   "source": [
    "dic3 = Dict()\n",
    "for i in 1:10\n",
    "    dic3[i] = 2*i\n",
    "end\n",
    "dic3"
   ]
  },
  {
   "cell_type": "code",
   "execution_count": 34,
   "metadata": {},
   "outputs": [
    {
     "data": {
      "text/plain": [
       "14"
      ]
     },
     "metadata": {},
     "output_type": "display_data"
    }
   ],
   "source": [
    "dic3[7]"
   ]
  },
  {
   "cell_type": "code",
   "execution_count": 122,
   "metadata": {},
   "outputs": [
    {
     "data": {
      "text/plain": [
       "(-0.6432288508007027, 0.2807160469792338)"
      ]
     },
     "metadata": {},
     "output_type": "display_data"
    }
   ],
   "source": []
  },
  {
   "cell_type": "code",
   "execution_count": 50,
   "metadata": {},
   "outputs": [
    {
     "data": {
      "text/plain": [
       "12-element Vector{Float64}:\n",
       " -0.29071010566727495\n",
       "  0.13959886037809732\n",
       "  0.5900678335396834\n",
       "  0.4198864047693911\n",
       "  0.7577212794464256\n",
       "  0.47955869369264725\n",
       "  0.007198013798468628\n",
       " -0.053673726624980045\n",
       "  0.9307270021976481\n",
       "  0.2804566700969069\n",
       "  0.6483573039274431\n",
       " -0.03654290497645629"
      ]
     },
     "metadata": {},
     "output_type": "display_data"
    }
   ],
   "source": [
    "xaleatMat1 = rand(1000,length(ArrayA1)).*2 .-1\n",
    "xaleatMat2 = rand(1000,length(ArrayA2)).*2 .-1\n",
    "\n",
    "APrueba = zeros(2^particles,2^particles)\n",
    "APrueba2 = ones(2^particles,2^particles)\n",
    "\n",
    "dicPrueba = Dict()\n",
    "dicPrueba[1] = APrueba\n",
    "dicPrueba[2] = APrueba2\n",
    "dicPrueba[1][:,:]\n",
    "xaleatMat1[1,:]"
   ]
  },
  {
   "cell_type": "code",
   "execution_count": 137,
   "metadata": {},
   "outputs": [],
   "source": [
    "# Construcción de las 1000 tuplas con dos constantes aleatorias para c1 y c2 para A1 y A2 respectivamente\n",
    "Cdic = Dict()\n",
    "for k in 1:1000\n",
    "    Cdic[k] = Tuple(c[k,:])\n",
    "end\n",
    "Cdic[k]\n",
    "\n",
    "# Construcción de los 1000 operadores locales (Aleatorios)\n",
    "\n",
    "xaleatMat1 = rand(1000,length(ArrayA1)).*2 .-1\n",
    "xaleatMat2 = rand(1000,length(ArrayA2)).*2 .-1\n",
    "\n",
    "dicA1Total = Dict()\n",
    "\n",
    "for i in 1:1000\n",
    "    A1P = zeros(2^particles,2^particles)\n",
    "    for k in 1:length(ArrayA1)\n",
    "        A1P += xaleatMat1[i,k]*kron([Sigma[ArrayA1[k][i]] for i in eachindex(ArrayA1[1])]...)\n",
    "    end\n",
    "    dicA1Total[i] = A1P\n",
    "end\n",
    "\n",
    "dicA2Total = Dict()\n",
    "\n",
    "for i in 1:1000\n",
    "    A2P = zeros(2^particles,2^particles)\n",
    "    for k in 1:length(ArrayA2)\n",
    "        A2P += xaleatMat2[i,k]*kron([Sigma[ArrayA2[k][i]] for i in eachindex(ArrayA2[1])]...)\n",
    "    end\n",
    "    dicA2Total[i] = A2P\n",
    "end\n",
    "\n",
    "Cdic[k] # Cdic[k][1] y Cdic[k][2]\n",
    "\n",
    "Hdic = Dict()\n",
    "\n",
    "for i in 1:1000\n",
    "    Hdic[i] = c[i,1]*dicA1Total[i] + c[i,2]*dicA2Total[i]\n",
    "end"
   ]
  },
  {
   "cell_type": "code",
   "execution_count": 133,
   "metadata": {},
   "outputs": [],
   "source": [
    "ExpVal1Dic = Dict()\n",
    "ExpVal2Dic = Dict()\n",
    "\n",
    "for k in 1:1000\n",
    "    Hnew = Hdic[k]\n",
    "    vecs = eigen(Hnew).vectors\n",
    "    advecs = adjoint(vecs)\n",
    "\n",
    "    ExpVal1 = zeros(ComplexF64,size(vecs)[1])\n",
    "    for i in 1:size(vecs)[1]\n",
    "        ExpVal1[i] = transpose(advecs[i,:])*A1*vecs[:,i]\n",
    "    end\n",
    "\n",
    "    ExpVal2 = zeros(ComplexF64,size(vecs)[1])  # ExpVal2[1] = a21 = \\bra{\\phi1_}A_2\\ket{\\phi_1}\n",
    "    for i in 1:size(vecs)[1]\n",
    "        ExpVal2[i] = transpose(advecs[i,:])*A2*vecs[:,i]\n",
    "    end\n",
    "    ExpVal1Dic[k] = ExpVal1\n",
    "    ExpVal2Dic[k] = ExpVal2\n",
    "end\n"
   ]
  },
  {
   "cell_type": "code",
   "execution_count": 42,
   "metadata": {},
   "outputs": [],
   "source": []
  },
  {
   "cell_type": "code",
   "execution_count": 43,
   "metadata": {},
   "outputs": [],
   "source": []
  },
  {
   "cell_type": "code",
   "execution_count": 44,
   "metadata": {},
   "outputs": [],
   "source": []
  }
 ],
 "metadata": {
  "kernelspec": {
   "display_name": "Julia 1.11.3",
   "language": "julia",
   "name": "julia-1.11"
  },
  "language_info": {
   "file_extension": ".jl",
   "mimetype": "application/julia",
   "name": "julia",
   "version": "1.11.3"
  }
 },
 "nbformat": 4,
 "nbformat_minor": 2
}
