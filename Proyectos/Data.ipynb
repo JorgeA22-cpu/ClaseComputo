{
 "cells": [
  {
   "cell_type": "code",
   "execution_count": 37,
   "metadata": {},
   "outputs": [],
   "source": [
    "using Plots\n",
    "using LinearAlgebra\n",
    "using LaTeXStrings\n",
    "using HDF5"
   ]
  },
  {
   "cell_type": "code",
   "execution_count": 7,
   "metadata": {},
   "outputs": [
    {
     "data": {
      "text/plain": [
       "2-element Vector{UnitRange{Int64}}:\n",
       " 1:3\n",
       " 1:3"
      ]
     },
     "metadata": {},
     "output_type": "display_data"
    }
   ],
   "source": [
    "list = [1:3  for _ in 1:k]"
   ]
  },
  {
   "cell_type": "code",
   "execution_count": 50,
   "metadata": {},
   "outputs": [
    {
     "data": {
      "text/plain": [
       "2×2 Matrix{Int64}:\n",
       " 0  1\n",
       " 1  0"
      ]
     },
     "metadata": {},
     "output_type": "display_data"
    }
   ],
   "source": [
    "N = 3 # number of qubits\n",
    "d = 2^N # dimension of the Hilbert space\n",
    "\n",
    "sigmax = [0 1; 1 0]\n",
    "sigmay = [0 -im; im 0]\n",
    "sigmaz = [1 0; 0 -1]\n",
    "id= [1 0; 0 1] # Matriz identidad\n",
    "\n",
    "\n",
    "Sigma = Dict(0 => id, 1 => sigmax, 2 => sigmay, 3 => sigmaz) #Diccionario para llamar a las matrices de Pauli\n",
    "Sigma[1]"
   ]
  },
  {
   "cell_type": "markdown",
   "metadata": {},
   "source": [
    "### a |> f = f(a)"
   ]
  },
  {
   "cell_type": "code",
   "execution_count": 18,
   "metadata": {},
   "outputs": [],
   "source": [
    "#particles= 10\n",
    "#k=3\n",
    "#list=[1:3 for _ in 1:k]\n",
    "#test_visual_list = []\n",
    "#for place in 1:particles-k+1\n",
    "#    for i in Base.product(list...)\n",
    "#        total_list=zeros(particles)\n",
    "#        total_list[place:place+k-1]= i|>collect\n",
    "#        print(total_list)\n",
    "#        push!(test_visual_list,total_list)\n",
    "#        print(\"\\n\")\n",
    "#    end\n",
    "#end"
   ]
  },
  {
   "cell_type": "code",
   "execution_count": 19,
   "metadata": {},
   "outputs": [
    {
     "data": {
      "text/plain": [
       "15-element Vector{Float64}:\n",
       "  0.3350708057100491\n",
       " -0.22848040240041234\n",
       "  0.8316531740312876\n",
       "  0.7228697932587629\n",
       "  0.04048530495228575\n",
       " -0.5335085531680817\n",
       " -0.9438246068135225\n",
       "  0.563893824462919\n",
       "  0.3833106042576735\n",
       "  0.04998648058998101\n",
       " -0.6531101441133935\n",
       " -0.3494504746708438\n",
       "  0.5599166003905618\n",
       "  0.8372742846943808\n",
       "  0.8683182109651142"
      ]
     },
     "metadata": {},
     "output_type": "display_data"
    }
   ],
   "source": [
    "# Usarlo para la suma \n",
    "N = particles\n",
    "C = test_visual_list\n",
    "x = rand(length(test_visual_list))*2 .-1\n",
    "# A = reduce(kron, [Sigma[C[1][i]] for i in eachindex(C[1])])\n"
   ]
  },
  {
   "cell_type": "code",
   "execution_count": 20,
   "metadata": {},
   "outputs": [
    {
     "data": {
      "text/plain": [
       "8×8 Matrix{ComplexF64}:\n",
       "     1.35052+0.0im                0.0+0.0im        …          0.0+0.0im\n",
       "         0.0+0.0im            1.35052+0.0im           -0.00950118+0.150198im\n",
       "   -0.220955-0.0892163im          0.0+0.0im                   0.0+0.0im\n",
       "         0.0+0.0im          -0.220955-0.0892163im       -0.224846+1.06575im\n",
       "    0.894987+0.608794im           0.0+0.0im                   0.0+0.0im\n",
       "         0.0+0.0im           0.894987+0.608794im   …      1.66669-1.217im\n",
       " -0.00950118-0.150198im           0.0+0.0im                   0.0+0.0im\n",
       "         0.0+0.0im        -0.00950118-0.150198im         0.386116+0.0im"
      ]
     },
     "metadata": {},
     "output_type": "display_data"
    }
   ],
   "source": [
    "H = zeros(ComplexF64,2^N,2^N)\n",
    "for k in 1:length(test_visual_list)\n",
    "    H += x[k]*reduce(kron, [Sigma[C[k][i]] for i in eachindex(C[1])])\n",
    "end\n",
    "H "
   ]
  },
  {
   "cell_type": "code",
   "execution_count": 12,
   "metadata": {},
   "outputs": [
    {
     "data": {
      "text/plain": [
       "1024×1024 Matrix{ComplexF64}:\n",
       "  -0.772553+0.0im       0.0343036-0.964566im  …         0.0+0.0im\n",
       "  0.0343036+0.964566im   -1.51135+0.0im                 0.0+0.0im\n",
       "   -1.54574-0.816295im   0.248876+0.399636im            0.0+0.0im\n",
       "   0.231813-0.16959im    0.161895-1.06602im             0.0+0.0im\n",
       "    1.13377-0.127766im  -0.754049+0.733054im            0.0+0.0im\n",
       "   -1.20085-1.05287im   -0.857764+1.22064im   …         0.0+0.0im\n",
       "  0.0620953+1.1478im      2.51535-0.635509im            0.0+0.0im\n",
       " -0.0333301-0.529918im   -1.48841+0.239415im            0.0+0.0im\n",
       "     0.4776-0.104811im        0.0+0.0im                 0.0+0.0im\n",
       "        0.0+0.0im          0.4776-0.104811im            0.0+0.0im\n",
       "           ⋮                                  ⋱  \n",
       "        0.0+0.0im             0.0+0.0im       …      0.4776+0.104811im\n",
       "        0.0+0.0im             0.0+0.0im          -0.0333301+0.529918im\n",
       "        0.0+0.0im             0.0+0.0im          -0.0620953+1.1478im\n",
       "        0.0+0.0im             0.0+0.0im             1.20085-1.05287im\n",
       "        0.0+0.0im             0.0+0.0im             1.13377+0.127766im\n",
       "        0.0+0.0im             0.0+0.0im       …   -0.231813-0.16959im\n",
       "        0.0+0.0im             0.0+0.0im            -1.54574+0.816295im\n",
       "        0.0+0.0im             0.0+0.0im           0.0343036-0.964566im\n",
       "        0.0+0.0im             0.0+0.0im            0.772553+0.0im"
      ]
     },
     "metadata": {},
     "output_type": "display_data"
    }
   ],
   "source": [
    "H = zeros(ComplexF64,2^N,2^N)\n",
    "for k in 1:length(test_visual_list)\n",
    "    H += x[k]*kron([Sigma[C[k][i]] for i in eachindex(C[1])]...)\n",
    "end\n",
    "H \n",
    "\n",
    "# Hay que guardar las A's\n",
    "# Buscar el mejor formato para guardar matrices en Julia "
   ]
  },
  {
   "cell_type": "markdown",
   "metadata": {},
   "source": [
    "$\\{A_i\\}$ deben ser operadores fijos lo que varían son 1000 datos distintos del conjunto de $\\{c_i\\}$ y tomar la mitad inferior de $\\{\\ket{\\psi_n\\}}$ ¿Qué tanto podemos reducir los estados y que nos siga dando una buena aproximación? "
   ]
  },
  {
   "cell_type": "markdown",
   "metadata": {},
   "source": [
    "### Almacenar todos los operadores locales A "
   ]
  },
  {
   "cell_type": "code",
   "execution_count": 13,
   "metadata": {},
   "outputs": [],
   "source": [
    "#particles=3\n",
    "#k=3\n",
    "#list=[0:3 for _ in 1:k]\n",
    "#test_visual_list2 = []\n",
    "#for place in 1:particles-k+1\n",
    "#for i in Base.product(list...)\n",
    "#    total_list=zeros(particles)\n",
    "#    total_list[place:place+k-1]= i|>collect\n",
    "#    print(total_list)\n",
    "#    push!(test_visual_list,total_list)\n",
    "#    print(\"\\n\")\n",
    "#end\n",
    "#end"
   ]
  },
  {
   "cell_type": "code",
   "execution_count": 33,
   "metadata": {},
   "outputs": [
    {
     "data": {
      "text/plain": [
       "15-element Vector{Any}:\n",
       " [0.0, 1.0, 0.0]\n",
       " [0.0, 2.0, 0.0]\n",
       " [0.0, 3.0, 0.0]\n",
       " [0.0, 0.0, 1.0]\n",
       " [0.0, 1.0, 1.0]\n",
       " [0.0, 2.0, 1.0]\n",
       " [0.0, 3.0, 1.0]\n",
       " [0.0, 0.0, 2.0]\n",
       " [0.0, 1.0, 2.0]\n",
       " [0.0, 2.0, 2.0]\n",
       " [0.0, 3.0, 2.0]\n",
       " [0.0, 0.0, 3.0]\n",
       " [0.0, 1.0, 3.0]\n",
       " [0.0, 2.0, 3.0]\n",
       " [0.0, 3.0, 3.0]"
      ]
     },
     "metadata": {},
     "output_type": "display_data"
    }
   ],
   "source": [
    "particles=3\n",
    "k=2\n",
    "list=[0:3 for _ in 1:k]\n",
    "test_visual_list = []\n",
    "place= 2\n",
    "for i in Base.product(list...)\n",
    "    total_list=zeros(particles)\n",
    "    total_list[place:place+k-1]= i|>collect\n",
    "    if sum(total_list) != 0\n",
    "        ##print(total_list)\n",
    "        push!(test_visual_list,total_list)\n",
    "    end\n",
    "   # print(\"\\n\")\n",
    "end\n",
    "test_visual_list"
   ]
  },
  {
   "cell_type": "code",
   "execution_count": 16,
   "metadata": {},
   "outputs": [
    {
     "data": {
      "text/plain": [
       "3.0"
      ]
     },
     "metadata": {},
     "output_type": "display_data"
    }
   ],
   "source": [
    "sum(test_visual_list[6])"
   ]
  },
  {
   "cell_type": "code",
   "execution_count": 35,
   "metadata": {},
   "outputs": [
    {
     "data": {
      "text/plain": [
       "12-element Vector{Any}:\n",
       " [1.0, 0.0, 0.0]\n",
       " [2.0, 0.0, 0.0]\n",
       " [3.0, 0.0, 0.0]\n",
       " [0.0, 1.0, 0.0]\n",
       " [2.0, 1.0, 0.0]\n",
       " [3.0, 1.0, 0.0]\n",
       " [0.0, 2.0, 0.0]\n",
       " [1.0, 2.0, 0.0]\n",
       " [3.0, 2.0, 0.0]\n",
       " [0.0, 3.0, 0.0]\n",
       " [1.0, 3.0, 0.0]\n",
       " [2.0, 3.0, 0.0]"
      ]
     },
     "metadata": {},
     "output_type": "display_data"
    }
   ],
   "source": [
    "particles = 3 \n",
    "place = 1\n",
    "\n",
    "k=2\n",
    "list=[0:3 for _ in 1:k]\n",
    "test_visual_list = []\n",
    "\n",
    "for i in Base.product(list...)\n",
    "    total_list=zeros(particles)\n",
    "    total_list[place:place+k-1]= i|>collect\n",
    "    if sum(total_list) != 0\n",
    "        ##print(total_list)\n",
    "        push!(test_visual_list,total_list)\n",
    "    end\n",
    "   # print(\"\\n\")\n",
    "end\n",
    "\n",
    "ArrayA1 = []\n",
    "for i in 1:length(test_visual_list)\n",
    "    if test_visual_list[i][place] != test_visual_list[i][place+1] && sum(test_visual_list[i]) != 0\n",
    "        push!(ArrayA1,test_visual_list[i])\n",
    "    end\n",
    "end\n",
    "ArrayA1"
   ]
  },
  {
   "cell_type": "code",
   "execution_count": 36,
   "metadata": {},
   "outputs": [
    {
     "data": {
      "text/plain": [
       "12-element Vector{Any}:\n",
       " [0.0, 1.0, 0.0]\n",
       " [0.0, 2.0, 0.0]\n",
       " [0.0, 3.0, 0.0]\n",
       " [0.0, 0.0, 1.0]\n",
       " [0.0, 2.0, 1.0]\n",
       " [0.0, 3.0, 1.0]\n",
       " [0.0, 0.0, 2.0]\n",
       " [0.0, 1.0, 2.0]\n",
       " [0.0, 3.0, 2.0]\n",
       " [0.0, 0.0, 3.0]\n",
       " [0.0, 1.0, 3.0]\n",
       " [0.0, 2.0, 3.0]"
      ]
     },
     "metadata": {},
     "output_type": "display_data"
    }
   ],
   "source": [
    "particles = 3 \n",
    "place = 2\n",
    "\n",
    "k=2\n",
    "list=[0:3 for _ in 1:k]\n",
    "test_visual_list = []\n",
    "\n",
    "for i in Base.product(list...)\n",
    "    total_list=zeros(particles)\n",
    "    total_list[place:place+k-1]= i|>collect\n",
    "    if sum(total_list) != 0\n",
    "        ##print(total_list)\n",
    "        push!(test_visual_list,total_list)\n",
    "    end\n",
    "   # print(\"\\n\")\n",
    "end\n",
    "\n",
    "ArrayA2 = []\n",
    "for i in 1:length(test_visual_list)\n",
    "    if test_visual_list[i][place] != test_visual_list[i][place+1] && sum(test_visual_list[i]) != 0\n",
    "        push!(ArrayA2,test_visual_list[i])\n",
    "    end\n",
    "end\n",
    "ArrayA2"
   ]
  },
  {
   "cell_type": "code",
   "execution_count": 38,
   "metadata": {},
   "outputs": [
    {
     "data": {
      "text/plain": [
       "12-element Vector{Any}:\n",
       " [1.0, 0.0, 0.0]\n",
       " [2.0, 0.0, 0.0]\n",
       " [3.0, 0.0, 0.0]\n",
       " [0.0, 1.0, 0.0]\n",
       " [2.0, 1.0, 0.0]\n",
       " [3.0, 1.0, 0.0]\n",
       " [0.0, 2.0, 0.0]\n",
       " [1.0, 2.0, 0.0]\n",
       " [3.0, 2.0, 0.0]\n",
       " [0.0, 3.0, 0.0]\n",
       " [1.0, 3.0, 0.0]\n",
       " [2.0, 3.0, 0.0]"
      ]
     },
     "metadata": {},
     "output_type": "display_data"
    }
   ],
   "source": [
    "ArrayA1"
   ]
  },
  {
   "cell_type": "code",
   "execution_count": 57,
   "metadata": {},
   "outputs": [
    {
     "data": {
      "text/plain": [
       "12-element Vector{Float64}:\n",
       " -0.6925826287647037\n",
       "  0.9091839158056623\n",
       "  0.6027100538080601\n",
       "  0.8289551007213349\n",
       "  0.8367676665572432\n",
       " -0.5615421332981738\n",
       " -0.5601038742376858\n",
       "  0.2701535794002765\n",
       "  0.3675309234654238\n",
       " -0.8262707715165598\n",
       " -0.1647955307103557\n",
       " -0.7576294488054813"
      ]
     },
     "metadata": {},
     "output_type": "display_data"
    }
   ],
   "source": [
    "ArrayA2\n",
    "\n",
    "xaleat = rand(length(ArrayA1))*2 .-1\n",
    "xaleat2 = rand(length(ArrayA2))*2 .-1"
   ]
  },
  {
   "cell_type": "code",
   "execution_count": 61,
   "metadata": {},
   "outputs": [],
   "source": [
    "A1= zeros(2^particles,2^particles)\n",
    "\n",
    "for k in 1:length(ArrayA1)\n",
    "    A1 += xaleat[k]*kron([Sigma[ArrayA1[k][i]] for i in eachindex(ArrayA1[1])]...)\n",
    "end\n",
    "\n",
    "A2= zeros(2^particles,2^particles)\n",
    "\n",
    "for k in 1:length(ArrayA2)\n",
    "    A2 += xaleat2[k]*kron([Sigma[ArrayA2[k][i]] for i in eachindex(ArrayA2[1])]...)\n",
    "end"
   ]
  },
  {
   "cell_type": "code",
   "execution_count": 62,
   "metadata": {},
   "outputs": [
    {
     "data": {
      "text/plain": [
       "8×8 Matrix{ComplexF64}:\n",
       "   0.36309+0.0im              0.0+0.0im        …        0.0+0.0im\n",
       "       0.0+0.0im          0.36309+0.0im                 0.0-0.0575059im\n",
       " -0.223731+0.982623im         0.0+0.0im                 0.0+0.0im\n",
       "       0.0+0.0im        -0.223731+0.982623im      -0.487158+0.314061im\n",
       "   -1.2676-0.279774im         0.0+0.0im                 0.0+0.0im\n",
       "       0.0+0.0im          -1.2676-0.279774im   …   0.280919-0.605944im\n",
       "       0.0+0.0575059im        0.0+0.0im                 0.0+0.0im\n",
       "       0.0+0.0im              0.0+0.0575059im      -0.36309+0.0im"
      ]
     },
     "metadata": {},
     "output_type": "display_data"
    }
   ],
   "source": [
    "A1"
   ]
  },
  {
   "cell_type": "code",
   "execution_count": 63,
   "metadata": {},
   "outputs": [
    {
     "data": {
      "text/plain": [
       "8×8 Matrix{ComplexF64}:\n",
       " -0.223561+0.0im        0.267413+0.192573im  …        0.0+0.0im\n",
       "  0.267413-0.192573im    1.42898+0.0im                0.0+0.0im\n",
       " -0.857378+0.151554im        0.0+0.566614im           0.0+0.0im\n",
       "       0.0+1.10692im   -0.527787+1.66681im            0.0+0.0im\n",
       "       0.0+0.0im             0.0+0.0im                0.0-1.10692im\n",
       "       0.0+0.0im             0.0+0.0im       …  -0.527787-1.66681im\n",
       "       0.0+0.0im             0.0+0.0im             1.3905+0.927635im\n",
       "       0.0+0.0im             0.0+0.0im           0.223561+0.0im"
      ]
     },
     "metadata": {},
     "output_type": "display_data"
    }
   ],
   "source": [
    "A2"
   ]
  },
  {
   "cell_type": "markdown",
   "metadata": {},
   "source": [
    "Ya tengo dos operadores locales para el caso de 3 partículas, será un problema generalizar, porque lo tendré que hacer a mano pues no veo una forma buena de hacer los Arrays, tal vez deba ver cómo hacerlo en diccionario..."
   ]
  },
  {
   "cell_type": "markdown",
   "metadata": {},
   "source": [
    "$H = \\sum_i C_i A_i$, aquí es donde queremos generar 1000 pares de elementos C1 y C2 para formar distintos Hamiltonianos y almacenarlos "
   ]
  },
  {
   "cell_type": "code",
   "execution_count": null,
   "metadata": {},
   "outputs": [],
   "source": [
    "Necesito los promedios también de A1 y A2 con los vectores propios de H, haremos una prueba para un sólo valor "
   ]
  },
  {
   "cell_type": "code",
   "execution_count": 132,
   "metadata": {},
   "outputs": [
    {
     "data": {
      "text/plain": [
       "1000×2 Matrix{Float64}:\n",
       "  0.369962   -0.984586\n",
       " -0.136591   -0.947296\n",
       " -0.0789107  -0.637931\n",
       "  0.30606    -0.441566\n",
       "  0.470358    0.340951\n",
       "  0.889051    0.771175\n",
       " -0.169809   -0.559178\n",
       " -0.600016    0.190834\n",
       "  0.22221     0.660444\n",
       " -0.335319   -0.892549\n",
       "  ⋮          \n",
       "  0.1797      0.261118\n",
       " -0.855177    0.18213\n",
       " -0.178156   -0.42196\n",
       "  0.87144    -0.835564\n",
       " -0.299755   -0.495145\n",
       " -0.887879    0.834076\n",
       "  0.418967   -0.56113\n",
       "  0.50366    -0.019274\n",
       "  0.877851    0.557863"
      ]
     },
     "metadata": {},
     "output_type": "display_data"
    }
   ],
   "source": [
    "c = rand(1000,2)*2 .-1 # sería conveniente generar una matriz de n x 2 "
   ]
  },
  {
   "cell_type": "code",
   "execution_count": 133,
   "metadata": {},
   "outputs": [
    {
     "data": {
      "text/plain": [
       "8×8 adjoint(::Matrix{ComplexF64}) with eltype ComplexF64:\n",
       "  0.112038-0.164471im     0.251483-0.32945im    …   -0.407994+0.0im\n",
       "  0.100598-0.172425im     0.273649-0.354011im        0.535361-0.0im\n",
       "  0.208274-0.373585im    -0.178522+0.457793im      -0.0908619+0.0im\n",
       "  0.293822+0.0421079im     -0.3433+0.363274im        0.177727+0.0im\n",
       "  0.380291-0.59508im    -0.0977507-0.289137im        0.115751+0.0im\n",
       "  0.134815-0.0741986im   -0.047113-0.176809im   …    -0.45747+0.0im\n",
       "  -0.24029-0.0635614im   0.0376814-0.0545028im       0.410052+0.0im\n",
       " -0.219207-0.131325im    0.0727135-0.0207499im       -0.34098+0.0im"
      ]
     },
     "metadata": {},
     "output_type": "display_data"
    }
   ],
   "source": [
    "Hnew = c[1,1]A1 + c[1,2]A2 # Recordemos quiero almacenar ai y ci, ai son promedios de los operadores y ci son simplemente números aleatorios uniformes entre [-1.1]\n",
    "vecs = eigen(Hnew).vectors\n",
    "advecs = adjoint(vecs)\n",
    "\n",
    "# NADA MÁS QUEREMOS USAR LA PRIMER MITAD DE LOS VALORES ESPERADOS \n",
    "# ¿Cómo entrenar la red? \n",
    "# ¿Cuál es el formato que espera para los datos de entrada y salida? El resto se tiene que automatizar \n",
    "# Que reciba los valores esperados, pero para entrenarlo, la idea es que tome varios conjuntos de valores esperados y para cada uno de ellos valorar la red para definir \n",
    "# la función que va a minimizar. \n",
    "# Lux   (y SciML)\n",
    "# SimpleChains "
   ]
  },
  {
   "cell_type": "code",
   "execution_count": 135,
   "metadata": {},
   "outputs": [
    {
     "data": {
      "text/plain": [
       "8-element Vector{ComplexF64}:\n",
       " -1.2628281028503556 + 6.938893903907228e-18im\n",
       "   2.018982108148898 + 2.0816681711721685e-17im\n",
       " -1.0485201415148178 + 4.163336342344337e-17im\n",
       "  0.3775581544904767 - 8.326672684688674e-17im\n",
       " -0.8343597631026666 + 0.0im\n",
       " -0.2271499937098767 - 8.326672684688674e-17im\n",
       "  -0.554900876813133 - 2.7755575615628914e-17im\n",
       "  1.5312186153514757 - 1.1102230246251565e-16im"
      ]
     },
     "metadata": {},
     "output_type": "display_data"
    }
   ],
   "source": [
    "ExpVal1 = zeros(ComplexF64,size(vecs)[1])\n",
    "for i in 1:size(vecs)[1]\n",
    "    ExpVal1[i] = transpose(advecs[i,:])*A1*vecs[:,i]\n",
    "end\n",
    "\n",
    "ExpVal2 = zeros(ComplexF64,size(vecs)[1])  # ExpVal2[1] = a21 = \\bra{\\phi1_}A_2\\ket{\\phi_1}\n",
    "for i in 1:size(vecs)[1]\n",
    "    ExpVal2[i] = transpose(advecs[i,:])*A2*vecs[:,i]\n",
    "end\n",
    "ExpVal1"
   ]
  },
  {
   "cell_type": "code",
   "execution_count": 151,
   "metadata": {},
   "outputs": [
    {
     "data": {
      "text/plain": [
       "Dict{Any, Any}()"
      ]
     },
     "metadata": {},
     "output_type": "display_data"
    }
   ],
   "source": [
    "c1 = Tuple(c[1,:])\n",
    "dic = Dict()\n",
    "\n"
   ]
  },
  {
   "cell_type": "code",
   "execution_count": 152,
   "metadata": {},
   "outputs": [
    {
     "data": {
      "text/plain": [
       "2-element Vector{Vector{ComplexF64}}:\n",
       " [-1.2628281028503556 + 6.938893903907228e-18im, 2.018982108148898 + 2.0816681711721685e-17im, -1.0485201415148178 + 4.163336342344337e-17im, 0.3775581544904767 - 8.326672684688674e-17im, -0.8343597631026666 + 0.0im, -0.2271499937098767 - 8.326672684688674e-17im, -0.554900876813133 - 2.7755575615628914e-17im, 1.5312186153514757 - 1.1102230246251565e-16im]\n",
       " [3.3695147734335578 + 1.6653345369377348e-16im, 3.289810672066956 + 5.551115123125783e-17im, 0.5023315404974288 + 2.168404344971009e-18im, 0.36318247742319487 + 0.0im, -1.1559448436886575 + 5.551115123125783e-17im, -1.271649593842067 + 4.85722573273506e-17im, -2.615829017857765 + 0.0im, -2.481416008032646 + 1.1796119636642288e-16im]"
      ]
     },
     "metadata": {},
     "output_type": "display_data"
    }
   ],
   "source": [
    "dic[c1] = [ExpVal1,ExpVal2]"
   ]
  },
  {
   "cell_type": "code",
   "execution_count": 158,
   "metadata": {},
   "outputs": [
    {
     "data": {
      "text/plain": [
       "8-element Vector{ComplexF64}:\n",
       " -1.2628281028503556 + 6.938893903907228e-18im\n",
       "   2.018982108148898 + 2.0816681711721685e-17im\n",
       " -1.0485201415148178 + 4.163336342344337e-17im\n",
       "  0.3775581544904767 - 8.326672684688674e-17im\n",
       " -0.8343597631026666 + 0.0im\n",
       " -0.2271499937098767 - 8.326672684688674e-17im\n",
       "  -0.554900876813133 - 2.7755575615628914e-17im\n",
       "  1.5312186153514757 - 1.1102230246251565e-16im"
      ]
     },
     "metadata": {},
     "output_type": "display_data"
    }
   ],
   "source": [
    "dic[c1][1] #ExpVal1 "
   ]
  },
  {
   "cell_type": "code",
   "execution_count": 159,
   "metadata": {},
   "outputs": [
    {
     "data": {
      "text/plain": [
       "8-element Vector{ComplexF64}:\n",
       "  3.3695147734335578 + 1.6653345369377348e-16im\n",
       "   3.289810672066956 + 5.551115123125783e-17im\n",
       "  0.5023315404974288 + 2.168404344971009e-18im\n",
       " 0.36318247742319487 + 0.0im\n",
       " -1.1559448436886575 + 5.551115123125783e-17im\n",
       "  -1.271649593842067 + 4.85722573273506e-17im\n",
       "  -2.615829017857765 + 0.0im\n",
       "  -2.481416008032646 + 1.1796119636642288e-16im"
      ]
     },
     "metadata": {},
     "output_type": "display_data"
    }
   ],
   "source": [
    "dic[c1][2] # ExpVal2"
   ]
  },
  {
   "cell_type": "code",
   "execution_count": 160,
   "metadata": {},
   "outputs": [
    {
     "data": {
      "text/plain": [
       "(0.36996219290147137, -0.984585604995873)"
      ]
     },
     "metadata": {},
     "output_type": "display_data"
    }
   ],
   "source": [
    "c1"
   ]
  },
  {
   "cell_type": "code",
   "execution_count": 163,
   "metadata": {},
   "outputs": [
    {
     "data": {
      "text/plain": [
       "2-element Vector{Vector{ComplexF64}}:\n",
       " [-1.2628281028503556 + 6.938893903907228e-18im, 2.018982108148898 + 2.0816681711721685e-17im, -1.0485201415148178 + 4.163336342344337e-17im, 0.3775581544904767 - 8.326672684688674e-17im, -0.8343597631026666 + 0.0im, -0.2271499937098767 - 8.326672684688674e-17im, -0.554900876813133 - 2.7755575615628914e-17im, 1.5312186153514757 - 1.1102230246251565e-16im]\n",
       " [3.3695147734335578 + 1.6653345369377348e-16im, 3.289810672066956 + 5.551115123125783e-17im, 0.5023315404974288 + 2.168404344971009e-18im, 0.36318247742319487 + 0.0im, -1.1559448436886575 + 5.551115123125783e-17im, -1.271649593842067 + 4.85722573273506e-17im, -2.615829017857765 + 0.0im, -2.481416008032646 + 1.1796119636642288e-16im]"
      ]
     },
     "metadata": {},
     "output_type": "display_data"
    }
   ],
   "source": [
    "dic[c1]"
   ]
  },
  {
   "cell_type": "code",
   "execution_count": 173,
   "metadata": {},
   "outputs": [
    {
     "data": {
      "text/plain": [
       "Dict{Any, Any}()"
      ]
     },
     "metadata": {},
     "output_type": "display_data"
    }
   ],
   "source": [
    "dic2 = Dict()"
   ]
  },
  {
   "cell_type": "code",
   "execution_count": 174,
   "metadata": {},
   "outputs": [
    {
     "data": {
      "text/plain": [
       "(0.36996219290147137, -0.984585604995873)"
      ]
     },
     "metadata": {},
     "output_type": "display_data"
    }
   ],
   "source": [
    "dic2[1] = c1"
   ]
  },
  {
   "cell_type": "code",
   "execution_count": 175,
   "metadata": {},
   "outputs": [
    {
     "data": {
      "text/plain": [
       "(0.36996219290147137, -0.984585604995873)"
      ]
     },
     "metadata": {},
     "output_type": "display_data"
    }
   ],
   "source": [
    "dic2[1]"
   ]
  },
  {
   "cell_type": "code",
   "execution_count": 177,
   "metadata": {},
   "outputs": [
    {
     "data": {
      "text/plain": [
       "2-element Vector{Vector{ComplexF64}}:\n",
       " [-1.2628281028503556 + 6.938893903907228e-18im, 2.018982108148898 + 2.0816681711721685e-17im, -1.0485201415148178 + 4.163336342344337e-17im, 0.3775581544904767 - 8.326672684688674e-17im, -0.8343597631026666 + 0.0im, -0.2271499937098767 - 8.326672684688674e-17im, -0.554900876813133 - 2.7755575615628914e-17im, 1.5312186153514757 - 1.1102230246251565e-16im]\n",
       " [3.3695147734335578 + 1.6653345369377348e-16im, 3.289810672066956 + 5.551115123125783e-17im, 0.5023315404974288 + 2.168404344971009e-18im, 0.36318247742319487 + 0.0im, -1.1559448436886575 + 5.551115123125783e-17im, -1.271649593842067 + 4.85722573273506e-17im, -2.615829017857765 + 0.0im, -2.481416008032646 + 1.1796119636642288e-16im]"
      ]
     },
     "metadata": {},
     "output_type": "display_data"
    }
   ],
   "source": [
    "dic[dic2[1]]"
   ]
  },
  {
   "cell_type": "code",
   "execution_count": 182,
   "metadata": {},
   "outputs": [
    {
     "data": {
      "text/plain": [
       "Dict{Any, Any} with 10 entries:\n",
       "  5  => 10\n",
       "  4  => 8\n",
       "  6  => 12\n",
       "  7  => 14\n",
       "  2  => 4\n",
       "  10 => 20\n",
       "  9  => 18\n",
       "  8  => 16\n",
       "  3  => 6\n",
       "  1  => 2"
      ]
     },
     "metadata": {},
     "output_type": "display_data"
    }
   ],
   "source": [
    "dic3 = Dict()\n",
    "for i in 1:10\n",
    "    dic3[i] = 2*i\n",
    "end\n",
    "dic3"
   ]
  },
  {
   "cell_type": "code",
   "execution_count": 183,
   "metadata": {},
   "outputs": [
    {
     "data": {
      "text/plain": [
       "14"
      ]
     },
     "metadata": {},
     "output_type": "display_data"
    }
   ],
   "source": [
    "dic3[7]"
   ]
  },
  {
   "cell_type": "code",
   "execution_count": 199,
   "metadata": {},
   "outputs": [
    {
     "data": {
      "text/plain": [
       "(-0.13659082060630778, -0.9472960560057897)"
      ]
     },
     "metadata": {},
     "output_type": "display_data"
    }
   ],
   "source": [
    "Cdic = Dict()\n",
    "for k in 1:1000\n",
    "    Cdic[\"c$k\"] = Tuple(c[k,:])\n",
    "end\n",
    "Cdic[\"c2\"]"
   ]
  },
  {
   "cell_type": "code",
   "execution_count": 205,
   "metadata": {},
   "outputs": [
    {
     "data": {
      "text/plain": [
       "(0.01677094343142782, -0.9571081572929685)"
      ]
     },
     "metadata": {},
     "output_type": "display_data"
    }
   ],
   "source": [
    "Cdic[\"c725\"]"
   ]
  },
  {
   "cell_type": "code",
   "execution_count": null,
   "metadata": {},
   "outputs": [],
   "source": []
  }
 ],
 "metadata": {
  "kernelspec": {
   "display_name": "Julia 1.11.3",
   "language": "julia",
   "name": "julia-1.11"
  },
  "language_info": {
   "file_extension": ".jl",
   "mimetype": "application/julia",
   "name": "julia",
   "version": "1.11.3"
  }
 },
 "nbformat": 4,
 "nbformat_minor": 2
}
