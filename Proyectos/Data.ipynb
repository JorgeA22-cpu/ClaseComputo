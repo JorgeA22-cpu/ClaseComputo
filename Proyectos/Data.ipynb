{
 "cells": [
  {
   "cell_type": "code",
   "execution_count": 217,
   "metadata": {},
   "outputs": [],
   "source": [
    "using Plots\n",
    "using LinearAlgebra\n",
    "using LaTeXStrings\n",
    "using HDF5\n",
    "\n",
    "using Lux, MLUtils, Optimisers, Zygote, OneHotArrays, Random, Statistics, Printf, Reactant\n",
    "using MLDatasets: MNIST\n",
    "using SimpleChains: SimpleChains\n",
    "\n",
    "Reactant.set_default_backend(\"cpu\")"
   ]
  },
  {
   "cell_type": "markdown",
   "metadata": {},
   "source": [
    "No supervisado\n",
    "\n",
    "Familias de Hamiltonianos y se generen valores esperados\n",
    "y si se usa clustering y se agrupa con los datos e identificar los que se parecen \n",
    "y si se puede identificar las familias de Hamiltonianos\n",
    "\n",
    "normalización de batches \n",
    "y dropout (Para eliminar aleatoriamente)"
   ]
  },
  {
   "cell_type": "code",
   "execution_count": 148,
   "metadata": {},
   "outputs": [
    {
     "data": {
      "text/plain": [
       "3-element Vector{UnitRange{Int64}}:\n",
       " 1:3\n",
       " 1:3\n",
       " 1:3"
      ]
     },
     "metadata": {},
     "output_type": "display_data"
    }
   ],
   "source": [
    "k=3\n",
    "list = [1:3  for _ in 1:k]"
   ]
  },
  {
   "cell_type": "code",
   "execution_count": 149,
   "metadata": {},
   "outputs": [
    {
     "data": {
      "text/plain": [
       "2×2 Matrix{Int64}:\n",
       " 0  1\n",
       " 1  0"
      ]
     },
     "metadata": {},
     "output_type": "display_data"
    }
   ],
   "source": [
    "N = 3 # number of qubits\n",
    "d = 2^N # dimension of the Hilbert space\n",
    "\n",
    "sigmax = [0 1; 1 0]\n",
    "sigmay = [0 -im; im 0]\n",
    "sigmaz = [1 0; 0 -1]\n",
    "id= [1 0; 0 1] # Matriz identidad\n",
    "\n",
    "\n",
    "Sigma = Dict(0 => id, 1 => sigmax, 2 => sigmay, 3 => sigmaz) #Diccionario para llamar a las matrices de Pauli\n",
    "Sigma[1]"
   ]
  },
  {
   "cell_type": "markdown",
   "metadata": {},
   "source": [
    "### a |> f = f(a)"
   ]
  },
  {
   "cell_type": "code",
   "execution_count": 150,
   "metadata": {},
   "outputs": [],
   "source": [
    "#particles= 10\n",
    "#k=3\n",
    "#list=[1:3 for _ in 1:k]\n",
    "#test_visual_list = []\n",
    "#for place in 1:particles-k+1\n",
    "#    for i in Base.product(list...)\n",
    "#        total_list=zeros(particles)\n",
    "#        total_list[place:place+k-1]= i|>collect\n",
    "#        print(total_list)\n",
    "#        push!(test_visual_list,total_list)\n",
    "#        print(\"\\n\")\n",
    "#    end\n",
    "#end"
   ]
  },
  {
   "cell_type": "code",
   "execution_count": 151,
   "metadata": {},
   "outputs": [
    {
     "data": {
      "text/plain": [
       "15-element Vector{Float64}:\n",
       " -0.9738478165164566\n",
       " -0.9302133046999943\n",
       "  0.5256253273451545\n",
       " -0.6459948240151858\n",
       "  0.7985461365158004\n",
       "  0.5993859013377856\n",
       " -0.7937045161990621\n",
       "  0.25842555101688247\n",
       "  0.7053306366329797\n",
       "  0.791377910037746\n",
       " -0.7981691026834881\n",
       "  0.7036095913520723\n",
       "  0.119502665563195\n",
       " -0.9061488798078601\n",
       "  0.05948602393335012"
      ]
     },
     "metadata": {},
     "output_type": "display_data"
    }
   ],
   "source": [
    "# Usarlo para la suma \n",
    "N = particles\n",
    "C = test_visual_list\n",
    "x = rand(length(test_visual_list))*2 .-1\n",
    "# A = reduce(kron, [Sigma[C[1][i]] for i in eachindex(C[1])])\n"
   ]
  },
  {
   "cell_type": "code",
   "execution_count": 152,
   "metadata": {},
   "outputs": [
    {
     "data": {
      "text/plain": [
       "8×8 Matrix{ComplexF64}:\n",
       "    1.28872+0.0im        -1.4397+0.539744im   …         0.0+0.0im\n",
       "    -1.4397-0.539744im  -0.23747+0.0im                  0.0+0.0im\n",
       "  -0.854345-1.83636im    1.58992-0.105945im             0.0+0.0im\n",
       " 0.00716823+1.30472im   -1.09335-0.0240644im            0.0+0.0im\n",
       "        0.0+0.0im            0.0+0.0im           0.00716823-1.30472im\n",
       "        0.0+0.0im            0.0+0.0im        …    -1.09335+0.0240644im\n",
       "        0.0+0.0im            0.0+0.0im              0.14771-1.05659im\n",
       "        0.0+0.0im            0.0+0.0im             -1.16975+0.0im"
      ]
     },
     "metadata": {},
     "output_type": "display_data"
    }
   ],
   "source": [
    "H = zeros(ComplexF64,2^N,2^N)\n",
    "for k in 1:length(test_visual_list)\n",
    "    H += x[k]*reduce(kron, [Sigma[C[k][i]] for i in eachindex(C[1])])\n",
    "end\n",
    "H "
   ]
  },
  {
   "cell_type": "code",
   "execution_count": 153,
   "metadata": {},
   "outputs": [
    {
     "data": {
      "text/plain": [
       "8×8 Matrix{ComplexF64}:\n",
       "    1.28872+0.0im        -1.4397+0.539744im   …         0.0+0.0im\n",
       "    -1.4397-0.539744im  -0.23747+0.0im                  0.0+0.0im\n",
       "  -0.854345-1.83636im    1.58992-0.105945im             0.0+0.0im\n",
       " 0.00716823+1.30472im   -1.09335-0.0240644im            0.0+0.0im\n",
       "        0.0+0.0im            0.0+0.0im           0.00716823-1.30472im\n",
       "        0.0+0.0im            0.0+0.0im        …    -1.09335+0.0240644im\n",
       "        0.0+0.0im            0.0+0.0im              0.14771-1.05659im\n",
       "        0.0+0.0im            0.0+0.0im             -1.16975+0.0im"
      ]
     },
     "metadata": {},
     "output_type": "display_data"
    }
   ],
   "source": [
    "H = zeros(ComplexF64,2^N,2^N)\n",
    "for k in 1:length(test_visual_list)\n",
    "    H += x[k]*kron([Sigma[C[k][i]] for i in eachindex(C[1])]...)\n",
    "end\n",
    "H \n",
    "\n",
    "# Hay que guardar las A's\n",
    "# Buscar el mejor formato para guardar matrices en Julia "
   ]
  },
  {
   "cell_type": "markdown",
   "metadata": {},
   "source": [
    "$\\{A_i\\}$ deben ser operadores fijos lo que varían son 1000 datos distintos del conjunto de $\\{c_i\\}$ y tomar la mitad inferior de $\\{\\ket{\\psi_n\\}}$ ¿Qué tanto podemos reducir los estados y que nos siga dando una buena aproximación? "
   ]
  },
  {
   "cell_type": "markdown",
   "metadata": {},
   "source": [
    "### Almacenar todos los operadores locales A "
   ]
  },
  {
   "cell_type": "code",
   "execution_count": 154,
   "metadata": {},
   "outputs": [],
   "source": [
    "#particles=3\n",
    "#k=3\n",
    "#list=[0:3 for _ in 1:k]\n",
    "#test_visual_list2 = []\n",
    "#for place in 1:particles-k+1\n",
    "#for i in Base.product(list...)\n",
    "#    total_list=zeros(particles)\n",
    "#    total_list[place:place+k-1]= i|>collect\n",
    "#    print(total_list)\n",
    "#    push!(test_visual_list,total_list)\n",
    "#    print(\"\\n\")\n",
    "#end\n",
    "#end"
   ]
  },
  {
   "cell_type": "code",
   "execution_count": 155,
   "metadata": {},
   "outputs": [
    {
     "data": {
      "text/plain": [
       "15-element Vector{Any}:\n",
       " [0.0, 1.0, 0.0]\n",
       " [0.0, 2.0, 0.0]\n",
       " [0.0, 3.0, 0.0]\n",
       " [0.0, 0.0, 1.0]\n",
       " [0.0, 1.0, 1.0]\n",
       " [0.0, 2.0, 1.0]\n",
       " [0.0, 3.0, 1.0]\n",
       " [0.0, 0.0, 2.0]\n",
       " [0.0, 1.0, 2.0]\n",
       " [0.0, 2.0, 2.0]\n",
       " [0.0, 3.0, 2.0]\n",
       " [0.0, 0.0, 3.0]\n",
       " [0.0, 1.0, 3.0]\n",
       " [0.0, 2.0, 3.0]\n",
       " [0.0, 3.0, 3.0]"
      ]
     },
     "metadata": {},
     "output_type": "display_data"
    }
   ],
   "source": [
    "particles=3\n",
    "k=2\n",
    "list=[0:3 for _ in 1:k]\n",
    "test_visual_list = []\n",
    "place= 2\n",
    "for i in Base.product(list...)\n",
    "    total_list=zeros(particles)\n",
    "    total_list[place:place+k-1]= i|>collect\n",
    "    if sum(total_list) != 0\n",
    "        ##print(total_list)\n",
    "        push!(test_visual_list,total_list)\n",
    "    end\n",
    "   # print(\"\\n\")\n",
    "end\n",
    "test_visual_list"
   ]
  },
  {
   "cell_type": "code",
   "execution_count": 156,
   "metadata": {},
   "outputs": [
    {
     "data": {
      "text/plain": [
       "3.0"
      ]
     },
     "metadata": {},
     "output_type": "display_data"
    }
   ],
   "source": [
    "sum(test_visual_list[6])"
   ]
  },
  {
   "cell_type": "code",
   "execution_count": 157,
   "metadata": {},
   "outputs": [
    {
     "data": {
      "text/plain": [
       "12-element Vector{Any}:\n",
       " [1.0, 0.0, 0.0]\n",
       " [2.0, 0.0, 0.0]\n",
       " [3.0, 0.0, 0.0]\n",
       " [0.0, 1.0, 0.0]\n",
       " [2.0, 1.0, 0.0]\n",
       " [3.0, 1.0, 0.0]\n",
       " [0.0, 2.0, 0.0]\n",
       " [1.0, 2.0, 0.0]\n",
       " [3.0, 2.0, 0.0]\n",
       " [0.0, 3.0, 0.0]\n",
       " [1.0, 3.0, 0.0]\n",
       " [2.0, 3.0, 0.0]"
      ]
     },
     "metadata": {},
     "output_type": "display_data"
    }
   ],
   "source": [
    "particles = 3 \n",
    "place = 1\n",
    "\n",
    "k=2\n",
    "list=[0:3 for _ in 1:k]\n",
    "test_visual_list = []\n",
    "\n",
    "for i in Base.product(list...)\n",
    "    total_list=zeros(particles)\n",
    "    total_list[place:place+k-1]= i|>collect\n",
    "    if sum(total_list) != 0\n",
    "        ##print(total_list)\n",
    "        push!(test_visual_list,total_list)\n",
    "    end\n",
    "   # print(\"\\n\")\n",
    "end\n",
    "\n",
    "ArrayA1 = []\n",
    "for i in 1:length(test_visual_list)\n",
    "    if test_visual_list[i][place] != test_visual_list[i][place+1] && sum(test_visual_list[i]) != 0\n",
    "        push!(ArrayA1,test_visual_list[i])\n",
    "    end\n",
    "end\n",
    "ArrayA1"
   ]
  },
  {
   "cell_type": "code",
   "execution_count": 158,
   "metadata": {},
   "outputs": [
    {
     "data": {
      "text/plain": [
       "12-element Vector{Any}:\n",
       " [0.0, 1.0, 0.0]\n",
       " [0.0, 2.0, 0.0]\n",
       " [0.0, 3.0, 0.0]\n",
       " [0.0, 0.0, 1.0]\n",
       " [0.0, 2.0, 1.0]\n",
       " [0.0, 3.0, 1.0]\n",
       " [0.0, 0.0, 2.0]\n",
       " [0.0, 1.0, 2.0]\n",
       " [0.0, 3.0, 2.0]\n",
       " [0.0, 0.0, 3.0]\n",
       " [0.0, 1.0, 3.0]\n",
       " [0.0, 2.0, 3.0]"
      ]
     },
     "metadata": {},
     "output_type": "display_data"
    }
   ],
   "source": [
    "particles = 3 \n",
    "place = 2\n",
    "\n",
    "k=2\n",
    "list=[0:3 for _ in 1:k]\n",
    "test_visual_list = []\n",
    "\n",
    "for i in Base.product(list...)\n",
    "    total_list=zeros(particles)\n",
    "    total_list[place:place+k-1]= i|>collect\n",
    "    if sum(total_list) != 0\n",
    "        ##print(total_list)\n",
    "        push!(test_visual_list,total_list)\n",
    "    end\n",
    "   # print(\"\\n\")\n",
    "end\n",
    "\n",
    "ArrayA2 = []\n",
    "for i in 1:length(test_visual_list)\n",
    "    if test_visual_list[i][place] != test_visual_list[i][place+1] && sum(test_visual_list[i]) != 0\n",
    "        push!(ArrayA2,test_visual_list[i])\n",
    "    end\n",
    "end\n",
    "ArrayA2"
   ]
  },
  {
   "cell_type": "code",
   "execution_count": 159,
   "metadata": {},
   "outputs": [
    {
     "data": {
      "text/plain": [
       "12-element Vector{Any}:\n",
       " [1.0, 0.0, 0.0]\n",
       " [2.0, 0.0, 0.0]\n",
       " [3.0, 0.0, 0.0]\n",
       " [0.0, 1.0, 0.0]\n",
       " [2.0, 1.0, 0.0]\n",
       " [3.0, 1.0, 0.0]\n",
       " [0.0, 2.0, 0.0]\n",
       " [1.0, 2.0, 0.0]\n",
       " [3.0, 2.0, 0.0]\n",
       " [0.0, 3.0, 0.0]\n",
       " [1.0, 3.0, 0.0]\n",
       " [2.0, 3.0, 0.0]"
      ]
     },
     "metadata": {},
     "output_type": "display_data"
    }
   ],
   "source": [
    "ArrayA1"
   ]
  },
  {
   "cell_type": "code",
   "execution_count": 160,
   "metadata": {},
   "outputs": [
    {
     "data": {
      "text/plain": [
       "12-element Vector{Float64}:\n",
       "  0.823129193482572\n",
       " -0.00897129213709702\n",
       "  0.7252209007953303\n",
       "  0.6065046400540102\n",
       " -0.3903552223969231\n",
       "  0.33158220869199084\n",
       " -0.12974537749002457\n",
       "  0.38318985289170193\n",
       "  0.9959493243321633\n",
       " -0.008111024786726873\n",
       "  0.10315237342271799\n",
       " -0.4391129097367059"
      ]
     },
     "metadata": {},
     "output_type": "display_data"
    }
   ],
   "source": [
    "ArrayA2\n",
    "\n",
    "xaleat = rand(length(ArrayA1))*2 .-1\n",
    "xaleat2 = rand(length(ArrayA2))*2 .-1"
   ]
  },
  {
   "cell_type": "code",
   "execution_count": 161,
   "metadata": {},
   "outputs": [],
   "source": [
    "\n",
    "xaleat = rand(length(ArrayA1))*2 .-1\n",
    "xaleat2 = rand(length(ArrayA2))*2 .-1\n",
    "\n",
    "A1= zeros(2^particles,2^particles)\n",
    "\n",
    "for k in 1:length(ArrayA1)\n",
    "    A1 += xaleat[k]*kron([Sigma[ArrayA1[k][i]] for i in eachindex(ArrayA1[1])]...)\n",
    "end\n",
    "\n",
    "A2= zeros(2^particles,2^particles)\n",
    "\n",
    "for k in 1:length(ArrayA2)\n",
    "    A2 += xaleat2[k]*kron([Sigma[ArrayA2[k][i]] for i in eachindex(ArrayA2[1])]...)\n",
    "end"
   ]
  },
  {
   "cell_type": "code",
   "execution_count": 162,
   "metadata": {},
   "outputs": [
    {
     "data": {
      "text/plain": [
       "8×8 Matrix{ComplexF64}:\n",
       " -0.735991+0.0im             0.0+0.0im       …       0.0+0.0im\n",
       "       0.0+0.0im       -0.735991+0.0im               0.0+0.285814im\n",
       " -0.480756+1.01058im         0.0+0.0im               0.0+0.0im\n",
       "       0.0+0.0im       -0.480756+1.01058im      0.550072-0.548883im\n",
       "   1.03725-0.564143im        0.0+0.0im               0.0+0.0im\n",
       "       0.0+0.0im         1.03725-0.564143im  …   1.42854+0.492062im\n",
       "       0.0-0.285814im        0.0+0.0im               0.0+0.0im\n",
       "       0.0+0.0im             0.0-0.285814im     0.735991+0.0im"
      ]
     },
     "metadata": {},
     "output_type": "display_data"
    }
   ],
   "source": [
    "A1"
   ]
  },
  {
   "cell_type": "code",
   "execution_count": 163,
   "metadata": {},
   "outputs": [
    {
     "data": {
      "text/plain": [
       "8×8 Matrix{ComplexF64}:\n",
       " 0.478815+0.0im         1.34035+0.707974im  …        0.0+0.0im\n",
       "  1.34035-0.707974im   -1.24241+0.0im                0.0+0.0im\n",
       " 0.859461-0.115142im        0.0+1.40049im            0.0+0.0im\n",
       "      0.0+0.389849im  -0.946175-0.154337im           0.0+0.0im\n",
       "      0.0+0.0im             0.0+0.0im                0.0-0.389849im\n",
       "      0.0+0.0im             0.0+0.0im       …  -0.946175+0.154337im\n",
       "      0.0+0.0im             0.0+0.0im           0.222793-1.23543im\n",
       "      0.0+0.0im             0.0+0.0im          -0.478815+0.0im"
      ]
     },
     "metadata": {},
     "output_type": "display_data"
    }
   ],
   "source": [
    "A2"
   ]
  },
  {
   "cell_type": "markdown",
   "metadata": {},
   "source": [
    "Ya tengo dos operadores locales para el caso de 3 partículas, será un problema generalizar, porque lo tendré que hacer a mano pues no veo una forma buena de hacer los Arrays, tal vez deba ver cómo hacerlo en diccionario..."
   ]
  },
  {
   "cell_type": "markdown",
   "metadata": {},
   "source": [
    "$H = \\sum_i C_i A_i$, aquí es donde queremos generar 1000 pares de elementos C1 y C2 para formar distintos Hamiltonianos y almacenarlos "
   ]
  },
  {
   "cell_type": "markdown",
   "metadata": {},
   "source": [
    "Necesito los promedios también de A1 y A2 con los vectores propios de H, haremos una prueba para un sólo valor "
   ]
  },
  {
   "cell_type": "code",
   "execution_count": 164,
   "metadata": {},
   "outputs": [
    {
     "data": {
      "text/plain": [
       "1000×2 Matrix{Float64}:\n",
       " -0.238289  -0.506801\n",
       " -0.900158  -0.641899\n",
       " -0.353871   0.29319\n",
       " -0.929936  -0.415893\n",
       "  0.846465  -0.457403\n",
       " -0.525005  -0.0328501\n",
       "  0.180528   0.128496\n",
       " -0.136521  -0.981029\n",
       "  0.937748   0.351533\n",
       " -0.335367   0.336217\n",
       "  ⋮         \n",
       " -0.433345  -0.248591\n",
       "  0.649308   0.872415\n",
       " -0.209499  -0.749353\n",
       " -0.658759   0.315197\n",
       "  0.402498  -0.987806\n",
       "  0.058409  -0.0914151\n",
       " -0.511936  -0.539549\n",
       " -0.543001  -0.171723\n",
       "  0.715052   0.389318"
      ]
     },
     "metadata": {},
     "output_type": "display_data"
    }
   ],
   "source": [
    "c = rand(1000,2)*2 .-1 # sería conveniente generar una matriz de n x 2 "
   ]
  },
  {
   "cell_type": "code",
   "execution_count": 165,
   "metadata": {},
   "outputs": [
    {
     "data": {
      "text/plain": [
       "8×8 adjoint(::Matrix{ComplexF64}) with eltype ComplexF64:\n",
       "  0.0376071-0.145957im       0.143352-0.0207628im  …   -0.281363+0.0im\n",
       "   0.122282-0.37517im        0.338102-0.231257im       0.0878286-0.0im\n",
       " -0.0433209+0.38163im     0.000553374+0.101259im        -0.42886+0.0im\n",
       " -0.0311289+0.680561im     -0.0140593+0.152944im        0.448221+0.0im\n",
       " -0.0572749+0.232075im    0.000292864+0.165375im       -0.531737+0.0im\n",
       "  -0.126654-0.00738936im     0.177544+0.0803154im  …    0.447758-0.0im\n",
       "  0.0267408-0.181044im      -0.191807+0.406692im        0.201813+0.0im\n",
       "   -0.24407-0.208877im        0.35613+0.618906im      -0.0658574+0.0im"
      ]
     },
     "metadata": {},
     "output_type": "display_data"
    }
   ],
   "source": [
    "Hnew = c[1,1]A1 + c[1,2]A2 # Recordemos quiero almacenar ai y ci, ai son promedios de los operadores y ci son simplemente números aleatorios uniformes entre [-1.1]\n",
    "vecs = eigen(Hnew).vectors\n",
    "advecs = adjoint(vecs)\n",
    "\n",
    "# NADA MÁS QUEREMOS USAR LA PRIMER MITAD DE LOS VALORES ESPERADOS \n",
    "# ¿Cómo entrenar la red? \n",
    "# ¿Cuál es el formato que espera para los datos de entrada y salida? El resto se tiene que automatizar \n",
    "# Que reciba los valores esperados, pero para entrenarlo, la idea es que tome varios conjuntos de valores esperados y para cada uno de ellos valorar la red para definir \n",
    "# la función que va a minimizar. \n",
    "# Lux   (y SciML)\n",
    "# SimpleChains "
   ]
  },
  {
   "cell_type": "code",
   "execution_count": 166,
   "metadata": {},
   "outputs": [
    {
     "data": {
      "text/plain": [
       "8-element Vector{ComplexF64}:\n",
       "    1.5500912194934657 + 2.7755575615628914e-17im\n",
       "   0.23011620266558952 + 4.85722573273506e-17im\n",
       "     0.321398379377449 + 8.326672684688674e-17im\n",
       "  -0.43748897402539066 - 1.0408340855860843e-16im\n",
       " -0.006819342908031434 + 4.163336342344337e-17im\n",
       "  -0.08554759983723718 + 1.3877787807814457e-17im\n",
       "   0.04249060936851143 - 3.469446951953614e-17im\n",
       "   -1.6142404941343536 - 6.938893903907228e-17im"
      ]
     },
     "metadata": {},
     "output_type": "display_data"
    }
   ],
   "source": [
    "ExpVal1 = zeros(ComplexF64,size(vecs)[1])\n",
    "for i in 1:size(vecs)[1]\n",
    "    ExpVal1[i] = transpose(advecs[i,:])*A1*vecs[:,i]\n",
    "end\n",
    "\n",
    "ExpVal2 = zeros(ComplexF64,size(vecs)[1])  # ExpVal2[1] = a21 = \\bra{\\phi1_}A_2\\ket{\\phi_1}\n",
    "for i in 1:size(vecs)[1]\n",
    "    ExpVal2[i] = transpose(advecs[i,:])*A2*vecs[:,i]\n",
    "end\n",
    "ExpVal1"
   ]
  },
  {
   "cell_type": "code",
   "execution_count": 167,
   "metadata": {},
   "outputs": [
    {
     "data": {
      "text/plain": [
       "Dict{Any, Any}()"
      ]
     },
     "metadata": {},
     "output_type": "display_data"
    }
   ],
   "source": [
    "c1 = Tuple(c[1,:])\n",
    "dic = Dict()\n",
    "\n"
   ]
  },
  {
   "cell_type": "code",
   "execution_count": 168,
   "metadata": {},
   "outputs": [
    {
     "data": {
      "text/plain": [
       "2-element Vector{Float64}:\n",
       " -0.23828876274506272\n",
       " -0.5068009618372973"
      ]
     },
     "metadata": {},
     "output_type": "display_data"
    }
   ],
   "source": [
    "c[1,:]"
   ]
  },
  {
   "cell_type": "code",
   "execution_count": 169,
   "metadata": {},
   "outputs": [
    {
     "data": {
      "text/plain": [
       "2-element Vector{Vector{ComplexF64}}:\n",
       " [1.5500912194934657 + 2.7755575615628914e-17im, 0.23011620266558952 + 4.85722573273506e-17im, 0.321398379377449 + 8.326672684688674e-17im, -0.43748897402539066 - 1.0408340855860843e-16im, -0.006819342908031434 + 4.163336342344337e-17im, -0.08554759983723718 + 1.3877787807814457e-17im, 0.04249060936851143 - 3.469446951953614e-17im, -1.6142404941343536 - 6.938893903907228e-17im]\n",
       " [3.1256527932559197 + 1.3877787807814457e-17im, 3.047003235935093 + 5.551115123125783e-17im, 0.6203453970342097 + 3.469446951953614e-17im, 0.021797938653720622 + 3.469446951953614e-18im, -0.6726195615269296 - 2.7755575615628914e-17im, -1.2921229890280586 + 2.7755575615628914e-17im, -2.3485543126644837 + 0.0im, -2.5015025016594725 - 8.326672684688674e-17im]"
      ]
     },
     "metadata": {},
     "output_type": "display_data"
    }
   ],
   "source": [
    "dic[c1] = [ExpVal1,ExpVal2]"
   ]
  },
  {
   "cell_type": "code",
   "execution_count": 170,
   "metadata": {},
   "outputs": [
    {
     "data": {
      "text/plain": [
       "8-element Vector{ComplexF64}:\n",
       "    1.5500912194934657 + 2.7755575615628914e-17im\n",
       "   0.23011620266558952 + 4.85722573273506e-17im\n",
       "     0.321398379377449 + 8.326672684688674e-17im\n",
       "  -0.43748897402539066 - 1.0408340855860843e-16im\n",
       " -0.006819342908031434 + 4.163336342344337e-17im\n",
       "  -0.08554759983723718 + 1.3877787807814457e-17im\n",
       "   0.04249060936851143 - 3.469446951953614e-17im\n",
       "   -1.6142404941343536 - 6.938893903907228e-17im"
      ]
     },
     "metadata": {},
     "output_type": "display_data"
    }
   ],
   "source": [
    "dic[c1][1] #ExpVal1 "
   ]
  },
  {
   "cell_type": "code",
   "execution_count": 171,
   "metadata": {},
   "outputs": [
    {
     "data": {
      "text/plain": [
       "8-element Vector{ComplexF64}:\n",
       "   3.1256527932559197 + 1.3877787807814457e-17im\n",
       "    3.047003235935093 + 5.551115123125783e-17im\n",
       "   0.6203453970342097 + 3.469446951953614e-17im\n",
       " 0.021797938653720622 + 3.469446951953614e-18im\n",
       "  -0.6726195615269296 - 2.7755575615628914e-17im\n",
       "  -1.2921229890280586 + 2.7755575615628914e-17im\n",
       "  -2.3485543126644837 + 0.0im\n",
       "  -2.5015025016594725 - 8.326672684688674e-17im"
      ]
     },
     "metadata": {},
     "output_type": "display_data"
    }
   ],
   "source": [
    "dic[c1][2] # ExpVal2"
   ]
  },
  {
   "cell_type": "code",
   "execution_count": 172,
   "metadata": {},
   "outputs": [
    {
     "data": {
      "text/plain": [
       "(-0.23828876274506272, -0.5068009618372973)"
      ]
     },
     "metadata": {},
     "output_type": "display_data"
    }
   ],
   "source": [
    "c1"
   ]
  },
  {
   "cell_type": "code",
   "execution_count": 173,
   "metadata": {},
   "outputs": [
    {
     "data": {
      "text/plain": [
       "2-element Vector{Vector{ComplexF64}}:\n",
       " [1.5500912194934657 + 2.7755575615628914e-17im, 0.23011620266558952 + 4.85722573273506e-17im, 0.321398379377449 + 8.326672684688674e-17im, -0.43748897402539066 - 1.0408340855860843e-16im, -0.006819342908031434 + 4.163336342344337e-17im, -0.08554759983723718 + 1.3877787807814457e-17im, 0.04249060936851143 - 3.469446951953614e-17im, -1.6142404941343536 - 6.938893903907228e-17im]\n",
       " [3.1256527932559197 + 1.3877787807814457e-17im, 3.047003235935093 + 5.551115123125783e-17im, 0.6203453970342097 + 3.469446951953614e-17im, 0.021797938653720622 + 3.469446951953614e-18im, -0.6726195615269296 - 2.7755575615628914e-17im, -1.2921229890280586 + 2.7755575615628914e-17im, -2.3485543126644837 + 0.0im, -2.5015025016594725 - 8.326672684688674e-17im]"
      ]
     },
     "metadata": {},
     "output_type": "display_data"
    }
   ],
   "source": [
    "dic[c1]"
   ]
  },
  {
   "cell_type": "code",
   "execution_count": 174,
   "metadata": {},
   "outputs": [
    {
     "data": {
      "text/plain": [
       "Dict{Any, Any}()"
      ]
     },
     "metadata": {},
     "output_type": "display_data"
    }
   ],
   "source": [
    "dic2 = Dict()"
   ]
  },
  {
   "cell_type": "code",
   "execution_count": 175,
   "metadata": {},
   "outputs": [
    {
     "data": {
      "text/plain": [
       "(-0.23828876274506272, -0.5068009618372973)"
      ]
     },
     "metadata": {},
     "output_type": "display_data"
    }
   ],
   "source": [
    "dic2[1] = c1"
   ]
  },
  {
   "cell_type": "code",
   "execution_count": 176,
   "metadata": {},
   "outputs": [
    {
     "data": {
      "text/plain": [
       "(-0.23828876274506272, -0.5068009618372973)"
      ]
     },
     "metadata": {},
     "output_type": "display_data"
    }
   ],
   "source": [
    "dic2[1]"
   ]
  },
  {
   "cell_type": "code",
   "execution_count": 177,
   "metadata": {},
   "outputs": [
    {
     "data": {
      "text/plain": [
       "Dict{Any, Any} with 1 entry:\n",
       "  1 => (-0.238289, -0.506801)"
      ]
     },
     "metadata": {},
     "output_type": "display_data"
    }
   ],
   "source": [
    "dic2"
   ]
  },
  {
   "cell_type": "code",
   "execution_count": 178,
   "metadata": {},
   "outputs": [
    {
     "data": {
      "text/plain": [
       "2-element Vector{Vector{ComplexF64}}:\n",
       " [1.5500912194934657 + 2.7755575615628914e-17im, 0.23011620266558952 + 4.85722573273506e-17im, 0.321398379377449 + 8.326672684688674e-17im, -0.43748897402539066 - 1.0408340855860843e-16im, -0.006819342908031434 + 4.163336342344337e-17im, -0.08554759983723718 + 1.3877787807814457e-17im, 0.04249060936851143 - 3.469446951953614e-17im, -1.6142404941343536 - 6.938893903907228e-17im]\n",
       " [3.1256527932559197 + 1.3877787807814457e-17im, 3.047003235935093 + 5.551115123125783e-17im, 0.6203453970342097 + 3.469446951953614e-17im, 0.021797938653720622 + 3.469446951953614e-18im, -0.6726195615269296 - 2.7755575615628914e-17im, -1.2921229890280586 + 2.7755575615628914e-17im, -2.3485543126644837 + 0.0im, -2.5015025016594725 - 8.326672684688674e-17im]"
      ]
     },
     "metadata": {},
     "output_type": "display_data"
    }
   ],
   "source": [
    "dic[dic2[1]]"
   ]
  },
  {
   "cell_type": "code",
   "execution_count": 179,
   "metadata": {},
   "outputs": [
    {
     "data": {
      "text/plain": [
       "Dict{Any, Any} with 10 entries:\n",
       "  5  => 10\n",
       "  4  => 8\n",
       "  6  => 12\n",
       "  7  => 14\n",
       "  2  => 4\n",
       "  10 => 20\n",
       "  9  => 18\n",
       "  8  => 16\n",
       "  3  => 6\n",
       "  1  => 2"
      ]
     },
     "metadata": {},
     "output_type": "display_data"
    }
   ],
   "source": [
    "dic3 = Dict()\n",
    "for i in 1:10\n",
    "    dic3[i] = 2*i\n",
    "end\n",
    "dic3"
   ]
  },
  {
   "cell_type": "code",
   "execution_count": 180,
   "metadata": {},
   "outputs": [
    {
     "data": {
      "text/plain": [
       "14"
      ]
     },
     "metadata": {},
     "output_type": "display_data"
    }
   ],
   "source": [
    "dic3[7]"
   ]
  },
  {
   "cell_type": "code",
   "execution_count": 181,
   "metadata": {},
   "outputs": [],
   "source": []
  },
  {
   "cell_type": "code",
   "execution_count": 182,
   "metadata": {},
   "outputs": [
    {
     "data": {
      "text/plain": [
       "12-element Vector{Float64}:\n",
       " -0.17498394822794983\n",
       "  0.8380225721911656\n",
       "  0.1417263704826679\n",
       " -0.7637615431260603\n",
       "  0.6632700494386128\n",
       "  0.2815916665005975\n",
       " -0.4316316160203617\n",
       "  0.29626077372525206\n",
       "  0.9563119835770846\n",
       " -0.9285458885203521\n",
       " -0.5349047698012537\n",
       "  0.5613081646999114"
      ]
     },
     "metadata": {},
     "output_type": "display_data"
    }
   ],
   "source": [
    "xaleatMat1 = rand(1000,length(ArrayA1)).*2 .-1\n",
    "xaleatMat2 = rand(1000,length(ArrayA2)).*2 .-1\n",
    "\n",
    "APrueba = zeros(2^particles,2^particles)\n",
    "APrueba2 = ones(2^particles,2^particles)\n",
    "\n",
    "dicPrueba = Dict()\n",
    "dicPrueba[1] = APrueba\n",
    "dicPrueba[2] = APrueba2\n",
    "dicPrueba[1][:,:]\n",
    "xaleatMat1[1,:]"
   ]
  },
  {
   "cell_type": "code",
   "execution_count": 183,
   "metadata": {},
   "outputs": [
    {
     "data": {
      "text/plain": [
       "8×8 Matrix{ComplexF64}:\n",
       " -0.721096+0.0im          0.36575-0.132638im   …         0.0+0.0im\n",
       "   0.36575+0.132638im   -0.593093+0.0im                  0.0+0.19821im\n",
       " -0.416749-0.386707im         0.0+1.00784im              0.0+0.0im\n",
       "       0.0-0.166546im   -0.685909+0.0390603im      -0.272632-0.334006im\n",
       " 0.0775721-0.0327643im        0.0+0.0im                  0.0+0.166546im\n",
       "       0.0+0.0im        0.0775721-0.0327643im  …   -0.478865-0.309127im\n",
       "       0.0-0.19821im          0.0+0.0im           -0.0425611-0.0233591im\n",
       "       0.0+0.0im              0.0-0.19821im         0.721096+0.0im"
      ]
     },
     "metadata": {},
     "output_type": "display_data"
    }
   ],
   "source": [
    "# Construcción de las 1000 tuplas con dos constantes aleatorias para c1 y c2 para A1 y A2 respectivamente\n",
    "Cdic = Dict()\n",
    "for k in 1:1000\n",
    "    Cdic[k] = Tuple(c[k,:])\n",
    "end\n",
    "Cdic[k]\n",
    "\n",
    "# Construcción de los 1000 operadores locales (Aleatorios)\n",
    "\n",
    "xaleatMat1 = rand(1000,length(ArrayA1)).*2 .-1\n",
    "xaleatMat2 = rand(1000,length(ArrayA2)).*2 .-1\n",
    "\n",
    "dicA1Total = Dict()\n",
    "\n",
    "for i in 1:1000\n",
    "    A1P = zeros(2^particles,2^particles)\n",
    "    for k in 1:length(ArrayA1)\n",
    "        A1P += xaleatMat1[i,k]*kron([Sigma[ArrayA1[k][i]] for i in eachindex(ArrayA1[1])]...)\n",
    "    end\n",
    "    dicA1Total[i] = A1P\n",
    "end\n",
    "\n",
    "dicA2Total = Dict()\n",
    "\n",
    "for i in 1:1000\n",
    "    A2P = zeros(2^particles,2^particles)\n",
    "    for k in 1:length(ArrayA2)\n",
    "        A2P += xaleatMat2[i,k]*kron([Sigma[ArrayA2[k][i]] for i in eachindex(ArrayA2[1])]...)\n",
    "    end\n",
    "    dicA2Total[i] = A2P\n",
    "end\n",
    "\n",
    "Cdic[k] # Cdic[k][1] y Cdic[k][2]\n",
    "\n",
    "Hdic = Dict()\n",
    "\n",
    "for i in 1:1000\n",
    "    Hdic[i] = c[i,1]*dicA1Total[i] + c[i,2]*dicA2Total[i]\n",
    "end\n",
    "Hdic[152]"
   ]
  },
  {
   "cell_type": "code",
   "execution_count": 184,
   "metadata": {},
   "outputs": [],
   "source": [
    "# Tengo 1000 Hamiltonianos que serán los que supervisaran la red con respecto a los 1000 operadores A1 y A2, pero recordemos que sólo \n",
    "# nos interesa la mitad de los estados propios, entonces tendremos algo de la siguiente dimensión \n",
    "\n",
    "# 1000 x 1 x (2^N)/2 x \n",
    "# 1 x 2^N es un vector (1x8) en este ejemplo, pero queremos sólo tomar la primer mitad de valores esperados\n",
    "# 1 x 4 "
   ]
  },
  {
   "cell_type": "code",
   "execution_count": 185,
   "metadata": {},
   "outputs": [
    {
     "data": {
      "text/plain": [
       "4-element Vector{ComplexF64}:\n",
       "     0.81645693920352 - 2.7755575615628914e-17im\n",
       "   0.4786382687531084 + 0.0im\n",
       "   1.0035288316363795 + 5.551115123125783e-17im\n",
       " -0.41943857186621425 + 0.0im"
      ]
     },
     "metadata": {},
     "output_type": "display_data"
    }
   ],
   "source": [
    "ExpVal1Dic = Dict()\n",
    "ExpVal2Dic = Dict()\n",
    "\n",
    "for k in 1:1000\n",
    "    Hnew = Hdic[k]\n",
    "    vecs = eigen(Hnew).vectors\n",
    "    advecs = adjoint(vecs)\n",
    "\n",
    "    ExpVal1 = zeros(ComplexF64, Int((size(vecs)[1])/2))\n",
    "    for i in 1:Int((size(vecs)[1])/2)\n",
    "        ExpVal1[i] = transpose(advecs[i,:])*A1*vecs[:,i]\n",
    "    end\n",
    "\n",
    "    ExpVal2 = zeros(ComplexF64,Int((size(vecs)[1])/2))  # ExpVal2[1] = a21 = \\bra{\\phi1_}A_2\\ket{\\phi_1}\n",
    "    for i in 1:Int((size(vecs)[1])/2)\n",
    "        ExpVal2[i] = transpose(advecs[i,:])*A2*vecs[:,i]\n",
    "    end\n",
    "    ExpVal1Dic[k] = ExpVal1\n",
    "    ExpVal2Dic[k] = ExpVal2\n",
    "end\n",
    "ExpVal1Dic[1]\n",
    "ExpVal2Dic[1]\n"
   ]
  },
  {
   "cell_type": "code",
   "execution_count": 186,
   "metadata": {},
   "outputs": [
    {
     "data": {
      "text/plain": [
       "Dict{Int64, Tuple{Vector{ComplexF64}, Vector{ComplexF64}}} with 1000 entries:\n",
       "  719 => ([-0.857826+0.0im, -0.979221+1.17961e-16im, 1.39162-3.1225e-17im, 1.61…\n",
       "  699 => ([1.36579+5.55112e-17im, 0.130641-4.16334e-17im, 0.247545+0.0im, 0.046…\n",
       "  831 => ([0.156961-2.77556e-17im, 0.634845+0.0im, 0.71028+1.38778e-17im, 0.156…\n",
       "  319 => ([-1.58359-8.32667e-17im, -1.59591-6.245e-17im, 0.0591072-5.55112e-17i…\n",
       "  687 => ([0.618836-5.55112e-17im, -0.527569+2.77556e-17im, -0.0326773-6.93889e…\n",
       "  185 => ([0.962058+5.55112e-17im, 0.996413+0.0im, -0.704789-5.55112e-17im, -0.…\n",
       "  823 => ([0.2804-4.85723e-17im, 0.673015-6.59195e-17im, -0.510752+2.77556e-17i…\n",
       "  420 => ([-1.19702+1.73472e-17im, 0.175241+1.38778e-17im, -1.05381-8.67362e-18…\n",
       "  525 => ([0.320392-2.77556e-17im, 0.785002+0.0im, 0.519445+2.60209e-18im, 0.18…\n",
       "  365 => ([-1.14223-8.32667e-17im, 1.80387+3.46945e-17im, -0.781941-2.77556e-17…\n",
       "  638 => ([0.874169-1.38778e-17im, -0.463343+5.55112e-17im, 0.362708-1.21431e-1…\n",
       "  263 => ([-0.3554+1.11022e-16im, -0.111527+8.67362e-19im, -0.407686+4.85723e-1…\n",
       "  422 => ([-0.809529+6.93889e-18im, -1.0021+0.0im, 0.302908+3.98986e-17im, -1.3…\n",
       "  242 => ([1.02216+0.0im, 0.806139-2.77556e-17im, 0.534978-1.38778e-17im, 0.570…\n",
       "  183 => ([-0.652666+6.93889e-18im, 0.443955-3.46945e-18im, -0.946244-4.85723e-…\n",
       "  551 => ([0.738755-6.93889e-18im, 0.750924-2.08167e-17im, 0.896228-3.46945e-18…\n",
       "  224 => ([-0.445254-4.16334e-17im, 0.20463-5.55112e-17im, 0.334719+0.0im, -0.1…\n",
       "  694 => ([0.691442-1.38778e-17im, 0.572255+5.55112e-17im, -1.26956+6.93889e-18…\n",
       "  692 => ([1.23143+6.93889e-17im, -1.2931-5.20417e-18im, 0.230963+2.77556e-17im…\n",
       "  ⋮   => ⋮"
      ]
     },
     "metadata": {},
     "output_type": "display_data"
    }
   ],
   "source": [
    "ExpVals = Dict(k => (ExpVal1Dic[k], ExpVal2Dic[k]) for k in keys(ExpVal1Dic))"
   ]
  },
  {
   "cell_type": "markdown",
   "metadata": {},
   "source": [
    "Se presenta en el diccionario ExpVals \n",
    "\n",
    "$\\bra{\\varphi_k} A_1\\ket{\\varphi_k}$ y despues $\\bra{\\varphi_k} A_2\\ket{\\varphi_k}$\n",
    "\n",
    "$k = 1,2,3,4$"
   ]
  },
  {
   "cell_type": "code",
   "execution_count": 187,
   "metadata": {},
   "outputs": [
    {
     "data": {
      "text/plain": [
       "Dict{Int64, Tuple{Vector{ComplexF64}, Vector{ComplexF64}}} with 1000 entries:\n",
       "  719 => ([-0.857826+0.0im, -0.979221+1.17961e-16im, 1.39162-3.1225e-17im, 1.61…\n",
       "  699 => ([1.36579+5.55112e-17im, 0.130641-4.16334e-17im, 0.247545+0.0im, 0.046…\n",
       "  831 => ([0.156961-2.77556e-17im, 0.634845+0.0im, 0.71028+1.38778e-17im, 0.156…\n",
       "  319 => ([-1.58359-8.32667e-17im, -1.59591-6.245e-17im, 0.0591072-5.55112e-17i…\n",
       "  687 => ([0.618836-5.55112e-17im, -0.527569+2.77556e-17im, -0.0326773-6.93889e…\n",
       "  185 => ([0.962058+5.55112e-17im, 0.996413+0.0im, -0.704789-5.55112e-17im, -0.…\n",
       "  823 => ([0.2804-4.85723e-17im, 0.673015-6.59195e-17im, -0.510752+2.77556e-17i…\n",
       "  420 => ([-1.19702+1.73472e-17im, 0.175241+1.38778e-17im, -1.05381-8.67362e-18…\n",
       "  525 => ([0.320392-2.77556e-17im, 0.785002+0.0im, 0.519445+2.60209e-18im, 0.18…\n",
       "  365 => ([-1.14223-8.32667e-17im, 1.80387+3.46945e-17im, -0.781941-2.77556e-17…\n",
       "  638 => ([0.874169-1.38778e-17im, -0.463343+5.55112e-17im, 0.362708-1.21431e-1…\n",
       "  263 => ([-0.3554+1.11022e-16im, -0.111527+8.67362e-19im, -0.407686+4.85723e-1…\n",
       "  422 => ([-0.809529+6.93889e-18im, -1.0021+0.0im, 0.302908+3.98986e-17im, -1.3…\n",
       "  242 => ([1.02216+0.0im, 0.806139-2.77556e-17im, 0.534978-1.38778e-17im, 0.570…\n",
       "  183 => ([-0.652666+6.93889e-18im, 0.443955-3.46945e-18im, -0.946244-4.85723e-…\n",
       "  551 => ([0.738755-6.93889e-18im, 0.750924-2.08167e-17im, 0.896228-3.46945e-18…\n",
       "  224 => ([-0.445254-4.16334e-17im, 0.20463-5.55112e-17im, 0.334719+0.0im, -0.1…\n",
       "  694 => ([0.691442-1.38778e-17im, 0.572255+5.55112e-17im, -1.26956+6.93889e-18…\n",
       "  692 => ([1.23143+6.93889e-17im, -1.2931-5.20417e-18im, 0.230963+2.77556e-17im…\n",
       "  ⋮   => ⋮"
      ]
     },
     "metadata": {},
     "output_type": "display_data"
    }
   ],
   "source": [
    "\n",
    "ExpVals  # (4x1, 4x1) x 1000  Se presenta primero A1 y luego A2"
   ]
  },
  {
   "cell_type": "code",
   "execution_count": 188,
   "metadata": {},
   "outputs": [
    {
     "data": {
      "text/plain": [
       "4-element Vector{ComplexF64}:\n",
       "     0.81645693920352 - 2.7755575615628914e-17im\n",
       "   0.4786382687531084 + 0.0im\n",
       "   1.0035288316363795 + 5.551115123125783e-17im\n",
       " -0.41943857186621425 + 0.0im"
      ]
     },
     "metadata": {},
     "output_type": "display_data"
    }
   ],
   "source": [
    "ExpVals[1][2] # ExpVal1"
   ]
  },
  {
   "cell_type": "code",
   "execution_count": 189,
   "metadata": {},
   "outputs": [
    {
     "data": {
      "text/plain": [
       "Dict{Any, Any} with 1000 entries:\n",
       "  719 => ComplexF64[0.795029+0.0im 0.0466598-0.0395161im … 0.0-0.183112im 0.0+0…\n",
       "  699 => ComplexF64[-0.00287087+0.0im 0.255876-0.104108im … 0.0-0.654396im 0.0+…\n",
       "  831 => ComplexF64[0.326074+0.0im -0.196337-0.261639im … 0.0+0.369948im 0.0+0.…\n",
       "  319 => ComplexF64[-0.538858-0.0im -0.0435354-0.144934im … -0.0+0.162013im -0.…\n",
       "  687 => ComplexF64[1.22952-0.0im -0.351857+0.0637743im … -0.0+0.0807993im -0.0…\n",
       "  185 => ComplexF64[0.63619+0.0im 0.0147471-0.0214304im … 0.0-0.285878im 0.0+0.…\n",
       "  823 => ComplexF64[-0.0307468+0.0im 0.260092+0.220926im … 0.0-0.134009im 0.0+0…\n",
       "  420 => ComplexF64[-0.900201+0.0im 0.361938+0.383387im … 0.0-0.0834019im 0.0+0…\n",
       "  525 => ComplexF64[0.62169+0.0im -0.244073+0.270992im … 0.0-0.0341383im 0.0+0.…\n",
       "  365 => ComplexF64[0.243609+0.0im -0.563105+0.210731im … 0.0+0.00248623im 0.0+…\n",
       "  638 => ComplexF64[0.824497+0.0im 0.274392+0.190374im … 0.0+0.813765im 0.0+0.0…\n",
       "  263 => ComplexF64[0.116505+0.0im -0.287895+0.471799im … 0.0-0.890833im 0.0+0.…\n",
       "  422 => ComplexF64[0.471459+0.0im 0.317298-0.0710407im … 0.0+0.265894im 0.0+0.…\n",
       "  242 => ComplexF64[0.250224+0.0im -0.00531122-0.120099im … 0.0-0.224627im 0.0+…\n",
       "  183 => ComplexF64[-0.673252+0.0im 0.56409-0.636491im … 0.0-0.0114929im 0.0+0.…\n",
       "  551 => ComplexF64[-0.214246-0.0im 0.0129375-0.0288748im … -0.0+0.759195im -0.…\n",
       "  224 => ComplexF64[0.111295+0.0im -0.181052-0.382869im … 0.0-0.0315885im 0.0+0…\n",
       "  694 => ComplexF64[-0.164046+0.0im 0.105042-0.128531im … 0.0+0.378428im 0.0+0.…\n",
       "  692 => ComplexF64[0.126596+0.0im -0.214373+0.27846im … 0.0-0.0823153im 0.0+0.…\n",
       "  ⋮   => ⋮"
      ]
     },
     "metadata": {},
     "output_type": "display_data"
    }
   ],
   "source": [
    "Hdic # (8x8) x 1000 son matrices 8x8 y 1000 matrices de esas "
   ]
  },
  {
   "cell_type": "code",
   "execution_count": 190,
   "metadata": {},
   "outputs": [
    {
     "data": {
      "text/plain": [
       "1000-element Vector{Pair{Any, Any}}:\n",
       " 719 => ComplexF64[0.7950292397739389 + 0.0im 0.04665977991460799 - 0.03951607776456239im … 0.0 - 0.1831124815562505im 0.0 + 0.0im; 0.04665977991460799 + 0.03951607776456239im 0.7093033967084035 + 0.0im … 0.0 + 0.0im 0.0 - 0.1831124815562505im; … ; 0.0 + 0.1831124815562505im 0.0 + 0.0im … -0.7093033967084035 + 0.0im -0.014076314715360356 - 0.0002686811982802162im; 0.0 + 0.0im 0.0 + 0.1831124815562505im … -0.014076314715360356 + 0.0002686811982802162im -0.7950292397739389 + 0.0im]\n",
       " 699 => ComplexF64[-0.0028708708493840884 + 0.0im 0.25587585562170934 - 0.10410761562493571im … 0.0 - 0.6543962841111214im 0.0 + 0.0im; 0.25587585562170934 + 0.10410761562493571im -0.1712062423975502 + 0.0im … 0.0 + 0.0im 0.0 - 0.6543962841111214im; … ; 0.0 + 0.6543962841111214im 0.0 + 0.0im … 0.1712062423975502 + 0.0im 0.03030180277912756 + 0.21504993544821854im; 0.0 + 0.0im 0.0 + 0.6543962841111214im … 0.03030180277912756 - 0.21504993544821854im 0.0028708708493840884 + 0.0im]\n",
       " 831 => ComplexF64[0.32607371874344027 + 0.0im -0.19633677951227355 - 0.26163872963408585im … 0.0 + 0.369947866406863im 0.0 + 0.0im; -0.19633677951227355 + 0.26163872963408585im 0.00867824118164745 + 0.0im … 0.0 + 0.0im 0.0 + 0.369947866406863im; … ; 0.0 - 0.369947866406863im 0.0 + 0.0im … -0.00867824118164745 + 0.0im 0.3813635948827644 - 0.4996948533885285im; 0.0 + 0.0im 0.0 - 0.369947866406863im … 0.3813635948827644 + 0.4996948533885285im -0.32607371874344027 + 0.0im]\n",
       " 319 => ComplexF64[-0.538858095367462 - 0.0im -0.043535438713015455 - 0.1449338588770314im … -0.0 + 0.16201282618986498im -0.0 - 0.0im; -0.043535438713015455 + 0.1449338588770314im -0.441706214802784 - 0.0im … -0.0 - 0.0im -0.0 + 0.16201282618986498im; … ; -0.0 - 0.16201282618986498im -0.0 - 0.0im … 0.441706214802784 - 0.0im 0.04061039074697189 - 0.03927243035024325im; -0.0 - 0.0im -0.0 - 0.16201282618986498im … 0.04061039074697189 + 0.03927243035024325im 0.538858095367462 - 0.0im]\n",
       " 687 => ComplexF64[1.2295152236230105 - 0.0im -0.35185712913240025 + 0.06377428733452359im … -0.0 + 0.08079927701538764im -0.0 - 0.0im; -0.35185712913240025 - 0.06377428733452359im 0.9695489714457478 - 0.0im … -0.0 - 0.0im -0.0 + 0.08079927701538764im; … ; -0.0 - 0.08079927701538764im -0.0 - 0.0im … -0.9695489714457478 - 0.0im 1.1575310201836329 - 0.2371833970343572im; -0.0 - 0.0im -0.0 - 0.08079927701538764im … 1.1575310201836329 + 0.2371833970343572im -1.2295152236230105 - 0.0im]\n",
       " 185 => ComplexF64[0.6361895934566615 + 0.0im 0.014747059735052389 - 0.02143044279550694im … 0.0 - 0.28587767548548926im 0.0 + 0.0im; 0.014747059735052389 + 0.02143044279550694im 0.6751835131294687 + 0.0im … 0.0 + 0.0im 0.0 - 0.28587767548548926im; … ; 0.0 + 0.28587767548548926im 0.0 + 0.0im … -0.6751835131294687 + 0.0im 0.007427882846466752 - 0.02314292625423885im; 0.0 + 0.0im 0.0 + 0.28587767548548926im … 0.007427882846466752 + 0.02314292625423885im -0.6361895934566615 + 0.0im]\n",
       " 823 => ComplexF64[-0.030746813330534164 + 0.0im 0.26009169085559436 + 0.22092553148596145im … 0.0 - 0.1340086620244875im 0.0 + 0.0im; 0.26009169085559436 - 0.22092553148596145im 0.2535324873024997 + 0.0im … 0.0 + 0.0im 0.0 - 0.1340086620244875im; … ; 0.0 + 0.1340086620244875im 0.0 + 0.0im … -0.2535324873024997 + 0.0im -0.7987695084079206 + 0.43860654046091296im; 0.0 + 0.0im 0.0 + 0.1340086620244875im … -0.7987695084079206 - 0.43860654046091296im 0.030746813330534164 + 0.0im]\n",
       " 420 => ComplexF64[-0.9002010650617245 + 0.0im 0.3619376439707265 + 0.38338689441224805im … 0.0 - 0.08340193376905397im 0.0 + 0.0im; 0.3619376439707265 - 0.38338689441224805im -0.04475910883745304 + 0.0im … 0.0 + 0.0im 0.0 - 0.08340193376905397im; … ; 0.0 + 0.08340193376905397im 0.0 + 0.0im … 0.04475910883745304 + 0.0im 0.28670790881247066 - 0.404552798934692im; 0.0 + 0.0im 0.0 + 0.08340193376905397im … 0.28670790881247066 + 0.404552798934692im 0.9002010650617245 + 0.0im]\n",
       " 525 => ComplexF64[0.6216897369848399 + 0.0im -0.24407290657476727 + 0.27099166152795306im … 0.0 - 0.03413833719075526im 0.0 + 0.0im; -0.24407290657476727 - 0.27099166152795306im 0.7381675816343936 + 0.0im … 0.0 + 0.0im 0.0 - 0.03413833719075526im; … ; 0.0 + 0.03413833719075526im 0.0 + 0.0im … -0.7381675816343936 + 0.0im 0.10906231412899423 - 0.1330380588861192im; 0.0 + 0.0im 0.0 + 0.03413833719075526im … 0.10906231412899423 + 0.1330380588861192im -0.6216897369848399 + 0.0im]\n",
       " 365 => ComplexF64[0.243609484371928 + 0.0im -0.5631050219908894 + 0.2107305079021448im … 0.0 + 0.0024862254758441383im 0.0 + 0.0im; -0.5631050219908894 - 0.2107305079021448im -0.1894493629513136 + 0.0im … 0.0 + 0.0im 0.0 + 0.0024862254758441383im; … ; 0.0 - 0.0024862254758441383im 0.0 + 0.0im … 0.1894493629513136 + 0.0im 0.29770728378869066 + 0.9904673716641738im; 0.0 + 0.0im 0.0 - 0.0024862254758441383im … 0.29770728378869066 - 0.9904673716641738im -0.243609484371928 + 0.0im]\n",
       "     ⋮\n",
       " 459 => ComplexF64[-0.008234178493702563 + 0.0im -0.19478148919793722 + 0.2379758972739678im … 0.0 - 0.17768382055853113im 0.0 + 0.0im; -0.19478148919793722 - 0.2379758972739678im -0.028537643115516518 + 0.0im … 0.0 + 0.0im 0.0 - 0.17768382055853113im; … ; 0.0 + 0.17768382055853113im 0.0 + 0.0im … 0.028537643115516518 + 0.0im 0.08626854355142662 - 0.12963575147169817im; 0.0 + 0.0im 0.0 + 0.17768382055853113im … 0.08626854355142662 + 0.12963575147169817im 0.008234178493702563 + 0.0im]\n",
       " 713 => ComplexF64[0.03801439374174173 + 0.0im 0.041141954091704964 - 0.021555532662811624im … 0.0 + 1.1626407729550199im 0.0 + 0.0im; 0.041141954091704964 + 0.021555532662811624im 0.060815684391003544 + 0.0im … 0.0 + 0.0im 0.0 + 1.1626407729550199im; … ; 0.0 - 1.1626407729550199im 0.0 + 0.0im … -0.060815684391003544 + 0.0im 0.10647698669990971 - 0.11185784761629947im; 0.0 + 0.0im 0.0 - 1.1626407729550199im … 0.10647698669990971 + 0.11185784761629947im -0.03801439374174173 + 0.0im]\n",
       " 149 => ComplexF64[0.16241007723856105 + 0.0im -1.000510533386969 - 0.2844178515230366im … 0.0 + 0.06215131582115514im 0.0 + 0.0im; -1.000510533386969 + 0.2844178515230366im 1.3822080106591261 + 0.0im … 0.0 + 0.0im 0.0 + 0.06215131582115514im; … ; 0.0 - 0.06215131582115514im 0.0 + 0.0im … -1.3822080106591261 + 0.0im -0.46750468531976697 - 0.11040640002601103im; 0.0 + 0.0im 0.0 - 0.06215131582115514im … -0.46750468531976697 + 0.11040640002601103im -0.16241007723856105 + 0.0im]\n",
       " 701 => ComplexF64[0.4221389920033598 - 0.0im 0.42503305216019915 + 0.06698013843513079im … -0.0 - 0.37398399991032066im -0.0 - 0.0im; 0.42503305216019915 - 0.06698013843513079im 0.19466239676464517 - 0.0im … -0.0 - 0.0im -0.0 - 0.37398399991032066im; … ; -0.0 + 0.37398399991032066im -0.0 - 0.0im … -0.19466239676464517 - 0.0im -0.15868135303426184 + 0.277069495274736im; -0.0 - 0.0im -0.0 + 0.37398399991032066im … -0.15868135303426184 - 0.277069495274736im -0.4221389920033598 - 0.0im]\n",
       " 641 => ComplexF64[-0.7645020650358951 + 0.0im -1.1504219404680844 - 0.9425077651075974im … 0.0 - 0.001171540836966203im 0.0 + 0.0im; -1.1504219404680844 + 0.9425077651075974im -0.44339953023448747 + 0.0im … 0.0 + 0.0im 0.0 - 0.001171540836966203im; … ; 0.0 + 0.001171540836966203im 0.0 + 0.0im … 0.44339953023448747 + 0.0im 0.00859769004233541 + 0.07397641857489606im; 0.0 + 0.0im 0.0 + 0.001171540836966203im … 0.00859769004233541 - 0.07397641857489606im 0.7645020650358951 + 0.0im]\n",
       " 887 => ComplexF64[-0.09850767412933914 + 0.0im 0.013260593489061598 - 0.1653798859681773im … 0.0 - 0.3070797126202975im 0.0 + 0.0im; 0.013260593489061598 + 0.1653798859681773im -0.3949913725204933 + 0.0im … 0.0 + 0.0im 0.0 - 0.3070797126202975im; … ; 0.0 + 0.3070797126202975im 0.0 + 0.0im … 0.3949913725204933 + 0.0im -0.57951651499577 - 0.0011431457832888946im; 0.0 + 0.0im 0.0 + 0.3070797126202975im … -0.57951651499577 + 0.0011431457832888946im 0.09850767412933914 + 0.0im]\n",
       " 979 => ComplexF64[-0.07404233746596733 + 0.0im -0.8723103861855341 - 0.31643728454549724im … 0.0 + 0.7840629595331958im 0.0 + 0.0im; -0.8723103861855341 + 0.31643728454549724im 0.296477529881718 + 0.0im … 0.0 + 0.0im 0.0 + 0.7840629595331958im; … ; 0.0 - 0.7840629595331958im 0.0 + 0.0im … -0.296477529881718 + 0.0im -0.45701899361555176 + 0.2782881977270331im; 0.0 + 0.0im 0.0 - 0.7840629595331958im … -0.45701899361555176 - 0.2782881977270331im 0.07404233746596733 + 0.0im]\n",
       "  65 => ComplexF64[0.15667292687950718 + 0.0im -0.13712669452212756 - 0.01964040478132097im … 0.0 - 0.21891650206580626im 0.0 + 0.0im; -0.13712669452212756 + 0.01964040478132097im -0.08927456915886092 + 0.0im … 0.0 + 0.0im 0.0 - 0.21891650206580626im; … ; 0.0 + 0.21891650206580626im 0.0 + 0.0im … 0.08927456915886092 + 0.0im -0.28007845031003004 + 0.09916259362438784im; 0.0 + 0.0im 0.0 + 0.21891650206580626im … -0.28007845031003004 - 0.09916259362438784im -0.15667292687950718 + 0.0im]\n",
       " 298 => ComplexF64[2.0495309897070833 - 0.0im 1.682062441142374 + 0.9363514494290263im … 0.0 - 1.0945430937645444im 0.0 - 0.0im; 1.682062441142374 - 0.9363514494290263im 1.8585850668650363 - 0.0im … 0.0 - 0.0im 0.0 - 1.0945430937645444im; … ; 0.0 + 1.0945430937645444im 0.0 - 0.0im … -1.8585850668650363 - 0.0im 0.13832782716672898 + 0.5164794341563012im; 0.0 - 0.0im 0.0 + 1.0945430937645444im … 0.13832782716672898 - 0.5164794341563012im -2.0495309897070833 - 0.0im]"
      ]
     },
     "metadata": {},
     "output_type": "display_data"
    }
   ],
   "source": [
    "ABD = collect(Hdic)"
   ]
  },
  {
   "cell_type": "markdown",
   "metadata": {},
   "source": [
    "## Acomodando los datos de forma conveniente para meterlos a la red neuronal\n",
    " "
   ]
  },
  {
   "cell_type": "code",
   "execution_count": null,
   "metadata": {},
   "outputs": [
    {
     "data": {
      "text/plain": [
       "2×1000 Matrix{Float64}:\n",
       " 0.583427  0.633148  0.253117  -0.684722  …  -0.627719   0.0445553  -0.680929\n",
       " 0.114642  0.757675  0.265691  -0.601739     -0.367233  -0.845615    0.527723"
      ]
     },
     "metadata": {},
     "output_type": "display_data"
    }
   ],
   "source": [
    "c = rand(2,1000)*2 .-1 # sería conveniente generar una matriz de n x 2 \n",
    "xaleatMat1 = rand(1000,length(ArrayA1)).*2 .-1\n",
    "xaleatMat2 = rand(1000,length(ArrayA2)).*2 .-1\n"
   ]
  },
  {
   "cell_type": "code",
   "execution_count": null,
   "metadata": {},
   "outputs": [],
   "source": [
    "A1P_list = []  # Un arreglo vacío para almacenar matrices\n",
    "A2P_list = []\n",
    "\n",
    "for i in 1:1000\n",
    "    A1P = zeros(2^particles, 2^particles)\n",
    "    for k in 1:length(ArrayA1)\n",
    "        A1P += xaleatMat1[i, k] * kron([Sigma[ArrayA1[k][j]] for j in eachindex(ArrayA1[1])]...)\n",
    "    end\n",
    "    push!(A1P_list, A1P)  # Guardar la matriz en el arreglo\n",
    "end\n",
    "\n",
    "for i in 1:1000\n",
    "    A2P = zeros(2^particles,2^particles)\n",
    "    for k in 1:length(ArrayA2)\n",
    "        A2P += xaleatMat2[i,k]*kron([Sigma[ArrayA2[k][i]] for i in eachindex(ArrayA2[1])]...)\n",
    "    end\n",
    "    push!(A2P_list, A2P)  # Guardar la matriz en el arreglo\n",
    "end\n",
    "\n",
    "A111 = A1P_list[1] \n",
    "A222 = A2P_list[1]"
   ]
  },
  {
   "cell_type": "code",
   "execution_count": 194,
   "metadata": {},
   "outputs": [
    {
     "data": {
      "text/plain": [
       "8×8 Matrix{ComplexF64}:\n",
       "  0.224935+0.0im        0.320709+0.373529im  …        0.0+0.0im\n",
       "  0.320709-0.373529im  -0.344344+0.0im                0.0+0.0im\n",
       " -0.315958-0.120488im        0.0-0.374957im           0.0+0.0im\n",
       "       0.0+0.726871im   -1.52939+1.2402im             0.0+0.0im\n",
       "       0.0+0.0im             0.0+0.0im                0.0-0.726871im\n",
       "       0.0+0.0im             0.0+0.0im       …   -1.52939-1.2402im\n",
       "       0.0+0.0im             0.0+0.0im           -1.66749+1.55855im\n",
       "       0.0+0.0im             0.0+0.0im          -0.224935+0.0im"
      ]
     },
     "metadata": {},
     "output_type": "display_data"
    }
   ],
   "source": [
    "# Fijamos A1 y A2, no necesitaremos mucho, porque con cada A1 y A2 fijos podemos generar al menos 1000 Hamiltonianos distintos\n",
    "# Recordemos que dependen únicamente de los coeficientes c1 y c2, que son aleatorios\n",
    "A111 = A1P_list[1] \n",
    "A222 = A2P_list[1]\n"
   ]
  },
  {
   "cell_type": "code",
   "execution_count": 195,
   "metadata": {},
   "outputs": [
    {
     "data": {
      "text/plain": [
       "8×8 Matrix{ComplexF64}:\n",
       "  0.140325+0.0im        0.0367667+0.042822im   …         0.0+0.0im\n",
       " 0.0367667-0.042822im   0.0750621+0.0im                  0.0-0.882487im\n",
       "  -1.01684+0.559266im         0.0-0.0429857im            0.0+0.0im\n",
       "       0.0+0.0833298im   -1.15595+0.715258im        0.772992+0.927581im\n",
       "  0.225957+0.170313im         0.0+0.0im                  0.0-0.0833298im\n",
       "       0.0+0.0im         0.225957+0.170313im   …  -0.0466864+0.186628im\n",
       "       0.0+0.882487im         0.0+0.0im            -0.191164+0.178675im\n",
       "       0.0+0.0im              0.0+0.882487im       -0.140325+0.0im"
      ]
     },
     "metadata": {},
     "output_type": "display_data"
    }
   ],
   "source": [
    "# Formamos el Hamiltoniano con los primeros valores de c \n",
    "H12 = c[1,1]*A111 + c[2,1]*A222"
   ]
  },
  {
   "cell_type": "code",
   "execution_count": 196,
   "metadata": {},
   "outputs": [
    {
     "data": {
      "text/plain": [
       "8×8 adjoint(::Matrix{ComplexF64}) with eltype ComplexF64:\n",
       " 0.0519442+0.00418594im    0.183897-0.187943im  …  -0.469007+0.0im\n",
       "  0.045417-0.144449im      0.182055-0.606674im      0.182329-0.0im\n",
       " -0.423358-0.437025im     0.0564523+0.258443im     -0.403396+0.0im\n",
       " -0.263795-0.352792im      0.161471-0.179786im      0.488403-0.0im\n",
       "  0.094064+0.0216733im    0.0330994-0.233165im      0.251893-0.0im\n",
       "   0.28863-0.0532915im   -0.0481077+0.105397im  …   -0.16157+0.0im\n",
       " -0.390586+0.22145im     -0.0422779+0.382627im       0.31367+0.0im\n",
       "  0.301272-0.149185im    -0.0148229+0.428943im      0.396962+0.0im"
      ]
     },
     "metadata": {},
     "output_type": "display_data"
    }
   ],
   "source": [
    "# Tomamos los vectores propios \n",
    "vor  = eigen(H12).vectors\n",
    "adjvor = adjoint(vor)"
   ]
  },
  {
   "cell_type": "code",
   "execution_count": 221,
   "metadata": {},
   "outputs": [],
   "source": [
    "n = 1000\n",
    "mat = Matrix{Float64}(undef, 8, n)  # Matriz vacía 8x1000 (no inicializada)\n",
    "\n",
    "# Haremos ahora un vector de 1000 elementos que son tuplas donde cada elemento de la tupla es un vector \n",
    "Tup = []\n",
    "\n",
    "for k in 1 : n\n",
    "\n",
    "    mat1a1 = zeros(2) # Colocamos un vector de ceros que se va a reiniciar en cada paso \n",
    "\n",
    "    # Formamos el Hamiltoniano\n",
    "    H12 = c[1,k]*A111 + c[2,k]*A222\n",
    "\n",
    "    # Tomamos los vectores propios \n",
    "\n",
    "    vor  = eigen(H12).vectors\n",
    "    adjvor = adjoint(vor)\n",
    "\n",
    "    vor[:,1] # Este es el primer vector propio, los vectores propios con eigen se colocan en columnas \n",
    "    adjvor[1,:] # Este es el primer vector propio para la adjunta (Recordemos es un vector izquierdo [Fila])\n",
    "\n",
    "    # Calculamos el valor esperado de la primera mitad de vectores propios\n",
    "\n",
    "    ExpValA = zeros(ComplexF64, Int((size(vor)[1])/2))\n",
    "    for i in 1:Int((size(vecs)[1])/2)\n",
    "        ExpValA[i] = transpose(adjvor[i,:])*A111*vor[:,i]\n",
    "    end\n",
    "\n",
    "    ExpValB = zeros(ComplexF64,Int((size(vor)[1])/2))  # ExpVal2[1] = a21 = \\bra{\\phi1_}A_2\\ket{\\phi_1}\n",
    "    for i in 1:Int((size(vecs)[1])/2)\n",
    "        ExpValB[i] = transpose(adjvor[i,:])*A222*vor[:,i]\n",
    "    end\n",
    "\n",
    "    ValsA = real(ExpValA) # Nos interesa únicamente la parte real, la parte imaginaria suele ser error \n",
    "    ValsB = real(ExpValB)\n",
    "    mat1a1[1] = ValsA[1]\n",
    "    mat1a1[2] = ValsA[2]\n",
    "\n",
    "    tk = (mat1a1, c[:,k])\n",
    "    push!(Tup,tk) # Agregar la tupla al vector \n",
    "\n",
    "    ValsCompleto = vcat(ValsA, ValsB) # Por último nuestro vector tendrá la forma de 8x1, para poder agregarlo al batch \n",
    "end "
   ]
  },
  {
   "cell_type": "code",
   "execution_count": 222,
   "metadata": {},
   "outputs": [
    {
     "data": {
      "text/plain": [
       "([-2.017791767743682, -1.7012065189594698], [0.5321518015185831, -0.27403867175531227])"
      ]
     },
     "metadata": {},
     "output_type": "display_data"
    }
   ],
   "source": [
    "Tup[100]"
   ]
  },
  {
   "cell_type": "code",
   "execution_count": 224,
   "metadata": {},
   "outputs": [
    {
     "name": "stdout",
     "output_type": "stream",
     "text": [
      "Shape of x_batch: (2, 1000)\n",
      "Shape of y_batch: (2, 1000)\n"
     ]
    }
   ],
   "source": [
    "# Extract inputs (x) and outputs (y) from the tuples\n",
    "x_batch = cat(map(t -> t[1], Tup)...; dims=2)  # Stack inputs along the 4th dimension (batch)\n",
    "y_batch = cat(map(t -> t[2], Tup)...; dims=2)  # Stack outputs along the 2nd dimension (batch)\n",
    "\n",
    "# Check the shapes of the resulting batches\n",
    "println(\"Shape of x_batch: \", size(x_batch))  # Should be (28, 28, 1, batch_size)\n",
    "println(\"Shape of y_batch: \", size(y_batch))  # Should be (10, batch_size)"
   ]
  },
  {
   "cell_type": "code",
   "execution_count": null,
   "metadata": {},
   "outputs": [
    {
     "data": {
      "text/plain": [
       "1-element Vector{Any}:\n",
       " ([0.5834266720957522, 0.11464171724943406], [3.5867059399377395, 2.9401657467473408])"
      ]
     },
     "metadata": {},
     "output_type": "display_data"
    }
   ],
   "source": []
  },
  {
   "cell_type": "markdown",
   "metadata": {},
   "source": []
  }
 ],
 "metadata": {
  "kernelspec": {
   "display_name": "Julia 1.11.5",
   "language": "julia",
   "name": "julia-1.11"
  },
  "language_info": {
   "file_extension": ".jl",
   "mimetype": "application/julia",
   "name": "julia",
   "version": "1.11.5"
  }
 },
 "nbformat": 4,
 "nbformat_minor": 2
}
