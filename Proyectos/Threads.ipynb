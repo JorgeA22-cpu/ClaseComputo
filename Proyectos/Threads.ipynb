{
 "cells": [
  {
   "cell_type": "code",
   "execution_count": 45,
   "metadata": {},
   "outputs": [],
   "source": [
    "using Pkg \n",
    "#Pkg.add(\"quantum\")\n",
    "#using quantum\n",
    "#Pkg.add(\"Distributed\")\n",
    "using Distributed"
   ]
  },
  {
   "cell_type": "code",
   "execution_count": 46,
   "metadata": {},
   "outputs": [
    {
     "data": {
      "text/plain": [
       "6"
      ]
     },
     "metadata": {},
     "output_type": "display_data"
    }
   ],
   "source": [
    "Threads.nthreads()"
   ]
  },
  {
   "cell_type": "code",
   "execution_count": 47,
   "metadata": {},
   "outputs": [
    {
     "name": "stdout",
     "output_type": "stream",
     "text": [
      "  0.044406 seconds (33.61 k allocations: 1.672 MiB, 336.71% compilation time)\n"
     ]
    },
    {
     "data": {
      "text/plain": [
       "15-element Vector{Float64}:\n",
       " 1.0\n",
       " 1.0\n",
       " 1.0\n",
       " 2.0\n",
       " 2.0\n",
       " 2.0\n",
       " 4.0\n",
       " 4.0\n",
       " 4.0\n",
       " 3.0\n",
       " 3.0\n",
       " 5.0\n",
       " 5.0\n",
       " 6.0\n",
       " 6.0"
      ]
     },
     "metadata": {},
     "output_type": "display_data"
    }
   ],
   "source": [
    "a = zeros(15)\n",
    "@time Threads.@threads for i in 1:15\n",
    "    a[i] = Threads.threadid()\n",
    "end\n",
    "a"
   ]
  },
  {
   "cell_type": "code",
   "execution_count": 48,
   "metadata": {},
   "outputs": [
    {
     "name": "stdout",
     "output_type": "stream",
     "text": [
      "  0.000011 seconds\n"
     ]
    },
    {
     "data": {
      "text/plain": [
       "15-element Vector{Float64}:\n",
       "  1.0\n",
       "  2.0\n",
       "  3.0\n",
       "  4.0\n",
       "  5.0\n",
       "  6.0\n",
       "  7.0\n",
       "  8.0\n",
       "  9.0\n",
       " 10.0\n",
       " 11.0\n",
       " 12.0\n",
       " 13.0\n",
       " 14.0\n",
       " 15.0"
      ]
     },
     "metadata": {},
     "output_type": "display_data"
    }
   ],
   "source": [
    "b = zeros(15) \n",
    "@time for k in 1:15 \n",
    "    b[k] = k \n",
    "end\n",
    "b"
   ]
  },
  {
   "cell_type": "code",
   "execution_count": 49,
   "metadata": {},
   "outputs": [
    {
     "data": {
      "text/plain": [
       "500000500000"
      ]
     },
     "metadata": {},
     "output_type": "display_data"
    }
   ],
   "source": [
    "\n",
    "function sum_single(a)\n",
    "    s = 0\n",
    "    for i in a\n",
    "        s += i\n",
    "    end\n",
    "    s\n",
    "end\n",
    "\n",
    "sum_single(1:1_000_000)"
   ]
  },
  {
   "cell_type": "code",
   "execution_count": 50,
   "metadata": {},
   "outputs": [
    {
     "data": {
      "text/plain": [
       "152777306986"
      ]
     },
     "metadata": {},
     "output_type": "display_data"
    }
   ],
   "source": [
    "\n",
    "function sum_multi_bad(a)\n",
    "    s = 0\n",
    "    Threads.@threads for i in a\n",
    "        s += i\n",
    "    end\n",
    "    s\n",
    "end\n",
    "\n",
    "sum_multi_bad(1:1_000_000) # Sufre de \"data race\""
   ]
  },
  {
   "cell_type": "code",
   "execution_count": 51,
   "metadata": {},
   "outputs": [
    {
     "data": {
      "text/plain": [
       "Base.Iterators.PartitionIterator{Vector{Float64}}([1.0, 1.0, 1.0, 2.0, 2.0, 2.0, 4.0, 4.0, 4.0, 3.0, 3.0, 5.0, 5.0, 6.0, 6.0], 2)"
      ]
     },
     "metadata": {},
     "output_type": "display_data"
    }
   ],
   "source": [
    "chunks = Iterators.partition(a, length(a) ÷ Threads.nthreads())"
   ]
  },
  {
   "cell_type": "code",
   "execution_count": 52,
   "metadata": {},
   "outputs": [
    {
     "name": "stdout",
     "output_type": "stream",
     "text": [
      "Task[Task (runnable, started) @0x00000003202c01a0, Task (done) @0x00000003202c0e20, Task (done) @0x00000003202c0fb0, Task (done) @0x00000003202c1140, Task (done) @0x00000003202c12d0, Task (done) @0x00000003202c1460, Task (done) @0x00000003202c1f50]"
     ]
    },
    {
     "data": {
      "text/plain": [
       "7-element Vector{Task}:\n",
       " Task (done) @0x00000003202c01a0\n",
       " Task (done) @0x00000003202c0e20\n",
       " Task (done) @0x00000003202c0fb0\n",
       " Task (done) @0x00000003202c1140\n",
       " Task (done) @0x00000003202c12d0\n",
       " Task (done) @0x00000003202c1460\n",
       " Task (done) @0x00000003202c1f50"
      ]
     },
     "metadata": {},
     "output_type": "display_data"
    }
   ],
   "source": [
    "function sum_multi_good(a)\n",
    "    chunks = Iterators.partition(a, length(a) ÷ Threads.nthreads())\n",
    "    tasks = map(chunks) do chunk\n",
    "        Threads.@spawn sum_single(chunk)\n",
    "    end\n",
    "    print(tasks)\n",
    "    chunk_sums = fetch.(tasks)\n",
    "    return sum_single(chunk_sums), tasks\n",
    "end\n",
    "sum_multi_good(1:1_000_000)[2]"
   ]
  },
  {
   "cell_type": "code",
   "execution_count": 53,
   "metadata": {},
   "outputs": [
    {
     "name": "stdout",
     "output_type": "stream",
     "text": [
      "Task[Task (done) @0x000000031f1f4650, Task (done) @0x000000031f1f47e0, Task (done) @0x000000031f1f4970, Task (done) @0x000000031f1f4b00, Task (done) @0x000000031f1f4e20, Task (done) @0x000000031f1f4fb0, Task (done) @0x000000031f1f5140]"
     ]
    },
    {
     "data": {
      "text/plain": [
       "7-element Vector{Task}:\n",
       " Task (done) @0x000000031f1f4650\n",
       " Task (done) @0x000000031f1f47e0\n",
       " Task (done) @0x000000031f1f4970\n",
       " Task (done) @0x000000031f1f4b00\n",
       " Task (done) @0x000000031f1f4e20\n",
       " Task (done) @0x000000031f1f4fb0\n",
       " Task (done) @0x000000031f1f5140"
      ]
     },
     "metadata": {},
     "output_type": "display_data"
    }
   ],
   "source": [
    "cd = sum_multi_good(1:1_000_000)[2]"
   ]
  },
  {
   "cell_type": "code",
   "execution_count": 54,
   "metadata": {},
   "outputs": [
    {
     "data": {
      "text/plain": [
       "7-element Vector{Task}:\n",
       " Task (done) @0x000000031f1f4650\n",
       " Task (done) @0x000000031f1f47e0\n",
       " Task (done) @0x000000031f1f4970\n",
       " Task (done) @0x000000031f1f4b00\n",
       " Task (done) @0x000000031f1f4e20\n",
       " Task (done) @0x000000031f1f4fb0\n",
       " Task (done) @0x000000031f1f5140"
      ]
     },
     "metadata": {},
     "output_type": "display_data"
    }
   ],
   "source": [
    "fetch(cd)"
   ]
  },
  {
   "cell_type": "code",
   "execution_count": 55,
   "metadata": {},
   "outputs": [
    {
     "data": {
      "text/plain": [
       "7-element Vector{Int64}:\n",
       "  13888861111\n",
       "  41666416667\n",
       "  69443972223\n",
       "  97221527779\n",
       " 124999083335\n",
       " 152776638891\n",
       "      3999994"
      ]
     },
     "metadata": {},
     "output_type": "display_data"
    }
   ],
   "source": [
    "fetch.(cd)"
   ]
  },
  {
   "cell_type": "code",
   "execution_count": 56,
   "metadata": {},
   "outputs": [
    {
     "data": {
      "text/plain": [
       "10-element Vector{Tuple{Number, Number}}:\n",
       " (6, 1)\n",
       " (6, 4)\n",
       " (4, 9)\n",
       " (4, 16)\n",
       " (5, 25)\n",
       " (5, 36)\n",
       " (2, 49)\n",
       " (2, 64)\n",
       " (3, 81)\n",
       " (1, 100)"
      ]
     },
     "metadata": {},
     "output_type": "display_data"
    }
   ],
   "source": [
    "proc = Vector{Tuple{Number, Number}}(undef, 10)\n",
    "Threads.@threads for i in 1:10\n",
    "    #push!(proc,(Threads.threadid(), i^2))\n",
    "    proc[i]=(Threads.threadid(), i^2)\n",
    "end\n",
    "proc"
   ]
  },
  {
   "cell_type": "code",
   "execution_count": 57,
   "metadata": {},
   "outputs": [
    {
     "data": {
      "text/plain": [
       "1"
      ]
     },
     "metadata": {},
     "output_type": "display_data"
    }
   ],
   "source": [
    "nprocs()"
   ]
  },
  {
   "cell_type": "code",
   "execution_count": 58,
   "metadata": {},
   "outputs": [
    {
     "data": {
      "text/plain": [
       "1-element Vector{Int64}:\n",
       " 1"
      ]
     },
     "metadata": {},
     "output_type": "display_data"
    }
   ],
   "source": [
    "workers()"
   ]
  },
  {
   "cell_type": "code",
   "execution_count": 64,
   "metadata": {},
   "outputs": [
    {
     "name": "stderr",
     "output_type": "stream",
     "text": [
      "┌ Warning: rmprocs: process 1 not removed\n",
      "└ @ Distributed /Users/jorgea22/.julia/juliaup/julia-1.11.3+0.aarch64.apple.darwin14/share/julia/stdlib/v1.11/Distributed/src/cluster.jl:1049\n"
     ]
    },
    {
     "data": {
      "text/plain": [
       "3"
      ]
     },
     "metadata": {},
     "output_type": "display_data"
    }
   ],
   "source": [
    "rmprocs(workers()) # remove all workers expect the main\n",
    "addprocs(2)\n",
    "nprocs()"
   ]
  },
  {
   "cell_type": "code",
   "execution_count": 66,
   "metadata": {},
   "outputs": [
    {
     "data": {
      "text/plain": [
       "2-element Vector{Int64}:\n",
       " 8\n",
       " 9"
      ]
     },
     "metadata": {},
     "output_type": "display_data"
    }
   ],
   "source": [
    "workers()"
   ]
  },
  {
   "cell_type": "code",
   "execution_count": 67,
   "metadata": {},
   "outputs": [
    {
     "data": {
      "text/plain": [
       "3"
      ]
     },
     "metadata": {},
     "output_type": "display_data"
    }
   ],
   "source": [
    "# remove all workers expect the main\n",
    "#rmprocs(workers()) # remove all workers expect the main\n",
    "nprocs() # numero de procesos"
   ]
  },
  {
   "cell_type": "code",
   "execution_count": 68,
   "metadata": {},
   "outputs": [
    {
     "data": {
      "text/plain": [
       "Task (runnable, started) @0x000000010de48010"
      ]
     },
     "metadata": {},
     "output_type": "display_data"
    }
   ],
   "source": [
    "@everywhere using SharedArrays\n",
    "\n",
    "a = SharedArray{Float64}(10)\n",
    "@distributed for i = 1:10\n",
    "    a[i] = myid()\n",
    "end"
   ]
  },
  {
   "cell_type": "code",
   "execution_count": 69,
   "metadata": {},
   "outputs": [
    {
     "data": {
      "text/plain": [
       "10-element SharedVector{Float64}:\n",
       " 8.0\n",
       " 8.0\n",
       " 8.0\n",
       " 8.0\n",
       " 8.0\n",
       " 9.0\n",
       " 9.0\n",
       " 9.0\n",
       " 9.0\n",
       " 9.0"
      ]
     },
     "metadata": {},
     "output_type": "display_data"
    }
   ],
   "source": [
    "a"
   ]
  },
  {
   "cell_type": "code",
   "execution_count": 70,
   "metadata": {},
   "outputs": [],
   "source": [
    "using LinearAlgebra"
   ]
  },
  {
   "cell_type": "code",
   "execution_count": 71,
   "metadata": {},
   "outputs": [],
   "source": [
    "M = Matrix{Float64}[rand(10,10) for i = 1:10];\n",
    "\n",
    "singular_values = pmap(svdvals, M);"
   ]
  },
  {
   "cell_type": "code",
   "execution_count": 72,
   "metadata": {},
   "outputs": [
    {
     "data": {
      "text/plain": [
       "10-element Vector{Vector{Float64}}:\n",
       " [5.101507701990382, 1.4539886170245935, 1.2322762394231965, 1.1792291511981339, 0.8246908417197119, 0.683278487885689, 0.5629980276975178, 0.4120286774096411, 0.16886841579940395, 0.05984331543951153]\n",
       " [5.22057797242702, 1.478089682806005, 1.260422372342858, 1.2202327251893261, 0.911176104983399, 0.8067395956530558, 0.4842031403933869, 0.40212688329890994, 0.1548868941111883, 0.04453890176818144]\n",
       " [5.572545992398896, 1.5383141084236163, 1.0495899082133242, 0.9547804171113077, 0.7893799337818237, 0.7121311742311685, 0.6088243149664556, 0.3162642702717618, 0.17137107427146442, 0.053742549852720145]\n",
       " [5.028879945478178, 1.3383219838733895, 1.2137317201583484, 1.1559645117288146, 0.9333423113262536, 0.6775800175591128, 0.5480325059641697, 0.373399869714335, 0.17860321855669004, 0.11158878584427448]\n",
       " [5.294857806159031, 1.3750776944816665, 1.1970885467821157, 1.1095722822330618, 0.8410396242706599, 0.6055888132829828, 0.4791159493682871, 0.30480574296019186, 0.19252539282987982, 0.016240071159748973]\n",
       " [4.587282889783536, 1.7156660974772817, 1.3176146065427452, 1.1318128037286657, 0.9221719479482604, 0.8292002546643715, 0.5411606367703542, 0.45780298516168383, 0.2796144492968703, 0.08219567473952248]\n",
       " [5.110008634478554, 1.5521357507467786, 1.3287786603514071, 1.1161530188147526, 0.8553769482512815, 0.6814939324541947, 0.5085950282286069, 0.3353007774520932, 0.23138854508034937, 0.048417295748458204]\n",
       " [4.9097654188791156, 1.1352839797260776, 1.1164148779308973, 1.0370413691257803, 0.9162260637019308, 0.8145254989204677, 0.5700330969413097, 0.4559422533401765, 0.2719312415730414, 0.09918902740710094]\n",
       " [5.364005125271517, 1.7444461086799408, 1.2978557539955817, 1.0290031460165663, 0.9095342820981283, 0.8171575292740663, 0.6893893575807922, 0.42710846378687106, 0.21559961892943594, 0.12388626865033073]\n",
       " [5.334665707758233, 1.5034376880136406, 1.2732908335639008, 1.0026030258645904, 0.8304717785666466, 0.6198039979403432, 0.4944406318451237, 0.3488759848066632, 0.1484150632134877, 0.02223401512704608]"
      ]
     },
     "metadata": {},
     "output_type": "display_data"
    }
   ],
   "source": [
    "singular_values"
   ]
  },
  {
   "cell_type": "code",
   "execution_count": 75,
   "metadata": {},
   "outputs": [],
   "source": [
    "@everywhere begin\n",
    "    #using quantum\n",
    "    using LinearAlgebra\n",
    "    using SharedArrays\n",
    "    function test_parallel(a)\n",
    "        return a^2\n",
    "    end\n",
    "end"
   ]
  },
  {
   "cell_type": "code",
   "execution_count": 82,
   "metadata": {},
   "outputs": [
    {
     "name": "stdout",
     "output_type": "stream",
     "text": [
      "      From worker 9:\tWorker 9 is running\n",
      "      From worker 9:\t36\n",
      "      From worker 9:\tWorker 9 is running\n",
      "      From worker 9:\t49\n",
      "      From worker 9:\tWorker 9 is running\n",
      "      From worker 9:\t64\n",
      "      From worker 9:\tWorker 9 is running\n",
      "      From worker 9:\t81\n",
      "      From worker 9:\tWorker 9 is running\n",
      "      From worker 9:\t100\n",
      "      From worker 8:\tWorker 8 is running\n",
      "      From worker 8:\t1\n",
      "      From worker 8:\tWorker 8 is running\n",
      "      From worker 8:\t4\n",
      "      From worker 8:\tWorker 8 is running\n",
      "      From worker 8:\t9\n",
      "      From worker 8:\tWorker 8 is running\n",
      "      From worker 8:\t16\n",
      "      From worker 8:\tWorker 8 is running\n",
      "      From worker 8:\t25\n"
     ]
    },
    {
     "data": {
      "text/plain": [
       "Task (done) @0x000000032cb8c330"
      ]
     },
     "metadata": {},
     "output_type": "display_data"
    }
   ],
   "source": [
    "\n",
    "@sync @distributed for i in 1:10\n",
    "    println(\"Worker $(myid()) is running\")\n",
    "    println(test_parallel(i))\n",
    "end"
   ]
  },
  {
   "cell_type": "code",
   "execution_count": 84,
   "metadata": {},
   "outputs": [
    {
     "data": {
      "text/plain": [
       "10-element Vector{Int64}:\n",
       " 8\n",
       " 9\n",
       " 9\n",
       " 8\n",
       " 9\n",
       " 8\n",
       " 9\n",
       " 8\n",
       " 9\n",
       " 8"
      ]
     },
     "metadata": {},
     "output_type": "display_data"
    }
   ],
   "source": [
    "a = SharedArray{Float64}(10)\n",
    "\n",
    "# Usar pmap para asignar valores\n",
    "pmap(i -> (a[i] = myid()), 1:10)"
   ]
  },
  {
   "cell_type": "code",
   "execution_count": null,
   "metadata": {},
   "outputs": [],
   "source": []
  },
  {
   "cell_type": "code",
   "execution_count": null,
   "metadata": {},
   "outputs": [],
   "source": []
  },
  {
   "cell_type": "code",
   "execution_count": null,
   "metadata": {},
   "outputs": [],
   "source": []
  }
 ],
 "metadata": {
  "kernelspec": {
   "display_name": "Julia 1.11.3",
   "language": "julia",
   "name": "julia-1.11"
  },
  "language_info": {
   "file_extension": ".jl",
   "mimetype": "application/julia",
   "name": "julia",
   "version": "1.11.3"
  }
 },
 "nbformat": 4,
 "nbformat_minor": 2
}
