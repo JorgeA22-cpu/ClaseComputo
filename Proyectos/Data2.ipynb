{
 "cells": [
  {
   "cell_type": "code",
   "execution_count": 10,
   "metadata": {},
   "outputs": [],
   "source": [
    "using Plots\n",
    "using LinearAlgebra\n",
    "using LaTeXStrings\n",
    "using Pkg \n",
    "# Pkg.add(\"HDF5\")\n",
    "using HDF5"
   ]
  },
  {
   "cell_type": "code",
   "execution_count": 11,
   "metadata": {},
   "outputs": [
    {
<<<<<<< HEAD
     "data": {
      "text/plain": [
       "2-element Vector{UnitRange{Int64}}:\n",
       " 1:3\n",
       " 1:3"
      ]
     },
     "metadata": {},
     "output_type": "display_data"
=======
     "ename": "UndefVarError",
     "evalue": "UndefVarError: `k` not defined in `Main`\nSuggestion: check for spelling errors or missing imports.",
     "output_type": "error",
     "traceback": [
      "UndefVarError: `k` not defined in `Main`\n",
      "Suggestion: check for spelling errors or missing imports.\n",
      "\n",
      "Stacktrace:\n",
      " [1] top-level scope\n",
      "   @ c:\\Users\\corte\\gitVideo\\Proyectos\\jl_notebook_cell_df34fa98e69747e1a8f8a730347b8e2f_W1sZmlsZQ==.jl:1"
     ]
>>>>>>> ce4a5e5b03cd36b52515314316cf6f3b2b89f9e9
    }
   ],
   "source": [
    "list = [1:3  for _ in 1:k]"
   ]
  },
  {
   "cell_type": "code",
   "execution_count": 41,
   "metadata": {},
   "outputs": [
    {
     "data": {
      "text/plain": [
       "2×2 Matrix{Int64}:\n",
       " 0  1\n",
       " 1  0"
      ]
     },
     "metadata": {},
     "output_type": "display_data"
    }
   ],
   "source": [
    "N = 3 # number of qubits\n",
    "d = 2^N # dimension of the Hilbert space\n",
    "\n",
    "sigmax = [0 1; 1 0]\n",
    "sigmay = [0 -im; im 0]\n",
    "sigmaz = [1 0; 0 -1]\n",
    "id= [1 0; 0 1]\n",
    "\n",
    "\n",
    "Sigma = Dict(0 => id, 1 => sigmax, 2 => sigmay, 3 => sigmaz) #Diccionario para llamar a las matrices de Pauli\n",
    "Sigma[1]"
   ]
  },
  {
   "cell_type": "markdown",
   "metadata": {},
   "source": [
    "### a |> f = f(a)"
   ]
  },
  {
   "cell_type": "code",
   "execution_count": 42,
   "metadata": {},
   "outputs": [
    {
     "name": "stdout",
     "output_type": "stream",
     "text": [
      "[0.0, 0.0, 0.0]\n",
      "[1.0, 0.0, 0.0]\n",
      "[2.0, 0.0, 0.0]\n",
      "[3.0, 0.0, 0.0]\n",
      "[0.0, 1.0, 0.0]\n",
      "[1.0, 1.0, 0.0]\n",
      "[2.0, 1.0, 0.0]\n",
      "[3.0, 1.0, 0.0]\n",
      "[0.0, 2.0, 0.0]\n",
      "[1.0, 2.0, 0.0]\n",
      "[2.0, 2.0, 0.0]\n",
      "[3.0, 2.0, 0.0]\n",
      "[0.0, 3.0, 0.0]\n",
      "[1.0, 3.0, 0.0]\n",
      "[2.0, 3.0, 0.0]\n",
      "[3.0, 3.0, 0.0]\n",
      "[0.0, 0.0, 0.0]\n",
      "[0.0, 1.0, 0.0]\n",
      "[0.0, 2.0, 0.0]\n",
      "[0.0, 3.0, 0.0]\n",
      "[0.0, 0.0, 1.0]\n",
      "[0.0, 1.0, 1.0]\n",
      "[0.0, 2.0, 1.0]\n",
      "[0.0, 3.0, 1.0]\n",
      "[0.0, 0.0, 2.0]\n",
      "[0.0, 1.0, 2.0]\n",
      "[0.0, 2.0, 2.0]\n",
      "[0.0, 3.0, 2.0]\n",
      "[0.0, 0.0, 3.0]\n",
      "[0.0, 1.0, 3.0]\n",
      "[0.0, 2.0, 3.0]\n",
      "[0.0, 3.0, 3.0]\n"
     ]
    },
    {
     "data": {
      "text/plain": [
       "32"
      ]
     },
     "metadata": {},
     "output_type": "display_data"
    }
   ],
   "source": [
    "particles= 3\n",
    "k=2\n",
    "list=[0:3 for _ in 1:k]\n",
    "test_visual_list = []\n",
    "for place in 1:particles-k+1\n",
    "    for i in Base.product(list...)\n",
    "        total_list=zeros(particles)\n",
    "        total_list[place:place+k-1]= i|>collect\n",
    "        print(total_list)\n",
    "        push!(test_visual_list,total_list)\n",
    "        print(\"\\n\")\n",
    "    end\n",
    "end\n",
    "length(test_visual_list)"
   ]
  },
  {
   "cell_type": "code",
   "execution_count": 43,
   "metadata": {},
   "outputs": [
    {
     "data": {
      "text/plain": [
<<<<<<< HEAD
       "32-element Vector{Float64}:\n",
       " -0.30002454071797224\n",
       " -0.8038725119035031\n",
       "  0.8743288875048796\n",
       " -0.898957794090659\n",
       "  0.26541793708946093\n",
       "  0.18336829958578305\n",
       "  0.4388622039570085\n",
       "  0.7971291211704854\n",
       " -0.4854683779191469\n",
       "  0.11751650152657511\n",
       "  ⋮\n",
       "  0.36699744781987254\n",
       " -0.39897566841965815\n",
       "  0.9842355142664247\n",
       " -0.259257292609951\n",
       "  0.29554841082756833\n",
       "  0.6334743509255223\n",
       " -0.8244596212537101\n",
       "  0.5333889217980412\n",
       "  0.3500908627927395"
=======
       "216-element Vector{Float64}:\n",
       "  0.5243477609930509\n",
       " -0.48321474898041106\n",
       " -0.634125222430554\n",
       "  0.3106743640549181\n",
       " -0.6928319520010311\n",
       " -0.824806079891524\n",
       " -0.7771748956420033\n",
       "  0.4435565647131472\n",
       " -0.06095403965195789\n",
       "  0.0010145727043033848\n",
       "  ⋮\n",
       "  0.4401935026839574\n",
       " -0.736847106915544\n",
       " -0.719093460850071\n",
       "  0.31223261113003975\n",
       " -0.6282012977694718\n",
       " -0.6247001196078517\n",
       " -0.1205888418045229\n",
       "  0.9341468504824377\n",
       "  0.8679762575506695"
>>>>>>> ce4a5e5b03cd36b52515314316cf6f3b2b89f9e9
      ]
     },
     "metadata": {},
     "output_type": "display_data"
    }
   ],
   "source": [
    "# Usarlo para la suma \n",
    "N = particles\n",
    "C = test_visual_list\n",
    "x = rand(length(test_visual_list))*2 .-1\n",
    "# A = reduce(kron, [Sigma[C[1][i]] for i in eachindex(C[1])])\n"
   ]
  },
  {
   "cell_type": "code",
   "execution_count": 6,
   "metadata": {},
   "outputs": [
    {
<<<<<<< HEAD
     "data": {
      "text/plain": [
       "🗂️ HDF5.File: (read-write) OperadoresLocales.h5"
      ]
     },
     "metadata": {},
     "output_type": "display_data"
    }
   ],
   "source": [
    "#h5write_path = \"OperadoresLocales.h5\"\n",
    "#h5file = h5open(h5write_path, \"w\")"
   ]
  },
  {
   "cell_type": "code",
   "execution_count": 48,
   "metadata": {},
   "outputs": [
    {
     "data": {
      "text/plain": [
       "8×8 Matrix{ComplexF64}:\n",
       "  0.759725+0.0im         1.26038+0.103427im  …        0.0+0.0im\n",
       "   1.26038-0.103427im   -1.20741+0.0im            0.43452-0.556379im\n",
       "  0.463105+0.831672im  -0.393649-1.45004im            0.0+0.0im\n",
       "  0.124866+0.518429im    2.11202-0.235106im     -0.867646-0.81731im\n",
       " -0.740099+0.931347im        0.0+0.0im           0.124866-0.518429im\n",
       "       0.0+0.0im       -0.740099+0.931347im  …   0.517766-0.0586283im\n",
       "   0.43452+0.556379im        0.0+0.0im           0.526383+0.694524im\n",
       "       0.0+0.0im         0.43452+0.556379im       1.29276+0.0im"
=======
     "data": {
      "text/plain": [
       "1024×1024 Matrix{ComplexF64}:\n",
       "     1.1636+0.0im         0.437766+0.133028im   …        0.0+0.0im\n",
       "   0.437766-0.133028im   -0.572351+0.0im                 0.0+0.0im\n",
       "   -1.13607-1.57474im      1.79426+0.284687im            0.0+0.0im\n",
       " -0.0100686-1.05267im     0.302115-0.325343im            0.0+0.0im\n",
       "   0.354397+0.999312im   0.0462627+0.143524im            0.0+0.0im\n",
       "    1.58864+0.294883im    0.595574-0.868981im   …        0.0+0.0im\n",
       "    1.10551+0.779326im     2.59243+0.146546im            0.0+0.0im\n",
       "   0.324576+0.230181im    -1.03128+1.62855im             0.0+0.0im\n",
       "   -1.51236-0.0977733im        0.0+0.0im                 0.0+0.0im\n",
       "        0.0+0.0im         -1.51236-0.0977733im           0.0+0.0im\n",
       "           ⋮                                    ⋱  \n",
       "        0.0+0.0im              0.0+0.0im        …   -1.51236+0.0977733im\n",
       "        0.0+0.0im              0.0+0.0im            0.324576-0.230181im\n",
       "        0.0+0.0im              0.0+0.0im            -1.10551+0.779326im\n",
       "        0.0+0.0im              0.0+0.0im            -1.58864+0.294883im\n",
       "        0.0+0.0im              0.0+0.0im            0.354397-0.999312im\n",
       "        0.0+0.0im              0.0+0.0im        …  0.0100686-1.05267im\n",
       "        0.0+0.0im              0.0+0.0im            -1.13607+1.57474im\n",
       "        0.0+0.0im              0.0+0.0im            0.437766+0.133028im\n",
       "        0.0+0.0im              0.0+0.0im             -1.1636+0.0im"
>>>>>>> ce4a5e5b03cd36b52515314316cf6f3b2b89f9e9
      ]
     },
     "metadata": {},
     "output_type": "display_data"
    }
   ],
   "source": [
    "H = zeros(ComplexF64,2^N,2^N)\n",
    "for k in 1:length(test_visual_list)\n",
    "    H += x[k]*reduce(kron, [Sigma[C[k][i]] for i in eachindex(C[1])])\n",
    "    mat = kron([Sigma[C[k][i]] for i in eachindex(C[k])]...)\n",
    "    #h5file[\"matrix_$k\"] = mat\n",
    "end\n",
    "#close(h5file)\n",
    "H "
   ]
  },
  {
   "cell_type": "code",
<<<<<<< HEAD
   "execution_count": 52,
=======
   "execution_count": 7,
>>>>>>> ce4a5e5b03cd36b52515314316cf6f3b2b89f9e9
   "metadata": {},
   "outputs": [
    {
     "data": {
      "text/plain": [
<<<<<<< HEAD
       "8×8 adjoint(::Matrix{ComplexF64}) with eltype ComplexF64:\n",
       "  0.225712-0.114638im    -0.612215+0.139716im   …   0.145328+0.0im\n",
       " -0.260415+0.059939im   -0.0579832+0.0354792im      0.061282+0.0im\n",
       "  0.240666-0.24324im    -0.0517954+0.0144391im     -0.376134+0.0im\n",
       " 0.0922699-0.0679738im   -0.194444+0.55107im       -0.463647+0.0im\n",
       " -0.344305-0.416271im     -0.08897-0.168456im       0.122731+0.0im\n",
       "  0.416537-0.263007im    -0.025519+0.17569im    …   0.608189-0.0im\n",
       "    0.1761-0.370097im   -0.0101059-0.430392im      -0.390977+0.0im\n",
       " 0.0906115+0.153583im   -0.0189157+0.056258im      -0.284355+0.0im"
=======
       "1024×1024 Matrix{ComplexF64}:\n",
       "     1.1636+0.0im         0.437766+0.133028im   …        0.0+0.0im\n",
       "   0.437766-0.133028im   -0.572351+0.0im                 0.0+0.0im\n",
       "   -1.13607-1.57474im      1.79426+0.284687im            0.0+0.0im\n",
       " -0.0100686-1.05267im     0.302115-0.325343im            0.0+0.0im\n",
       "   0.354397+0.999312im   0.0462627+0.143524im            0.0+0.0im\n",
       "    1.58864+0.294883im    0.595574-0.868981im   …        0.0+0.0im\n",
       "    1.10551+0.779326im     2.59243+0.146546im            0.0+0.0im\n",
       "   0.324576+0.230181im    -1.03128+1.62855im             0.0+0.0im\n",
       "   -1.51236-0.0977733im        0.0+0.0im                 0.0+0.0im\n",
       "        0.0+0.0im         -1.51236-0.0977733im           0.0+0.0im\n",
       "           ⋮                                    ⋱  \n",
       "        0.0+0.0im              0.0+0.0im        …   -1.51236+0.0977733im\n",
       "        0.0+0.0im              0.0+0.0im            0.324576-0.230181im\n",
       "        0.0+0.0im              0.0+0.0im            -1.10551+0.779326im\n",
       "        0.0+0.0im              0.0+0.0im            -1.58864+0.294883im\n",
       "        0.0+0.0im              0.0+0.0im            0.354397-0.999312im\n",
       "        0.0+0.0im              0.0+0.0im        …  0.0100686-1.05267im\n",
       "        0.0+0.0im              0.0+0.0im            -1.13607+1.57474im\n",
       "        0.0+0.0im              0.0+0.0im            0.437766+0.133028im\n",
       "        0.0+0.0im              0.0+0.0im             -1.1636+0.0im"
>>>>>>> ce4a5e5b03cd36b52515314316cf6f3b2b89f9e9
      ]
     },
     "metadata": {},
     "output_type": "display_data"
    }
   ],
   "source": [
    "#H = zeros(ComplexF64,2^N,2^N)\n",
    "#for k in 1:length(test_visual_list)\n",
    "#    H += x[k]*kron([Sigma[C[k][i]] for i in eachindex(C[1])]...)\n",
    "#end\n",
    "#H \n",
    "\n",
    "# Hay que guardar las A's\n",
    "# Buscar el mejor formato para guardar matrices en Julia \n",
    "vecs = eigen(H).vectors\n",
    "vecsadj = adjoint(vecs)"
   ]
  },
  {
   "cell_type": "code",
   "execution_count": null,
   "metadata": {},
   "outputs": [
    {
     "data": {
      "text/plain": [
       "1.0 + 0.0im"
      ]
     },
     "metadata": {},
     "output_type": "display_data"
    }
   ],
   "source": [
    "a1 = transpose(vecsadj[1,:])*vecs[:,1]"
   ]
  },
  {
   "cell_type": "markdown",
   "metadata": {},
   "source": [
    "$\\{A_i\\}$ deben ser operadores fijos lo que varían son 1000 datos distintos del conjunto de $\\{c_i\\}$ y tomar la mitad inferior de $\\{\\ket{\\psi_n\\}}$ ¿Qué tanto podemos reducir los estados y que nos siga dando una buena aproximación? "
   ]
  },
  {
   "cell_type": "markdown",
   "metadata": {},
   "source": []
  },
  {
   "cell_type": "code",
   "execution_count": 90,
   "metadata": {},
   "outputs": [
    {
     "data": {
      "text/plain": [
       "false"
      ]
     },
     "metadata": {},
     "output_type": "display_data"
    }
   ],
   "source": [
    "list2 = test_visual_list\n",
    "1 != 1.0"
   ]
  },
  {
   "cell_type": "code",
   "execution_count": 141,
   "metadata": {},
   "outputs": [
    {
     "data": {
      "text/plain": [
       "3-element Vector{Float64}:\n",
       " 1.0\n",
       " 0.0\n",
       " 0.0"
      ]
     },
     "metadata": {},
     "output_type": "display_data"
    }
   ],
   "source": [
    "list2[1][3]\n",
    "A1 = []\n",
    "A2 = []\n",
    "A3 = []\n",
    "A4 = []\n",
    "A5 = []\n",
    "\n",
    "list2[2]\n",
    "#push!(A1,list2[1])\n",
    "\n",
    "# Vamos a tener 5 operadores locales para el caso de 3 qubits, A1 corresponde a los elementos que tienen Sigma en el primer elemento y los demás son identidades \n",
    "# A2 son los que tienen Sigma en el segundo elemento y los demás son identidades\n",
    "# A3 son los que tienen Sigma en el tercer elemento y los demás son identidades\n",
    "# A4 son las combinaciones que tienen sigma en el 1er y 2do elemento \n",
    "# A5 son las combinaciones que tienen sigma en el 2do y 3er elemento "
   ]
  },
  {
   "cell_type": "code",
   "execution_count": 142,
   "metadata": {},
   "outputs": [],
   "source": [
    "for i in 1:length(list2)\n",
    "    if list2[i][1] != 0  && list2[i][2] == 0 && list2[i][3] == 0\n",
    "        push!(A1, list2[i])\n",
    "    elseif list2[i][1] == 0 && list2[i][2] != 0 && list2[i][3] == 0\n",
    "        push!(A2, list2[i])\n",
    "    elseif list2[i][1] == 0 && list2[i][2] == 0 && list2[i][3] != 0\n",
    "        push!(A3, list2[i]) \n",
    "    elseif list2[i][1] != 0 && list2[i][2] != 0 && list2[i][3] == 0\n",
    "        push!(A4, list2[i])\n",
    "    elseif list2[i][1] == 0 && list2[i][2] != 0 && list2[i][3] != 0\n",
    "        push!(A5, list2[i])\n",
    "    end\n",
    "end"
   ]
  },
  {
   "cell_type": "code",
   "execution_count": 154,
   "metadata": {},
   "outputs": [
    {
     "data": {
      "text/plain": [
       "3-element Vector{Any}:\n",
       " [1.0, 0.0, 0.0]\n",
       " [2.0, 0.0, 0.0]\n",
       " [3.0, 0.0, 0.0]"
      ]
     },
     "metadata": {},
     "output_type": "display_data"
    }
   ],
   "source": [
    "A1\n",
    "A1u = unique(A1)"
   ]
  },
  {
   "cell_type": "code",
   "execution_count": 149,
   "metadata": {},
   "outputs": [
    {
     "data": {
      "text/plain": [
       "3-element Vector{Any}:\n",
       " [0.0, 1.0, 0.0]\n",
       " [0.0, 2.0, 0.0]\n",
       " [0.0, 3.0, 0.0]"
      ]
     },
     "metadata": {},
     "output_type": "display_data"
    }
   ],
   "source": [
    "A2 \n",
    "A2u = unique(A2)"
   ]
  },
  {
   "cell_type": "code",
   "execution_count": 153,
   "metadata": {},
   "outputs": [
    {
     "data": {
      "text/plain": [
       "3-element Vector{Any}:\n",
       " [0.0, 0.0, 1.0]\n",
       " [0.0, 0.0, 2.0]\n",
       " [0.0, 0.0, 3.0]"
      ]
     },
     "metadata": {},
     "output_type": "display_data"
    }
   ],
   "source": [
    "A3\n",
    "A3u = unique(A3)"
   ]
  },
  {
   "cell_type": "code",
   "execution_count": 152,
   "metadata": {},
   "outputs": [
    {
     "data": {
      "text/plain": [
       "9-element Vector{Any}:\n",
       " [1.0, 1.0, 0.0]\n",
       " [2.0, 1.0, 0.0]\n",
       " [3.0, 1.0, 0.0]\n",
       " [1.0, 2.0, 0.0]\n",
       " [2.0, 2.0, 0.0]\n",
       " [3.0, 2.0, 0.0]\n",
       " [1.0, 3.0, 0.0]\n",
       " [2.0, 3.0, 0.0]\n",
       " [3.0, 3.0, 0.0]"
      ]
     },
     "metadata": {},
     "output_type": "display_data"
    }
   ],
   "source": [
    "A4\n",
    "A4u = unique(A4)"
   ]
  },
  {
   "cell_type": "code",
   "execution_count": 150,
   "metadata": {},
   "outputs": [
    {
     "data": {
      "text/plain": [
       "9-element Vector{Any}:\n",
       " [0.0, 1.0, 1.0]\n",
       " [0.0, 2.0, 1.0]\n",
       " [0.0, 3.0, 1.0]\n",
       " [0.0, 1.0, 2.0]\n",
       " [0.0, 2.0, 2.0]\n",
       " [0.0, 3.0, 2.0]\n",
       " [0.0, 1.0, 3.0]\n",
       " [0.0, 2.0, 3.0]\n",
       " [0.0, 3.0, 3.0]"
      ]
     },
     "metadata": {},
     "output_type": "display_data"
    }
   ],
   "source": [
    "A5\n",
    "A5u = unique(A5)"
   ]
  },
  {
   "cell_type": "code",
   "execution_count": 148,
   "metadata": {},
   "outputs": [],
   "source": []
  },
  {
   "cell_type": "code",
   "execution_count": null,
   "metadata": {},
   "outputs": [],
   "source": []
  }
 ],
 "metadata": {
  "kernelspec": {
   "display_name": "Julia 1.11.3",
   "language": "julia",
   "name": "julia-1.11"
  },
  "language_info": {
   "file_extension": ".jl",
   "mimetype": "application/julia",
   "name": "julia",
   "version": "1.11.3"
  }
 },
 "nbformat": 4,
 "nbformat_minor": 2
}
