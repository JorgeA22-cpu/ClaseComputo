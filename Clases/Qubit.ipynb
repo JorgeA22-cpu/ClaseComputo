{
 "cells": [
  {
   "cell_type": "markdown",
   "metadata": {},
   "source": [
    "# Qubits, Paridad e Ising \n",
    "\n",
    "- original_integer\n",
    "- base_2\n",
    "- rotate \n",
    "- Operador K \n",
    "- Diagonalización por bloques ¿?"
   ]
  },
  {
   "cell_type": "code",
   "execution_count": 222,
   "metadata": {},
   "outputs": [],
   "source": [
    "using LinearAlgebra\n",
    "using Plots"
   ]
  },
  {
   "cell_type": "code",
   "execution_count": 223,
   "metadata": {},
   "outputs": [
    {
     "data": {
      "text/plain": [
       "base_2 (generic function with 1 method)"
      ]
     },
     "metadata": {},
     "output_type": "display_data"
    }
   ],
   "source": [
    "# Primero definimos algunas funciones auxiliares que nos ayudarán a convertir de un número a una lista de bits y viceversa.\n",
    "\"\"\"\n",
    "La función convierte un número en binario a su entero original.\n",
    "\"\"\"\n",
    "function original_integer(list)\n",
    "    return parse(Int, join(list); base=2)\n",
    "end\n",
    "\n",
    "\n",
    "# @doc Recibe un entero y lo escribe en binario, el pad nos dice qué tantos ceros tendrá la representación binaria e.g pad = 2 es 00, pad = 3 es 000\n",
    "\n",
    "function base_2(integer; pad= nothing)\n",
    "    if pad == nothing\n",
    "        return reverse(digits(integer, base = 2))\n",
    "    else\n",
    "        return reverse(digits(integer, base = 2, pad = pad))\n",
    "    end\n",
    "end"
   ]
  },
  {
   "cell_type": "markdown",
   "metadata": {},
   "source": [
    "## Hola"
   ]
  },
  {
   "cell_type": "code",
   "execution_count": 224,
   "metadata": {},
   "outputs": [
    {
     "data": {
      "text/latex": [
       "La función convierte un número en binario a su entero original.\n",
       "\n"
      ],
      "text/markdown": [
       "La función convierte un número en binario a su entero original.\n"
      ],
      "text/plain": [
       "  La función convierte un número en binario a su entero original."
      ]
     },
     "metadata": {},
     "output_type": "display_data"
    }
   ],
   "source": [
    "A = base_2(5; pad=nothing)\n",
    "@doc original_integer\n",
    "# @doc base_2"
   ]
  },
  {
   "cell_type": "code",
   "execution_count": 225,
   "metadata": {},
   "outputs": [
    {
     "data": {
      "text/plain": [
       "31"
      ]
     },
     "metadata": {},
     "output_type": "display_data"
    }
   ],
   "source": [
    "original_integer([1,1,1,1,1])"
   ]
  },
  {
   "cell_type": "code",
   "execution_count": 226,
   "metadata": {},
   "outputs": [
    {
     "data": {
      "text/plain": [
       "rotate (generic function with 1 method)"
      ]
     },
     "metadata": {},
     "output_type": "display_data"
    }
   ],
   "source": [
    "function rotate(index,N)\n",
    "    vec = base_2(index, pad=N)\n",
    "    return original_integer([vec[end];vec[1:end-1]]), index\n",
    "end"
   ]
  },
  {
   "cell_type": "code",
   "execution_count": 227,
   "metadata": {},
   "outputs": [
    {
     "data": {
      "text/plain": [
       "(4, 1)"
      ]
     },
     "metadata": {},
     "output_type": "display_data"
    }
   ],
   "source": [
    "rotate(1,3)"
   ]
  },
  {
   "cell_type": "code",
   "execution_count": 228,
   "metadata": {},
   "outputs": [
    {
     "data": {
      "text/plain": [
       "8×8 Matrix{Float64}:\n",
       " 1.0  0.0  0.0  0.0  0.0  0.0  0.0  0.0\n",
       " 0.0  0.0  1.0  0.0  0.0  0.0  0.0  0.0\n",
       " 0.0  0.0  0.0  0.0  1.0  0.0  0.0  0.0\n",
       " 0.0  0.0  0.0  0.0  0.0  0.0  1.0  0.0\n",
       " 0.0  1.0  0.0  0.0  0.0  0.0  0.0  0.0\n",
       " 0.0  0.0  0.0  1.0  0.0  0.0  0.0  0.0\n",
       " 0.0  0.0  0.0  0.0  0.0  1.0  0.0  0.0\n",
       " 0.0  0.0  0.0  0.0  0.0  0.0  0.0  1.0"
      ]
     },
     "metadata": {},
     "output_type": "display_data"
    }
   ],
   "source": [
    "m = 3 # Número de Qubits\n",
    "function OperatorK(m) # m = particles\n",
    "    am = original_integer(fill(1,m))\n",
    "    A = zeros(am+1,am+1) #la primer posición es el cero\n",
    "\n",
    "    for i in 0:am # m es el número de qubits \n",
    "       A[ rotate(i,m)[1]+1, i+1 ] = 1\n",
    "    end\n",
    "    return A\n",
    "end\n",
    "OperatorK(3)"
   ]
  },
  {
   "cell_type": "code",
   "execution_count": 229,
   "metadata": {},
   "outputs": [
    {
     "data": {
      "text/plain": [
       "Sigma (generic function with 1 method)"
      ]
     },
     "metadata": {},
     "output_type": "display_data"
    }
   ],
   "source": [
    "# Definición de las matrices de Pauli\n",
    "sigmax = [0 1.0; 1 0]\n",
    "sigmay = [0 -1.0im; im 0]  # im representa la unidad imaginaria √(-1)\n",
    "sigmaz = [1.0 0; 0 -1]\n",
    "sigmas = Dict(1=>sigmax, 2=>sigmay, 3=>sigmaz)\n",
    "function Sigma(indice, pos, totalparticulas)\n",
    "    id = I(2) #[1.0 0; 0 1.0]\n",
    "    mat = sigmas[indice]\n",
    "    list = []\n",
    "    for i in 0:totalparticulas-1\n",
    "        if i == pos \n",
    "            append!(list,[mat])\n",
    "        else \n",
    "            append!(list,[id])\n",
    "        end\n",
    "        #println(\"$list\")\n",
    "    end\n",
    "    return kron(list...)\n",
    "end"
   ]
  },
  {
   "cell_type": "code",
   "execution_count": 230,
   "metadata": {},
   "outputs": [
    {
     "data": {
      "text/plain": [
       "IsingHomogeneo (generic function with 1 method)"
      ]
     },
     "metadata": {},
     "output_type": "display_data"
    }
   ],
   "source": [
    "# En un campo externo h \n",
    "J = 1\n",
    "function IsingHomogeneo(N,b; cerrada = false) #Keyword Arguments\n",
    "    H = 0\n",
    "    totalparticulas = N\n",
    "    if cerrada == false \n",
    "        M = (N - 1)\n",
    "    elseif cerrada == true \n",
    "        M = N \n",
    "    end\n",
    "\n",
    "    for i in 0:(M-1)\n",
    "        H = H .+ J*(Sigma(3, mod(i,N),totalparticulas)*Sigma(3,mod((i+1),N),totalparticulas))\n",
    "    end\n",
    "    for j in 0:N-1\n",
    "        H = H .+ b*Sigma(1,j,totalparticulas)\n",
    "    end\n",
    "    return H \n",
    "end"
   ]
  },
  {
   "cell_type": "code",
   "execution_count": 231,
   "metadata": {},
   "outputs": [
    {
     "data": {
      "text/plain": [
       "ProjectionParity (generic function with 1 method)"
      ]
     },
     "metadata": {},
     "output_type": "display_data"
    }
   ],
   "source": [
    "function ProjectionParity(N,b, Bloque; cerrada = false)\n",
    "    H = IsingHomogeneo(N,b, cerrada = false)\n",
    "    # P = parity(N)\n",
    "    OpK = OperatorK(N)\n",
    "    # vals, v = eigen(P) \n",
    "    valsK, vecK = eigen(OpK)\n",
    "    valsunique = roundedvals(valsK)[1]\n",
    "    vals = roundedvals(valsK)[2]\n",
    "\n",
    "    Bloques = Dict()\n",
    "    for i in 1:length(valsunique)\n",
    "        Bloques[i] = length(findall(vals .== valsunique[i]))\n",
    "    end\n",
    "\n",
    "    vec = vecK[:, findall(vals .== valsunique[Bloque])]\n",
    "\n",
    "    num = Bloques[Bloque]\n",
    "    Projection = zeros(ComplexF64,num,num)\n",
    "\n",
    "    for k in 1:num\n",
    "        for j in 1:num\n",
    "            Projection[j,k] = vec[:,j]'*H*vec[:,k]\n",
    "        end\n",
    "    end\n",
    "    return Projection\n",
    "end"
   ]
  },
  {
   "cell_type": "code",
   "execution_count": 232,
   "metadata": {},
   "outputs": [
    {
     "ename": "UndefVarError",
     "evalue": "UndefVarError: `roundedvals` not defined in `Main`\nSuggestion: check for spelling errors or missing imports.",
     "output_type": "error",
     "traceback": [
      "UndefVarError: `roundedvals` not defined in `Main`\n",
      "Suggestion: check for spelling errors or missing imports.\n",
      "\n",
      "Stacktrace:\n",
      " [1] ProjectionParity(N::Int64, b::Int64, Bloque::Int64; cerrada::Bool)\n",
      "   @ Main ~/gitVideo/Clases/jl_notebook_cell_df34fa98e69747e1a8f8a730347b8e2f_X13sZmlsZQ==.jl:7\n",
      " [2] top-level scope\n",
      "   @ ~/gitVideo/Clases/jl_notebook_cell_df34fa98e69747e1a8f8a730347b8e2f_X14sZmlsZQ==.jl:1"
     ]
    }
   ],
   "source": [
    "ProjectionParity(4,1,1,cerrada = false)"
   ]
  },
  {
   "cell_type": "code",
   "execution_count": 233,
   "metadata": {},
   "outputs": [
    {
     "ename": "UndefVarError",
     "evalue": "UndefVarError: `roundedvals` not defined in `Main`\nSuggestion: check for spelling errors or missing imports.",
     "output_type": "error",
     "traceback": [
      "UndefVarError: `roundedvals` not defined in `Main`\n",
      "Suggestion: check for spelling errors or missing imports.\n",
      "\n",
      "Stacktrace:\n",
      " [1] ProjectionParity(N::Int64, b::Float64, Bloque::Int64; cerrada::Bool)\n",
      "   @ Main ~/gitVideo/Clases/jl_notebook_cell_df34fa98e69747e1a8f8a730347b8e2f_X13sZmlsZQ==.jl:7\n",
      " [2] top-level scope\n",
      "   @ ~/gitVideo/Clases/jl_notebook_cell_df34fa98e69747e1a8f8a730347b8e2f_X15sZmlsZQ==.jl:4"
     ]
    }
   ],
   "source": [
    "N = 4\n",
    "listProj1 = []\n",
    "for b in 0:0.01:2\n",
    "     H1 = ProjectionParity(N,b,1,cerrada = false)\n",
    "     ValsProj1 = eigen(H1).values\n",
    "     append!(listProj1,map(x->[b,x],ValsProj1))\n",
    "end\n",
    "x_listProj = [l[1] for l in listProj1]\n",
    "y_listProj = [l[2] for l in listProj1]\n",
    "\n",
    "listProj2 = []\n",
    "for b in 0:0.01:2\n",
    "     H2 = ProjectionParity(N,b,2, cerrada = false)\n",
    "     ValsProj2 = eigen(H2).values\n",
    "     append!(listProj2,map(x->[b,x],ValsProj2))\n",
    "end\n",
    "x_listProj2 = [l[1] for l in listProj2]\n",
    "y_listProj2 = [l[2] for l in listProj2]\n",
    "\n",
    "listProj3 = []\n",
    "for b in 0:0.01:2\n",
    "     H3 = ProjectionParity(N,b,3, cerrada = false)\n",
    "     ValsProj3 = eigen(H3).values\n",
    "     append!(listProj3,map(x->[b,x],ValsProj3))\n",
    "end\n",
    "x_listProj3 = [l[1] for l in listProj3]\n",
    "y_listProj3 = [l[2] for l in listProj3]\n",
    "\n",
    "listProj4 = []\n",
    "for b in 0:0.01:2\n",
    "     H4 = ProjectionParity(N,b,4, cerrada = false)\n",
    "     ValsProj4 = eigen(H4).values\n",
    "     append!(listProj4,map(x->[b,x],ValsProj4))\n",
    "end\n",
    "x_listProj4 = [l[1] for l in listProj4]\n",
    "y_listProj4 = [l[2] for l in listProj4]"
   ]
  },
  {
   "cell_type": "code",
   "execution_count": 234,
   "metadata": {},
   "outputs": [
    {
     "ename": "UndefVarError",
     "evalue": "UndefVarError: `x_listProj` not defined in `Main`\nSuggestion: check for spelling errors or missing imports.",
     "output_type": "error",
     "traceback": [
      "UndefVarError: `x_listProj` not defined in `Main`\n",
      "Suggestion: check for spelling errors or missing imports.\n",
      "\n",
      "Stacktrace:\n",
      " [1] top-level scope\n",
      "   @ ~/gitVideo/Clases/jl_notebook_cell_df34fa98e69747e1a8f8a730347b8e2f_X16sZmlsZQ==.jl:1"
     ]
    }
   ],
   "source": [
    "scatter(real(x_listProj),real(y_listProj), color = \"coral\", markersize =2.5)\n",
    "scatter!(real(x_listProj2), real(y_listProj2), color = \"blue\", markersize = 2.5)\n",
    "scatter!(real(x_listProj3), real(y_listProj3), color = \"red\", markersize = 2.5)\n",
    "scatter!(real(x_listProj4), real(y_listProj4), color = \"green\", markersize = 2.5)\n"
   ]
  },
  {
   "cell_type": "markdown",
   "metadata": {},
   "source": [
    "# Merge Two Integers\n",
    "\n",
    "La función recibe tres enteros merge_two_integers(a, b, mask)\n",
    "\n",
    "Los dígitos binarios de $a$ se colocan en los 1s de mask"
   ]
  },
  {
   "cell_type": "code",
   "execution_count": 235,
   "metadata": {},
   "outputs": [
    {
     "data": {
      "text/plain": [
       "29"
      ]
     },
     "metadata": {},
     "output_type": "display_data"
    }
   ],
   "source": [
    "mask = original_integer([0,1,1,0,0])\n",
    "a = original_integer([1,1])\n",
    "b = original_integer([1,0,1])\n",
    "mask, a , b\n",
    "original_integer([1,1,1,0,1])"
   ]
  },
  {
   "cell_type": "code",
   "execution_count": 236,
   "metadata": {},
   "outputs": [
    {
     "data": {
      "text/plain": [
       "8"
      ]
     },
     "metadata": {},
     "output_type": "display_data"
    }
   ],
   "source": [
    "original_integer([1,0,0,0])"
   ]
  },
  {
   "cell_type": "code",
   "execution_count": 237,
   "metadata": {},
   "outputs": [
    {
     "data": {
      "text/plain": [
       "0"
      ]
     },
     "metadata": {},
     "output_type": "display_data"
    }
   ],
   "source": [
    "mask & 1"
   ]
  },
  {
   "cell_type": "code",
   "execution_count": 238,
   "metadata": {},
   "outputs": [
    {
     "data": {
      "text/plain": [
       "5-element Vector{Int64}:\n",
       " 0\n",
       " 1\n",
       " 1\n",
       " 0\n",
       " 0"
      ]
     },
     "metadata": {},
     "output_type": "display_data"
    }
   ],
   "source": [
    "result = 0\n",
    "bit = b & 1 # ¿El ultimo bit de b es 1 o 0? \n",
    "result = result | bit # Esto hace que el último bit de result sea igual al último bit de b\n",
    "base_2(result, pad = 5)\n",
    "base_2(mask,pad = 5)\n"
   ]
  },
  {
   "cell_type": "code",
   "execution_count": 239,
   "metadata": {},
   "outputs": [
    {
     "data": {
      "text/plain": [
       "([0, 1, 1, 0], [1, 0], 0)"
      ]
     },
     "metadata": {},
     "output_type": "display_data"
    }
   ],
   "source": [
    "new_mask = mask >> 1\n",
    "nm = base_2(new_mask, pad = 4) # Eliminamos un bit de la máscara, el pad es visual\n",
    "new_b = b >> 1\n",
    "bm = base_2(new_b, pad = 2) # Eliminamos un bit de b, el pad es visual\n",
    "new_mask & 1 # El último bit también es 0\n",
    "bit = new_b & 1 \n",
    "\n",
    "nm, bm, bit "
   ]
  },
  {
   "cell_type": "code",
   "execution_count": 240,
   "metadata": {},
   "outputs": [
    {
     "data": {
      "text/plain": [
       "merge_two_integers (generic function with 2 methods)"
      ]
     },
     "metadata": {},
     "output_type": "display_data"
    }
   ],
   "source": [
    "function merge_two_integers(a,b,mask)\n",
    "   \n",
    "end"
   ]
  },
  {
   "cell_type": "code",
   "execution_count": 241,
   "metadata": {},
   "outputs": [
    {
     "data": {
      "text/plain": [
       "merge_two_integers (generic function with 2 methods)"
      ]
     },
     "metadata": {},
     "output_type": "display_data"
    }
   ],
   "source": [
    "mask = original_integer([0,1,1,0,0])\n",
    "a = original_integer([1,0])\n",
    "b = original_integer([1,0,1])\n",
    "\n",
    "mask & 1 # El primer índice no tiene un bit, por lo cual no se modifica aún\n",
    "new_mask = mask >> 1\n",
    "new_mask & 1 # El segundo índice tampoco tiene un bit, por lo cual no se modifica aún\n",
    "new_mask2 = new_mask >> 1\n",
    "new_mask2 & 1 # El tercer índice tiene un bit, por lo cual se modifica\n",
    "bit = a & 1 # Es el elemento a reemplazar en new_mask2\n",
    "new_mask3 = new_mask2 |bit\n",
    "new_mask4 = new_mask3 >> 1 \n",
    "new_mask4 & 1   # El cuarto índice tiene un bit, por lo cual se modifica\n",
    "\n",
    "new_mask5 = new_mask4 | bit # Se reemplaza el bit\n",
    "new_mask6 = new_mask5 >> 1\n",
    "new_mask6 & 1\n",
    "new_mask6 == 0 # La máscara ya no tiene más bits y se termina el proceso de target, ahora falta hacer el proceso de untouched \n",
    "\n",
    "function merge_two_integers(a,b,mask)\n",
    "    bit = a & 1 # Es el valor que vamos a reemplazar (Recordar que una vez sea reemplazado, hay que irnos al siguiente dígito)\n",
    "    k = 0\n",
    "    while mask & 1 == 0\n",
    "        new_mask = mask >> 1\n",
    "        k += 1\n",
    "    end\n",
    "    resultados = []\n",
    "\n",
    "    new_mask = mask\n",
    "\n",
    "    k2 = 0\n",
    "    while (new_mask & 1 ==1) & (a & 1 == 1) | k2 == 10\n",
    "        if a & 1 == 0\n",
    "          new_mask = new_mask & ~a\n",
    "        elseif a & 1 == 1\n",
    "            new_mask = new_mask | a\n",
    "        end\n",
    "    push!(resultados, new_mask)\n",
    "    new_mask = new_mask >> 1\n",
    "    a = a >> 1\n",
    "    k2 += 1\n",
    "    end\n",
    "\n",
    "\n",
    "    # a >> 1 # Nos movemos al siguiente bit\n",
    "        #new_mask = new_mask >> 1 \n",
    "        #a = a >> 1\n",
    "\n",
    "    \n",
    "\n",
    "    return base_2(new_mask), base_2(mask),resultados\n",
    "\n",
    "end"
   ]
  },
  {
   "cell_type": "code",
   "execution_count": 242,
   "metadata": {},
   "outputs": [],
   "source": [
    "#merge_two_integers(a,b,mask)"
   ]
  },
  {
   "cell_type": "code",
   "execution_count": 243,
   "metadata": {},
   "outputs": [
    {
     "data": {
      "text/plain": [
       "3"
      ]
     },
     "metadata": {},
     "output_type": "display_data"
    }
   ],
   "source": [
    "new_mask = original_integer([1,1])"
   ]
  },
  {
   "cell_type": "code",
   "execution_count": 244,
   "metadata": {},
   "outputs": [
    {
     "data": {
      "text/plain": [
       "8"
      ]
     },
     "metadata": {},
     "output_type": "display_data"
    }
   ],
   "source": [
    "mask = original_integer([1,0,0,0])\n",
    "#new_mask = mask >> 5\n",
    "bit = 1 &  1\n",
    "bit << 2\n",
    "new_mask = mask | bit<<2 #[1,1,0,0] \n",
    "new_mask2 = new_mask | bit << 2 # ¿Cómo elimino el bit que ya puse?\n",
    "new_mask3 = new_mask2 & ~bit << 2"
   ]
  },
  {
   "cell_type": "code",
   "execution_count": 245,
   "metadata": {},
   "outputs": [
    {
     "data": {
      "text/plain": [
       "4-element Vector{Int64}:\n",
       " 1\n",
       " 0\n",
       " 0\n",
       " 0"
      ]
     },
     "metadata": {},
     "output_type": "display_data"
    }
   ],
   "source": [
    "base_2(8)"
   ]
  },
  {
   "cell_type": "code",
   "execution_count": 246,
   "metadata": {},
   "outputs": [],
   "source": [
    "mask = original_integer([0,1,1,0,0])\n",
    "a = original_integer([1,0])\n",
    "b = original_integer([1,0,1])\n",
    "\n",
    "# El resultado deseado es [1,1,0,0,1]\n",
    "\n",
    "bit = a & 1\n",
    "bit2 = a >> 2 & 1 # El segundo bit de a \n",
    "\n",
    "# Hay que analizar la máscara \n",
    "\n",
    "mask >> 4 & 1 # Podemos colocar un for i in 1:5 para ver si hay bits en la máscara mask >> i & 1\n",
    "\n",
    "if mask & 1 == 1\n",
    "    mask = mask | bit \n",
    "end\n",
    "    "
   ]
  },
  {
   "cell_type": "code",
   "execution_count": 247,
   "metadata": {},
   "outputs": [
    {
     "data": {
      "text/plain": [
       "12"
      ]
     },
     "metadata": {},
     "output_type": "display_data"
    }
   ],
   "source": [
    "# Cómo implementar un 0 si el target tiene 0s \n",
    "mask = original_integer([0,1,1,0,1])\n",
    "a = original_integer([0,0])\n",
    "bit = a & 1 \n",
    "bit2 = a >> 1 & 1\n",
    "if bit == 0 && (mask & 1 == 1) \n",
    "    newmask = mask & ~1\n",
    "end\n",
    "\n",
    "if bit2 == 0 && (newmask >> 1 & 1 == 1)\n",
    "    newmask2 = newmask >> 1 & ~1\n",
    "else \n",
    "    newmask2 = newmask\n",
    "end\n"
   ]
  },
  {
   "cell_type": "code",
   "execution_count": 248,
   "metadata": {},
   "outputs": [
    {
     "data": {
      "text/plain": [
       "(26, 12, [2.0, 4.0, 5.0])"
      ]
     },
     "metadata": {},
     "output_type": "display_data"
    }
   ],
   "source": [
    "# Cambiar los 1's de la máscara por 0's del target. Ejemplo \n",
    "mask = original_integer([1,1,0,1,0])\n",
    "a = original_integer([0,0])\n",
    "\n",
    "index = zeros(length(base_2(mask)))\n",
    "for i in 1:length(base_2(mask))\n",
    "    if mask >> (i-1) & 1 == 1\n",
    "        index[i] = i\n",
    "    else \n",
    "        index[i] = 0\n",
    "    end\n",
    "end\n",
    "idx = index[findall(!iszero, index)]\n",
    "\n",
    "# Cambiar 1's de mask por 0's del target\n",
    "for i in 0:length(base_2(a))-1\n",
    "    if  bit >> i & 1 == 0\n",
    "        newmask = mask >> (Int(idx[i+1])-1) & ~1 \n",
    "    end\n",
    "end\n",
    "mask, newmask, idx"
   ]
  },
  {
   "cell_type": "code",
   "execution_count": 249,
   "metadata": {},
   "outputs": [
    {
     "data": {
      "text/plain": [
       "2-element Vector{Int64}:\n",
       " 1\n",
       " 0"
      ]
     },
     "metadata": {},
     "output_type": "display_data"
    }
   ],
   "source": [
    "mask\n",
    "\n",
    "newmask2 = mask >> 3 & ~1\n",
    "base_2(2)"
   ]
  },
  {
   "cell_type": "code",
   "execution_count": 250,
   "metadata": {},
   "outputs": [
    {
     "data": {
      "text/plain": [
       "5-element Vector{Float64}:\n",
       " 1.0\n",
       " 2.0\n",
       " 0.0\n",
       " 4.0\n",
       " 5.0"
      ]
     },
     "metadata": {},
     "output_type": "display_data"
    }
   ],
   "source": [
    "# Obtener un vector que me de el índice donde se tiene que hacer el cambio\n",
    "index = zeros(length(base_2(mask)))\n",
    "mask = original_integer([1,1,0,1,1]) # Me gustaría tener un vector que diga (0,1,3,4) \n",
    "for i in 1:length(base_2(mask))\n",
    "    if mask >> (i-1) & 1 == 1\n",
    "        index[i] = i\n",
    "    else \n",
    "        index[i] = 0\n",
    "    end\n",
    "end\n",
    "index"
   ]
  },
  {
   "cell_type": "code",
   "execution_count": 251,
   "metadata": {},
   "outputs": [
    {
     "data": {
      "text/plain": [
       "0"
      ]
     },
     "metadata": {},
     "output_type": "display_data"
    }
   ],
   "source": [
    "z = original_integer([0,1,0])\n",
    "bit = z >> 0 & 1"
   ]
  },
  {
   "cell_type": "code",
   "execution_count": 252,
   "metadata": {},
   "outputs": [
    {
     "data": {
      "text/plain": [
       "merge_two_integers (generic function with 2 methods)"
      ]
     },
     "metadata": {},
     "output_type": "display_data"
    }
   ],
   "source": [
    "function merge_two_integers(a ,b ,mask , n) #a es el target y b es el untouched\n",
    "    result = 0\n",
    "    i=0\n",
    "    bit_mask= base_2(mask, pad=n)\n",
    "    while i<=n-1 \n",
    "        if bit_mask[end-i] == 1\n",
    "            bit = a & 1\n",
    "            result = result | bit<<i\n",
    "            a = a>>1\n",
    "        else\n",
    "            bit = b & 1\n",
    "            result = result | bit<<i\n",
    "            b = b>>1\n",
    "        end\n",
    "        i+=1\n",
    "    end\n",
    "\n",
    "    return result\n",
    "               \n",
    "end"
   ]
  },
  {
   "cell_type": "code",
   "execution_count": 253,
   "metadata": {},
   "outputs": [
    {
     "data": {
      "text/plain": [
       "12"
      ]
     },
     "metadata": {},
     "output_type": "display_data"
    }
   ],
   "source": [
    "mask = original_integer([0,1,0,1,0])\n",
    "a = original_integer([1,0])\n",
    "b = original_integer([1,0,1])\n",
    "A = merge_two_integers(mask,a,b,5)"
   ]
  },
  {
   "cell_type": "code",
   "execution_count": 254,
   "metadata": {},
   "outputs": [
    {
     "data": {
      "text/plain": [
       "5-element Vector{Int64}:\n",
       " 0\n",
       " 1\n",
       " 1\n",
       " 0\n",
       " 0"
      ]
     },
     "metadata": {},
     "output_type": "display_data"
    }
   ],
   "source": [
    "base_2(A, pad = 5)"
   ]
  },
  {
   "cell_type": "code",
   "execution_count": 264,
   "metadata": {},
   "outputs": [
    {
     "data": {
      "text/plain": [
       "apply_unitary (generic function with 1 method)"
      ]
     },
     "metadata": {},
     "output_type": "display_data"
    }
   ],
   "source": [
    "function apply_unitary(state, U, target, n)\n",
    "    new_state = zeros(2^n)\n",
    "    dimtarget = 2\n",
    "    dim_untouched = length(state)/2\n",
    "    for unt in 0: (dim_untouched-1) \n",
    "        pos = [merge_two_integers(i, target, mask, n) for i in 0: dimtarget -1] #merge_two_integers(target,untouched,mask,Particles)\n",
    "    end\n",
    "    new_state[pos] = U*state[pos]\n",
    "    return new_state\n",
    "end"
   ]
  },
  {
   "cell_type": "code",
   "execution_count": 266,
   "metadata": {},
   "outputs": [
    {
     "data": {
      "text/plain": [
       "2-element Vector{Int64}:\n",
       " 21\n",
       " 22"
      ]
     },
     "metadata": {},
     "output_type": "display_data"
    }
   ],
   "source": [
    "pos = [merge_two_integers(i,b,m,5)+1 for i in 0:2-1]"
   ]
  },
  {
   "cell_type": "code",
   "execution_count": 265,
   "metadata": {},
   "outputs": [
    {
     "ename": "BoundsError",
     "evalue": "BoundsError: attempt to access 5-element Vector{Int64} at index [[9, 10]]",
     "output_type": "error",
     "traceback": [
      "BoundsError: attempt to access 5-element Vector{Int64} at index [[9, 10]]\n",
      "\n",
      "Stacktrace:\n",
      " [1] throw_boundserror(A::Vector{Int64}, I::Tuple{Vector{Int64}})\n",
      "   @ Base ./essentials.jl:14\n",
      " [2] checkbounds\n",
      "   @ ./abstractarray.jl:699 [inlined]\n",
      " [3] _getindex\n",
      "   @ ./multidimensional.jl:914 [inlined]\n",
      " [4] getindex(A::Vector{Int64}, I::Vector{Int64})\n",
      "   @ Base ./abstractarray.jl:1312\n",
      " [5] apply_unitary(state::Vector{Int64}, U::Matrix{Float64}, target::Int64, n::Int64)\n",
      "   @ Main ~/gitVideo/Clases/jl_notebook_cell_df34fa98e69747e1a8f8a730347b8e2f_X51sZmlsZQ==.jl:8\n",
      " [6] top-level scope\n",
      "   @ ~/gitVideo/Clases/jl_notebook_cell_df34fa98e69747e1a8f8a730347b8e2f_X53sZmlsZQ==.jl:3"
     ]
    }
   ],
   "source": [
    "state = [1,0,0,0,0]\n",
    "sigmaz\n",
    "apply_unitary(state, sigmaz, 1, 3)"
   ]
  },
  {
   "cell_type": "code",
   "execution_count": 258,
   "metadata": {},
   "outputs": [],
   "source": []
  }
 ],
 "metadata": {
  "kernelspec": {
   "display_name": "Julia 1.11.3",
   "language": "julia",
   "name": "julia-1.11"
  },
  "language_info": {
   "file_extension": ".jl",
   "mimetype": "application/julia",
   "name": "julia",
   "version": "1.11.3"
  }
 },
 "nbformat": 4,
 "nbformat_minor": 2
}
