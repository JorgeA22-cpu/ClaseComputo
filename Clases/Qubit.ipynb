{
 "cells": [
  {
   "cell_type": "markdown",
   "metadata": {},
   "source": [
    "# Preámbulo "
   ]
  },
  {
   "cell_type": "code",
   "execution_count": 4,
   "metadata": {},
   "outputs": [],
   "source": [
    "using LinearAlgebra\n",
    "using Plots"
   ]
  },
  {
   "cell_type": "code",
   "execution_count": 5,
   "metadata": {},
   "outputs": [
    {
     "data": {
      "text/plain": [
       "base_2 (generic function with 1 method)"
      ]
     },
     "metadata": {},
     "output_type": "display_data"
    }
   ],
   "source": [
    "# Primero definimos algunas funciones auxiliares que nos ayudarán a convertir de un número a una lista de bits y viceversa.\n",
    "function original_integer(list)\n",
    "    return parse(Int, join(list); base=2)\n",
    "end\n",
    "\n",
    "function base_2(integer; pad= nothing)\n",
    "    if pad == nothing\n",
    "        return reverse(digits(integer, base = 2))\n",
    "    else\n",
    "        return reverse(digits(integer, base = 2, pad = pad))\n",
    "    end\n",
    "end"
   ]
  },
  {
   "cell_type": "markdown",
   "metadata": {},
   "source": [
    "## Hola"
   ]
  },
  {
   "cell_type": "code",
   "execution_count": 6,
   "metadata": {},
   "outputs": [
    {
     "data": {
      "text/plain": [
       "3-element Vector{Int64}:\n",
       " 1\n",
       " 0\n",
       " 1"
      ]
     },
     "metadata": {},
     "output_type": "display_data"
    }
   ],
   "source": [
    "A = base_2(5; pad=nothing)"
   ]
  },
  {
   "cell_type": "code",
   "execution_count": 7,
   "metadata": {},
   "outputs": [
    {
     "data": {
      "text/plain": [
       "31"
      ]
     },
     "metadata": {},
     "output_type": "display_data"
    }
   ],
   "source": [
    "original_integer([1,1,1,1,1])"
   ]
  },
  {
   "cell_type": "code",
   "execution_count": 8,
   "metadata": {},
   "outputs": [
    {
     "data": {
      "text/plain": [
       "rotate (generic function with 1 method)"
      ]
     },
     "metadata": {},
     "output_type": "display_data"
    }
   ],
   "source": [
    "function rotate(index,N)\n",
    "    vec = base_2(index, pad=N)\n",
    "    return original_integer([vec[end];vec[1:end-1]]), index\n",
    "end"
   ]
  },
  {
   "cell_type": "code",
   "execution_count": 9,
   "metadata": {},
   "outputs": [
    {
     "data": {
      "text/plain": [
       "(4, 1)"
      ]
     },
     "metadata": {},
     "output_type": "display_data"
    }
   ],
   "source": [
    "rotate(1,3)"
   ]
  },
  {
   "cell_type": "code",
   "execution_count": 10,
   "metadata": {},
   "outputs": [
    {
     "data": {
      "text/plain": [
       "8×8 Matrix{Float64}:\n",
       " 1.0  0.0  0.0  0.0  0.0  0.0  0.0  0.0\n",
       " 0.0  0.0  1.0  0.0  0.0  0.0  0.0  0.0\n",
       " 0.0  0.0  0.0  0.0  1.0  0.0  0.0  0.0\n",
       " 0.0  0.0  0.0  0.0  0.0  0.0  1.0  0.0\n",
       " 0.0  1.0  0.0  0.0  0.0  0.0  0.0  0.0\n",
       " 0.0  0.0  0.0  1.0  0.0  0.0  0.0  0.0\n",
       " 0.0  0.0  0.0  0.0  0.0  1.0  0.0  0.0\n",
       " 0.0  0.0  0.0  0.0  0.0  0.0  0.0  1.0"
      ]
     },
     "metadata": {},
     "output_type": "display_data"
    }
   ],
   "source": [
    "m = 3 # Número de Qubits\n",
    "am = original_integer(fill(1,m))\n",
    "A = zeros(am+1,am+1) #la primer posición es el cero\n",
    "\n",
    "for i in 0:am # m es el número de qubits \n",
    "    A[ rotate(i,m)[1]+1, i+1 ] = 1\n",
    "end\n",
    "A"
   ]
  },
  {
   "cell_type": "code",
   "execution_count": 11,
   "metadata": {},
   "outputs": [
    {
     "data": {
      "text/plain": [
       "7"
      ]
     },
     "metadata": {},
     "output_type": "display_data"
    }
   ],
   "source": [
    "# pad = 5, tendré 5 dígitos en la base binaria, por lo tanto 5 qubits, con 5 qubits se puede escribir hasta el número 31\n",
    "typeof(rotate(1,3)[2])\n",
    "am"
   ]
  },
  {
   "cell_type": "code",
   "execution_count": 12,
   "metadata": {},
   "outputs": [
    {
     "data": {
      "text/plain": [
       "4×15 Matrix{Float64}:\n",
       " 0.0  0.0  0.0  0.0  0.0  0.0  0.0  1.0  1.0  1.0  1.0  1.0  1.0  1.0  1.0\n",
       " 0.0  0.0  0.0  1.0  1.0  1.0  1.0  0.0  0.0  0.0  0.0  1.0  1.0  1.0  1.0\n",
       " 0.0  1.0  1.0  0.0  0.0  1.0  1.0  0.0  0.0  1.0  1.0  0.0  0.0  1.0  1.0\n",
       " 1.0  0.0  1.0  0.0  1.0  0.0  1.0  0.0  1.0  0.0  1.0  0.0  1.0  0.0  1.0"
      ]
     },
     "metadata": {},
     "output_type": "display_data"
    }
   ],
   "source": [
    "N = 4\n",
    "num = original_integer(fill(1,N))\n",
    "V = zeros(N,num)\n",
    "for i in 1:num\n",
    "   V[:,i]=  base_2(i,pad=N)\n",
    "end\n",
    "V"
   ]
  },
  {
   "cell_type": "code",
   "execution_count": 13,
   "metadata": {},
   "outputs": [
    {
     "data": {
      "text/plain": [
       "15"
      ]
     },
     "metadata": {},
     "output_type": "display_data"
    }
   ],
   "source": [
    "num"
   ]
  },
  {
   "cell_type": "code",
   "execution_count": 14,
   "metadata": {},
   "outputs": [
    {
     "data": {
      "text/plain": [
       "Ising (generic function with 1 method)"
      ]
     },
     "metadata": {},
     "output_type": "display_data"
    }
   ],
   "source": [
    "# Definición de las matrices de Pauli\n",
    "sigmax = [0 1.0; 1 0]\n",
    "sigmay = [0 -1.0im; im 0]  # im representa la unidad imaginaria √(-1)\n",
    "sigmaz = [1.0 0; 0 -1]\n",
    "sigmas = Dict(1=>sigmax, 2=>sigmay, 3=>sigmaz)\n",
    "J = 1\n",
    "h = 1\n",
    "function Sigma(indice, pos, totalparticulas)\n",
    "    id = I(2) #[1.0 0; 0 1.0]\n",
    "    mat = sigmas[indice]\n",
    "    list = []\n",
    "    for i in 0:totalparticulas-1\n",
    "        if i == pos \n",
    "            append!(list,[mat])\n",
    "        else \n",
    "            append!(list,[id])\n",
    "        end\n",
    "        #println(\"$list\")\n",
    "    end\n",
    "    return kron(list...)\n",
    "end\n",
    "\n",
    "# Para la cadena abierta con n partículas tenemos usamos cerrada = false, para la cadena cerrada usamos cerrada = true\n",
    "function Ising(N; cerrada = false) #Keyword Arguments\n",
    "    H = 0\n",
    "    totalparticulas = N\n",
    "    if cerrada == false \n",
    "        M = (N - 1)\n",
    "    elseif cerrada == true \n",
    "        M = N \n",
    "    end\n",
    "\n",
    "    for i in 0:(M-1)\n",
    "        H = H .+ J*(Sigma(3, mod(i,N),totalparticulas)*Sigma(3,mod((i+1),N),totalparticulas))\n",
    "    end\n",
    "    for j in 0:N-1\n",
    "        H = H .+ h*Sigma(1,j,totalparticulas)\n",
    "    end\n",
    "    return H \n",
    "end"
   ]
  },
  {
   "cell_type": "code",
   "execution_count": 15,
   "metadata": {},
   "outputs": [
    {
     "data": {
      "text/plain": [
       "8×8 Matrix{Float64}:\n",
       " 3.0   1.0   1.0   0.0   1.0   0.0   0.0  0.0\n",
       " 1.0  -1.0   0.0   1.0   0.0   1.0   0.0  0.0\n",
       " 1.0   0.0  -1.0   1.0   0.0   0.0   1.0  0.0\n",
       " 0.0   1.0   1.0  -1.0   0.0   0.0   0.0  1.0\n",
       " 1.0   0.0   0.0   0.0  -1.0   1.0   1.0  0.0\n",
       " 0.0   1.0   0.0   0.0   1.0  -1.0   0.0  1.0\n",
       " 0.0   0.0   1.0   0.0   1.0   0.0  -1.0  1.0\n",
       " 0.0   0.0   0.0   1.0   0.0   1.0   1.0  3.0"
      ]
     },
     "metadata": {},
     "output_type": "display_data"
    }
   ],
   "source": [
    "Ising(3, cerrada = true)"
   ]
  },
  {
   "cell_type": "code",
   "execution_count": 16,
   "metadata": {},
   "outputs": [
    {
     "data": {
      "text/plain": [
       "12-element Vector{Any}:\n",
       " -5.22625\n",
       " -4.82843\n",
       " -2.16478\n",
       " -2.0\n",
       " -0.82843\n",
       " -0.0\n",
       "  0.0\n",
       "  0.82843\n",
       "  2.0\n",
       "  2.16478\n",
       "  4.82843\n",
       "  5.22625"
      ]
     },
     "metadata": {},
     "output_type": "display_data"
    }
   ],
   "source": [
    "vals, vecs = eigen(Ising(N, cerrada = true));\n",
    "rounded_vals = round.(vals,digits=5)\n",
    "final_vals = []\n",
    "for (val, round_val) in zip(vals, rounded_vals)\n",
    "    if norm(round_val - val) < 1e-3\n",
    "        push!(final_vals, round_val)\n",
    "    else\n",
    "        push!(final_vals, val)\n",
    "    end\n",
    "end\n",
    "final_vals_unique=unique(final_vals)"
   ]
  },
  {
   "cell_type": "code",
   "execution_count": 17,
   "metadata": {},
   "outputs": [
    {
     "name": "stdout",
     "output_type": "stream",
     "text": [
      "findall(vals .== final_vals_unique[3]) = Int64[]\n"
     ]
    },
    {
     "data": {
      "text/plain": [
       "Int64[]"
      ]
     },
     "metadata": {},
     "output_type": "display_data"
    }
   ],
   "source": [
    "@show findall(vals .== final_vals_unique[3])\n"
   ]
  },
  {
   "cell_type": "code",
   "execution_count": 18,
   "metadata": {},
   "outputs": [],
   "source": []
  }
 ],
 "metadata": {
  "kernelspec": {
   "display_name": "Julia 1.11.3",
   "language": "julia",
   "name": "julia-1.11"
  },
  "language_info": {
   "file_extension": ".jl",
   "mimetype": "application/julia",
   "name": "julia",
   "version": "1.11.3"
  }
 },
 "nbformat": 4,
 "nbformat_minor": 2
}
