{
 "cells": [
  {
   "cell_type": "markdown",
   "metadata": {},
   "source": [
    "# Qubits, Paridad e Ising \n",
    "\n",
    "- original_integer\n",
    "- base_2\n",
    "- rotate \n",
    "- Operador K \n",
    "- Diagonalización por bloques ¿?"
   ]
  },
  {
   "cell_type": "code",
   "execution_count": 29,
   "metadata": {},
   "outputs": [],
   "source": [
    "using LinearAlgebra\n",
    "using Plots"
   ]
  },
  {
   "cell_type": "code",
   "execution_count": 30,
   "metadata": {},
   "outputs": [
    {
     "data": {
      "text/plain": [
       "base_2"
      ]
     },
     "metadata": {},
     "output_type": "display_data"
    }
   ],
   "source": [
    "# Primero definimos algunas funciones auxiliares que nos ayudarán a convertir de un número a una lista de bits y viceversa.\n",
    "\"\"\"\n",
    "La función convierte un número en binario a su entero original.\n",
    "\"\"\"\n",
    "function original_integer(list)\n",
    "    return parse(Int, join(list); base=2)\n",
    "end\n",
    "\n",
    "\"\"\"\n",
    "Recibe un entero y lo escribe en binario, el pad nos dice qué tantos ceros tendrá la representación binaria e.g pad = 2 es 00, pad = 3 es 000\n",
    "\"\"\"\n",
    "function base_2(integer; pad= nothing)\n",
    "    if pad == nothing\n",
    "        return reverse(digits(integer, base = 2))\n",
    "    else\n",
    "        return reverse(digits(integer, base = 2, pad = pad))\n",
    "    end\n",
    "end"
   ]
  },
  {
   "cell_type": "markdown",
   "metadata": {},
   "source": [
    "## Hola"
   ]
  },
  {
   "cell_type": "code",
   "execution_count": 31,
   "metadata": {},
   "outputs": [
    {
     "ename": "ErrorException",
     "evalue": "cannot document the following expression:\n\n(Base.Docs.doc)((Base.Docs.Binding)(Main, :base_2))\n",
     "output_type": "error",
     "traceback": [
      "cannot document the following expression:\n",
      "\n",
      "(Base.Docs.doc)((Base.Docs.Binding)(Main, :base_2))\n",
      "\n",
      "\n",
      "Stacktrace:\n",
      " [1] error(::String, ::String)\n",
      "   @ Base ./error.jl:44\n",
      " [2] top-level scope\n",
      "   @ ~/gitVideo/Clases/jl_notebook_cell_df34fa98e69747e1a8f8a730347b8e2f_W4sZmlsZQ==.jl:2"
     ]
    }
   ],
   "source": [
    "A = base_2(5; pad=nothing)\n",
    "@doc original_integer\n",
    "@doc base_2"
   ]
  },
  {
   "cell_type": "code",
   "execution_count": 32,
   "metadata": {},
   "outputs": [
    {
     "data": {
      "text/plain": [
       "31"
      ]
     },
     "metadata": {},
     "output_type": "display_data"
    }
   ],
   "source": [
    "original_integer([1,1,1,1,1])"
   ]
  },
  {
   "cell_type": "code",
   "execution_count": 33,
   "metadata": {},
   "outputs": [
    {
     "data": {
      "text/plain": [
       "rotate (generic function with 1 method)"
      ]
     },
     "metadata": {},
     "output_type": "display_data"
    }
   ],
   "source": [
    "function rotate(index,N)\n",
    "    vec = base_2(index, pad=N)\n",
    "    return original_integer([vec[end];vec[1:end-1]]), index\n",
    "end"
   ]
  },
  {
   "cell_type": "code",
   "execution_count": 34,
   "metadata": {},
   "outputs": [
    {
     "data": {
      "text/plain": [
       "(4, 1)"
      ]
     },
     "metadata": {},
     "output_type": "display_data"
    }
   ],
   "source": [
    "rotate(1,3)"
   ]
  },
  {
   "cell_type": "code",
   "execution_count": 35,
   "metadata": {},
   "outputs": [
    {
     "data": {
      "text/plain": [
       "8×8 Matrix{Float64}:\n",
       " 1.0  0.0  0.0  0.0  0.0  0.0  0.0  0.0\n",
       " 0.0  0.0  1.0  0.0  0.0  0.0  0.0  0.0\n",
       " 0.0  0.0  0.0  0.0  1.0  0.0  0.0  0.0\n",
       " 0.0  0.0  0.0  0.0  0.0  0.0  1.0  0.0\n",
       " 0.0  1.0  0.0  0.0  0.0  0.0  0.0  0.0\n",
       " 0.0  0.0  0.0  1.0  0.0  0.0  0.0  0.0\n",
       " 0.0  0.0  0.0  0.0  0.0  1.0  0.0  0.0\n",
       " 0.0  0.0  0.0  0.0  0.0  0.0  0.0  1.0"
      ]
     },
     "metadata": {},
     "output_type": "display_data"
    }
   ],
   "source": [
    "m = 3 # Número de Qubits\n",
    "function OperatorK(m) # m = particles\n",
    "    am = original_integer(fill(1,m))\n",
    "    A = zeros(am+1,am+1) #la primer posición es el cero\n",
    "\n",
    "    for i in 0:am # m es el número de qubits \n",
    "       A[ rotate(i,m)[1]+1, i+1 ] = 1\n",
    "    end\n",
    "    return A\n",
    "end\n",
    "OperatorK(3)"
   ]
  },
  {
   "cell_type": "code",
   "execution_count": 36,
   "metadata": {},
   "outputs": [
    {
     "data": {
      "text/plain": [
       "-0.8660254037844388 + 0.5000000000000001im"
      ]
     },
     "metadata": {},
     "output_type": "display_data"
    }
   ],
   "source": [
    "valsK, vecK = eigen(OperatorK(12));\n",
    "valsK[1000]"
   ]
  },
  {
   "cell_type": "code",
   "execution_count": 37,
   "metadata": {},
   "outputs": [
    {
     "data": {
      "text/plain": [
       "4096-element Vector{ComplexF64}:\n",
       " -1.0000000000000013 + 0.0im\n",
       " -1.0000000000000013 + 0.0im\n",
       " -1.0000000000000013 + 0.0im\n",
       " -1.0000000000000013 + 0.0im\n",
       " -1.0000000000000013 + 0.0im\n",
       " -1.0000000000000013 + 0.0im\n",
       " -1.0000000000000013 + 0.0im\n",
       " -1.0000000000000013 + 0.0im\n",
       " -1.0000000000000013 + 0.0im\n",
       " -1.0000000000000013 + 0.0im\n",
       "                     ⋮\n",
       "  1.0000000000000004 + 0.0im\n",
       "  1.0000000000000004 + 0.0im\n",
       "  1.0000000000000004 + 0.0im\n",
       "  1.0000000000000004 + 0.0im\n",
       "  1.0000000000000004 + 0.0im\n",
       "  1.0000000000000004 + 0.0im\n",
       "  1.0000000000000004 + 0.0im\n",
       "  1.0000000000000004 + 0.0im\n",
       "  1.0000000000000004 + 0.0im"
      ]
     },
     "metadata": {},
     "output_type": "display_data"
    }
   ],
   "source": [
    "valsK"
   ]
  },
  {
   "cell_type": "code",
   "execution_count": 38,
   "metadata": {},
   "outputs": [
    {
     "data": {
      "text/plain": [
       "12-element Vector{Any}:\n",
       "     -1.0 + 0.0im\n",
       " -0.86603 - 0.5im\n",
       " -0.86603 + 0.5im\n",
       "     -0.5 - 0.86603im\n",
       "     -0.5 + 0.86603im\n",
       "      0.0 - 1.0im\n",
       "      0.0 + 1.0im\n",
       "      0.5 - 0.86603im\n",
       "      0.5 + 0.86603im\n",
       "  0.86603 - 0.5im\n",
       "  0.86603 + 0.5im\n",
       "      1.0 + 0.0im"
      ]
     },
     "metadata": {},
     "output_type": "display_data"
    }
   ],
   "source": [
    "rounded_vals = round.(valsK,digits=5)\n",
    "final_vals = []\n",
    "for (val, round_val) in zip(valsK, rounded_vals)\n",
    "    if norm(round_val - val) < 1e-3\n",
    "        push!(final_vals, round_val)\n",
    "    else\n",
    "        push!(final_vals, val)\n",
    "    end\n",
    "end\n",
    "final_vals_unique = unique(final_vals)\n",
    "#rounded_vals"
   ]
  },
  {
   "cell_type": "code",
   "execution_count": 39,
   "metadata": {},
   "outputs": [
    {
     "data": {
      "text/plain": [
       "custom_unique (generic function with 1 method)"
      ]
     },
     "metadata": {},
     "output_type": "display_data"
    }
   ],
   "source": [
    "# Define a tolerance for floating-point comparisons\n",
    "tolerance = 1e-8\n",
    "\n",
    "# Custom function to check if two complex numbers are approximately equal\n",
    "function is_approx_equal(x, y)\n",
    "    return norm(x - y) < tolerance\n",
    "end\n",
    "\n",
    "# Filter unique values using the custom comparison\n",
    "filtered_vals = []\n",
    "for v in vals\n",
    "    if all(!is_approx_equal(v, fv) for fv in filtered_vals)\n",
    "        push!(filtered_vals, v)\n",
    "    end\n",
    "end\n",
    "\n",
    "function custom_unique(list)\n",
    "    filtered_vals = []\n",
    "    for v in list\n",
    "        if all(!is_approx_equal(v, fv) for fv in filtered_vals)\n",
    "            push!(filtered_vals, v)\n",
    "        end\n",
    "    end\n",
    "    return filtered_vals\n",
    "end"
   ]
  },
  {
   "cell_type": "code",
   "execution_count": 40,
   "metadata": {},
   "outputs": [
    {
     "data": {
      "text/plain": [
       "12-element Vector{Any}:\n",
       "     -1.0 + 0.0im\n",
       " -0.86603 - 0.5im\n",
       " -0.86603 + 0.5im\n",
       "     -0.5 - 0.86603im\n",
       "     -0.5 + 0.86603im\n",
       "      0.0 - 1.0im\n",
       "      0.0 + 1.0im\n",
       "      0.5 - 0.86603im\n",
       "      0.5 + 0.86603im\n",
       "  0.86603 - 0.5im\n",
       "  0.86603 + 0.5im\n",
       "      1.0 + 0.0im"
      ]
     },
     "metadata": {},
     "output_type": "display_data"
    }
   ],
   "source": [
    "custom_unique(rounded_vals)"
   ]
  },
  {
   "cell_type": "code",
   "execution_count": 41,
   "metadata": {},
   "outputs": [
    {
     "data": {
      "text/plain": [
       "Int64[]"
      ]
     },
     "metadata": {},
     "output_type": "display_data"
    }
   ],
   "source": [
    "findall(rounded_vals .== final_vals_unique[3]) # Aquí antes estaba valsK pero no me daba ningún valor, sospecho porque eran distintos \n",
    "# pues tiene más decimales\n",
    "# final_vals_unique[3]\n",
    "findall(valsK .== final_vals_unique[3])"
   ]
  },
  {
   "cell_type": "code",
   "execution_count": 42,
   "metadata": {},
   "outputs": [
    {
     "data": {
      "text/plain": [
       "16×0 Matrix{Float64}"
      ]
     },
     "metadata": {},
     "output_type": "display_data"
    }
   ],
   "source": [
    "\n",
    "#O simplemente dentro de la matriz de eigenvectores\n",
    "vec = vecs[:, findall(valsK .== final_vals_unique[3])]"
   ]
  },
  {
   "cell_type": "code",
   "execution_count": 43,
   "metadata": {},
   "outputs": [
    {
     "data": {
      "text/plain": [
       "4×15 Matrix{Float64}:\n",
       " 0.0  0.0  0.0  0.0  0.0  0.0  0.0  1.0  1.0  1.0  1.0  1.0  1.0  1.0  1.0\n",
       " 0.0  0.0  0.0  1.0  1.0  1.0  1.0  0.0  0.0  0.0  0.0  1.0  1.0  1.0  1.0\n",
       " 0.0  1.0  1.0  0.0  0.0  1.0  1.0  0.0  0.0  1.0  1.0  0.0  0.0  1.0  1.0\n",
       " 1.0  0.0  1.0  0.0  1.0  0.0  1.0  0.0  1.0  0.0  1.0  0.0  1.0  0.0  1.0"
      ]
     },
     "metadata": {},
     "output_type": "display_data"
    }
   ],
   "source": [
    "N = 4\n",
    "num = original_integer(fill(1,N))\n",
    "V = zeros(N,num)\n",
    "for i in 1:num\n",
    "   V[:,i]=  base_2(i,pad=N)\n",
    "end\n",
    "V"
   ]
  },
  {
   "cell_type": "code",
   "execution_count": 44,
   "metadata": {},
   "outputs": [
    {
     "data": {
      "text/plain": [
       "15"
      ]
     },
     "metadata": {},
     "output_type": "display_data"
    }
   ],
   "source": [
    "num"
   ]
  },
  {
   "cell_type": "code",
   "execution_count": 45,
   "metadata": {},
   "outputs": [
    {
     "data": {
      "text/plain": [
       "Ising (generic function with 1 method)"
      ]
     },
     "metadata": {},
     "output_type": "display_data"
    }
   ],
   "source": [
    "# Definición de las matrices de Pauli\n",
    "sigmax = [0 1.0; 1 0]\n",
    "sigmay = [0 -1.0im; im 0]  # im representa la unidad imaginaria √(-1)\n",
    "sigmaz = [1.0 0; 0 -1]\n",
    "sigmas = Dict(1=>sigmax, 2=>sigmay, 3=>sigmaz)\n",
    "J = 1\n",
    "h = 1\n",
    "function Sigma(indice, pos, totalparticulas)\n",
    "    id = I(2) #[1.0 0; 0 1.0]\n",
    "    mat = sigmas[indice]\n",
    "    list = []\n",
    "    for i in 0:totalparticulas-1\n",
    "        if i == pos \n",
    "            append!(list,[mat])\n",
    "        else \n",
    "            append!(list,[id])\n",
    "        end\n",
    "        #println(\"$list\")\n",
    "    end\n",
    "    return kron(list...)\n",
    "end\n",
    "\n",
    "# Para la cadena abierta con n partículas tenemos usamos cerrada = false, para la cadena cerrada usamos cerrada = true\n",
    "function Ising(N; cerrada = false) #Keyword Arguments\n",
    "    H = 0\n",
    "    totalparticulas = N\n",
    "    if cerrada == false \n",
    "        M = (N - 1)\n",
    "    elseif cerrada == true \n",
    "        M = N \n",
    "    end\n",
    "\n",
    "    for i in 0:(M-1)\n",
    "        H = H .+ J*(Sigma(3, mod(i,N),totalparticulas)*Sigma(3,mod((i+1),N),totalparticulas))\n",
    "    end\n",
    "    for j in 0:N-1\n",
    "        H = H .+ h*Sigma(1,j,totalparticulas)\n",
    "    end\n",
    "    return H \n",
    "end"
   ]
  },
  {
   "cell_type": "code",
   "execution_count": 46,
   "metadata": {},
   "outputs": [
    {
     "data": {
      "text/plain": [
       "8×8 Matrix{Float64}:\n",
       " 3.0   1.0   1.0   0.0   1.0   0.0   0.0  0.0\n",
       " 1.0  -1.0   0.0   1.0   0.0   1.0   0.0  0.0\n",
       " 1.0   0.0  -1.0   1.0   0.0   0.0   1.0  0.0\n",
       " 0.0   1.0   1.0  -1.0   0.0   0.0   0.0  1.0\n",
       " 1.0   0.0   0.0   0.0  -1.0   1.0   1.0  0.0\n",
       " 0.0   1.0   0.0   0.0   1.0  -1.0   0.0  1.0\n",
       " 0.0   0.0   1.0   0.0   1.0   0.0  -1.0  1.0\n",
       " 0.0   0.0   0.0   1.0   0.0   1.0   1.0  3.0"
      ]
     },
     "metadata": {},
     "output_type": "display_data"
    }
   ],
   "source": [
    "Ising(3, cerrada = true)"
   ]
  },
  {
   "cell_type": "code",
   "execution_count": 47,
   "metadata": {},
   "outputs": [
    {
     "data": {
      "text/plain": [
       "12-element Vector{Any}:\n",
       " -5.22625\n",
       " -4.82843\n",
       " -2.16478\n",
       " -2.0\n",
       " -0.82843\n",
       " -0.0\n",
       "  0.0\n",
       "  0.82843\n",
       "  2.0\n",
       "  2.16478\n",
       "  4.82843\n",
       "  5.22625"
      ]
     },
     "metadata": {},
     "output_type": "display_data"
    }
   ],
   "source": [
    "vals, vecs = eigen(Ising(N, cerrada = true));\n",
    "rounded_vals = round.(vals,digits=5)\n",
    "final_vals = []\n",
    "for (val, round_val) in zip(vals, rounded_vals)\n",
    "    if norm(round_val - val) < 1e-3\n",
    "        push!(final_vals, round_val)\n",
    "    else\n",
    "        push!(final_vals, val)\n",
    "    end\n",
    "end\n",
    "final_vals_unique=unique(final_vals)"
   ]
  },
  {
   "cell_type": "code",
   "execution_count": 48,
   "metadata": {},
   "outputs": [
    {
     "name": "stdout",
     "output_type": "stream",
     "text": [
      "findall(vals .== final_vals_unique[6]) = Int64[]\n"
     ]
    },
    {
     "data": {
      "text/plain": [
       "Int64[]"
      ]
     },
     "metadata": {},
     "output_type": "display_data"
    }
   ],
   "source": [
    "@show findall(vals .== final_vals_unique[6])\n",
    "#final_vals_unique[6]\n"
   ]
  },
  {
   "cell_type": "code",
   "execution_count": 49,
   "metadata": {},
   "outputs": [],
   "source": []
  }
 ],
 "metadata": {
  "kernelspec": {
   "display_name": "Julia 1.11.3",
   "language": "julia",
   "name": "julia-1.11"
  },
  "language_info": {
   "file_extension": ".jl",
   "mimetype": "application/julia",
   "name": "julia",
   "version": "1.11.3"
  }
 },
 "nbformat": 4,
 "nbformat_minor": 2
}
