{
 "cells": [
  {
   "cell_type": "markdown",
   "metadata": {},
   "source": [
    "# Solve a Matrix Equation Algebraically "
   ]
  },
  {
   "cell_type": "code",
   "execution_count": 1,
   "metadata": {},
   "outputs": [
    {
     "name": "stderr",
     "output_type": "stream",
     "text": [
      "┌ Info: Running `conda install -y ipython` in root environment\n",
      "└ @ Conda /Users/jorgea22/.julia/packages/Conda/zReqD/src/Conda.jl:181\n"
     ]
    },
    {
     "name": "stdout",
     "output_type": "stream",
     "text": [
      "Channels:\n",
      " - conda-forge\n",
      "Platform: osx-arm64\n",
      "Collecting package metadata (repodata.json): ...working... done\n",
      "Solving environment: ...working... done\n",
      "\n",
      "# All requested packages already installed.\n",
      "\n"
     ]
    },
    {
     "name": "stderr",
     "output_type": "stream",
     "text": [
      "\n",
      "\n",
      "==> WARNING: A newer version of conda exists. <==\n",
      "    current version: 24.9.2\n",
      "    latest version: 25.1.1\n",
      "\n",
      "Please update conda by running\n",
      "\n",
      "    $ conda update -n base -c conda-forge conda\n",
      "\n",
      "\n"
     ]
    }
   ],
   "source": [
    "using Pkg \n",
    "#Pkg.add(\"SciPy\")\n",
    "using SciPy\n",
    "using PyCall\n",
    "np = pyimport(\"numpy\")\n",
    "using LinearAlgebra\n",
    "using SymPy\n",
    "#Pkg.add(\"Conda\")  # Si no tienes Conda instalado\n",
    "using Conda\n",
    "Conda.add(\"ipython\")"
   ]
  },
  {
   "cell_type": "code",
   "execution_count": 6,
   "metadata": {},
   "outputs": [],
   "source": [
    "using PyCall\n",
    "html_display = pyimport(\"IPython.core.display\").display_html\n",
    "html_display(\"<style>.output_area pre { font-size: 25pt; }</style>\", raw=true)"
   ]
  },
  {
   "cell_type": "code",
   "execution_count": 8,
   "metadata": {},
   "outputs": [
    {
     "data": {
      "text/plain": [
       "3-element Vector{Float64}:\n",
       " -0.23333333333333334\n",
       "  0.46666666666666673\n",
       "  0.09999999999999994"
      ]
     },
     "metadata": {},
     "output_type": "display_data"
    }
   ],
   "source": [
    "A = [1 2 3; 4 5 6; 7 8 9]\n",
    "b = [1, 2, 3]\n",
    "x1 = np.linalg.solve(A,b) # Solución con numpy\n",
    "# y = scipy.linalg.solve(A,b) # No pude correr con scipy por problemas de compatibilidad\n",
    "z1 = A\\b # Versión alternativa con LinearAlgebra\n",
    "F = lu(A) # Factorización LU\n",
    "y1 = F\\b\n"
   ]
  },
  {
   "cell_type": "code",
   "execution_count": 10,
   "metadata": {},
   "outputs": [
    {
     "data": {
      "text/latex": [
       "$\\left[\\begin{smallmatrix}\\frac{2 e}{c e + d}\\\\\\frac{2}{c e + d}\\end{smallmatrix}\\right]$"
      ],
      "text/plain": [
       "2×1 Matrix{Sym{PyObject}}:\n",
       " 2*e/(c*e + d)\n",
       "   2/(c*e + d)"
      ]
     },
     "metadata": {},
     "output_type": "display_data"
    }
   ],
   "source": [
    "# Definir variables simbólicas\n",
    "@syms c d e \n",
    "\n",
    "# Matriz de coeficientes\n",
    "A2 = Sym[[c d]; [1 -e]]  \n",
    "\n",
    "# Definir el vector columna como lista de listas\n",
    "b1 = Sym[2 ; 0] \n",
    "\n",
    "# Resolver el sistema A2 * x = b1\n",
    "solucion = A2.solve(b1)"
   ]
  },
  {
   "cell_type": "code",
   "execution_count": 11,
   "metadata": {},
   "outputs": [
    {
     "data": {
      "text/latex": [
       "$- c e - d$"
      ],
      "text/plain": [
       "-c*e - d"
      ]
     },
     "metadata": {},
     "output_type": "display_data"
    }
   ],
   "source": [
    "DET = det(A2)"
   ]
  },
  {
   "cell_type": "code",
   "execution_count": 13,
   "metadata": {},
   "outputs": [
    {
     "data": {
      "text/latex": [
       "$\\left[\\begin{smallmatrix}\\frac{e}{c e + d} & \\frac{d}{c e + d}\\\\\\frac{1}{c e + d} & - \\frac{c}{c e + d}\\end{smallmatrix}\\right]$"
      ],
      "text/plain": [
       "2×2 Matrix{Sym{PyObject}}:\n",
       " e/(c*e + d)   d/(c*e + d)\n",
       " 1/(c*e + d)  -c/(c*e + d)"
      ]
     },
     "metadata": {},
     "output_type": "display_data"
    }
   ],
   "source": [
    "A2inv = inv(A2)"
   ]
  },
  {
   "cell_type": "code",
   "execution_count": 14,
   "metadata": {},
   "outputs": [
    {
     "data": {
      "text/latex": [
       "$\\left[\\begin{smallmatrix}\\frac{2 e}{c e + d}\\\\\\frac{2}{c e + d}\\end{smallmatrix}\\right]$"
      ],
      "text/plain": [
       "2×1 Matrix{Sym{PyObject}}:\n",
       " 2*e/(c*e + d)\n",
       "   2/(c*e + d)"
      ]
     },
     "metadata": {},
     "output_type": "display_data"
    }
   ],
   "source": [
    "A2.LUsolve(b1)"
   ]
  },
  {
   "cell_type": "code",
   "execution_count": 15,
   "metadata": {},
   "outputs": [
    {
     "data": {
      "text/latex": [
       "$\\left[\\begin{smallmatrix}\\frac{e}{c e + d} & \\frac{d}{c e + d}\\\\\\frac{1}{c e + d} & - \\frac{c}{c e + d}\\end{smallmatrix}\\right]$"
      ],
      "text/plain": [
       "2×2 Matrix{Sym{PyObject}}:\n",
       " e/(c*e + d)   d/(c*e + d)\n",
       " 1/(c*e + d)  -c/(c*e + d)"
      ]
     },
     "metadata": {},
     "output_type": "display_data"
    }
   ],
   "source": [
    "A2inv = A2.inv()"
   ]
  },
  {
   "cell_type": "code",
   "execution_count": 16,
   "metadata": {},
   "outputs": [
    {
     "data": {
      "text/latex": [
       "$\\left[\\begin{smallmatrix}\\frac{2 e}{c e + d}\\\\\\frac{2}{c e + d}\\end{smallmatrix}\\right]$"
      ],
      "text/plain": [
       "2-element Vector{Sym{PyObject}}:\n",
       " 2*e/(c*e + d)\n",
       "   2/(c*e + d)"
      ]
     },
     "metadata": {},
     "output_type": "display_data"
    }
   ],
   "source": [
    "solucion1 = A2inv*b1"
   ]
  },
  {
   "cell_type": "code",
   "execution_count": 17,
   "metadata": {},
   "outputs": [
    {
     "data": {
      "text/latex": [
       "$\\left[\\begin{smallmatrix}{A}_{0,0} & {A}_{0,1} & {A}_{0,2} & {A}_{0,3}\\\\{A}_{1,0} & {A}_{1,1} & {A}_{1,2} & {A}_{1,3}\\\\{A}_{2,0} & {A}_{2,1} & {A}_{2,2} & {A}_{2,3}\\\\{A}_{3,0} & {A}_{3,1} & {A}_{3,2} & {A}_{3,3}\\end{smallmatrix}\\right]$"
      ],
      "text/plain": [
       "[A_00  A_01  A_02  A_03]\n",
       "[                      ]\n",
       "[A_10  A_11  A_12  A_13]\n",
       "[                      ]\n",
       "[A_20  A_21  A_22  A_23]\n",
       "[                      ]\n",
       "[A_30  A_31  A_32  A_33]"
      ]
     },
     "metadata": {},
     "output_type": "display_data"
    }
   ],
   "source": [
    "A3 = SymPy.sympy.MatrixSymbol('A', 4, 4).as_explicit()"
   ]
  },
  {
   "cell_type": "code",
   "execution_count": 18,
   "metadata": {},
   "outputs": [
    {
     "data": {
      "text/latex": [
       "${A}_{0,0} {A}_{1,1} {A}_{2,2} {A}_{3,3} - {A}_{0,0} {A}_{1,1} {A}_{2,3} {A}_{3,2} - {A}_{0,0} {A}_{1,2} {A}_{2,1} {A}_{3,3} + {A}_{0,0} {A}_{1,2} {A}_{2,3} {A}_{3,1} + {A}_{0,0} {A}_{1,3} {A}_{2,1} {A}_{3,2} - {A}_{0,0} {A}_{1,3} {A}_{2,2} {A}_{3,1} - {A}_{0,1} {A}_{1,0} {A}_{2,2} {A}_{3,3} + {A}_{0,1} {A}_{1,0} {A}_{2,3} {A}_{3,2} + {A}_{0,1} {A}_{1,2} {A}_{2,0} {A}_{3,3} - {A}_{0,1} {A}_{1,2} {A}_{2,3} {A}_{3,0} - {A}_{0,1} {A}_{1,3} {A}_{2,0} {A}_{3,2} + {A}_{0,1} {A}_{1,3} {A}_{2,2} {A}_{3,0} + {A}_{0,2} {A}_{1,0} {A}_{2,1} {A}_{3,3} - {A}_{0,2} {A}_{1,0} {A}_{2,3} {A}_{3,1} - {A}_{0,2} {A}_{1,1} {A}_{2,0} {A}_{3,3} + {A}_{0,2} {A}_{1,1} {A}_{2,3} {A}_{3,0} + {A}_{0,2} {A}_{1,3} {A}_{2,0} {A}_{3,1} - {A}_{0,2} {A}_{1,3} {A}_{2,1} {A}_{3,0} - {A}_{0,3} {A}_{1,0} {A}_{2,1} {A}_{3,2} + {A}_{0,3} {A}_{1,0} {A}_{2,2} {A}_{3,1} + {A}_{0,3} {A}_{1,1} {A}_{2,0} {A}_{3,2} - {A}_{0,3} {A}_{1,1} {A}_{2,2} {A}_{3,0} - {A}_{0,3} {A}_{1,2} {A}_{2,0} {A}_{3,1} + {A}_{0,3} {A}_{1,2} {A}_{2,1} {A}_{3,0}$"
      ],
      "text/plain": [
       "A_00*A_11*A_22*A_33 - A_00*A_11*A_23*A_32 - A_00*A_12*A_21*A_33 + A_00*A_12*A_ >\n",
       "\n",
       "> 23*A_31 + A_00*A_13*A_21*A_32 - A_00*A_13*A_22*A_31 - A_01*A_10*A_22*A_33 +  >\n",
       "\n",
       "> A_01*A_10*A_23*A_32 + A_01*A_12*A_20*A_33 - A_01*A_12*A_23*A_30 - A_01*A_13* >\n",
       "\n",
       "> A_20*A_32 + A_01*A_13*A_22*A_30 + A_02*A_10*A_21*A_33 - A_02*A_10*A_23*A_31  >\n",
       "\n",
       "> - A_02*A_11*A_20*A_33 + A_02*A_11*A_23*A_30 + A_02*A_13*A_20*A_31 - A_02*A_1 >\n",
       "\n",
       "> 3*A_21*A_30 - A_03*A_10*A_21*A_32 + A_03*A_10*A_22*A_31 + A_03*A_11*A_20*A_3 >\n",
       "\n",
       "> 2 - A_03*A_11*A_22*A_30 - A_03*A_12*A_20*A_31 + A_03*A_12*A_21*A_30"
      ]
     },
     "metadata": {},
     "output_type": "display_data"
    }
   ],
   "source": [
    "A3.det()"
   ]
  },
  {
   "cell_type": "code",
   "execution_count": 19,
   "metadata": {},
   "outputs": [
    {
     "data": {
      "text/latex": [
       "$\\cos{\\left(\\left[\\begin{smallmatrix}{A}_{0,0} & {A}_{0,1} & {A}_{0,2} & {A}_{0,3}\\\\{A}_{1,0} & {A}_{1,1} & {A}_{1,2} & {A}_{1,3}\\\\{A}_{2,0} & {A}_{2,1} & {A}_{2,2} & {A}_{2,3}\\\\{A}_{3,0} & {A}_{3,1} & {A}_{3,2} & {A}_{3,3}\\end{smallmatrix}\\right] \\right)}$"
      ],
      "text/plain": [
       "   /[A_00  A_01  A_02  A_03]\\\n",
       "   |[                      ]|\n",
       "   |[A_10  A_11  A_12  A_13]|\n",
       "cos|[                      ]|\n",
       "   |[A_20  A_21  A_22  A_23]|\n",
       "   |[                      ]|\n",
       "   \\[A_30  A_31  A_32  A_33]/"
      ]
     },
     "metadata": {},
     "output_type": "display_data"
    }
   ],
   "source": [
    "cos(A3)"
   ]
  },
  {
   "cell_type": "code",
   "execution_count": 29,
   "metadata": {},
   "outputs": [
    {
     "data": {
      "text/latex": [
       "$\\left[\\begin{smallmatrix}1 + 2 i & 1\\\\1 & 1 - 2 i\\end{smallmatrix}\\right]$"
      ],
      "text/plain": [
       "2×2 Matrix{Sym}:\n",
       " 1 + 2*I        1\n",
       "       1  1 - 2*I"
      ]
     },
     "metadata": {},
     "output_type": "display_data"
    }
   ],
   "source": [
    "H = Sym[1+2im 1; 1 -2im+1]"
   ]
  },
  {
   "cell_type": "code",
   "execution_count": 32,
   "metadata": {},
   "outputs": [
    {
     "data": {
      "text/latex": [
       "$\\left[\\begin{smallmatrix}\\frac{\\sqrt{3} i \\left(- \\sqrt{3} i + 2 i\\right) e^{\\sqrt{3} + i}}{6} + \\frac{\\left(- 2 i - \\sqrt{3} i\\right) \\left(\\sqrt{3} i + 2 i\\right) e^{- \\sqrt{3} + i}}{6 + 4 \\sqrt{3}} & \\frac{\\left(\\sqrt{3} i + 2 i\\right) e^{- \\sqrt{3} + i}}{- 4 \\sqrt{3} - 6} + \\left(\\frac{1}{2} + \\frac{\\sqrt{3}}{3}\\right) \\left(- \\sqrt{3} i + 2 i\\right) e^{\\sqrt{3} + i}\\\\\\frac{\\left(- 2 i - \\sqrt{3} i\\right) e^{- \\sqrt{3} + i}}{6 + 4 \\sqrt{3}} + \\frac{\\sqrt{3} i e^{\\sqrt{3} + i}}{6} & \\frac{e^{- \\sqrt{3} + i}}{- 4 \\sqrt{3} - 6} + \\left(\\frac{1}{2} + \\frac{\\sqrt{3}}{3}\\right) e^{\\sqrt{3} + i}\\end{smallmatrix}\\right]$"
      ],
      "text/plain": [
       "2×2 Matrix{Sym{PyObject}}:\n",
       " sqrt(3)*I*(-sqrt(3)*I + 2*I)*exp(sqrt(3) + I)/6 + (-2*I - sqrt(3)*I)*(sqrt(3)*I + 2*I)*exp(-sqrt(3) + I)/(6 + 4*sqrt(3))  …  (sqrt(3)*I + 2*I)*exp(-sqrt(3) + I)/(-4*sqrt(3) - 6) + (1/2 + sqrt(3)/3)*(-sqrt(3)*I + 2*I)*exp(sqrt(3) + I)\n",
       "                                      (-2*I - sqrt(3)*I)*exp(-sqrt(3) + I)/(6 + 4*sqrt(3)) + sqrt(3)*I*exp(sqrt(3) + I)/6                                          exp(-sqrt(3) + I)/(-4*sqrt(3) - 6) + (1/2 + sqrt(3)/3)*exp(sqrt(3) + I)"
      ]
     },
     "metadata": {},
     "output_type": "display_data"
    }
   ],
   "source": [
    "h = im*H\n",
    "exp(h)"
   ]
  },
  {
   "cell_type": "code",
   "execution_count": 28,
   "metadata": {},
   "outputs": [
    {
     "data": {
      "text/latex": [
       "$\\left[\\begin{smallmatrix}\\frac{\\sqrt{3} i \\left(- \\sqrt{3} i + 2 i\\right) e^{\\sqrt{3} + i}}{6} + \\frac{\\left(- 2 i - \\sqrt{3} i\\right) \\left(\\sqrt{3} i + 2 i\\right) e^{- \\sqrt{3} + i}}{6 + 4 \\sqrt{3}} & \\frac{\\left(\\sqrt{3} i + 2 i\\right) e^{- \\sqrt{3} + i}}{- 4 \\sqrt{3} - 6} + \\left(\\frac{1}{2} + \\frac{\\sqrt{3}}{3}\\right) \\left(- \\sqrt{3} i + 2 i\\right) e^{\\sqrt{3} + i}\\\\\\frac{\\left(- 2 i - \\sqrt{3} i\\right) e^{- \\sqrt{3} + i}}{6 + 4 \\sqrt{3}} + \\frac{\\sqrt{3} i e^{\\sqrt{3} + i}}{6} & \\frac{e^{- \\sqrt{3} + i}}{- 4 \\sqrt{3} - 6} + \\left(\\frac{1}{2} + \\frac{\\sqrt{3}}{3}\\right) e^{\\sqrt{3} + i}\\end{smallmatrix}\\right]$"
      ],
      "text/plain": [
       "2×2 Matrix{Sym{PyObject}}:\n",
       " sqrt(3)*I*(-sqrt(3)*I + 2*I)*exp(sqrt(3) + I)/6 + (-2*I - sqrt(3)*I)*(sqrt(3)*I + 2*I)*exp(-sqrt(3) + I)/(6 + 4*sqrt(3))  …  (sqrt(3)*I + 2*I)*exp(-sqrt(3) + I)/(-4*sqrt(3) - 6) + (1/2 + sqrt(3)/3)*(-sqrt(3)*I + 2*I)*exp(sqrt(3) + I)\n",
       "                                      (-2*I - sqrt(3)*I)*exp(-sqrt(3) + I)/(6 + 4*sqrt(3)) + sqrt(3)*I*exp(sqrt(3) + I)/6                                          exp(-sqrt(3) + I)/(-4*sqrt(3) - 6) + (1/2 + sqrt(3)/3)*exp(sqrt(3) + I)"
      ]
     },
     "metadata": {},
     "output_type": "display_data"
    }
   ],
   "source": [
    "h.exp()"
   ]
  },
  {
   "cell_type": "code",
   "execution_count": null,
   "metadata": {},
   "outputs": [
    {
     "data": {
      "text/plain": [
       "1000000000-element Vector{Float64}:\n",
       " 0.09712601249562702\n",
       " 0.2050806522402413\n",
       " 0.6326569040705634\n",
       " 0.0031377311245045503\n",
       " 0.5029177895266732\n",
       " 0.3945233796909655\n",
       " 0.8221233561099034\n",
       " 0.8507511987822733\n",
       " 0.6211103736037116\n",
       " 0.2750513083346916\n",
       " ⋮\n",
       " 0.7526141002204112\n",
       " 0.1261431941731308\n",
       " 0.6057706732613551\n",
       " 0.22446754847371198\n",
       " 0.1444073660483549\n",
       " 0.828156296320269\n",
       " 0.5122056501927433\n",
       " 0.1230782435749126\n",
       " 0.9311387481396703"
      ]
     },
     "metadata": {},
     "output_type": "display_data"
    }
   ],
   "source": [
    "n= 1000000000\n",
    "C = rand(n)"
   ]
  },
  {
   "cell_type": "code",
   "execution_count": 101,
   "metadata": {},
   "outputs": [
    {
     "data": {
      "text/plain": [
       "1000000000-element Vector{Float64}:\n",
       " 0.4384075424843916\n",
       " 0.6684868826500161\n",
       " 0.8691746988945964\n",
       " 0.41032609813002974\n",
       " 0.6618665921896795\n",
       " 0.39695255189578715\n",
       " 0.5877173685764325\n",
       " 0.8512477919893058\n",
       " 0.23324860900599143\n",
       " 0.61313123751229\n",
       " ⋮\n",
       " 0.8072267497490532\n",
       " 0.4764143463940389\n",
       " 0.06966745054655088\n",
       " 0.8541219974669104\n",
       " 0.7635387277720437\n",
       " 0.06359359377398388\n",
       " 0.4467885552270744\n",
       " 0.8419790998905152\n",
       " 0.9376153241864698"
      ]
     },
     "metadata": {},
     "output_type": "display_data"
    }
   ],
   "source": [
    " # x^2 + y ^2 = 1, buscamos contar los valores y que estén dentro de \\sqrt{1-x^2} \n",
    "C1 = rand(n)"
   ]
  },
  {
   "cell_type": "code",
   "execution_count": 102,
   "metadata": {},
   "outputs": [],
   "source": [
    "D = 0\n",
    "for i in 1:length(C1)\n",
    "   if C[i] <= sqrt(1-(C1[i])^2)\n",
    "        D = D + 1\n",
    "   end\n",
    "end"
   ]
  },
  {
   "cell_type": "code",
   "execution_count": 103,
   "metadata": {},
   "outputs": [
    {
     "data": {
      "text/plain": [
       "3.141558064"
      ]
     },
     "metadata": {},
     "output_type": "display_data"
    }
   ],
   "source": [
    "D/length(C1)*4"
   ]
  },
  {
   "cell_type": "code",
   "execution_count": 104,
   "metadata": {},
   "outputs": [
    {
     "data": {
      "text/plain": [
       "π = 3.1415926535897..."
      ]
     },
     "metadata": {},
     "output_type": "display_data"
    }
   ],
   "source": [
    "pi"
   ]
  },
  {
   "cell_type": "code",
   "execution_count": 105,
   "metadata": {},
   "outputs": [
    {
     "data": {
      "text/plain": [
       "#11 (generic function with 1 method)"
      ]
     },
     "metadata": {},
     "output_type": "display_data"
    }
   ],
   "source": [
    "f = x -> x^2"
   ]
  },
  {
   "cell_type": "code",
   "execution_count": 106,
   "metadata": {},
   "outputs": [
    {
     "data": {
      "text/plain": [
       "25"
      ]
     },
     "metadata": {},
     "output_type": "display_data"
    }
   ],
   "source": [
    "f(5)"
   ]
  },
  {
   "cell_type": "code",
   "execution_count": 107,
   "metadata": {},
   "outputs": [
    {
     "data": {
      "text/plain": [
       "#13 (generic function with 1 method)"
      ]
     },
     "metadata": {},
     "output_type": "display_data"
    }
   ],
   "source": [
    "f = x -> cos(x)"
   ]
  },
  {
   "cell_type": "code",
   "execution_count": 108,
   "metadata": {},
   "outputs": [
    {
     "data": {
      "text/plain": [
       "0.28366218546322625"
      ]
     },
     "metadata": {},
     "output_type": "display_data"
    }
   ],
   "source": [
    "f(5)"
   ]
  },
  {
   "cell_type": "code",
   "execution_count": 109,
   "metadata": {},
   "outputs": [
    {
     "ename": "ErrorException",
     "evalue": "cannot define function f; it already has a value",
     "output_type": "error",
     "traceback": [
      "cannot define function f; it already has a value\n",
      "\n",
      "Stacktrace:\n",
      " [1] top-level scope\n",
      "   @ none:0"
     ]
    }
   ],
   "source": [
    "f(x) = x -> x^2 "
   ]
  },
  {
   "cell_type": "code",
   "execution_count": 2,
   "metadata": {},
   "outputs": [
    {
     "data": {
      "text/latex": [
       "Linear algebra module. Provides array arithmetic, matrix factorizations and other linear algebra related functionality.\n",
       "\n"
      ],
      "text/markdown": [
       "Linear algebra module. Provides array arithmetic, matrix factorizations and other linear algebra related functionality.\n"
      ],
      "text/plain": [
       "  Linear algebra module. Provides array arithmetic, matrix factorizations and\n",
       "  other linear algebra related functionality."
      ]
     },
     "metadata": {},
     "output_type": "display_data"
    }
   ],
   "source": [
    "@doc LinearAlgebra"
   ]
  },
  {
   "cell_type": "code",
   "execution_count": 19,
   "metadata": {},
   "outputs": [
    {
     "data": {
      "text/plain": [
       "2×2 Matrix{Float64}:\n",
       " 1.0   0.0\n",
       " 0.0  -1.0"
      ]
     },
     "metadata": {},
     "output_type": "display_data"
    }
   ],
   "source": [
    "# Definición de las matrices de Pauli\n",
    "sigmax = [0 1.0; 1 0]\n",
    "sigmay = [0 -1.0im; im 0]  # im representa la unidad imaginaria √(-1)\n",
    "sigmaz = [1.0 0; 0 -1]"
   ]
  },
  {
   "cell_type": "code",
   "execution_count": 28,
   "metadata": {},
   "outputs": [
    {
     "data": {
      "text/plain": [
       "8×8 Matrix{Float64}:\n",
       " 1.0  0.0   0.0   0.0   0.0   0.0   0.0   0.0\n",
       " 0.0  1.0   0.0   0.0   0.0   0.0   0.0   0.0\n",
       " 0.0  0.0  -1.0   0.0   0.0   0.0  -0.0   0.0\n",
       " 0.0  0.0   0.0  -1.0   0.0   0.0   0.0  -0.0\n",
       " 0.0  0.0   0.0   0.0  -1.0   0.0  -0.0   0.0\n",
       " 0.0  0.0   0.0   0.0   0.0  -1.0   0.0  -0.0\n",
       " 0.0  0.0  -0.0   0.0  -0.0   0.0   1.0   0.0\n",
       " 0.0  0.0   0.0  -0.0   0.0  -0.0   0.0   1.0"
      ]
     },
     "metadata": {},
     "output_type": "display_data"
    }
   ],
   "source": [
    "kron(sigmaz,sigmaz,I(2))"
   ]
  },
  {
   "cell_type": "code",
   "execution_count": 23,
   "metadata": {},
   "outputs": [
    {
     "data": {
      "text/plain": [
       "8×8 Matrix{Float64}:\n",
       " 1.0  0.0   0.0   0.0   0.0   0.0   0.0   0.0\n",
       " 0.0  1.0   0.0   0.0   0.0   0.0   0.0   0.0\n",
       " 0.0  0.0  -1.0   0.0   0.0   0.0  -0.0   0.0\n",
       " 0.0  0.0   0.0  -1.0   0.0   0.0   0.0  -0.0\n",
       " 0.0  0.0   0.0   0.0  -1.0   0.0  -0.0   0.0\n",
       " 0.0  0.0   0.0   0.0   0.0  -1.0   0.0  -0.0\n",
       " 0.0  0.0  -0.0   0.0  -0.0   0.0   1.0   0.0\n",
       " 0.0  0.0   0.0  -0.0   0.0  -0.0   0.0   1.0"
      ]
     },
     "metadata": {},
     "output_type": "display_data"
    }
   ],
   "source": [
    "kron([sigmaz,sigmaz,I(2)]...)"
   ]
  },
  {
   "cell_type": "code",
   "execution_count": 65,
   "metadata": {},
   "outputs": [
    {
     "data": {
      "text/plain": [
       "Sigma (generic function with 1 method)"
      ]
     },
     "metadata": {},
     "output_type": "display_data"
    }
   ],
   "source": [
    "sigmas = Dict(1=>sigmax, 2=>sigmay, 3=>sigmaz)\n",
    "function Sigma(indice, pos, totalparticulas)\n",
    "    id = I(2) #[1.0 0; 0 1.0]\n",
    "    mat = sigmas[indice]\n",
    "    list = []\n",
    "    for i in 1:totalparticulas \n",
    "        if i == pos \n",
    "            append!(list,[mat])\n",
    "        else \n",
    "            append!(list,[id])\n",
    "        end\n",
    "        println(\"$list\")\n",
    "    end\n",
    "    return kron(list...)\n",
    "end"
   ]
  },
  {
   "cell_type": "code",
   "execution_count": 66,
   "metadata": {},
   "outputs": [
    {
     "name": "stdout",
     "output_type": "stream",
     "text": [
      "Any[Bool[1 0; 0 1]]\n",
      "Any[Bool[1 0; 0 1], ComplexF64[0.0 + 0.0im -0.0 - 1.0im; 0.0 + 1.0im 0.0 + 0.0im]]\n",
      "Any[Bool[1 0; 0 1], ComplexF64[0.0 + 0.0im -0.0 - 1.0im; 0.0 + 1.0im 0.0 + 0.0im], Bool[1 0; 0 1]]\n",
      "Any[Bool[1 0; 0 1], ComplexF64[0.0 + 0.0im -0.0 - 1.0im; 0.0 + 1.0im 0.0 + 0.0im], Bool[1 0; 0 1], Bool[1 0; 0 1]]\n"
     ]
    },
    {
     "data": {
      "text/plain": [
       "16×16 Matrix{ComplexF64}:\n",
       " 0.0+0.0im  0.0+0.0im  0.0+0.0im  …   0.0+0.0im   0.0+0.0im   0.0+0.0im\n",
       " 0.0+0.0im  0.0+0.0im  0.0+0.0im      0.0+0.0im   0.0+0.0im   0.0+0.0im\n",
       " 0.0+0.0im  0.0+0.0im  0.0+0.0im      0.0+0.0im   0.0+0.0im   0.0+0.0im\n",
       " 0.0+0.0im  0.0+0.0im  0.0+0.0im      0.0+0.0im   0.0+0.0im   0.0+0.0im\n",
       " 0.0+1.0im  0.0+0.0im  0.0+0.0im      0.0+0.0im   0.0+0.0im   0.0+0.0im\n",
       " 0.0+0.0im  0.0+1.0im  0.0+0.0im  …   0.0+0.0im   0.0+0.0im   0.0+0.0im\n",
       " 0.0+0.0im  0.0+0.0im  0.0+1.0im      0.0+0.0im   0.0+0.0im   0.0+0.0im\n",
       " 0.0+0.0im  0.0+0.0im  0.0+0.0im      0.0+0.0im   0.0+0.0im   0.0+0.0im\n",
       " 0.0+0.0im  0.0+0.0im  0.0+0.0im      0.0+0.0im   0.0+0.0im   0.0+0.0im\n",
       " 0.0+0.0im  0.0+0.0im  0.0+0.0im     -0.0-1.0im   0.0+0.0im   0.0+0.0im\n",
       " 0.0+0.0im  0.0+0.0im  0.0+0.0im  …   0.0+0.0im  -0.0-1.0im   0.0+0.0im\n",
       " 0.0+0.0im  0.0+0.0im  0.0+0.0im      0.0+0.0im   0.0+0.0im  -0.0-1.0im\n",
       " 0.0+0.0im  0.0+0.0im  0.0+0.0im      0.0+0.0im   0.0+0.0im   0.0+0.0im\n",
       " 0.0+0.0im  0.0+0.0im  0.0+0.0im      0.0+0.0im   0.0+0.0im   0.0+0.0im\n",
       " 0.0+0.0im  0.0+0.0im  0.0+0.0im      0.0+0.0im   0.0+0.0im   0.0+0.0im\n",
       " 0.0+0.0im  0.0+0.0im  0.0+0.0im  …   0.0+0.0im   0.0+0.0im   0.0+0.0im"
      ]
     },
     "metadata": {},
     "output_type": "display_data"
    }
   ],
   "source": [
    "Sigma(2,2,4)"
   ]
  },
  {
   "cell_type": "code",
   "execution_count": 60,
   "metadata": {},
   "outputs": [
    {
     "data": {
      "text/plain": [
       "Any[]"
      ]
     },
     "metadata": {},
     "output_type": "display_data"
    }
   ],
   "source": [
    "i = Matrix(I,2,2)\n",
    "list1 = []"
   ]
  },
  {
   "cell_type": "code",
   "execution_count": null,
   "metadata": {},
   "outputs": [
    {
     "data": {
      "text/plain": [
       "4-element Vector{Any}:\n",
       "  true\n",
       " false\n",
       " false\n",
       "  true"
      ]
     },
     "metadata": {},
     "output_type": "display_data"
    }
   ],
   "source": []
  },
  {
   "cell_type": "code",
   "execution_count": null,
   "metadata": {},
   "outputs": [],
   "source": []
  }
 ],
 "metadata": {
  "kernelspec": {
   "display_name": "Julia 1.11.3",
   "language": "julia",
   "name": "julia-1.11"
  },
  "language_info": {
   "file_extension": ".jl",
   "mimetype": "application/julia",
   "name": "julia",
   "version": "1.11.3"
  }
 },
 "nbformat": 4,
 "nbformat_minor": 2
}
