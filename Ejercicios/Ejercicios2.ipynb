{
 "cells": [
  {
   "cell_type": "markdown",
   "metadata": {},
   "source": [
    "# Solve a Matrix Equation Algebraically "
   ]
  },
  {
   "cell_type": "code",
   "execution_count": 3,
   "metadata": {},
   "outputs": [],
   "source": [
    "using Pkg \n",
    "using SciPy\n",
    "using PyCall\n",
    "np = pyimport(\"numpy\")\n",
    "using LinearAlgebra\n",
    "using SymPy"
   ]
  },
  {
   "cell_type": "code",
   "execution_count": 4,
   "metadata": {},
   "outputs": [],
   "source": [
    "using PyCall\n",
    "html_display = pyimport(\"IPython.core.display\").display_html\n",
    "html_display(\"<style>.output_area pre { font-size: 25pt; }</style>\", raw=true)"
   ]
  },
  {
   "cell_type": "code",
   "execution_count": 5,
   "metadata": {},
   "outputs": [
    {
     "data": {
      "text/plain": [
       "3-element Vector{Float64}:\n",
       " -0.23333333333333334\n",
       "  0.46666666666666673\n",
       "  0.09999999999999994"
      ]
     },
     "metadata": {},
     "output_type": "display_data"
    }
   ],
   "source": [
    "A = [1 2 3; 4 5 6; 7 8 9]\n",
    "b = [1, 2, 3]\n",
    "x1 = np.linalg.solve(A,b) # Solución con numpy\n",
    "# y = scipy.linalg.solve(A,b) # No pude correr con scipy por problemas de compatibilidad\n",
    "z1 = A\\b # Versión alternativa con LinearAlgebra\n",
    "F = lu(A) # Factorización LU\n",
    "y1 = F\\b\n"
   ]
  },
  {
   "cell_type": "code",
   "execution_count": 6,
   "metadata": {},
   "outputs": [
    {
     "data": {
      "text/latex": [
       "$\\left[\\begin{smallmatrix}\\frac{2 e}{c e + d}\\\\\\frac{2}{c e + d}\\end{smallmatrix}\\right]$"
      ],
      "text/plain": [
       "2×1 Matrix{Sym{PyObject}}:\n",
       " 2*e/(c*e + d)\n",
       "   2/(c*e + d)"
      ]
     },
     "metadata": {},
     "output_type": "display_data"
    }
   ],
   "source": [
    "# Definir variables simbólicas\n",
    "@syms c d e \n",
    "\n",
    "# Matriz de coeficientes\n",
    "A2 = Sym[[c d]; [1 -e]]  \n",
    "\n",
    "# Definir el vector columna como lista de listas\n",
    "b1 = Sym[2 ; 0] \n",
    "\n",
    "# Resolver el sistema A2 * x = b1\n",
    "solucion = A2.solve(b1)"
   ]
  },
  {
   "cell_type": "code",
   "execution_count": 7,
   "metadata": {},
   "outputs": [
    {
     "data": {
      "text/latex": [
       "$- c e - d$"
      ],
      "text/plain": [
       "-c*e - d"
      ]
     },
     "metadata": {},
     "output_type": "display_data"
    }
   ],
   "source": [
    "DET = det(A2)"
   ]
  },
  {
   "cell_type": "code",
   "execution_count": 8,
   "metadata": {},
   "outputs": [
    {
     "data": {
      "text/latex": [
       "$\\left[\\begin{smallmatrix}\\frac{e}{c e + d} & \\frac{d}{c e + d}\\\\\\frac{1}{c e + d} & - \\frac{c}{c e + d}\\end{smallmatrix}\\right]$"
      ],
      "text/plain": [
       "2×2 Matrix{Sym{PyObject}}:\n",
       " e/(c*e + d)   d/(c*e + d)\n",
       " 1/(c*e + d)  -c/(c*e + d)"
      ]
     },
     "metadata": {},
     "output_type": "display_data"
    }
   ],
   "source": [
    "A2inv = inv(A2)"
   ]
  },
  {
   "cell_type": "code",
   "execution_count": 9,
   "metadata": {},
   "outputs": [
    {
     "data": {
      "text/latex": [
       "$\\left[\\begin{smallmatrix}\\frac{2 e}{c e + d}\\\\\\frac{2}{c e + d}\\end{smallmatrix}\\right]$"
      ],
      "text/plain": [
       "2×1 Matrix{Sym{PyObject}}:\n",
       " 2*e/(c*e + d)\n",
       "   2/(c*e + d)"
      ]
     },
     "metadata": {},
     "output_type": "display_data"
    }
   ],
   "source": [
    "A2.LUsolve(b1)"
   ]
  },
  {
   "cell_type": "code",
   "execution_count": 10,
   "metadata": {},
   "outputs": [
    {
     "data": {
      "text/latex": [
       "$\\left[\\begin{smallmatrix}\\frac{e}{c e + d} & \\frac{d}{c e + d}\\\\\\frac{1}{c e + d} & - \\frac{c}{c e + d}\\end{smallmatrix}\\right]$"
      ],
      "text/plain": [
       "2×2 Matrix{Sym{PyObject}}:\n",
       " e/(c*e + d)   d/(c*e + d)\n",
       " 1/(c*e + d)  -c/(c*e + d)"
      ]
     },
     "metadata": {},
     "output_type": "display_data"
    }
   ],
   "source": [
    "A2inv = A2.inv()"
   ]
  },
  {
   "cell_type": "code",
   "execution_count": 11,
   "metadata": {},
   "outputs": [
    {
     "data": {
      "text/latex": [
       "$\\left[\\begin{smallmatrix}\\frac{2 e}{c e + d}\\\\\\frac{2}{c e + d}\\end{smallmatrix}\\right]$"
      ],
      "text/plain": [
       "2-element Vector{Sym{PyObject}}:\n",
       " 2*e/(c*e + d)\n",
       "   2/(c*e + d)"
      ]
     },
     "metadata": {},
     "output_type": "display_data"
    }
   ],
   "source": [
    "solucion1 = A2inv*b1"
   ]
  },
  {
   "cell_type": "code",
   "execution_count": 12,
   "metadata": {},
   "outputs": [
    {
     "data": {
      "text/latex": [
       "$\\left[\\begin{smallmatrix}{A}_{0,0} & {A}_{0,1} & {A}_{0,2} & {A}_{0,3}\\\\{A}_{1,0} & {A}_{1,1} & {A}_{1,2} & {A}_{1,3}\\\\{A}_{2,0} & {A}_{2,1} & {A}_{2,2} & {A}_{2,3}\\\\{A}_{3,0} & {A}_{3,1} & {A}_{3,2} & {A}_{3,3}\\end{smallmatrix}\\right]$"
      ],
      "text/plain": [
       "[A_00  A_01  A_02  A_03]\n",
       "[                      ]\n",
       "[A_10  A_11  A_12  A_13]\n",
       "[                      ]\n",
       "[A_20  A_21  A_22  A_23]\n",
       "[                      ]\n",
       "[A_30  A_31  A_32  A_33]"
      ]
     },
     "metadata": {},
     "output_type": "display_data"
    }
   ],
   "source": [
    "A3 = SymPy.sympy.MatrixSymbol('A', 4, 4).as_explicit()"
   ]
  },
  {
   "cell_type": "code",
   "execution_count": 13,
   "metadata": {},
   "outputs": [
    {
     "data": {
      "text/latex": [
       "${A}_{0,0} {A}_{1,1} {A}_{2,2} {A}_{3,3} - {A}_{0,0} {A}_{1,1} {A}_{2,3} {A}_{3,2} - {A}_{0,0} {A}_{1,2} {A}_{2,1} {A}_{3,3} + {A}_{0,0} {A}_{1,2} {A}_{2,3} {A}_{3,1} + {A}_{0,0} {A}_{1,3} {A}_{2,1} {A}_{3,2} - {A}_{0,0} {A}_{1,3} {A}_{2,2} {A}_{3,1} - {A}_{0,1} {A}_{1,0} {A}_{2,2} {A}_{3,3} + {A}_{0,1} {A}_{1,0} {A}_{2,3} {A}_{3,2} + {A}_{0,1} {A}_{1,2} {A}_{2,0} {A}_{3,3} - {A}_{0,1} {A}_{1,2} {A}_{2,3} {A}_{3,0} - {A}_{0,1} {A}_{1,3} {A}_{2,0} {A}_{3,2} + {A}_{0,1} {A}_{1,3} {A}_{2,2} {A}_{3,0} + {A}_{0,2} {A}_{1,0} {A}_{2,1} {A}_{3,3} - {A}_{0,2} {A}_{1,0} {A}_{2,3} {A}_{3,1} - {A}_{0,2} {A}_{1,1} {A}_{2,0} {A}_{3,3} + {A}_{0,2} {A}_{1,1} {A}_{2,3} {A}_{3,0} + {A}_{0,2} {A}_{1,3} {A}_{2,0} {A}_{3,1} - {A}_{0,2} {A}_{1,3} {A}_{2,1} {A}_{3,0} - {A}_{0,3} {A}_{1,0} {A}_{2,1} {A}_{3,2} + {A}_{0,3} {A}_{1,0} {A}_{2,2} {A}_{3,1} + {A}_{0,3} {A}_{1,1} {A}_{2,0} {A}_{3,2} - {A}_{0,3} {A}_{1,1} {A}_{2,2} {A}_{3,0} - {A}_{0,3} {A}_{1,2} {A}_{2,0} {A}_{3,1} + {A}_{0,3} {A}_{1,2} {A}_{2,1} {A}_{3,0}$"
      ],
      "text/plain": [
       "A_00*A_11*A_22*A_33 - A_00*A_11*A_23*A_32 - A_00*A_12*A_21*A_33 + A_00*A_12*A_ >\n",
       "\n",
       "> 23*A_31 + A_00*A_13*A_21*A_32 - A_00*A_13*A_22*A_31 - A_01*A_10*A_22*A_33 +  >\n",
       "\n",
       "> A_01*A_10*A_23*A_32 + A_01*A_12*A_20*A_33 - A_01*A_12*A_23*A_30 - A_01*A_13* >\n",
       "\n",
       "> A_20*A_32 + A_01*A_13*A_22*A_30 + A_02*A_10*A_21*A_33 - A_02*A_10*A_23*A_31  >\n",
       "\n",
       "> - A_02*A_11*A_20*A_33 + A_02*A_11*A_23*A_30 + A_02*A_13*A_20*A_31 - A_02*A_1 >\n",
       "\n",
       "> 3*A_21*A_30 - A_03*A_10*A_21*A_32 + A_03*A_10*A_22*A_31 + A_03*A_11*A_20*A_3 >\n",
       "\n",
       "> 2 - A_03*A_11*A_22*A_30 - A_03*A_12*A_20*A_31 + A_03*A_12*A_21*A_30"
      ]
     },
     "metadata": {},
     "output_type": "display_data"
    }
   ],
   "source": [
    "A3.det()"
   ]
  },
  {
   "cell_type": "code",
   "execution_count": 14,
   "metadata": {},
   "outputs": [
    {
     "data": {
      "text/latex": [
       "$\\cos{\\left(\\left[\\begin{smallmatrix}{A}_{0,0} & {A}_{0,1} & {A}_{0,2} & {A}_{0,3}\\\\{A}_{1,0} & {A}_{1,1} & {A}_{1,2} & {A}_{1,3}\\\\{A}_{2,0} & {A}_{2,1} & {A}_{2,2} & {A}_{2,3}\\\\{A}_{3,0} & {A}_{3,1} & {A}_{3,2} & {A}_{3,3}\\end{smallmatrix}\\right] \\right)}$"
      ],
      "text/plain": [
       "   /[A_00  A_01  A_02  A_03]\\\n",
       "   |[                      ]|\n",
       "   |[A_10  A_11  A_12  A_13]|\n",
       "cos|[                      ]|\n",
       "   |[A_20  A_21  A_22  A_23]|\n",
       "   |[                      ]|\n",
       "   \\[A_30  A_31  A_32  A_33]/"
      ]
     },
     "metadata": {},
     "output_type": "display_data"
    }
   ],
   "source": [
    "cos(A3)"
   ]
  },
  {
   "cell_type": "code",
   "execution_count": 15,
   "metadata": {},
   "outputs": [
    {
     "data": {
      "text/latex": [
       "$\\left[\\begin{smallmatrix}1 + 2 i & 1\\\\1 & 1 - 2 i\\end{smallmatrix}\\right]$"
      ],
      "text/plain": [
       "2×2 Matrix{Sym}:\n",
       " 1 + 2*I        1\n",
       "       1  1 - 2*I"
      ]
     },
     "metadata": {},
     "output_type": "display_data"
    }
   ],
   "source": [
    "H = Sym[1+2im 1; 1 -2im+1]"
   ]
  },
  {
   "cell_type": "code",
   "execution_count": 16,
   "metadata": {},
   "outputs": [
    {
     "data": {
      "text/latex": [
       "$\\left[\\begin{smallmatrix}\\frac{\\sqrt{3} i \\left(- \\sqrt{3} i + 2 i\\right) e^{\\sqrt{3} + i}}{6} + \\frac{\\left(- 2 i - \\sqrt{3} i\\right) \\left(\\sqrt{3} i + 2 i\\right) e^{- \\sqrt{3} + i}}{6 + 4 \\sqrt{3}} & \\frac{\\left(\\sqrt{3} i + 2 i\\right) e^{- \\sqrt{3} + i}}{- 4 \\sqrt{3} - 6} + \\left(\\frac{1}{2} + \\frac{\\sqrt{3}}{3}\\right) \\left(- \\sqrt{3} i + 2 i\\right) e^{\\sqrt{3} + i}\\\\\\frac{\\left(- 2 i - \\sqrt{3} i\\right) e^{- \\sqrt{3} + i}}{6 + 4 \\sqrt{3}} + \\frac{\\sqrt{3} i e^{\\sqrt{3} + i}}{6} & \\frac{e^{- \\sqrt{3} + i}}{- 4 \\sqrt{3} - 6} + \\left(\\frac{1}{2} + \\frac{\\sqrt{3}}{3}\\right) e^{\\sqrt{3} + i}\\end{smallmatrix}\\right]$"
      ],
      "text/plain": [
       "2×2 Matrix{Sym{PyObject}}:\n",
       " sqrt(3)*I*(-sqrt(3)*I + 2*I)*exp(sqrt(3) + I)/6 + (-2*I - sqrt(3)*I)*(sqrt(3)*I + 2*I)*exp(-sqrt(3) + I)/(6 + 4*sqrt(3))  …  (sqrt(3)*I + 2*I)*exp(-sqrt(3) + I)/(-4*sqrt(3) - 6) + (1/2 + sqrt(3)/3)*(-sqrt(3)*I + 2*I)*exp(sqrt(3) + I)\n",
       "                                      (-2*I - sqrt(3)*I)*exp(-sqrt(3) + I)/(6 + 4*sqrt(3)) + sqrt(3)*I*exp(sqrt(3) + I)/6                                          exp(-sqrt(3) + I)/(-4*sqrt(3) - 6) + (1/2 + sqrt(3)/3)*exp(sqrt(3) + I)"
      ]
     },
     "metadata": {},
     "output_type": "display_data"
    }
   ],
   "source": [
    "h = im*H\n",
    "exp(h)"
   ]
  },
  {
   "cell_type": "code",
   "execution_count": 17,
   "metadata": {},
   "outputs": [
    {
     "data": {
      "text/latex": [
       "$\\left[\\begin{smallmatrix}\\frac{\\sqrt{3} i \\left(- \\sqrt{3} i + 2 i\\right) e^{\\sqrt{3} + i}}{6} + \\frac{\\left(- 2 i - \\sqrt{3} i\\right) \\left(\\sqrt{3} i + 2 i\\right) e^{- \\sqrt{3} + i}}{6 + 4 \\sqrt{3}} & \\frac{\\left(\\sqrt{3} i + 2 i\\right) e^{- \\sqrt{3} + i}}{- 4 \\sqrt{3} - 6} + \\left(\\frac{1}{2} + \\frac{\\sqrt{3}}{3}\\right) \\left(- \\sqrt{3} i + 2 i\\right) e^{\\sqrt{3} + i}\\\\\\frac{\\left(- 2 i - \\sqrt{3} i\\right) e^{- \\sqrt{3} + i}}{6 + 4 \\sqrt{3}} + \\frac{\\sqrt{3} i e^{\\sqrt{3} + i}}{6} & \\frac{e^{- \\sqrt{3} + i}}{- 4 \\sqrt{3} - 6} + \\left(\\frac{1}{2} + \\frac{\\sqrt{3}}{3}\\right) e^{\\sqrt{3} + i}\\end{smallmatrix}\\right]$"
      ],
      "text/plain": [
       "2×2 Matrix{Sym{PyObject}}:\n",
       " sqrt(3)*I*(-sqrt(3)*I + 2*I)*exp(sqrt(3) + I)/6 + (-2*I - sqrt(3)*I)*(sqrt(3)*I + 2*I)*exp(-sqrt(3) + I)/(6 + 4*sqrt(3))  …  (sqrt(3)*I + 2*I)*exp(-sqrt(3) + I)/(-4*sqrt(3) - 6) + (1/2 + sqrt(3)/3)*(-sqrt(3)*I + 2*I)*exp(sqrt(3) + I)\n",
       "                                      (-2*I - sqrt(3)*I)*exp(-sqrt(3) + I)/(6 + 4*sqrt(3)) + sqrt(3)*I*exp(sqrt(3) + I)/6                                          exp(-sqrt(3) + I)/(-4*sqrt(3) - 6) + (1/2 + sqrt(3)/3)*exp(sqrt(3) + I)"
      ]
     },
     "metadata": {},
     "output_type": "display_data"
    }
   ],
   "source": [
    "h.exp()"
   ]
  },
  {
   "cell_type": "code",
   "execution_count": 18,
   "metadata": {},
   "outputs": [
    {
     "data": {
      "text/plain": [
       "1000000000-element Vector{Float64}:\n",
       " 0.8916865176836555\n",
       " 0.1758258505639102\n",
       " 0.17021495318104507\n",
       " 0.4445277735985995\n",
       " 0.2757433660331182\n",
       " 0.26761437902280705\n",
       " 0.2181586903036239\n",
       " 0.8133846525639146\n",
       " 0.7062346356997973\n",
       " 0.6759965260329802\n",
       " ⋮\n",
       " 0.9701672200539285\n",
       " 0.24852529842062143\n",
       " 0.8853884912792059\n",
       " 0.7505158059995067\n",
       " 0.09963743778833156\n",
       " 0.10509311221278217\n",
       " 0.00796658270504591\n",
       " 0.02289324726396036\n",
       " 0.1627999560847163"
      ]
     },
     "metadata": {},
     "output_type": "display_data"
    }
   ],
   "source": [
    "n= 1000000000\n",
    "C = rand(n)"
   ]
  },
  {
   "cell_type": "code",
   "execution_count": 19,
   "metadata": {},
   "outputs": [
    {
     "data": {
      "text/plain": [
       "1000000000-element Vector{Float64}:\n",
       " 0.9139665206250541\n",
       " 0.2326070536637127\n",
       " 0.6024936517120543\n",
       " 0.015656113375882685\n",
       " 0.4913267309472583\n",
       " 0.06264925261974796\n",
       " 0.8854889320233821\n",
       " 0.6618196455228653\n",
       " 0.47189141045119387\n",
       " 0.8521171819632642\n",
       " ⋮\n",
       " 0.29221175266105304\n",
       " 0.4911022662058653\n",
       " 0.7504632801102415\n",
       " 0.8400368051037864\n",
       " 0.6037363564877023\n",
       " 0.862029224027484\n",
       " 0.957940247724077\n",
       " 0.8693112835733929\n",
       " 0.5685612215304465"
      ]
     },
     "metadata": {},
     "output_type": "display_data"
    }
   ],
   "source": [
    " # x^2 + y ^2 = 1, buscamos contar los valores y que estén dentro de \\sqrt{1-x^2} \n",
    "C1 = rand(n)"
   ]
  },
  {
   "cell_type": "code",
   "execution_count": 20,
   "metadata": {},
   "outputs": [],
   "source": [
    "D = 0\n",
    "for i in 1:length(C1)\n",
    "   if C[i] <= sqrt(1-(C1[i])^2)\n",
    "        D = D + 1\n",
    "   end\n",
    "end"
   ]
  },
  {
   "cell_type": "code",
   "execution_count": 21,
   "metadata": {},
   "outputs": [
    {
     "data": {
      "text/plain": [
       "3.141551096"
      ]
     },
     "metadata": {},
     "output_type": "display_data"
    }
   ],
   "source": [
    "D/length(C1)*4"
   ]
  },
  {
   "cell_type": "code",
   "execution_count": 22,
   "metadata": {},
   "outputs": [
    {
     "data": {
      "text/plain": [
       "π = 3.1415926535897..."
      ]
     },
     "metadata": {},
     "output_type": "display_data"
    }
   ],
   "source": [
    "pi"
   ]
  },
  {
   "cell_type": "code",
   "execution_count": 23,
   "metadata": {},
   "outputs": [
    {
     "data": {
      "text/plain": [
       "#11 (generic function with 1 method)"
      ]
     },
     "metadata": {},
     "output_type": "display_data"
    }
   ],
   "source": [
    "f = x -> x^2"
   ]
  },
  {
   "cell_type": "code",
   "execution_count": 24,
   "metadata": {},
   "outputs": [
    {
     "data": {
      "text/plain": [
       "25"
      ]
     },
     "metadata": {},
     "output_type": "display_data"
    }
   ],
   "source": [
    "f(5)"
   ]
  },
  {
   "cell_type": "code",
   "execution_count": 25,
   "metadata": {},
   "outputs": [
    {
     "data": {
      "text/plain": [
       "#13 (generic function with 1 method)"
      ]
     },
     "metadata": {},
     "output_type": "display_data"
    }
   ],
   "source": [
    "f = x -> cos(x)"
   ]
  },
  {
   "cell_type": "code",
   "execution_count": 26,
   "metadata": {},
   "outputs": [
    {
     "data": {
      "text/plain": [
       "0.28366218546322625"
      ]
     },
     "metadata": {},
     "output_type": "display_data"
    }
   ],
   "source": [
    "f(5)"
   ]
  },
  {
   "cell_type": "code",
   "execution_count": 27,
   "metadata": {},
   "outputs": [
    {
     "ename": "ErrorException",
     "evalue": "cannot define function f; it already has a value",
     "output_type": "error",
     "traceback": [
      "cannot define function f; it already has a value\n",
      "\n",
      "Stacktrace:\n",
      " [1] top-level scope\n",
      "   @ none:0"
     ]
    }
   ],
   "source": [
    "f(x) = x -> x^2 "
   ]
  },
  {
   "cell_type": "code",
   "execution_count": 2,
   "metadata": {},
   "outputs": [
    {
     "data": {
      "text/latex": [
       "Linear algebra module. Provides array arithmetic, matrix factorizations and other linear algebra related functionality.\n",
       "\n"
      ],
      "text/markdown": [
       "Linear algebra module. Provides array arithmetic, matrix factorizations and other linear algebra related functionality.\n"
      ],
      "text/plain": [
       "  Linear algebra module. Provides array arithmetic, matrix factorizations and\n",
       "  other linear algebra related functionality."
      ]
     },
     "metadata": {},
     "output_type": "display_data"
    }
   ],
   "source": [
    "@doc LinearAlgebra"
   ]
  },
  {
   "cell_type": "code",
   "execution_count": 28,
   "metadata": {},
   "outputs": [
    {
     "data": {
      "text/plain": [
       "2×2 Matrix{Float64}:\n",
       " 1.0   0.0\n",
       " 0.0  -1.0"
      ]
     },
     "metadata": {},
     "output_type": "display_data"
    }
   ],
   "source": [
    "# Definición de las matrices de Pauli\n",
    "sigmax = [0 1.0; 1 0]\n",
    "sigmay = [0 -1.0im; im 0]  # im representa la unidad imaginaria √(-1)\n",
    "sigmaz = [1.0 0; 0 -1]"
   ]
  },
  {
   "cell_type": "code",
   "execution_count": 29,
   "metadata": {},
   "outputs": [
    {
     "data": {
      "text/plain": [
       "8×8 Matrix{Float64}:\n",
       " 1.0  0.0   0.0   0.0   0.0   0.0   0.0   0.0\n",
       " 0.0  1.0   0.0   0.0   0.0   0.0   0.0   0.0\n",
       " 0.0  0.0  -1.0   0.0   0.0   0.0  -0.0   0.0\n",
       " 0.0  0.0   0.0  -1.0   0.0   0.0   0.0  -0.0\n",
       " 0.0  0.0   0.0   0.0  -1.0   0.0  -0.0   0.0\n",
       " 0.0  0.0   0.0   0.0   0.0  -1.0   0.0  -0.0\n",
       " 0.0  0.0  -0.0   0.0  -0.0   0.0   1.0   0.0\n",
       " 0.0  0.0   0.0  -0.0   0.0  -0.0   0.0   1.0"
      ]
     },
     "metadata": {},
     "output_type": "display_data"
    }
   ],
   "source": [
    "kron(sigmaz,sigmaz,I(2))"
   ]
  },
  {
   "cell_type": "code",
   "execution_count": 30,
   "metadata": {},
   "outputs": [
    {
     "data": {
      "text/plain": [
       "8×8 Matrix{Float64}:\n",
       " 1.0  0.0   0.0   0.0   0.0   0.0   0.0   0.0\n",
       " 0.0  1.0   0.0   0.0   0.0   0.0   0.0   0.0\n",
       " 0.0  0.0  -1.0   0.0   0.0   0.0  -0.0   0.0\n",
       " 0.0  0.0   0.0  -1.0   0.0   0.0   0.0  -0.0\n",
       " 0.0  0.0   0.0   0.0  -1.0   0.0  -0.0   0.0\n",
       " 0.0  0.0   0.0   0.0   0.0  -1.0   0.0  -0.0\n",
       " 0.0  0.0  -0.0   0.0  -0.0   0.0   1.0   0.0\n",
       " 0.0  0.0   0.0  -0.0   0.0  -0.0   0.0   1.0"
      ]
     },
     "metadata": {},
     "output_type": "display_data"
    }
   ],
   "source": [
    "kron([sigmaz,sigmaz,I(2)]...)"
   ]
  },
  {
   "cell_type": "code",
   "execution_count": 34,
   "metadata": {},
   "outputs": [
    {
     "data": {
      "text/plain": [
       "Sigma (generic function with 1 method)"
      ]
     },
     "metadata": {},
     "output_type": "display_data"
    }
   ],
   "source": [
    "sigmas = Dict(1=>sigmax, 2=>sigmay, 3=>sigmaz)\n",
    "function Sigma(indice, pos, totalparticulas)\n",
    "    id = I(2) #[1.0 0; 0 1.0]\n",
    "    mat = sigmas[indice]\n",
    "    list = []\n",
    "    for i in 1:totalparticulas \n",
    "        if i == pos \n",
    "            append!(list,[mat])\n",
    "        else \n",
    "            append!(list,[id])\n",
    "        end\n",
    "        #println(\"$list\")\n",
    "    end\n",
    "    return kron(list...)\n",
    "end"
   ]
  },
  {
   "cell_type": "code",
   "execution_count": 46,
   "metadata": {},
   "outputs": [
    {
     "data": {
      "text/plain": [
       "16×16 Matrix{Float64}:\n",
       " 1.0  0.0  0.0  0.0  0.0  0.0  0.0  …   0.0   0.0   0.0   0.0   0.0   0.0\n",
       " 0.0  1.0  0.0  0.0  0.0  0.0  0.0      0.0   0.0   0.0   0.0   0.0   0.0\n",
       " 0.0  0.0  1.0  0.0  0.0  0.0  0.0      0.0   0.0   0.0   0.0   0.0   0.0\n",
       " 0.0  0.0  0.0  1.0  0.0  0.0  0.0      0.0   0.0   0.0   0.0   0.0   0.0\n",
       " 0.0  0.0  0.0  0.0  1.0  0.0  0.0      0.0   0.0   0.0   0.0   0.0   0.0\n",
       " 0.0  0.0  0.0  0.0  0.0  1.0  0.0  …   0.0   0.0   0.0   0.0   0.0   0.0\n",
       " 0.0  0.0  0.0  0.0  0.0  0.0  1.0      0.0   0.0   0.0   0.0   0.0   0.0\n",
       " 0.0  0.0  0.0  0.0  0.0  0.0  0.0      0.0   0.0   0.0   0.0   0.0   0.0\n",
       " 0.0  0.0  0.0  0.0  0.0  0.0  0.0      0.0   0.0   0.0   0.0   0.0   0.0\n",
       " 0.0  0.0  0.0  0.0  0.0  0.0  0.0      0.0   0.0   0.0   0.0   0.0   0.0\n",
       " 0.0  0.0  0.0  0.0  0.0  0.0  0.0  …  -1.0   0.0   0.0   0.0   0.0   0.0\n",
       " 0.0  0.0  0.0  0.0  0.0  0.0  0.0      0.0  -1.0   0.0   0.0   0.0   0.0\n",
       " 0.0  0.0  0.0  0.0  0.0  0.0  0.0      0.0   0.0  -1.0   0.0   0.0   0.0\n",
       " 0.0  0.0  0.0  0.0  0.0  0.0  0.0      0.0   0.0   0.0  -1.0   0.0   0.0\n",
       " 0.0  0.0  0.0  0.0  0.0  0.0  0.0      0.0   0.0   0.0   0.0  -1.0   0.0\n",
       " 0.0  0.0  0.0  0.0  0.0  0.0  0.0  …   0.0   0.0   0.0   0.0   0.0  -1.0"
      ]
     },
     "metadata": {},
     "output_type": "display_data"
    }
   ],
   "source": [
    "Sigma(3,1,4)"
   ]
  },
  {
   "cell_type": "code",
   "execution_count": 37,
   "metadata": {},
   "outputs": [
    {
     "data": {
      "text/plain": [
       "2×2 Matrix{Bool}:\n",
       " 1  0\n",
       " 0  1"
      ]
     },
     "metadata": {},
     "output_type": "display_data"
    }
   ],
   "source": [
    "i = Matrix(I,2,2) # Notación diferente para la matriz identidad sin necesidad de utilizar booleanos"
   ]
  },
  {
   "cell_type": "code",
   "execution_count": null,
   "metadata": {},
   "outputs": [],
   "source": [
    "# Para la cadena abierta con 4 partículas tenemos "
   ]
  },
  {
   "cell_type": "markdown",
   "metadata": {},
   "source": [
    "$ H = -J\\sum_{\\langle i, j \\rangle} \\sigma_i \\sigma_j $\n",
    "\n",
    "En un campo externo se escribe \n",
    "\n",
    "$ H = - J \\sum_{i=1}^{3}\\sigma_i \\sigma_{i+1} -h \\sum_{i=1}^4 S_i  $ "
   ]
  },
  {
   "cell_type": "markdown",
   "metadata": {},
   "source": [
    "Para nuestro problema que son 4 partículas tendremos \n",
    "\n",
    "$ H = -J(\\sigma_1^z \\sigma_2^z + \\sigma_2^z \\sigma_3^z + \\sigma_3^z \\sigma_4^z) - h (\\sigma_1^x + \\sigma_2^x + \\sigma_3^x + \\sigma_4^x) $"
   ]
  },
  {
   "cell_type": "code",
   "execution_count": 47,
   "metadata": {},
   "outputs": [
    {
     "data": {
      "text/plain": [
       "16×16 Matrix{Float64}:\n",
       " 3.0  0.0  0.0  0.0  0.0  0.0   0.0  …   0.0   0.0   0.0   0.0   0.0   0.0\n",
       " 0.0  3.0  0.0  0.0  0.0  0.0   0.0      0.0   0.0   0.0   0.0   0.0   0.0\n",
       " 0.0  0.0  1.0  0.0  0.0  0.0   0.0      0.0   0.0   0.0   0.0   0.0   0.0\n",
       " 0.0  0.0  0.0  1.0  0.0  0.0   0.0      0.0   0.0   0.0   0.0   0.0   0.0\n",
       " 0.0  0.0  0.0  0.0  1.0  0.0   0.0      0.0   0.0   0.0   0.0   0.0   0.0\n",
       " 0.0  0.0  0.0  0.0  0.0  1.0   0.0  …   0.0   0.0   0.0   0.0   0.0   0.0\n",
       " 0.0  0.0  0.0  0.0  0.0  0.0  -1.0      0.0   0.0   0.0   0.0   0.0   0.0\n",
       " 0.0  0.0  0.0  0.0  0.0  0.0   0.0      0.0   0.0   0.0   0.0   0.0   0.0\n",
       " 0.0  0.0  0.0  0.0  0.0  0.0   0.0      0.0   0.0   0.0   0.0   0.0   0.0\n",
       " 0.0  0.0  0.0  0.0  0.0  0.0   0.0      0.0   0.0   0.0   0.0   0.0   0.0\n",
       " 0.0  0.0  0.0  0.0  0.0  0.0   0.0  …  -1.0   0.0   0.0   0.0   0.0   0.0\n",
       " 0.0  0.0  0.0  0.0  0.0  0.0   0.0      0.0  -1.0   0.0   0.0   0.0   0.0\n",
       " 0.0  0.0  0.0  0.0  0.0  0.0   0.0      0.0   0.0  -1.0   0.0   0.0   0.0\n",
       " 0.0  0.0  0.0  0.0  0.0  0.0   0.0      0.0   0.0   0.0  -1.0   0.0   0.0\n",
       " 0.0  0.0  0.0  0.0  0.0  0.0   0.0      0.0   0.0   0.0   0.0  -3.0   0.0\n",
       " 0.0  0.0  0.0  0.0  0.0  0.0   0.0  …   0.0   0.0   0.0   0.0   0.0  -3.0"
      ]
     },
     "metadata": {},
     "output_type": "display_data"
    }
   ],
   "source": [
    "H = (Sigma(3,1,4) + Sigma(3,2,4) + Sigma(3,3,4))"
   ]
  },
  {
   "cell_type": "code",
   "execution_count": 55,
   "metadata": {},
   "outputs": [
    {
     "data": {
      "text/plain": [
       "Ising (generic function with 1 method)"
      ]
     },
     "metadata": {},
     "output_type": "display_data"
    }
   ],
   "source": [
    "function Ising(totalparticulas)\n",
    "    H = 0\n",
    "    for i in 1:(totalparticulas-1)\n",
    "        H = H .+ J*(Sigma(3,i,totalparticulas)*Sigma(3,i+1,totalparticulas))\n",
    "    end\n",
    "    for j in 1:totalparticulas\n",
    "        H = H .+ h*Sigma(1,j,totalparticulas)\n",
    "    end\n",
    "    return H \n",
    "end"
   ]
  },
  {
   "cell_type": "code",
   "execution_count": 57,
   "metadata": {},
   "outputs": [
    {
     "data": {
      "text/plain": [
       "16×16 Matrix{Float64}:\n",
       " 3.0  0.0   0.0  0.0   0.0   0.0   0.0  …   0.0   0.0  0.0   0.0  0.0  0.0\n",
       " 0.0  1.0   0.0  0.0   0.0   0.0   0.0      0.0   0.0  0.0   0.0  0.0  0.0\n",
       " 0.0  0.0  -1.0  0.0   0.0   0.0   0.0      0.0   0.0  0.0   0.0  0.0  0.0\n",
       " 0.0  0.0   0.0  1.0   0.0   0.0   0.0      0.0   0.0  0.0   0.0  0.0  0.0\n",
       " 0.0  0.0   0.0  0.0  -1.0   0.0   0.0      0.0   0.0  0.0   0.0  0.0  0.0\n",
       " 0.0  0.0   0.0  0.0   0.0  -3.0   0.0  …   0.0   0.0  0.0   0.0  0.0  0.0\n",
       " 0.0  0.0   0.0  0.0   0.0   0.0  -1.0      0.0   0.0  0.0   0.0  0.0  0.0\n",
       " 0.0  0.0   0.0  0.0   0.0   0.0   0.0      0.0   0.0  0.0   0.0  0.0  0.0\n",
       " 0.0  0.0   0.0  0.0   0.0   0.0   0.0      0.0   0.0  0.0   0.0  0.0  0.0\n",
       " 0.0  0.0   0.0  0.0   0.0   0.0   0.0      0.0   0.0  0.0   0.0  0.0  0.0\n",
       " 0.0  0.0   0.0  0.0   0.0   0.0   0.0  …  -3.0   0.0  0.0   0.0  0.0  0.0\n",
       " 0.0  0.0   0.0  0.0   0.0   0.0   0.0      0.0  -1.0  0.0   0.0  0.0  0.0\n",
       " 0.0  0.0   0.0  0.0   0.0   0.0   0.0      0.0   0.0  1.0   0.0  0.0  0.0\n",
       " 0.0  0.0   0.0  0.0   0.0   0.0   0.0      0.0   0.0  0.0  -1.0  0.0  0.0\n",
       " 0.0  0.0   0.0  0.0   0.0   0.0   0.0      0.0   0.0  0.0   0.0  1.0  0.0\n",
       " 0.0  0.0   0.0  0.0   0.0   0.0   0.0  …   0.0   0.0  0.0   0.0  0.0  3.0"
      ]
     },
     "metadata": {},
     "output_type": "display_data"
    }
   ],
   "source": [
    "J = 1\n",
    "h = 0\n",
    "Ising(4)"
   ]
  },
  {
   "cell_type": "code",
   "execution_count": 58,
   "metadata": {},
   "outputs": [
    {
     "data": {
      "text/plain": [
       "true"
      ]
     },
     "metadata": {},
     "output_type": "display_data"
    }
   ],
   "source": [
    "ishermitian(Ising(4))"
   ]
  },
  {
   "cell_type": "code",
   "execution_count": 67,
   "metadata": {},
   "outputs": [
    {
     "data": {
      "text/plain": [
       "(16, 16)"
      ]
     },
     "metadata": {},
     "output_type": "display_data"
    }
   ],
   "source": [
    "size(Ising(4))"
   ]
  },
  {
   "cell_type": "code",
   "execution_count": 75,
   "metadata": {},
   "outputs": [
    {
     "data": {
      "text/plain": [
       "Eigen{Float64, Float64, Matrix{Float64}, Vector{Float64}}"
      ]
     },
     "metadata": {},
     "output_type": "display_data"
    }
   ],
   "source": [
    "typeof(eigen(Ising(4)))"
   ]
  },
  {
   "cell_type": "code",
   "execution_count": 81,
   "metadata": {},
   "outputs": [
    {
     "data": {
      "text/plain": [
       "Eigen{Float64, Float64, Matrix{Float64}, Vector{Float64}}\n",
       "values:\n",
       "16-element Vector{Float64}:\n",
       " -3.0\n",
       " -3.0\n",
       " -1.0\n",
       " -1.0\n",
       " -1.0\n",
       " -1.0\n",
       " -1.0\n",
       " -1.0\n",
       "  1.0\n",
       "  1.0\n",
       "  1.0\n",
       "  1.0\n",
       "  1.0\n",
       "  1.0\n",
       "  3.0\n",
       "  3.0\n",
       "vectors:\n",
       "16×16 Matrix{Float64}:\n",
       " 0.0  0.0  0.0  0.0  0.0  0.0  0.0  0.0  …  0.0  0.0  0.0  0.0  0.0  1.0  0.0\n",
       " 0.0  0.0  0.0  0.0  0.0  0.0  0.0  0.0     0.0  0.0  0.0  0.0  0.0  0.0  0.0\n",
       " 0.0  0.0  1.0  0.0  0.0  0.0  0.0  0.0     0.0  0.0  0.0  0.0  0.0  0.0  0.0\n",
       " 0.0  0.0  0.0  0.0  0.0  0.0  0.0  0.0     1.0  0.0  0.0  0.0  0.0  0.0  0.0\n",
       " 0.0  0.0  0.0  1.0  0.0  0.0  0.0  0.0     0.0  0.0  0.0  0.0  0.0  0.0  0.0\n",
       " 1.0  0.0  0.0  0.0  0.0  0.0  0.0  0.0  …  0.0  0.0  0.0  0.0  0.0  0.0  0.0\n",
       " 0.0  0.0  0.0  0.0  1.0  0.0  0.0  0.0     0.0  0.0  0.0  0.0  0.0  0.0  0.0\n",
       " 0.0  0.0  0.0  0.0  0.0  0.0  0.0  0.0     0.0  1.0  0.0  0.0  0.0  0.0  0.0\n",
       " 0.0  0.0  0.0  0.0  0.0  0.0  0.0  0.0     0.0  0.0  1.0  0.0  0.0  0.0  0.0\n",
       " 0.0  0.0  0.0  0.0  0.0  1.0  0.0  0.0     0.0  0.0  0.0  0.0  0.0  0.0  0.0\n",
       " 0.0  1.0  0.0  0.0  0.0  0.0  0.0  0.0  …  0.0  0.0  0.0  0.0  0.0  0.0  0.0\n",
       " 0.0  0.0  0.0  0.0  0.0  0.0  1.0  0.0     0.0  0.0  0.0  0.0  0.0  0.0  0.0\n",
       " 0.0  0.0  0.0  0.0  0.0  0.0  0.0  0.0     0.0  0.0  0.0  1.0  0.0  0.0  0.0\n",
       " 0.0  0.0  0.0  0.0  0.0  0.0  0.0  1.0     0.0  0.0  0.0  0.0  0.0  0.0  0.0\n",
       " 0.0  0.0  0.0  0.0  0.0  0.0  0.0  0.0     0.0  0.0  0.0  0.0  1.0  0.0  0.0\n",
       " 0.0  0.0  0.0  0.0  0.0  0.0  0.0  0.0  …  0.0  0.0  0.0  0.0  0.0  0.0  1.0"
      ]
     },
     "metadata": {},
     "output_type": "display_data"
    }
   ],
   "source": [
    "Al= eigen(Ising(4))"
   ]
  },
  {
   "cell_type": "code",
   "execution_count": 89,
   "metadata": {},
   "outputs": [
    {
     "data": {
      "text/plain": [
       "16×16 Matrix{Float64}:\n",
       " 0.0  0.0  0.0  0.0  0.0  0.0  0.0  0.0  …  0.0  0.0  0.0  0.0  0.0  1.0  0.0\n",
       " 0.0  0.0  0.0  0.0  0.0  0.0  0.0  0.0     0.0  0.0  0.0  0.0  0.0  0.0  0.0\n",
       " 0.0  0.0  1.0  0.0  0.0  0.0  0.0  0.0     0.0  0.0  0.0  0.0  0.0  0.0  0.0\n",
       " 0.0  0.0  0.0  0.0  0.0  0.0  0.0  0.0     1.0  0.0  0.0  0.0  0.0  0.0  0.0\n",
       " 0.0  0.0  0.0  1.0  0.0  0.0  0.0  0.0     0.0  0.0  0.0  0.0  0.0  0.0  0.0\n",
       " 1.0  0.0  0.0  0.0  0.0  0.0  0.0  0.0  …  0.0  0.0  0.0  0.0  0.0  0.0  0.0\n",
       " 0.0  0.0  0.0  0.0  1.0  0.0  0.0  0.0     0.0  0.0  0.0  0.0  0.0  0.0  0.0\n",
       " 0.0  0.0  0.0  0.0  0.0  0.0  0.0  0.0     0.0  1.0  0.0  0.0  0.0  0.0  0.0\n",
       " 0.0  0.0  0.0  0.0  0.0  0.0  0.0  0.0     0.0  0.0  1.0  0.0  0.0  0.0  0.0\n",
       " 0.0  0.0  0.0  0.0  0.0  1.0  0.0  0.0     0.0  0.0  0.0  0.0  0.0  0.0  0.0\n",
       " 0.0  1.0  0.0  0.0  0.0  0.0  0.0  0.0  …  0.0  0.0  0.0  0.0  0.0  0.0  0.0\n",
       " 0.0  0.0  0.0  0.0  0.0  0.0  1.0  0.0     0.0  0.0  0.0  0.0  0.0  0.0  0.0\n",
       " 0.0  0.0  0.0  0.0  0.0  0.0  0.0  0.0     0.0  0.0  0.0  1.0  0.0  0.0  0.0\n",
       " 0.0  0.0  0.0  0.0  0.0  0.0  0.0  1.0     0.0  0.0  0.0  0.0  0.0  0.0  0.0\n",
       " 0.0  0.0  0.0  0.0  0.0  0.0  0.0  0.0     0.0  0.0  0.0  0.0  1.0  0.0  0.0\n",
       " 0.0  0.0  0.0  0.0  0.0  0.0  0.0  0.0  …  0.0  0.0  0.0  0.0  0.0  0.0  1.0"
      ]
     },
     "metadata": {},
     "output_type": "display_data"
    }
   ],
   "source": [
    "Al.vectors"
   ]
  },
  {
   "cell_type": "code",
   "execution_count": 77,
   "metadata": {},
   "outputs": [
    {
     "data": {
      "text/plain": [
       "Eigen{Float64, Float64, Matrix{Float64}, Vector{Float64}}\n",
       "values:\n",
       "16-element Vector{Float64}:\n",
       " -3.0\n",
       " -3.0\n",
       " -1.0\n",
       " -1.0\n",
       " -1.0\n",
       " -1.0\n",
       " -1.0\n",
       " -1.0\n",
       "  1.0\n",
       "  1.0\n",
       "  1.0\n",
       "  1.0\n",
       "  1.0\n",
       "  1.0\n",
       "  3.0\n",
       "  3.0\n",
       "vectors:\n",
       "16×16 Matrix{Float64}:\n",
       " 0.0  0.0  0.0  0.0  0.0  0.0  0.0  0.0  …  0.0  0.0  0.0  0.0  0.0  1.0  0.0\n",
       " 0.0  0.0  0.0  0.0  0.0  0.0  0.0  0.0     0.0  0.0  0.0  0.0  0.0  0.0  0.0\n",
       " 0.0  0.0  1.0  0.0  0.0  0.0  0.0  0.0     0.0  0.0  0.0  0.0  0.0  0.0  0.0\n",
       " 0.0  0.0  0.0  0.0  0.0  0.0  0.0  0.0     1.0  0.0  0.0  0.0  0.0  0.0  0.0\n",
       " 0.0  0.0  0.0  1.0  0.0  0.0  0.0  0.0     0.0  0.0  0.0  0.0  0.0  0.0  0.0\n",
       " 1.0  0.0  0.0  0.0  0.0  0.0  0.0  0.0  …  0.0  0.0  0.0  0.0  0.0  0.0  0.0\n",
       " 0.0  0.0  0.0  0.0  1.0  0.0  0.0  0.0     0.0  0.0  0.0  0.0  0.0  0.0  0.0\n",
       " 0.0  0.0  0.0  0.0  0.0  0.0  0.0  0.0     0.0  1.0  0.0  0.0  0.0  0.0  0.0\n",
       " 0.0  0.0  0.0  0.0  0.0  0.0  0.0  0.0     0.0  0.0  1.0  0.0  0.0  0.0  0.0\n",
       " 0.0  0.0  0.0  0.0  0.0  1.0  0.0  0.0     0.0  0.0  0.0  0.0  0.0  0.0  0.0\n",
       " 0.0  1.0  0.0  0.0  0.0  0.0  0.0  0.0  …  0.0  0.0  0.0  0.0  0.0  0.0  0.0\n",
       " 0.0  0.0  0.0  0.0  0.0  0.0  1.0  0.0     0.0  0.0  0.0  0.0  0.0  0.0  0.0\n",
       " 0.0  0.0  0.0  0.0  0.0  0.0  0.0  0.0     0.0  0.0  0.0  1.0  0.0  0.0  0.0\n",
       " 0.0  0.0  0.0  0.0  0.0  0.0  0.0  1.0     0.0  0.0  0.0  0.0  0.0  0.0  0.0\n",
       " 0.0  0.0  0.0  0.0  0.0  0.0  0.0  0.0     0.0  0.0  0.0  0.0  1.0  0.0  0.0\n",
       " 0.0  0.0  0.0  0.0  0.0  0.0  0.0  0.0  …  0.0  0.0  0.0  0.0  0.0  0.0  1.0"
      ]
     },
     "metadata": {},
     "output_type": "display_data"
    }
   ],
   "source": [
    "lambda, V = eigen(Ising(4))"
   ]
  },
  {
   "cell_type": "code",
   "execution_count": 91,
   "metadata": {},
   "outputs": [
    {
     "data": {
      "text/plain": [
       "16-element Vector{Float64}:\n",
       " 0.0\n",
       " 0.0\n",
       " 0.0\n",
       " 0.0\n",
       " 0.0\n",
       " 1.0\n",
       " 0.0\n",
       " 0.0\n",
       " 0.0\n",
       " 0.0\n",
       " 0.0\n",
       " 0.0\n",
       " 0.0\n",
       " 0.0\n",
       " 0.0\n",
       " 0.0"
      ]
     },
     "metadata": {},
     "output_type": "display_data"
    }
   ],
   "source": [
    "V[:,1]"
   ]
  },
  {
   "cell_type": "code",
   "execution_count": 90,
   "metadata": {},
   "outputs": [
    {
     "data": {
      "text/plain": [
       "16-element Vector{Float64}:\n",
       " -3.0\n",
       " -3.0\n",
       " -1.0\n",
       " -1.0\n",
       " -1.0\n",
       " -1.0\n",
       " -1.0\n",
       " -1.0\n",
       "  1.0\n",
       "  1.0\n",
       "  1.0\n",
       "  1.0\n",
       "  1.0\n",
       "  1.0\n",
       "  3.0\n",
       "  3.0"
      ]
     },
     "metadata": {},
     "output_type": "display_data"
    }
   ],
   "source": []
  },
  {
   "cell_type": "code",
   "execution_count": null,
   "metadata": {},
   "outputs": [],
   "source": []
  }
 ],
 "metadata": {
  "kernelspec": {
   "display_name": "Julia 1.11.3",
   "language": "julia",
   "name": "julia-1.11"
  },
  "language_info": {
   "file_extension": ".jl",
   "mimetype": "application/julia",
   "name": "julia",
   "version": "1.11.3"
  }
 },
 "nbformat": 4,
 "nbformat_minor": 2
}
